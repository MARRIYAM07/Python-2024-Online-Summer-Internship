{
 "cells": [
  {
   "cell_type": "markdown",
   "metadata": {},
   "source": [
    "# Python 2024 Online Summer Internship\n",
    "# Make Your Place in Top 20% Python Programmers of the World\n",
    "## Name: Marriyam Andeel\n",
    "## Email ID: Sp24-BAI-050@cuilahore.edu.pk\n",
    "# Python Programming Language"
   ]
  },
  {
   "cell_type": "markdown",
   "metadata": {},
   "source": []
  },
  {
   "cell_type": "markdown",
   "metadata": {},
   "source": [
    "Example 1:\n",
    "Task: Print the following message on the Output Screen\n",
    "\n",
    "Allah is One.\n",
    "\n",
    "Input: Allah is One.\n",
    "\n",
    "Processing: print() Function\n",
    "\n",
    "Output: Allah is One.\n",
    "\n",
    "Code:\n",
    "\n"
   ]
  },
  {
   "cell_type": "code",
   "execution_count": 2,
   "metadata": {},
   "outputs": [
    {
     "name": "stdout",
     "output_type": "stream",
     "text": [
      "Allah is One\n"
     ]
    }
   ],
   "source": [
    "print(\"Allah is One\")"
   ]
  },
  {
   "cell_type": "markdown",
   "metadata": {},
   "source": [
    "Example 2:\n",
    "Task: Print the following message on the Output Screen\n",
    "\n",
    "Hazrat Muhammad (P.B.U.H.) is the last Messenger of Allah and role model for us in all walks of life.\n",
    "\n",
    "Input: Hazrat Muhammad (P.B.U.H.) is the last Messenger of Allah and role model for us in all walks of life.\n",
    "\n",
    "Processing: print() Function\n",
    "\n",
    "Output: Hazrat Muhammad (P.B.U.H.) is the last Messenger of Allah and role model for us in all walks of life.\n",
    "\n",
    "Code:"
   ]
  },
  {
   "cell_type": "code",
   "execution_count": 3,
   "metadata": {},
   "outputs": [
    {
     "name": "stdout",
     "output_type": "stream",
     "text": [
      " Hazrat Muhammad (PBUH) is the last messenger of Allah and role model for us in walks of life.\n"
     ]
    }
   ],
   "source": [
    "print(\" Hazrat Muhammad (PBUH) is the last messenger of Allah and role model for us in walks of life.\")"
   ]
  },
  {
   "cell_type": "markdown",
   "metadata": {},
   "source": [
    "Example 3:\n",
    "Task: Print the following integer and float data values on the Output Screen\n",
    "\n",
    "786\n",
    "\n",
    "3.86\n",
    "\n",
    "Input:\n",
    "\n",
    "786\n",
    "\n",
    "3.86\n",
    "\n",
    "Processing: print() Function\n",
    "\n",
    "Output:\n",
    "\n",
    "786\n",
    "\n",
    "3.86\n",
    "\n",
    "Code:"
   ]
  },
  {
   "cell_type": "code",
   "execution_count": 4,
   "metadata": {},
   "outputs": [
    {
     "name": "stdout",
     "output_type": "stream",
     "text": [
      "786\n",
      "3.86\n"
     ]
    }
   ],
   "source": [
    "print(786)\n",
    "print(3.86)"
   ]
  },
  {
   "cell_type": "markdown",
   "metadata": {},
   "source": [
    "TO DO Task 1:\n",
    "Task: Print the following message on the Output Screen\n",
    "\n",
    "Purpose of our lives is: Friendship of Allah.\n",
    "\n",
    "Input:\n",
    "    data: Purpose of our lives is: Friendship of Allah.\n",
    "    instruction: print\n",
    "Processing: print() function\n",
    "\n",
    "Output:Purpose of our lives is: Friendship of Allah.\n",
    "\n",
    "Code:\n"
   ]
  },
  {
   "cell_type": "code",
   "execution_count": 5,
   "metadata": {},
   "outputs": [
    {
     "name": "stdout",
     "output_type": "stream",
     "text": [
      "Purpose of our lives is: Friendship of Allah.\n"
     ]
    }
   ],
   "source": [
    "print(\"Purpose of our lives is: Friendship of Allah.\")"
   ]
  },
  {
   "cell_type": "markdown",
   "metadata": {},
   "source": [
    "TO DO Task 2:\n",
    "Task: Print the following message on the Output Screen\n",
    "\n",
    "Your name\n",
    "\n",
    "Your age\n",
    "\n",
    "Your marks (percentage) in FSc / A Levels\n",
    "\n",
    "Input:   data: your name \n",
    "               age     \n",
    "               marks\n",
    "         instruction: print \n",
    "Processing: print() function\n",
    "\n",
    "Output: your name\n",
    "         age\n",
    "         marks %\n",
    "\n",
    "Code:"
   ]
  },
  {
   "cell_type": "code",
   "execution_count": 6,
   "metadata": {},
   "outputs": [
    {
     "name": "stdout",
     "output_type": "stream",
     "text": [
      "name: Marriyam\n",
      "age: 18 years\n",
      "marks percentage: 85% \n"
     ]
    }
   ],
   "source": [
    "print(\"name: Marriyam\")\n",
    "print(\"age: 18 years\")\n",
    "print(\"marks percentage: 85% \")"
   ]
  },
  {
   "cell_type": "markdown",
   "metadata": {},
   "source": [
    "TODO Task 3:\n",
    "Task: Print the following information about your city\n",
    "\n",
    "Name\n",
    "\n",
    "Population\n",
    "\n",
    "Famous for\n",
    "\n",
    "Geographic area in kilometers\n",
    "\n",
    "Input:            data:Name\n",
    "                      Population\n",
    "                      Famous for\n",
    "                     Geographic area in kilometers\n",
    "                 instructions: print the information\n",
    "Processing: print() function\n",
    "\n",
    "Output:               Name\n",
    "                      Population\n",
    "                      Famous for\n",
    "                     Geographic area in kilometers\n",
    "\n",
    "Code:"
   ]
  },
  {
   "cell_type": "code",
   "execution_count": 7,
   "metadata": {},
   "outputs": [
    {
     "name": "stdout",
     "output_type": "stream",
     "text": [
      "Name: Lahore\n",
      "Population: 300 Million\n",
      "Famous for: a Historical City \n",
      "Geographic area in km: 5500 km\n"
     ]
    }
   ],
   "source": [
    "print(\"Name: Lahore\")\n",
    "print(\"Population: 300 Million\")\n",
    "print(\"Famous for: a Historical City \")\n",
    "print(\"Geographic area in km: 5500 km\")"
   ]
  },
  {
   "cell_type": "markdown",
   "metadata": {},
   "source": [
    "Your Turn Task 1\n",
    "Task: Temperature conversion (Celsius to Fahrenheit)\n",
    "\n",
    "Input: Ask the user for a temperature in Celsius.\n",
    "\n",
    "Processing: Convert the temperature to Fahrenheit.\n",
    "\n",
    "Output: Print the temperature in Fahrenheit.\n",
    "\n",
    "Code:"
   ]
  },
  {
   "cell_type": "code",
   "execution_count": 11,
   "metadata": {},
   "outputs": [
    {
     "name": "stdout",
     "output_type": "stream",
     "text": [
      "The temperature in Fahrenheit is: 111.2\n"
     ]
    }
   ],
   "source": [
    "celsius = float(input(\"Enter temperature in Celsius: \"))\n",
    "fahrenheit = (celsius * 9/5) + 32\n",
    "print(f\"The temperature in Fahrenheit is: {fahrenheit}\")"
   ]
  },
  {
   "cell_type": "markdown",
   "metadata": {},
   "source": [
    "Your Turn Task 2\n",
    "Task 3: Grade Calculator take input of marks from the user and tell the grade.\n",
    "Input: Ask the user for marks in three subjects.\n",
    "Processing: Calculate the average marks and determine the grade (A, B, C, D, F).\n",
    "\n",
    "Output: Print the average marks and the grade.\n",
    "\n",
    "Code:"
   ]
  },
  {
   "cell_type": "code",
   "execution_count": 9,
   "metadata": {},
   "outputs": [
    {
     "name": "stdout",
     "output_type": "stream",
     "text": [
      "your grade is A\n"
     ]
    }
   ],
   "source": [
    "marks=float(input(\"Enter your marks: \"))\n",
    "if(marks>=90):\n",
    "    print(\"your grade is A+\")\n",
    "elif(marks>=80):\n",
    "    print(\"your grade is A\")\n",
    "elif(marks>=70):\n",
    "    print(\"your grade is B\")\n",
    "elif(marks>=60):\n",
    "    print(\"your grade is C\")\n",
    "elif(marks>=50):\n",
    "    print(\"your grade is D\")\n",
    "else:\n",
    "    print(\"your grade is F\")\n",
    " \n"
   ]
  },
  {
   "cell_type": "markdown",
   "metadata": {},
   "source": [
    "Your Turn Task 3\n",
    "Task: GRADE Calculator which first sums up the marks of different subjects and then tells the grade. \n",
    "\n",
    "Input:  data: marks of three subjects\n",
    "        instruction: calculate the grade after summing up the marks\n",
    "\n",
    "Processing: if-else statements \n",
    "\n",
    "Output: grade of the student\n",
    "\n",
    "Code:"
   ]
  },
  {
   "cell_type": "code",
   "execution_count": 12,
   "metadata": {},
   "outputs": [
    {
     "name": "stdout",
     "output_type": "stream",
     "text": [
      "your are average is  86.0\n",
      " your Grade is B\n"
     ]
    }
   ],
   "source": [
    "marks1=float(input(\"enter marks of subject 1: \"))\n",
    "marks2=float(input(\"enter marks of subject 2: \"))\n",
    "marks3=float(input(\"enter marks of subject 3: \"))\n",
    "sum=marks1+marks2+marks3\n",
    "average=sum/3\n",
    "print(\"your are average is \",average)\n",
    "if(average>90):\n",
    "    GRADE='A'\n",
    "elif(average>=80):\n",
    "    GRADE='B'\n",
    "elif(average>=70):\n",
    "    GRADE='C'\n",
    "elif(average>=60):\n",
    "    GRADE='D'\n",
    "elif(average>=50):\n",
    "    GRADE='E'\n",
    "else:\n",
    "    GRADE='F'\n",
    "print(f\" your Grade is {GRADE}\" )"
   ]
  },
  {
   "cell_type": "markdown",
   "metadata": {},
   "source": [
    "YOUR TURN TASK 4:\n",
    "TASK: Rectangle Area and Perimeter\n",
    "\n",
    "Input:    DATA: Ask the user for the length and width of a rectangle.\n",
    "         INSTRUCTIONS: Calculate the area and perimeter.\n",
    "\n",
    "Processing: Calculate the area and perimeter USING DIFFERENT ARITHMETIC OPERATORS.\n",
    "\n",
    "Output: Print the area and perimeter"
   ]
  },
  {
   "cell_type": "code",
   "execution_count": 13,
   "metadata": {},
   "outputs": [
    {
     "name": "stdout",
     "output_type": "stream",
     "text": [
      "the area of the rectangle of length 55.0 and width 4.4 is=  242.00000000000003\n",
      "the perimeter of the rectangle of length 55.0 and width 4.4 is=  118.8\n"
     ]
    }
   ],
   "source": [
    "length=float(input(\"enter the value of the length of the rectangle: \"))\n",
    "width=float(input(\"enter the value of the width of the rectangle: \"))\n",
    "area=length*width\n",
    "perimeter=2*(length+width)\n",
    "print(f\"the area of the rectangle of length {length} and width {width} is= \", area)\n",
    "print(f\"the perimeter of the rectangle of length {length} and width {width} is= \", perimeter)"
   ]
  },
  {
   "cell_type": "markdown",
   "metadata": {},
   "source": [
    "## lecture 3\n",
    "## Comments"
   ]
  },
  {
   "cell_type": "markdown",
   "metadata": {},
   "source": [
    "TO DO Task 1:\n",
    "use single-line comments as well as multi-line comments to write the following:\n",
    "Developer name:\n",
    "Developer email ID:\n",
    "python IDE:\n",
    "program name:\n",
    "program version:\n",
    "start date:\n",
    "end date:"
   ]
  },
  {
   "cell_type": "code",
   "execution_count": 14,
   "metadata": {},
   "outputs": [
    {
     "name": "stdout",
     "output_type": "stream",
     "text": [
      "Allah is  One.\n"
     ]
    }
   ],
   "source": [
    "# single line  comments\n",
    "#Developer name: marriyam andeel\n",
    "#Developer Email ID: sp24-bai-050@cuilahore.edu.pk\n",
    "#python IDE: python or Pycharm\n",
    "#program name: output a string\n",
    "#program version: 2024\n",
    "#start date: 6-july-2024\n",
    "#end date: 8-july-2024\n",
    "\n",
    "print(\"Allah is  One.\")\n"
   ]
  },
  {
   "cell_type": "code",
   "execution_count": 15,
   "metadata": {},
   "outputs": [
    {
     "name": "stdout",
     "output_type": "stream",
     "text": [
      "Allah is  One.\n"
     ]
    }
   ],
   "source": [
    "# multi line  comments\n",
    "\"\"\" Developer name: \"marriyam andeel\"\n",
    "Developer Email ID: sp24-bai-050@cuilahore.edu.pk\n",
    "python IDE: python or Pycharm\n",
    "program name: output a string\n",
    "program version: 2024\n",
    "start date: 6-july-2024\n",
    "end date: 8-july-2024 \"\"\"\n",
    "\n",
    "print(\"Allah is  One.\")\n"
   ]
  },
  {
   "cell_type": "code",
   "execution_count": 16,
   "metadata": {},
   "outputs": [
    {
     "name": "stdout",
     "output_type": "stream",
     "text": [
      "Cody=  I am learning to code with Cody!\n"
     ]
    }
   ],
   "source": [
    "# A string output\n",
    "\"\"\"Store the string I am learning to code with Coddy!\n",
    "in a variable named coddy.\"\"\"\n",
    "coddy = \"I am learning to code with Cody!\"\n",
    "print(\"Cody= \",coddy)"
   ]
  },
  {
   "cell_type": "markdown",
   "metadata": {},
   "source": [
    "your turn task 2:"
   ]
  },
  {
   "cell_type": "code",
   "execution_count": 1,
   "metadata": {},
   "outputs": [
    {
     "name": "stdout",
     "output_type": "stream",
     "text": [
      "hello world!\n"
     ]
    }
   ],
   "source": [
    "#Use the code view to write a program that outputs Hello World!\n",
    "print(\"hello world!\")"
   ]
  },
  {
   "cell_type": "code",
   "execution_count": 18,
   "metadata": {},
   "outputs": [
    {
     "name": "stdout",
     "output_type": "stream",
     "text": [
      "boolean=  True\n"
     ]
    }
   ],
   "source": [
    "#Declare a variable named boolean and assign it the value True.\n",
    "bool = True\n",
    "print(\"boolean= \",bool)"
   ]
  },
  {
   "cell_type": "markdown",
   "metadata": {},
   "source": [
    "your turn task 3:"
   ]
  },
  {
   "cell_type": "code",
   "execution_count": 19,
   "metadata": {},
   "outputs": [
    {
     "name": "stdout",
     "output_type": "stream",
     "text": [
      "k = 88  PI = 3.14  name = bob\n",
      " k = 88 \n",
      " PI = 3.14\n",
      " name = bob\n"
     ]
    }
   ],
   "source": [
    "#  Write code that initializes the following variables:\n",
    "\n",
    "\"\"\"k with the value 88\n",
    "PI with the value of 3.14\n",
    "name with the value 'bob' \"\"\"\n",
    "k = 88\n",
    "PI = 3.14\n",
    "name = \"bob\"\n",
    "print(f\"k = {k}  PI = {PI}  name = {name}\")\n",
    "\"\"\" in the code above the output will be in the same line if we want it to be in \n",
    "different line we will write the code as:\n",
    "print(f\"k = {k} \\n, PI = {PI}\\n , name = {name}\") \"\"\"\n",
    "print(f\" k = {k} \\n PI = {PI}\\n name = {name}\")"
   ]
  },
  {
   "cell_type": "markdown",
   "metadata": {},
   "source": [
    "## Variables"
   ]
  },
  {
   "cell_type": "code",
   "execution_count": 23,
   "metadata": {},
   "outputs": [
    {
     "name": "stdout",
     "output_type": "stream",
     "text": [
      "name:  Adeel\n",
      "CGPA:  3.87\n",
      "age:  35\n",
      "is_handsome:  True\n"
     ]
    }
   ],
   "source": [
    "# example 1:\n",
    "# assigning values to variables at coding time\n",
    "name = \"Adeel\"             #string\n",
    "gpa = 3.87              #float\n",
    "age = 35                 #int\n",
    "is_handsome = True       #boolean\n",
    "\n",
    "print(\"name: \",name)\n",
    "print(\"CGPA: \",gpa)\n",
    "print(\"age: \",age)\n",
    "print(\"is_handsome: \",is_handsome)"
   ]
  },
  {
   "cell_type": "code",
   "execution_count": 24,
   "metadata": {},
   "outputs": [
    {
     "name": "stdout",
     "output_type": "stream",
     "text": [
      "name:  Adeel\n",
      "CGPA:  3.9\n",
      "age:  35\n",
      "is_handsome:  True\n"
     ]
    }
   ],
   "source": [
    "# example 2\n",
    "# assigning values to variables at coding time\n",
    "name = \"Adeel\"             #string\n",
    "cgpa = 3.87              #float\n",
    "age =35                 #int\n",
    "is_handsome = True       #boolean\n",
    "cgpa = 3.9\n",
    "print(\"name: \",name)\n",
    "print(\"CGPA: \",cgpa)\n",
    "print(\"age: \",age)\n",
    "print(\"is_handsome: \",is_handsome)"
   ]
  },
  {
   "cell_type": "code",
   "execution_count": 25,
   "metadata": {},
   "outputs": [
    {
     "name": "stdout",
     "output_type": "stream",
     "text": [
      "fruit_1:  apple \n",
      "fruit_2:  banana\n",
      "fruit_3:  cherry\n"
     ]
    }
   ],
   "source": [
    "# example 3\n",
    "# declaring multiple variables in a single line\n",
    "fruit_1,fruit_2,fruit_3 = \"apple \" , \"banana\" , \"cherry\"\n",
    "print(\"fruit_1: \",fruit_1)\n",
    "print(\"fruit_2: \",fruit_2)\n",
    "print(\"fruit_3: \",fruit_3)"
   ]
  },
  {
   "cell_type": "markdown",
   "metadata": {},
   "source": [
    "to do tasks: "
   ]
  },
  {
   "cell_type": "code",
   "execution_count": 26,
   "metadata": {},
   "outputs": [
    {
     "name": "stdout",
     "output_type": "stream",
     "text": [
      "name =  marriyam andeel\n",
      "age =  18\n",
      "city =  Lahore\n",
      "province =   Punjab\n",
      "nationality =  Pakistani\n",
      "gender =  female\n",
      "hobby =  baking\n"
     ]
    }
   ],
   "source": [
    "# create variables to store your demographic information\n",
    "name = \"marriyam andeel\"\n",
    "age = 18 \n",
    "city = \"Lahore\"\n",
    "province = \" Punjab\"\n",
    "nationality = 'Pakistani'\n",
    "gender = 'female'\n",
    "hobby = 'baking'\n",
    "\n",
    "print(\"name = \",name)\n",
    "print(\"age = \",age)\n",
    "print(\"city = \",city)\n",
    "print(\"province = \", province)\n",
    "print(\"nationality = \",nationality)\n",
    "print(\"gender = \",gender)\n",
    "print(\"hobby = \", hobby)"
   ]
  },
  {
   "cell_type": "markdown",
   "metadata": {},
   "source": [
    "your turn task 1:"
   ]
  },
  {
   "cell_type": "code",
   "execution_count": 27,
   "metadata": {},
   "outputs": [
    {
     "name": "stdout",
     "output_type": "stream",
     "text": [
      "var = 5\n"
     ]
    }
   ],
   "source": [
    "var=5\n",
    "print(\"var =\",var)"
   ]
  },
  {
   "cell_type": "markdown",
   "metadata": {},
   "source": [
    "your turn task 2:"
   ]
  },
  {
   "cell_type": "code",
   "execution_count": 28,
   "metadata": {},
   "outputs": [
    {
     "name": "stdout",
     "output_type": "stream",
     "text": [
      "sum of a and b is  10.0\n"
     ]
    }
   ],
   "source": [
    "a=float(input(\"enter value of a= \"))\n",
    "b=float(input(\"enter value of b= \"))\n",
    "sum=(a)+(b)\n",
    "print(\"sum of a and b is \",sum)\n"
   ]
  },
  {
   "cell_type": "markdown",
   "metadata": {},
   "source": [
    "your turn task 3:"
   ]
  },
  {
   "cell_type": "code",
   "execution_count": 29,
   "metadata": {},
   "outputs": [
    {
     "name": "stdout",
     "output_type": "stream",
     "text": [
      "a=  5.2\n",
      "b=  2.6\n",
      "c=  2.0\n"
     ]
    }
   ],
   "source": [
    "a = 5.2\n",
    "b = 2.6\n",
    "c = a/b\n",
    "print(\"a= \", a)\n",
    "print(\"b= \", b)\n",
    "print(\"c= \", c)\n"
   ]
  },
  {
   "cell_type": "markdown",
   "metadata": {},
   "source": [
    "your turn task 4:"
   ]
  },
  {
   "cell_type": "code",
   "execution_count": 30,
   "metadata": {},
   "outputs": [
    {
     "name": "stdout",
     "output_type": "stream",
     "text": [
      " count =  7\n",
      " count =  10\n"
     ]
    }
   ],
   "source": [
    "count = 0\n",
    "count = count+7\n",
    "print(\" count = \", count)\n",
    "# or the short instead of writing count=count+7 will be count+=7\n",
    "# shortcuts for different operators --> +=  /=  *=  -/\n",
    "count += 3\n",
    "print(\" count = \", count)"
   ]
  },
  {
   "cell_type": "markdown",
   "metadata": {},
   "source": [
    "## data types"
   ]
  },
  {
   "cell_type": "code",
   "execution_count": 31,
   "metadata": {},
   "outputs": [
    {
     "name": "stdout",
     "output_type": "stream",
     "text": [
      "<class 'int'>\n",
      "<class 'float'>\n",
      "<class 'complex'>\n"
     ]
    }
   ],
   "source": [
    "#example 1\n",
    "number_1 = 5\n",
    "number_2 = 3.3\n",
    "number_3 = 1j\n",
    "\n",
    "print(type(number_1))\n",
    "print(type(number_2))\n",
    "print(type(number_3))"
   ]
  },
  {
   "cell_type": "code",
   "execution_count": 32,
   "metadata": {},
   "outputs": [
    {
     "name": "stdout",
     "output_type": "stream",
     "text": [
      "<class 'int'>\n",
      "<class 'int'>\n",
      "<class 'float'>\n",
      "<class 'float'>\n",
      "<class 'float'>\n",
      "<class 'complex'>\n",
      "<class 'complex'>\n"
     ]
    }
   ],
   "source": [
    "# example 2\n",
    "# integer, float, complex data type\n",
    "number_1 = 1\n",
    "number_2 = -1\n",
    "number_3 = 1.111\n",
    "number_4 = -1.11\n",
    "number_5 = 23e5  # e = 10 raise to power\n",
    "number_6 = 1j     # j is the imaginary part \n",
    "number_7 = 5+4j\n",
    "\n",
    "print(type(number_1))\n",
    "print(type(number_2))\n",
    "print(type(number_3))\n",
    "print(type(number_4))\n",
    "print(type(number_5))\n",
    "print(type(number_6))\n",
    "print(type(number_7))"
   ]
  },
  {
   "cell_type": "code",
   "execution_count": 33,
   "metadata": {},
   "outputs": [
    {
     "name": "stdout",
     "output_type": "stream",
     "text": [
      "3.0\n",
      "(3+0j)\n",
      "3\n",
      "(3.3+0j)\n"
     ]
    }
   ],
   "source": [
    "# example 3\n",
    "# Conversion of data types\n",
    "# we can not convert complex data type into any other data type\n",
    "x = 3\n",
    "y = 3.3\n",
    "z = 1j\n",
    "\n",
    "a = float(x)\n",
    "b = complex(x)\n",
    "\n",
    "c = int(y)\n",
    "d = complex(y)\n",
    "\n",
    "\n",
    "print(a)\n",
    "print(b)\n",
    "print(c)\n",
    "print(d)\n"
   ]
  },
  {
   "cell_type": "code",
   "execution_count": 34,
   "metadata": {},
   "outputs": [
    {
     "name": "stdout",
     "output_type": "stream",
     "text": [
      "2\n"
     ]
    }
   ],
   "source": [
    "# example 4\n",
    "import random\n",
    "print(random.randrange(1,6))"
   ]
  },
  {
   "cell_type": "code",
   "execution_count": 35,
   "metadata": {},
   "outputs": [
    {
     "name": "stdout",
     "output_type": "stream",
     "text": [
      "Allah\n",
      "Allah\n"
     ]
    }
   ],
   "source": [
    "# example 5\n",
    "print(\"Allah\")\n",
    "print('Allah')"
   ]
  },
  {
   "cell_type": "code",
   "execution_count": 36,
   "metadata": {},
   "outputs": [
    {
     "name": "stdout",
     "output_type": "stream",
     "text": [
      "It's alright\n",
      "He is called the 'Tarzan'. \n",
      "He is called the \"Tarzan\"\n"
     ]
    }
   ],
   "source": [
    "# example 6\n",
    "print(\"It's alright\")\n",
    "print(\"He is called the 'Tarzan'. \")\n",
    "print('He is called the \"Tarzan\"')"
   ]
  },
  {
   "cell_type": "code",
   "execution_count": 37,
   "metadata": {},
   "outputs": [
    {
     "name": "stdout",
     "output_type": "stream",
     "text": [
      "Allah is one.\n",
      "He created us.\n",
      "The purpose of life is: the friendship of Allah. \n"
     ]
    }
   ],
   "source": [
    "# example 7\n",
    "# multi-line string\n",
    "# using double quotes\n",
    "string_1 = \"\"\"Allah is one.\n",
    "He created us.\n",
    "The purpose of life is: the friendship of Allah. \"\"\" \n",
    "print(string_1)\n"
   ]
  },
  {
   "cell_type": "code",
   "execution_count": 38,
   "metadata": {},
   "outputs": [
    {
     "name": "stdout",
     "output_type": "stream",
     "text": [
      "Allah is one.\n",
      "He created us.\n",
      "The purpose of life is: the friendship of Allah. \n"
     ]
    }
   ],
   "source": [
    "# multi-line string\n",
    "# using single quotes\n",
    "string_2 = '''Allah is one.\n",
    "He created us.\n",
    "The purpose of life is: the friendship of Allah. ''' \n",
    "print(string_2)"
   ]
  },
  {
   "cell_type": "markdown",
   "metadata": {},
   "source": [
    "## lecture 4 "
   ]
  },
  {
   "cell_type": "code",
   "execution_count": 40,
   "metadata": {},
   "outputs": [
    {
     "name": "stdout",
     "output_type": "stream",
     "text": [
      "the number entered is:  55\n"
     ]
    }
   ],
   "source": [
    "# example 1\n",
    "# take a number by user as a string\n",
    "number_1 =  (input(\"enter a number: \") )\n",
    "# to convert the code into float \n",
    "num_1= float(number_1)\n",
    "print(\"the number entered is: \",number_1)\n",
    "\n",
    "\"\"\" dry run:  \n",
    "number_1 = \"55\" \n",
    "num_1 = 55   \"\"\""
   ]
  },
  {
   "cell_type": "markdown",
   "metadata": {},
   "source": [
    " ## arithmetic operators"
   ]
  },
  {
   "cell_type": "code",
   "execution_count": 41,
   "metadata": {},
   "outputs": [
    {
     "name": "stdout",
     "output_type": "stream",
     "text": [
      "result=  20\n"
     ]
    }
   ],
   "source": [
    "#example 1\n",
    "result = (2+3)*4\n",
    "# dry run (5)*4=20\n",
    "print(\"result= \",result)"
   ]
  },
  {
   "cell_type": "code",
   "execution_count": 42,
   "metadata": {},
   "outputs": [
    {
     "name": "stdout",
     "output_type": "stream",
     "text": [
      "result=  14\n"
     ]
    }
   ],
   "source": [
    "#example 2 \n",
    "result = 2+3*4\n",
    "# dry run = 2+12 = 14\n",
    "print(\"result= \",result)"
   ]
  },
  {
   "cell_type": "code",
   "execution_count": 43,
   "metadata": {},
   "outputs": [
    {
     "name": "stdout",
     "output_type": "stream",
     "text": [
      "result=  1\n"
     ]
    }
   ],
   "source": [
    "# example 3\n",
    "result = 2+3-4\n",
    "# dry run = 5-4 = 1\n",
    "print(\"result= \",result)\n"
   ]
  },
  {
   "cell_type": "code",
   "execution_count": 44,
   "metadata": {},
   "outputs": [
    {
     "name": "stdout",
     "output_type": "stream",
     "text": [
      "result:  0\n"
     ]
    }
   ],
   "source": [
    "# example 4\n",
    "result = 2//3*4 # // -> floor division or integer division\n",
    "# dry run = 2//3 == 0 -> 0*4 = =0\n",
    "print(\"result: \",result)\n"
   ]
  },
  {
   "cell_type": "markdown",
   "metadata": {},
   "source": [
    "to do tasks: "
   ]
  },
  {
   "cell_type": "code",
   "execution_count": 45,
   "metadata": {},
   "outputs": [
    {
     "name": "stdout",
     "output_type": "stream",
     "text": [
      "result:  -4\n"
     ]
    }
   ],
   "source": [
    "#  task no.1 :\n",
    "result = 15//3 % 2+ 5-2*5\n",
    "# dry run -> 15//3 -> 5%2 +5-2*5 -> 1+5-10 -> 6-10 = -4\n",
    "print(\"result: \",result)"
   ]
  },
  {
   "cell_type": "code",
   "execution_count": 46,
   "metadata": {},
   "outputs": [
    {
     "name": "stdout",
     "output_type": "stream",
     "text": [
      "result:  30\n"
     ]
    }
   ],
   "source": [
    "# task no. 2:\n",
    "result = 15// (3%2)+(5-2)*5\n",
    "# dry run -> 15//1+3*5 -> 15+3*5 -> 15+15 -> 30\n",
    "print(\"result: \",result)"
   ]
  },
  {
   "cell_type": "code",
   "execution_count": 47,
   "metadata": {},
   "outputs": [
    {
     "name": "stdout",
     "output_type": "stream",
     "text": [
      "result:  -2\n"
     ]
    }
   ],
   "source": [
    "# task no. 3\n",
    "result =  15//3 % 2+ 5-2**3\n",
    "# dry run -> 5//3%2+5-8 -> 1%2+5-8 -> 1+5-8 -> 6-8 -> -2\n",
    "print(\"result: \",result)"
   ]
  },
  {
   "cell_type": "markdown",
   "metadata": {},
   "source": [
    "Your turn tasks:"
   ]
  },
  {
   "cell_type": "code",
   "execution_count": 50,
   "metadata": {},
   "outputs": [
    {
     "name": "stdout",
     "output_type": "stream",
     "text": [
      "result:  18\n"
     ]
    }
   ],
   "source": [
    "# your turn task 1:\n",
    "result = 18//(4-2)+9\n",
    "# dry run -> 18// 2+9 -> 9+9 -> 18\n",
    "print(\"result: \",result)"
   ]
  },
  {
   "cell_type": "code",
   "execution_count": 51,
   "metadata": {},
   "outputs": [
    {
     "name": "stdout",
     "output_type": "stream",
     "text": [
      "result:  12\n"
     ]
    }
   ],
   "source": [
    "# your turn task 2:\n",
    "result = 15%4+6//2*3\n",
    "# dry run -> 3+6//2*3 -> 3+3*3 -> 3+9 -> 12\n",
    "print(\"result: \",result)"
   ]
  },
  {
   "cell_type": "code",
   "execution_count": 52,
   "metadata": {},
   "outputs": [
    {
     "name": "stdout",
     "output_type": "stream",
     "text": [
      "result:  10\n"
     ]
    }
   ],
   "source": [
    "# your turn task 3:\n",
    "result = (12+8)//4*(5-3)\n",
    "# dry run -> 20//4*2 -> 5*2 ->10\n",
    "print(\"result: \",result)"
   ]
  },
  {
   "cell_type": "code",
   "execution_count": 53,
   "metadata": {},
   "outputs": [
    {
     "name": "stdout",
     "output_type": "stream",
     "text": [
      "result:  10\n"
     ]
    }
   ],
   "source": [
    "# your turn task 4:\n",
    "result = 20-3*4 +8 %3\n",
    "#dry run -> 20-12+8%3 -> 20-12+2 -> 8+2 -> 10\n",
    "print(\"result: \",result)"
   ]
  },
  {
   "cell_type": "code",
   "execution_count": 54,
   "metadata": {},
   "outputs": [
    {
     "name": "stdout",
     "output_type": "stream",
     "text": [
      "result:  18\n"
     ]
    }
   ],
   "source": [
    "# your turn task 5:\n",
    "result = 14%5+(10-3)*2\n",
    "# dry run -> 14%5+7*2 -> 4+14 -> 18\n",
    "print(\"result: \",result)"
   ]
  },
  {
   "cell_type": "code",
   "execution_count": 55,
   "metadata": {},
   "outputs": [
    {
     "name": "stdout",
     "output_type": "stream",
     "text": [
      "result:  20\n"
     ]
    }
   ],
   "source": [
    "# your turn task 6:\n",
    "result = 25//5*(7-3)+6%2\n",
    "# dry run -> 25//5 *4+6%2 -> 5*4+0 -> 20\n",
    "print(\"result: \",result)"
   ]
  },
  {
   "cell_type": "markdown",
   "metadata": {},
   "source": [
    "## pseudo-code"
   ]
  },
  {
   "cell_type": "code",
   "execution_count": 58,
   "metadata": {},
   "outputs": [
    {
     "name": "stdout",
     "output_type": "stream",
     "text": [
      "55.0\n",
      "44.0\n",
      "the sum is:  99.0\n"
     ]
    }
   ],
   "source": [
    "''' Example 1\n",
    "# Adding two numbers\n",
    "start\n",
    "declare: two float variables: number_1,number_2\n",
    "prompt: \"the user to enter the value of first variable: \"\n",
    "read: the user's input and stores in number_1\n",
    "prompt: \"the user to enter the value of second variable: \"\n",
    "read: the user's input and stores in number_2\n",
    "calculate: calculate the sum: sum= number_1+number_2\n",
    "print: the sum \"the sum is: \" +sum\n",
    "end\n",
    "'''\n",
    "number_1 = float(input(\"enter value of first variable: \"))\n",
    "print(number_1)\n",
    "number_2 = float(input(\"enter value of second variable: \"))\n",
    "print(number_2)\n",
    "sum = number_1 + number_2\n",
    "print(\"the sum is: \",sum)"
   ]
  },
  {
   "cell_type": "markdown",
   "metadata": {},
   "source": [
    "to do tasks"
   ]
  },
  {
   "cell_type": "code",
   "execution_count": 61,
   "metadata": {},
   "outputs": [
    {
     "name": "stdout",
     "output_type": "stream",
     "text": [
      "3.0\n",
      "4.0\n",
      "5.0\n",
      "the product is:  60.0\n"
     ]
    }
   ],
   "source": [
    "# task 1:\n",
    "# multiply three numbers\n",
    "''' \n",
    "start\n",
    "declare: three float variables : num_1,num_2,num_3\n",
    "prompt: \" enter the value of number 1:\"\n",
    "read: the user's input and store it\n",
    "prompt: \" enter the value of number 2:\"\n",
    "read: the user's input and store it\n",
    "prompt: \" enter the value of number 3:\"\n",
    "read: the user's input and store it\n",
    "calculate: multiply the 3 entered values as product = num_1*num_2*num_3\n",
    "print: the product \" the product is:\",product\n",
    "end \n",
    "'''\n",
    "num_1 = float(input(\"enter value of number 1:\" ))\n",
    "num_2 = float(input(\"enter value of number 2: \"))\n",
    "num_3 = float(input(\"enter value of number 3: \"))\n",
    "print(num_1)\n",
    "print(num_2)\n",
    "print(num_3)\n",
    "product = num_1*num_2*num_3\n",
    "print(\"the product is: \",product)\n"
   ]
  },
  {
   "cell_type": "code",
   "execution_count": 62,
   "metadata": {},
   "outputs": [
    {
     "name": "stdout",
     "output_type": "stream",
     "text": [
      "5\n",
      "the square is:  25\n"
     ]
    }
   ],
   "source": [
    "# task 2:\n",
    "# find square of a number:\n",
    "'''\n",
    "start\n",
    "declare: one int variable: number\n",
    "prompt: \"the user to enter the value of the variable: \"\n",
    "read: the user's input and stores in number\n",
    "calculate: calculate the square: square = number*number\n",
    "print: the sum \"the square is: \" +square\n",
    "end\n",
    "'''\n",
    "number = int(input(\"enter the number: \"))\n",
    "print(number)\n",
    "square = number*number\n",
    "print(\"the square is: \",square)\n"
   ]
  },
  {
   "cell_type": "code",
   "execution_count": 64,
   "metadata": {},
   "outputs": [
    {
     "name": "stdout",
     "output_type": "stream",
     "text": [
      "the area of a circle is:  12.56\n"
     ]
    }
   ],
   "source": [
    "# task 3:\n",
    "# calculate the area of a circle\n",
    "''' \n",
    "start\n",
    "declare: two float variables: radius , and  PI=3.14\n",
    "prompt: \"the user to enter the value of radius: \"\n",
    "read: the user's input and stores in radius\n",
    "calculate: calculate the area: area= PI*(radius*radius)\n",
    "print: the area \"the area is: \" ,area\n",
    "end\n",
    "'''\n",
    "PI = 3.14\n",
    "radius = float (input(\"enter value of radius: \"))\n",
    "area = PI *(radius**2)\n",
    "print(\"the area of a circle is: \",area)"
   ]
  },
  {
   "cell_type": "markdown",
   "metadata": {},
   "source": [
    "your turn tasks:"
   ]
  },
  {
   "cell_type": "code",
   "execution_count": 66,
   "metadata": {},
   "outputs": [
    {
     "name": "stdout",
     "output_type": "stream",
     "text": [
      "the area of the square is:  16.0\n"
     ]
    }
   ],
   "source": [
    "# task 1:\n",
    "# calculate the area of a square\n",
    "''' \n",
    "start\n",
    "declare: float variable : length\n",
    "prompt: \"the user to enter the value of length: \"\n",
    "read: the user's input and stores in radius\n",
    "calculate: calculate the area: area=length*length\n",
    "print: the area \"the area is: \" ,area\n",
    "end\n",
    "'''\n",
    "length = float(input(\"enter the length of the square: \"))\n",
    "area = length * length \n",
    "print(\"the area of the square is: \", area)"
   ]
  },
  {
   "cell_type": "code",
   "execution_count": 70,
   "metadata": {},
   "outputs": [
    {
     "name": "stdout",
     "output_type": "stream",
     "text": [
      "5.5\n",
      "2.0\n",
      "4.4\n",
      "sum=  11.9\n",
      "the average is:  3.966666666666667\n"
     ]
    }
   ],
   "source": [
    "# task 2:\n",
    "# take input of three numbers and calculate its average\n",
    "''' \n",
    "start\n",
    "declare: three float variables : num_1,num_2,num_3\n",
    "prompt: \" enter the value of number 1:\"\n",
    "read: the user's input and store it\n",
    "prompt: \" enter the value of number 2:\"\n",
    "read: the user's input and store it\n",
    "prompt: \" enter the value of number 3:\"\n",
    "read: the user's input and store it\n",
    "calculate: multiply the 3 entered values as product = num_1*num_2*num_3\n",
    "print: the sum \" the sum is:\",sum\n",
    "calculate: average of the 3 numbers: average = sum/3\n",
    "print: the average : \"the average is: \",average\n",
    "end \n",
    "'''\n",
    "num_1 = float(input(\"enter 1st number: \"))\n",
    "print(num_1)\n",
    "num_2 = float(input(\"enter 2nd number: \"))\n",
    "print(num_2)\n",
    "num_3 = float(input(\"enter 3rd number: \"))\n",
    "print(num_3)\n",
    "sum = num_1+num_2+num_3\n",
    "print(\"sum= \",sum)\n",
    "average = sum/3\n",
    "print(\"the average is: \", average)"
   ]
  },
  {
   "cell_type": "code",
   "execution_count": 71,
   "metadata": {},
   "outputs": [
    {
     "name": "stdout",
     "output_type": "stream",
     "text": [
      "5.5\n",
      "66.0\n",
      "the difference is:  -60.5\n"
     ]
    }
   ],
   "source": [
    "# task 3:\n",
    "# subtract two numbers\n",
    "'''\n",
    "start\n",
    "declare: two float variables: number_1,number_2\n",
    "prompt: \"the user to enter the value of first variable: \"\n",
    "read: the user's input and stores in number_1\n",
    "prompt: \"the user to enter the value of second variable: \"\n",
    "read: the user's input and stores in number_2\n",
    "calculate: calculate the difference: difference= number_1-number_2\n",
    "print: the sum \"the difference is: \" , difference\n",
    "end\n",
    "'''\n",
    "number_1 = float(input(\"enter value of first variable: \"))\n",
    "print(number_1)\n",
    "number_2 = float(input(\"enter value of second variable: \"))\n",
    "print(number_2)\n",
    "difference = number_1 - number_2\n",
    "print(\"the difference is: \",difference)"
   ]
  },
  {
   "cell_type": "markdown",
   "metadata": {},
   "source": [
    "## template based approach to write a python program\n",
    "## 10 step process of writing a code"
   ]
  },
  {
   "cell_type": "code",
   "execution_count": 72,
   "metadata": {},
   "outputs": [
    {
     "name": "stdout",
     "output_type": "stream",
     "text": [
      "the sum of 55.0and 44.0 = 99.0\n"
     ]
    }
   ],
   "source": [
    "'''\n",
    "step1: completely and correctly understand the real world scenario \n",
    "step 2: extract client requirements\n",
    "step 3: extract input processing and output\n",
    "step 4: write pseudo-code\n",
    "step 5: draw flow chart if needed\n",
    "step 6: select most suitable programming language, IDE, and machine to write down high quality code\n",
    "step 7: write down system and developer information\n",
    "step 8: transform pseudo-code and flowchart into code with proper comments\n",
    "step 9: test your code\n",
    "step 10: deploy your code for client usage \n",
    "'''\n",
    "# example 1\n",
    "'''\n",
    "# step 1: completely and correctly understand the real world scenario\n",
    " mr. Irfan wants a software on which his students of class two can practice maths questions.\n",
    "# step 2:  extract client requirements\n",
    "a simple calculator which can perform basic addition\n",
    "# step 3: extract input processing and output\n",
    "input: 2 variables of float datatype\n",
    "processing: addition + \n",
    "output: answer of the given values of the variables of and the given operations\n",
    "# step 4: pseudo-code:\n",
    "START\n",
    "DECLARE: two variables of float datatype = number_1 and number_2\n",
    "PROMPT: the user to enter the value of the 1st variable:\"enter value of number_1: \"\n",
    "READ: the user's input and display on screen\n",
    "PROMPT: the user to enter the value of the 2nd variable:\"enter value of number_2: \"\n",
    "READ: the user's input and display on screen\n",
    "CALCULATE: the sum: sum=num_1+num_2\n",
    "PRINT: \"the sum is\",sum\n",
    "END\n",
    "#step 6: select most suitable programming language, IDE, and machine to write down high quality code\n",
    "programming language: Python\n",
    "IDE: Pycharm\n",
    "machine : windows icore-9\n",
    "step 7: write down system and developer information\n",
    "developer name: Marriyam Andeel\n",
    "Developer's Company: ayz company\n",
    "Phone number:\n",
    "version:\n",
    "operation system:\n",
    "program name:\n",
    "'''\n",
    "# step 8 transform the pseudo-code into code\n",
    "# input the values\n",
    "number_1 = input(\"enter the value of number_1: \")\n",
    "number_2 = input(\"enter the value of number_2: \")\n",
    "# convert string type values into float type\n",
    "num_1 = float(number_1)\n",
    "num_2 = float(number_2)\n",
    "# declare sum\n",
    "sum = num_1 + num_2\n",
    "# print sum\n",
    "print(f\"the sum of {num_1}and {num_2} = {sum}\")\n",
    "\n",
    "# step 9: test run your code\n",
    "'''DRY RUN-> \n",
    "number_1 = input(\"enter the value of number_1: \") = \"55\"\n",
    "number_2 = input(\"enter the value of number_2: \") = \"44\"\n",
    "num_1 = float(\"55\") = 55\n",
    "num_2 = float(\"44\") = 44\n",
    "sum =55+44 = 99.0\n",
    "print(f\"the sum of {num_1}and {num_2} = {sum}\") -> the sum of 55.0 and 44.0 = 99.0\n",
    "'''\n",
    "# step 10 : deploy your code for client usage \n",
    "'''\n",
    "software deployed to ilm o irfan school\n",
    "'''"
   ]
  },
  {
   "cell_type": "markdown",
   "metadata": {},
   "source": [
    "to do tasks: "
   ]
  },
  {
   "cell_type": "code",
   "execution_count": 79,
   "metadata": {},
   "outputs": [
    {
     "name": "stdout",
     "output_type": "stream",
     "text": [
      "the product of 55.0 , 44.0and 4.4 = 10648.0\n"
     ]
    }
   ],
   "source": [
    "#task  1:\n",
    "'''\n",
    "# step 1: completely and correctly understand the real world scenario\n",
    " multiplication of three numbers\n",
    "# step 2:  extract client requirements\n",
    "a simple calculator which can perform basic multiplication\n",
    "# step 3: extract input processing and output\n",
    "input: 2 variables of float datatype\n",
    "processing:  multiplication(*) \n",
    "output: answer of the given values of the variables of and the given operation\n",
    "# step 4: pseudo-code:\n",
    "START\n",
    "DECLARE: three variables of float datatype = number_1 , number_2 ,number_3\n",
    "PROMPT: the user to enter the value of the 1st variable:\"enter value of number_1: \"\n",
    "READ: the user's input and display on screen\n",
    "PROMPT: the user to enter the value of the 2nd variable:\"enter value of number_2: \"\n",
    "READ: the user's input and display on screen\n",
    "PROMPT: the user to enter the value of the 3rd variable:\"enter value of number_3: \"\n",
    "READ: the user's input and display on screen\n",
    "CALCULATE: the product: product=num_1*num_2*num*3\n",
    "PRINT: \"the product is\",product\n",
    "END\n",
    "#step 6: select most suitable programming language, IDE, and machine to write down high quality code\n",
    "programming language: Python\n",
    "IDE: Pycharm\n",
    "machine : windows icore-9\n",
    "step 7: write down system and developer information\n",
    "developer name: Marriyam Andeel\n",
    "Developer's Company: ayz company\n",
    "Phone number:\n",
    "version:\n",
    "operation system:\n",
    "program name:\n",
    "'''\n",
    "# step 8: transform the pseudo-code into code\n",
    "# input the values\n",
    "number_1 = input(\"enter the value of number_1: \")\n",
    "number_2 = input(\"enter the value of number_2: \")\n",
    "number_3 = input(\"enter the value of number_3: \")\n",
    "# convert string type values into float type\n",
    "num_1 = float(number_1)\n",
    "num_2 = float(number_2)\n",
    "num_3 = float(number_3)\n",
    "# declare product variable\n",
    "product = num_1 * num_2 * num_3\n",
    "# print product\n",
    "print(f\"the product of {num_1} , {num_2}and {num_3} = {product}\")\n",
    "\n",
    "# step 9: test run your code\n",
    "#DRY RUN-> \n",
    "# number_1 = input(\"enter the value of number_1: \") = \"55\"\n",
    "# number_2 = input(\"enter the value of number_2: \") = \"44\"\n",
    "# number_3 = input(\"enter the value of number_3: \") = \"4.4\"\n",
    "# num_1 = float(\"55\") = 55\n",
    "# num_2 = float(\"44\") = 44\n",
    "# num_3 = float(\"4.4\") = 4.4\n",
    "# product =55*44*4.4 =  10648.0\n",
    "# print(f\"the product of {num_1} , {num_2}and {num_3} = {product}\") -> the product of 55.0 , 44.0 and 4.4 = 10648.0\n",
    "\n",
    "# step 10 : deploy your code for client usage \n",
    "# '''software deployed to ilm o irfan school'''"
   ]
  },
  {
   "cell_type": "code",
   "execution_count": 82,
   "metadata": {},
   "outputs": [
    {
     "name": "stdout",
     "output_type": "stream",
     "text": [
      "the square of 5 = 25\n"
     ]
    }
   ],
   "source": [
    "# task 2:\n",
    "'''\n",
    "# step 1: completely and correctly understand the real world scenario\n",
    "find the square of a number entered by the user\n",
    "# step 2:  extract client requirements\n",
    "a simple calculator which can calculate the square of integers\n",
    "# step 3: extract input processing and output\n",
    "input: 2 variable of int datatype\n",
    "processing: * i.e.  num_1*num*1\n",
    "output: answer of the given values of the variables of and the given operation\n",
    "# step 4: pseudo-code:\n",
    "START\n",
    "DECLARE: a variable of int datatype = number\n",
    "PROMPT: the user to enter the value of the 1st variable:\"enter value of number: \"\n",
    "READ: the user's input and display on screen\n",
    "CALCULATE: the square: square=num*num\n",
    "PRINT: \"the square  is\",square\n",
    "END\n",
    "#step 6: select most suitable programming language, IDE, and machine to write down high quality code\n",
    "programming language: Python\n",
    "IDE: Pycharm\n",
    "machine : windows icore-9\n",
    "step 7: write down system and developer information\n",
    "developer name: Marriyam Andeel\n",
    "Developer's Company: ayz company\n",
    "Phone number:\n",
    "version:\n",
    "operation system:\n",
    "program name:\n",
    "'''\n",
    "# step 8: transform the pseudo-code into code\n",
    "# input the values\n",
    "number = input(\"enter the value of number: \")\n",
    "\n",
    "# convert string type values into int type\n",
    "num = int(number)\n",
    "# declare square variable\n",
    "square = num * num \n",
    "# print square\n",
    "print(f\"the square of {num} = {square}\")\n",
    "\n",
    "# step 9: test run your code\n",
    "# DRY RUN-> \n",
    "# number_1 = input(\"enter the value of number_1: \") = \"5\"\n",
    "\n",
    "#num_1 = int(\"5\") = 5\n",
    "\n",
    "#square =5*5 = 25\n",
    "#print(f\"the square of {num} = {square}\") -> the square of 5  = 25\n",
    "\n",
    "# step 10 : deploy your code for client usage\n",
    "#  software deployed to ilm o irfan school\n"
   ]
  },
  {
   "cell_type": "code",
   "execution_count": 92,
   "metadata": {},
   "outputs": [
    {
     "name": "stdout",
     "output_type": "stream",
     "text": [
      "the area of circle of the  radius( 5 )= 78.5\n"
     ]
    }
   ],
   "source": [
    "# task 3:\n",
    "'''\n",
    "# step 1: completely and correctly understand the real world scenario\n",
    "find the area of the circle\n",
    "# step 2:  extract client requirements\n",
    "a simple calculator which can calculate the area of circle\n",
    "# step 3: extract input processing and output\n",
    "input: 2 variable of int datatype\n",
    "processing: * i.e. aplying formule pi*(radiud*radius)\n",
    "output: answer of the given values of the variables of and the given operation\n",
    "# step 4: pseudo-code:\n",
    "START\n",
    "DECLARE: a variable of float datatype = radius and PI=3.14\n",
    "PROMPT: the user to enter the value of the 1st variable:\"enter value of radius: \"\n",
    "READ: the user's input and display on screen\n",
    "CALCULATE: the area: area=PI(radius*radius)\n",
    "PRINT: \"the area  is\",area\n",
    "END\n",
    "#step 6: select most suitable programming language, IDE, and machine to write down high quality code\n",
    "programming language: Python\n",
    "IDE: Pycharm\n",
    "machine : windows icore-9\n",
    "step 7: write down system and developer information\n",
    "developer name: Marriyam Andeel\n",
    "Developer's Company: ayz company\n",
    "Phone number:\n",
    "version:\n",
    "operation system:\n",
    "program name:\n",
    "'''\n",
    "# step 8: transform the pseudo-code into code\n",
    "# input the values\n",
    "radius= input(\"enter the value of radius: \")\n",
    "# declare variable PI\n",
    "PI = 3.14\n",
    "\n",
    "# convert string type values into int type\n",
    "r = float (radius)\n",
    "# declare square variable\n",
    "area = PI*(r**2) \n",
    "# print square\n",
    "print(f\"the area of circle of the  radius( {r} )= {area}\")\n",
    "\n",
    "# step 9: test run your code\n",
    "# DRY RUN-> \n",
    "# radius = input(\"enter the value of radius: \") = \"5\"\n",
    "# r = float(\"5\") = 5\n",
    "# area=PI*(r*r) = 3.14*(5**2)\n",
    "#print(f\"the area of radius{r} = {area}\") -> the area of radius () = 78.5\n",
    "# step 10 : deploy your code for client usage\n",
    "#  software deployed to ilm o irfan school"
   ]
  },
  {
   "cell_type": "code",
   "execution_count": 94,
   "metadata": {},
   "outputs": [
    {
     "name": "stdout",
     "output_type": "stream",
     "text": [
      "the reverse of the two digit number( 68 ) is = 86\n"
     ]
    }
   ],
   "source": [
    "# task 4:\n",
    "'''\n",
    "# step 1: completely and correctly understand the real world scenario\n",
    "print a two digit number in reverse order\n",
    "# step 2:  extract client requirements\n",
    "logic to use // and % operators to reverse the number\n",
    "# step 3: extract input processing and output\n",
    "input: 2 variable of int datatype\n",
    "processing: using // and % operators\n",
    "output: answer of the given values of the variables of and the given operation\n",
    "# step 4: pseudo-code:\n",
    "START\n",
    "DECLARE: a variable of int datatype = number\n",
    "PROMPT: the user to enter the value of the 1st variable:\"enter value of 2 digit number: \"\n",
    "READ: the user's input and display on screen\n",
    "CALCULATE: the reverse of the two digits as num_1 = number//10 and num_2 = number%10\n",
    "PRINT: \"the reverse  is\",num_2 and num_1\n",
    "END\n",
    "#step 6: select most suitable programming language, IDE, and machine to write down high quality code\n",
    "programming language: Python\n",
    "IDE: Pycharm\n",
    "machine : windows icore-9\n",
    "step 7: write down system and developer information\n",
    "developer name: Marriyam Andeel\n",
    "Developer's Company: ayz company\n",
    "Phone number:\n",
    "version:\n",
    "operation system:\n",
    "program name:\n",
    "'''\n",
    "# step 8: transform the pseudo-code into code\n",
    "# input the values\n",
    "number= int(input(\"enter the 2 digit number: \"))\n",
    "num_1 = number//10\n",
    "num_2 = number % 10\n",
    "\n",
    "# print reverse\n",
    "print(f\"the reverse of the two digit number( {number} ) is = {num_2}{num_1}\")\n",
    "\n",
    "# step 9: test run your code\n",
    "# DRY RUN-> \n",
    "# number = int(input(\"enter the 2 digit  number: \")) = 68\n",
    "#num_1 = 68//10 = 6 \n",
    "# num_2 = 68%10 = 8\n",
    "#print(f\"the reverse of the two digit number( {number} ) is = {num_2}{num_1}\")\n",
    "#the reverse of the two digit number(68 ) is = 86\n",
    "\n",
    "# step 10 : deploy your code for client usage\n",
    "#  software deployed to ilm o irfan school"
   ]
  },
  {
   "cell_type": "code",
   "execution_count": 144,
   "metadata": {},
   "outputs": [
    {
     "name": "stdout",
     "output_type": "stream",
     "text": [
      "The reverse of the three-digit number (345) is = 543\n"
     ]
    }
   ],
   "source": [
    "# task 5: \n",
    "'''\n",
    "# step 1: completely and correctly understand the real world scenario\n",
    "print a two digit number in reverse order\n",
    "\n",
    "# step 2:  extract client requirements\n",
    "logic to use // and % operators to reverse the number\n",
    "# step 3: extract input processing and output\n",
    "input: 2 variable of int datatype\n",
    "processing: using // and % operators\n",
    "output: answer of the given values of the variables of and the given operation\n",
    "# step 4: pseudo-code:\n",
    "START\n",
    "DECLARE: a variable of int datatype = number\n",
    "PROMPT: the user to enter the value of the 1st variable:\"enter value of 3 digit number: \"\n",
    "READ: the user's input and display on screen\n",
    "CALCULATE: the reverse of the two digits as num_1 = number//10 and num_2 = (number%100)//10 and num_3 = number%10\n",
    "PRINT: \"the reverse  is\",num_3 num_2 and num_1\n",
    "END\n",
    "#step 6: select most suitable programming language, IDE, and machine to write down high quality code\n",
    "programming language: Python\n",
    "IDE: Pycharm\n",
    "machine : windows icore-9\n",
    "step 7: write down system and developer information\n",
    "developer name: Marriyam Andeel\n",
    "Developer's Company: ayz company\n",
    "Phone number:\n",
    "version:\n",
    "operation system:\n",
    "program name:\n",
    "'''\n",
    "# step 8: transform the pseudo-code into code\n",
    "# input the values\n",
    "number = int(input(\"Enter the 3-digit number: \"))\n",
    "num_1 = number // 100             # Hundreds place\n",
    "num_2 = (number % 100) // 10      # Tens place\n",
    "num_3 = number % 10               # Units place\n",
    "# Print reverse\n",
    "print(f\"The reverse of the three-digit number ({number}) is = {num_3}{num_2}{num_1}\")\n",
    "\n",
    "# step 9: test run your code\n",
    "# DRY RUN-> \n",
    "# number = int(input(\"Enter the 3-digit number: \")) =345\n",
    "# num_1 = number // 100            345//100 == 3\n",
    "# num_2 = (number % 100) // 10      (345%100)//10 == 45//10 == 4\n",
    "# num_3 = number % 10                345%10 == 5\n",
    "# Print reverse\n",
    "# print(f\"The reverse of the three-digit number (345) is = 543\")\n",
    "\n",
    "# step 10 : deploy your code for client usage\n",
    "#  software deployed to ilm o irfan school"
   ]
  },
  {
   "cell_type": "markdown",
   "metadata": {},
   "source": [
    "## lecture 5\n",
    "## selection structures"
   ]
  },
  {
   "cell_type": "code",
   "execution_count": 3,
   "metadata": {},
   "outputs": [
    {
     "name": "stdout",
     "output_type": "stream",
     "text": [
      "start\n",
      "end!\n"
     ]
    }
   ],
   "source": [
    "#if statement\n",
    "# Example 1\n",
    "num1 = 10\n",
    "num2 = 15\n",
    "print(\"start\")\n",
    "if(num1 > num2):\n",
    "    print(\"condition is true\")\n",
    "    print(\"number 1 is greater than number 2\")\n",
    "print(\"end!\")\n",
    "\n",
    "'''dry run -> when condition is false. num1<num2\n",
    "num1 = 10 , num2 = 15 , output -> start\n",
    "                                  end!      '''    \n",
    "\n"
   ]
  },
  {
   "cell_type": "code",
   "execution_count": null,
   "metadata": {},
   "outputs": [],
   "source": [
    "# Example 2\n",
    "num1 = 15\n",
    "num2 = 10\n",
    "print(\"start\")\n",
    "if(num1 > num2):\n",
    "    print(\"condition is true\")\n",
    "    print(\"number 1 is greater than number 2\")\n",
    "print(\"end!\")\n",
    "\n",
    "'''dry run -> when condition is true. num1 > num2\n",
    "num1 = 15 , num2 = 10 , output -> start\n",
    "                                condition is true\n",
    "                                number 1 is greater than number 2\n",
    "                                  end!      '''"
   ]
  },
  {
   "cell_type": "code",
   "execution_count": 4,
   "metadata": {},
   "outputs": [
    {
     "name": "stdout",
     "output_type": "stream",
     "text": [
      "4 is an even number.\n"
     ]
    }
   ],
   "source": [
    "# Example 3\n",
    "# Take an integer from user and check whether it is an even number or not\n",
    "number = int(input(\"enter a number: \"))\n",
    "if (number%2== 0):\n",
    "    print(f\"{number} is an even number.\")\n",
    "'''\n",
    "dry run -> number = 4    4%2==0  output -> 4 is an even number.\n",
    "        -> number = 5    5%2==1   output ->                   '''\n"
   ]
  },
  {
   "cell_type": "code",
   "execution_count": 7,
   "metadata": {},
   "outputs": [
    {
     "name": "stdout",
     "output_type": "stream",
     "text": [
      "7 is an odd number.\n"
     ]
    }
   ],
   "source": [
    "# Example 4\n",
    "# Take an integer from user and check whether it is an even number or odd number\n",
    "number = int(input(\"enter a number: \"))\n",
    "if (number%2== 0):\n",
    "    print(f\"{number} is an even number.\")\n",
    "if (number%2!= 0):\n",
    "    print(f\"{number} is an odd number.\")\n",
    "\n",
    "# dry run -> number = 4    4%2==0  output -> 4 is an even number.\n",
    "#       -> number = 5    5%2==1   output -> 5 is an odd number.                 \n"
   ]
  },
  {
   "cell_type": "markdown",
   "metadata": {},
   "source": [
    "## template based approach to write a program"
   ]
  },
  {
   "cell_type": "code",
   "execution_count": 8,
   "metadata": {},
   "outputs": [
    {
     "name": "stdout",
     "output_type": "stream",
     "text": [
      "3 is an odd number.\n"
     ]
    }
   ],
   "source": [
    "# example 1: \n",
    "'''\n",
    "# step 1: completely and correctly understand the real world scenario\n",
    "Mr. Irfan teaches maths to grade 2 at Ilm O Irfan School. He wants a software for his \n",
    "students to practice the concepts of even and odd numbers\n",
    "\n",
    "# step 2:  extract client requirements\n",
    "a simple calculator to practice even or odd numbers\n",
    "note: you need to be very specific \n",
    "# step 3: extract input processing and output\n",
    "input: 1 variable of int datatype\n",
    "processing: using % operator and if statements , input() function , print() function\n",
    "output: number of outputs  = 1\n",
    "       most suitable datatype = string\n",
    "# step 4: pseudo-code:\n",
    "START\n",
    "DECLARE: a variable of int datatype = number\n",
    "PROMPT: the user to enter the value of the 1st variable:\"enter a number: \"\n",
    "READ: the user's input and display on screen\n",
    "if number % 2 == 0:\n",
    "    print(number is even)\n",
    "End If\n",
    "if number % 2 != 0:\n",
    "    print(number is odd)\n",
    "End If\n",
    "END\n",
    "#step 6: select most suitable programming language, IDE, and machine to write down high quality code\n",
    "programming language: Python\n",
    "IDE: Pycharm\n",
    "machine : windows icore-9\n",
    "step 7: write down system and developer information\n",
    "developer name: Marriyam Andeel\n",
    "Developer's Company: ayz company\n",
    "Phone number:\n",
    "version:\n",
    "operation system:\n",
    "program name:\n",
    "start date: \n",
    "end date: \n",
    "'''\n",
    "# step 8: transform the pseudo-code into code\n",
    "# input the value\n",
    "number = int(input(\"Enter a number: \"))\n",
    "if (number %2 ==0):\n",
    "    print(f\"{number} is an even number.\")\n",
    "if (number %2 !=0):\n",
    "    print(f\"{number} is an odd number.\")\n",
    "\n",
    "# step 9: test run your code\n",
    "# DRY RUN-> \n",
    "# number = int(input(\"Enter a number: \")) =3\n",
    "# if (3%2 ==0) 1==0  condition is false -> no output\n",
    "# if (3%2 !=0)  1!= 0  condition is true -> 3 is an odd number.\n",
    "# step 10 : deploy your code for client usage\n",
    "#  software deployed to ilm o irfan school so the students can practice their maths questions by using their school email ids"
   ]
  },
  {
   "cell_type": "markdown",
   "metadata": {},
   "source": [
    " to do tasks:"
   ]
  },
  {
   "cell_type": "code",
   "execution_count": 9,
   "metadata": {},
   "outputs": [
    {
     "name": "stdout",
     "output_type": "stream",
     "text": [
      "-4 is a negative number.\n"
     ]
    }
   ],
   "source": [
    "# to do task 1:\n",
    "'''\n",
    "# step 1: completely and correctly understand the real world scenario\n",
    "Mr. Irfan teaches maths to grade 2 at Ilm O Irfan School. He wants a software for his \n",
    "students to practice the concepts of positive and negative numbers.\n",
    "\n",
    "# step 2:  extract client requirements\n",
    "a simple calculator to practice negative and positive numbers\n",
    "note: you need to be very specific \n",
    "# step 3: extract input processing and output\n",
    "input: 1 variable of int datatype\n",
    "processing: using if statements , input() function , print() function\n",
    "output: number of outputs  = 1\n",
    "       most suitable datatype = string\n",
    "# step 4: pseudo-code:\n",
    "START\n",
    "DECLARE: a variable of int datatype = number\n",
    "PROMPT: the user to enter the value of the 1st variable:\"enter a number: \"\n",
    "READ: the user's input and display on screen\n",
    "if number > 0:\n",
    "    print(number is positive)\n",
    "End If\n",
    "if number < 0:\n",
    "    print(number is negative)\n",
    "End If\n",
    "if number == 0:\n",
    "    print(number is zero)\n",
    "End If\n",
    "END\n",
    "#step 6: select most suitable programming language, IDE, and machine to write down high quality code\n",
    "programming language: Python\n",
    "IDE: Pycharm\n",
    "machine : windows icore-9\n",
    "step 7: write down system and developer information\n",
    "developer name: Marriyam Andeel\n",
    "Developer's Company: ayz company\n",
    "Phone number:\n",
    "version:\n",
    "operation system:\n",
    "program name:\n",
    "start date: \n",
    "end date: \n",
    "'''\n",
    "# step 8: transform the pseudo-code into code\n",
    "# input the value\n",
    "number = int(input(\"Enter a number: \"))\n",
    "if (number ==0):\n",
    "    print(f\"{number} is  zero.\")\n",
    "if (number > 0):\n",
    "    print(f\"{number} is a positive number.\")\n",
    "if (number < 0):\n",
    "    print(f\"{number} is a negative number.\")\n",
    "\n",
    "# step 9: test run your code\n",
    "# dry run-> number =3    3>0 -> number is positive\n",
    "# dry run-> number =-3   -3<0 -> number is negative\n",
    "#dry run-> number =0      0==0 -> number is zero\n",
    "# step 10 : deploy your code for client usage\n",
    "#  software deployed to ilm o irfan school so the students can practice their maths questions by using their school email ids"
   ]
  },
  {
   "cell_type": "markdown",
   "metadata": {},
   "source": [
    "your turn tasks:"
   ]
  },
  {
   "cell_type": "code",
   "execution_count": 13,
   "metadata": {},
   "outputs": [
    {
     "name": "stdout",
     "output_type": "stream",
     "text": [
      "you are an adult.\n",
      "you are unmarried.\n",
      "you are not insured.\n"
     ]
    }
   ],
   "source": [
    "# task 1:\n",
    "# step 1:\n",
    "'''A program in which the user is asked to enter his / her age , marital status to check whether they are insured or not'''\n",
    "# step 2:  extract client requirements\n",
    "'''a simple calculator to practice negative and positive numbers\n",
    "note: you need to be very specific \n",
    "# step 3: extract input processing and output\n",
    "input: 1 variable of int datatype\n",
    "processing: using if statements , input() function , print() function\n",
    "output: number of outputs  = 1\n",
    "       most suitable datatype = string\n",
    "# step 4: pseudo-code:\n",
    "START\n",
    "DECLARE: 2 variable of int datatype = age , marital_status\n",
    "PROMPT: the user to enter the value of the 1st variable:\"enter your age: \"\n",
    "READ: the user's input and display on screen\n",
    "if age>18:\n",
    "    print(you are an adult)\n",
    "End If\n",
    "if age<18:\n",
    "    print(you are a minor)\n",
    "End If\n",
    "PROMPT: the user to enter the value of the 2nd variable:\"enter your marital status: \"\n",
    "READ: the user's input and display on screen\n",
    "if marital_status== 0:\n",
    "    print(you are unmarried)\n",
    "End If\n",
    "if marital_status!= 1:\n",
    "    print(you are married)\n",
    "End If\n",
    "if marital_status!=  0 or 1:\n",
    "    print(invalid option)\n",
    "End If\n",
    "if (age>18 and marital_status==1):\n",
    "   print(you are insured)\n",
    "End If\n",
    "if (age>18 and marital_status!=1):\n",
    "   print(you are not insured)\n",
    "End If\n",
    "if (age<18 and marital_status==1):\n",
    "   print(you are not insured)\n",
    "End If\n",
    "END \n",
    "#step 6: select most suitable programming language, IDE, and machine to write down high quality code\n",
    "programming language: Python\n",
    "IDE: Pycharm\n",
    "machine : windows icore-9\n",
    "step 7: write down system and developer information\n",
    "developer name: Marriyam Andeel\n",
    "Developer's Company: ayz company\n",
    "Phone number:\n",
    "version:\n",
    "operation system:\n",
    "program name:\n",
    "start date: \n",
    "end date: \n",
    "'''\n",
    "# step 8: transform the pseudo-code into code\n",
    "# input the value\n",
    "age = int(input(\"Enter age: \"))\n",
    "if (age >=18):\n",
    "    print(\"you are an adult.\")\n",
    "if (age<18):\n",
    "    print(\"you are a minor.\")\n",
    "marital_status = int (input(\"enter your marital status(0 for unmarried and 1 for married): \"))\n",
    "if (marital_status==0):\n",
    "    print(\"you are unmarried.\")\n",
    "if (marital_status==1):\n",
    "    print(\"you are married.\")\n",
    "if (marital_status!= 1 and marital_status != 0):\n",
    "    print(\"invalid option!\")\n",
    "if (age >=18 and marital_status==1):\n",
    "    print(\"you are insured.\")  \n",
    "if (age >=18 and marital_status!=1):\n",
    "    print(\"you are not insured.\")\n",
    "if (age <18 and marital_status==1):\n",
    "    print(\"you are  not insured.\")\n",
    "if (age <18 and marital_status!=1):\n",
    "    print(\"you are not insured.\")"
   ]
  },
  {
   "cell_type": "code",
   "execution_count": 21,
   "metadata": {},
   "outputs": [
    {
     "name": "stdout",
     "output_type": "stream",
     "text": [
      "you are an adult.\n",
      "you are married.\n",
      "you are male.\n",
      "you are insured.\n"
     ]
    }
   ],
   "source": [
    "# task 2:\n",
    "# step 1:\n",
    "'''A program in which the user is asked to enter his / her age , marital status to check whether they are insured or not\n",
    "upgradation of same program is done by adding another feature of gender '''\n",
    "# step 2:  extract client requirements\n",
    "'''a program using selection structures to check whether the user is insured or not\n",
    "note: you need to be very specific \n",
    "# step 3: extract input processing and output\n",
    "input: 1 variable of int datatype\n",
    "processing: using if statements , input() function , print() function\n",
    "output: number of outputs  = 1\n",
    "       most suitable datatype = string\n",
    "# step 4: pseudo-code:\n",
    "START\n",
    "DECLARE: 3 variable of int datatype = age , marital_status ,  gender\n",
    "PROMPT: the user to enter the value of the 1st variable:\"enter your age: \"\n",
    "READ: the user's input and display on screen\n",
    "if age>18:\n",
    "    print(you are an adult)\n",
    "End If\n",
    "if age<18:\n",
    "    print(you are a minor)\n",
    "End If\n",
    "PROMPT: the user to enter the value of the 2nd variable:\"enter your marital status: \"\n",
    "READ: the user's input and display on screen\n",
    "if marital_status== 0:\n",
    "    print(you are unmarried)\n",
    "End If\n",
    "if marital_status!= 1:\n",
    "    print(you are married)\n",
    "End If\n",
    "if marital_status!=  0 and 1:\n",
    "    print(invalid option)\n",
    "End If\n",
    "PROMPT: the user to enter the value of the 3rd variable:\"enter your gender(1 =female, 0 = male): \"\n",
    "READ: the user's input and display on screen\n",
    "if gender== 0:\n",
    "    print(you are male)\n",
    "End If\n",
    "if gender== 1:\n",
    "    print(you are female)\n",
    "if gender!= 1 amd gender != 0:\n",
    "    print(invalid option)\n",
    "End If\n",
    "if (gender ==1 and age>18 and marital_status==1 ):\n",
    "   print(you are insured)\n",
    "End If\n",
    "if (gender ==1 and age>18 and marital_status==0 ):\n",
    "   print(you are not insured)\n",
    "End If\n",
    "if (gender ==1 and age>=30 and marital_status==0 ):\n",
    "   print(you are insured)\n",
    "End If\n",
    "if (gender ==0 and age>18 and marital_status==1 ):\n",
    "   print(you are insured)\n",
    "End If\n",
    "if (gender ==0 and age>18 and marital_status==0 ):\n",
    "   print(you are not insured)\n",
    "End If\n",
    "if (gender ==0 and age>35 and marital_status==0 ):\n",
    "   print(you are insured)\n",
    "End If\n",
    "\n",
    "END \n",
    "#step 6: select most suitable programming language, IDE, and machine to write down high quality code\n",
    "programming language: Python\n",
    "IDE: Pycharm\n",
    "machine : windows icore-9\n",
    "step 7: write down system and developer information\n",
    "developer name: Marriyam Andeel\n",
    "Developer's Company: ayz company\n",
    "Phone number:\n",
    "version:\n",
    "operation system:\n",
    "program name:\n",
    "start date: \n",
    "end date: \n",
    "'''\n",
    "# step 8: transform the pseudo-code into code\n",
    "# input the value\n",
    "age = int(input(\"Enter age: \"))\n",
    "if (age >=18):\n",
    "    print(\"you are an adult.\")\n",
    "if (age<18):\n",
    "    print(\"you are a minor.\")\n",
    "marital_status = int (input(\"enter your marital status(0 for unmarried and 1 for married): \"))\n",
    "if (marital_status==0):\n",
    "    print(\"you are unmarried.\")\n",
    "if (marital_status==1):\n",
    "    print(\"you are married.\")\n",
    "if (marital_status!= 1 and marital_status != 0):\n",
    "    print(\"invalid option!\")\n",
    "gender =int (input(\"enter your gender (1=female , 0=male): \"))\n",
    "if (gender==0):\n",
    "    print(\"you are male.\")\n",
    "if (gender==1):\n",
    "    print(\"you are female.\")\n",
    "if (gender!= 1 and gender != 0):\n",
    "    print(\"invalid option!\")\n",
    "\n",
    "if (age >=18 and marital_status==1):\n",
    "    print(\"you are insured.\")  \n",
    "if (age <18 and marital_status==1):\n",
    "    print(\"you are  not insured.\")\n",
    "if (age <18 and marital_status!=1):\n",
    "    print(\"you are not insured.\")\n",
    "if(gender == 1 and age>=30 and marital_status==0):\n",
    "    print(\"you are insured.\")\n",
    "if(gender == 0 and age >=35 and marital_status==0):\n",
    "    print(\"you are insured.\")"
   ]
  },
  {
   "cell_type": "code",
   "execution_count": 24,
   "metadata": {},
   "outputs": [
    {
     "name": "stdout",
     "output_type": "stream",
     "text": [
      "Weird\n"
     ]
    }
   ],
   "source": [
    "# task 3:\n",
    "'''A program in which the user is asked to enter his / her age , marital status to check whether they are insured or not\n",
    "upgradation of same program is done by adding another feature of gender '''\n",
    "# step 2:  extract client requirements\n",
    "'''a program using selection structures to check whether the user is insured or not\n",
    "note: you need to be very specific \n",
    "# step 3: extract input processing and output\n",
    "input: 1 variable of int datatype\n",
    "processing: using if statements , input() function , print() function\n",
    "output: number of outputs  = 1\n",
    "       most suitable datatype = string\n",
    "# step 4: pseudo-code:\n",
    "START\n",
    "DECLARE: a variable of int datatype = number\n",
    "PROMPT: the user to enter the value of the 1st variable:\"enter your age: \"\n",
    "READ: the user's input and display on screen\n",
    "n = int(input(\"enter a number: \"))\n",
    "if(n%2!=0):\n",
    "    print(\"Weird\")\n",
    "if(n%2==0 and n in range (2,5)):\n",
    "    print(\"Not Weird\")\n",
    "if(n%2==0 and n in range(6,21)):\n",
    "    print(\"Weird\")\n",
    "if(n%2==0 and n>20):\n",
    "    print(\"Not Weird\")\n",
    "END\n",
    "#step 6: select most suitable programming language, IDE, and machine to write down high quality code\n",
    "programming language: Python\n",
    "IDE: Pycharm\n",
    "machine : windows icore-9\n",
    "step 7: write down system and developer information\n",
    "developer name: Marriyam Andeel\n",
    "Developer's Company: ayz company\n",
    "Phone number:\n",
    "version:\n",
    "operation system:\n",
    "program name:\n",
    "start date: \n",
    "end date: \n",
    "\n",
    "'''\n",
    "\n",
    "\n",
    "n = int(input(\"enter a number: \"))\n",
    "if(n%2!=0):\n",
    "    print(\"Weird\")\n",
    "if(n%2==0 and n in range (2,5)):\n",
    "    print(\"Not Weird\")\n",
    "if(n%2==0 and n in range(6,21)):\n",
    "    print(\"Weird\")\n",
    "if(n%2==0 and n>20):\n",
    "    print(\"Not Weird\")\n",
    "'''\n",
    "step 9: dry run:\n",
    "\n",
    "n = int(input(\"enter a number: \")) -> 5\n",
    "if(n%2!=0):       5%2!=0 ->True   -> output-> Wierd\n",
    "    print(\"Weird\")\n",
    "if(n%2==0 and n in range (2,5)):\n",
    "    print(\"Not Weird\")\n",
    "if(n%2==0 and n in range(6,21)):\n",
    "    print(\"Weird\")\n",
    "if(n%2==0 and n>20):\n",
    "    print(\"Not Weird\")\n",
    " '''\n"
   ]
  },
  {
   "cell_type": "markdown",
   "metadata": {},
   "source": [
    "## lecture 6\n",
    "## if-else statements"
   ]
  },
  {
   "cell_type": "code",
   "execution_count": 1,
   "metadata": {},
   "outputs": [
    {
     "name": "stdout",
     "output_type": "stream",
     "text": [
      "5 is an odd number.\n"
     ]
    }
   ],
   "source": [
    "# example 1:\n",
    "number = int(input('enter a number:'))\n",
    "if(number%2==0):\n",
    "    print(f\"{number} is an even number.\")\n",
    "else:\n",
    "    print(f\"{number} is an odd number.\")\n",
    "'''\n",
    "dry run->\n",
    "number = int(input('enter a number:')) -> 5\n",
    "if(number%2==0):                          5%2==0 -> False\n",
    "    print(f\"{number} is an even number.\")\n",
    "else:\n",
    "    print(f\"{number} is an odd number.\") output-> 5 is an odd number\n",
    "    '''\n"
   ]
  },
  {
   "cell_type": "code",
   "execution_count": 3,
   "metadata": {},
   "outputs": [
    {
     "name": "stdout",
     "output_type": "stream",
     "text": [
      "5.2 is greater than 4.0.\n"
     ]
    }
   ],
   "source": [
    "# example 2:\n",
    "# given two numbers determine which one is greater\n",
    "num1 = float(input('enter number 1: '))\n",
    "num2 = float(input('enter number 2: '))\n",
    "if(num1>num2):\n",
    "    print(f'{num1} is greater than {num2}')\n",
    "else:\n",
    "    print(f'{num2} is greater than {num1}.')\n",
    "'''\n",
    "dry run ->\n",
    "num1 =  4.0\n",
    "num2 = 5.2\n",
    "if(4.0>5.2):                ->False\n",
    "      print(4 is greater than 5.2) \n",
    "else:\n",
    "     print(5.2 is greater than 4.0)  # output\n",
    "'''"
   ]
  },
  {
   "cell_type": "markdown",
   "metadata": {},
   "source": [
    " to do tasks:"
   ]
  },
  {
   "cell_type": "code",
   "execution_count": 4,
   "metadata": {},
   "outputs": [
    {
     "name": "stdout",
     "output_type": "stream",
     "text": [
      "you are not elligible to vote!\n"
     ]
    }
   ],
   "source": [
    "# task 1:\n",
    "'''\n",
    "step 1:\n",
    "write a program to ask the user to input their age to tell whether they are elligible to vote or not.\n",
    "step 2:\n",
    "using if-else statements along with input() function\n",
    "step 3:\n",
    "input: age\n",
    "processing: checking if-else statements\n",
    "output: true condition of the if-else statements will be shown as an ouput\n",
    "step 4:\n",
    "DECLARE a variable of int datatype : age\n",
    "PROMPT the user to input the age \n",
    "READ the input and store it chekc the conditions\n",
    "if age>=18:\n",
    " print (elligible)\n",
    "else:\n",
    "    (not elligible)\n",
    "END\n",
    "#step 6: select most suitable programming language, IDE, and machine to write down high quality code\n",
    "programming language: Python\n",
    "IDE: Pycharm\n",
    "machine : windows icore-9\n",
    "step 7: write down system and developer information\n",
    "developer name: Marriyam Andeel\n",
    "Developer's Company: ayz company\n",
    "Phone number:\n",
    "version:\n",
    "operation system:\n",
    "program name:\n",
    "start date: \n",
    "end date: \n",
    "'''\n",
    "age = int(input('enter your age: '))\n",
    "if age>=18:\n",
    "    print('you are elligible to vote!')\n",
    "else:\n",
    "    print('you are not elligible to vote!')"
   ]
  },
  {
   "cell_type": "code",
   "execution_count": 5,
   "metadata": {},
   "outputs": [
    {
     "name": "stdout",
     "output_type": "stream",
     "text": [
      "you are a male.\n"
     ]
    }
   ],
   "source": [
    "# task 2:\n",
    "'''\n",
    "step 1:\n",
    "write a program to ask the user to input their hair length to determine their gender\n",
    "step 2:\n",
    "using if-else statements with input()function\n",
    "step 3:\n",
    "input: hair_length\n",
    "processing : if-else statements\n",
    "output: gender of the user in form of a string\n",
    "step 4:\n",
    "START\n",
    "declare a variable of float datatype: hair_length\n",
    "prompt the user to input the hair length to check the conditions\n",
    "if hair_length <=6:\n",
    "     print(male)\n",
    "else:\n",
    "     print(female)\n",
    "end\n",
    "#step 6: select most suitable programming language, IDE, and machine to write down high quality code\n",
    "programming language: Python\n",
    "IDE: Pycharm\n",
    "machine : windows icore-9\n",
    "step 7: write down system and developer information\n",
    "developer name: Marriyam Andeel\n",
    "Developer's Company: ayz company\n",
    "Phone number:\n",
    "version:\n",
    "operation system:\n",
    "program name:\n",
    "start date: \n",
    "end date: \n",
    "'''\n",
    "hair_length = float(input('enter your hair length in inches:'))\n",
    "if hair_length<=6.0:\n",
    "    print('you are a male.')\n",
    "else:\n",
    "    print('you are a female.')"
   ]
  },
  {
   "cell_type": "markdown",
   "metadata": {},
   "source": [
    "## if-elif statements"
   ]
  },
  {
   "cell_type": "code",
   "execution_count": 6,
   "metadata": {},
   "outputs": [
    {
     "name": "stdout",
     "output_type": "stream",
     "text": [
      "you are under weight\n"
     ]
    }
   ],
   "source": [
    "# example 1:\n",
    "'''\n",
    "step1:\n",
    "write a program to ask the user to input the BMI index of the user categorize into obese , overweight, normal and weak.\n",
    "step 2:\n",
    "using if-elif statements with input() function\n",
    "step 3:\n",
    "input: height and weight\n",
    "processing: if-elif statements\n",
    "output: the BMI of the user\n",
    "step 4:\n",
    "declare two variables of float datatype : height and weight also bmi \n",
    "prompt the user to  input the values of the variables\n",
    "read the input check the conditions of the if elif statements\n",
    "BMI= weight/(height**2)\n",
    "if  bmi< 18.5:\n",
    "    print(underweight)\n",
    "elif bmi<24.9:\n",
    "    print(normal)\n",
    "elif bmi<29.9:\n",
    "    print(over weight)\n",
    "else:\n",
    "    print(obese)\n",
    "end\n",
    "step 6: select most suitable programming language, IDE, and machine to write down high quality code\n",
    "programming language: Python\n",
    "IDE: Pycharm\n",
    "machine : windows icore-9\n",
    "step 7: write down system and developer information\n",
    "developer name: Marriyam Andeel\n",
    "Developer's Company: ayz company\n",
    "Phone number:\n",
    "version:\n",
    "operation system:\n",
    "program name:\n",
    "start date: \n",
    "end date:\n",
    "'''\n",
    "weight = float(input('enter your weight: '))\n",
    "height = float(input('enter your height: '))\n",
    "bmi = weight/(height**2)\n",
    "if bmi<18.5:\n",
    "    print('you are under weight')\n",
    "elif bmi<24.9:\n",
    "    print('you are normal weight')\n",
    "elif bmi<29.9:\n",
    "    print('you are over weight')\n",
    "else:\n",
    "    print('you are obese')\n",
    "\n"
   ]
  },
  {
   "cell_type": "code",
   "execution_count": 7,
   "metadata": {},
   "outputs": [
    {
     "name": "stdout",
     "output_type": "stream",
     "text": [
      "very good\n"
     ]
    }
   ],
   "source": [
    "# example 2:\n",
    "'''\n",
    "step 1:\n",
    "write a program to ask user to input his/her marks while the program will return the grade of the student\n",
    "step 2:\n",
    "if elif statements\n",
    "step 3:\n",
    "input: marks\n",
    "processing: if elif statemnts\n",
    "output: grade \n",
    "step 4:\n",
    "Declare  a variable of float datatype : marks\n",
    "prompt the user to input the number\n",
    "read the input and check the conditions\n",
    "if marks>=90:\n",
    "        print('excelent')\n",
    "elif makrs>=85:\n",
    "    print('very good')\n",
    "elif marks>=75:\n",
    "    print('good')\n",
    "else:\n",
    "    print('keep working!')\n",
    "endstep 6: select most suitable programming language, IDE, and machine to write down high quality code\n",
    "programming language: Python\n",
    "IDE: Pycharm\n",
    "machine : windows icore-9\n",
    "step 7: write down system and developer information\n",
    "developer name: Marriyam Andeel\n",
    "Developer's Company: ayz company\n",
    "Phone number:\n",
    "version:\n",
    "operation system:\n",
    "program name:\n",
    "start date: \n",
    "end date:\n",
    "'''\n",
    "marks = float(input('enter your marks: '))\n",
    "if marks>=90:\n",
    "    print('excellent')\n",
    "elif marks>=85:\n",
    "    print('very good')\n",
    "elif marks>=75:\n",
    "    print('good')\n",
    "else:\n",
    "    print('needs improvement')"
   ]
  },
  {
   "cell_type": "markdown",
   "metadata": {},
   "source": [
    "to do tasks:"
   ]
  },
  {
   "cell_type": "code",
   "execution_count": 8,
   "metadata": {},
   "outputs": [
    {
     "name": "stdout",
     "output_type": "stream",
     "text": [
      "number is positive\n"
     ]
    }
   ],
   "source": [
    "# taks 1:\n",
    "'''\n",
    "step 1:\n",
    "ask a user to input a number and check whether it is positive,negative or zero \n",
    "step2:\n",
    "if-elif statements and input()function\n",
    "step 3:\n",
    "input: a number\n",
    "processing: if-elif statement\n",
    "output: true condition -> +ive,-ive,zero\n",
    "step 4:\n",
    "start\n",
    "declare a variale of float datatype: number\n",
    "prompt the user to input the nummber\n",
    "read the number and check the conditions\n",
    "if number===0:\n",
    "    print(zero)\n",
    "elif number<0:\n",
    "    print(negative)\n",
    "else:\n",
    "    print(positive)\n",
    "end\n",
    "step 6: select most suitable programming language, IDE, and machine to write down high quality code\n",
    "programming language: Python\n",
    "IDE: Pycharm\n",
    "machine : windows icore-9\n",
    "step 7: write down system and developer information\n",
    "developer name: Marriyam Andeel\n",
    "Developer's Company: ayz company\n",
    "Phone number:\n",
    "version:\n",
    "operation system:\n",
    "program name:\n",
    "start date: \n",
    "end date:\n",
    "'''\n",
    "\n",
    "number = float(input('enter a number: '))\n",
    "if number==0:\n",
    "    print('number is zero')\n",
    "elif number<0:\n",
    "    print('number is negative')\n",
    "else:\n",
    "    print('number is positive')"
   ]
  },
  {
   "cell_type": "code",
   "execution_count": 9,
   "metadata": {},
   "outputs": [
    {
     "name": "stdout",
     "output_type": "stream",
     "text": [
      "teenage\n"
     ]
    }
   ],
   "source": [
    "# task 2:\n",
    "'''\n",
    "step 1:\n",
    "ask the user to input their to check whether they are child,teenage , adult or senior\n",
    "step 2:\n",
    "if elif statements\n",
    "step 3:\n",
    "input: age of the user\n",
    "processing: if elif statements\n",
    "output: child,teenage , adult, senior\n",
    "step 4:\n",
    "start\n",
    "declare a variable of int datatype : age\n",
    "prompt the user to input their age \n",
    "read the input to check the conditions\n",
    "if age>=12:\n",
    "    print(child)\n",
    "elif age>12 and age<=19:\n",
    "    print('teenage')\n",
    "elif age>=20 and age<=60:\n",
    "    print('adult')\n",
    "else:\n",
    "    print('senior')\n",
    "end\n",
    "step 6: select most suitable programming language, IDE, and machine to write down high quality code\n",
    "programming language: Python\n",
    "IDE: Pycharm\n",
    "machine : windows icore-9\n",
    "step 7: write down system and developer information\n",
    "developer name: Marriyam Andeel\n",
    "Developer's Company: ayz company\n",
    "Phone number:\n",
    "version:\n",
    "operation system:\n",
    "program name:\n",
    "start date: \n",
    "end date:\n",
    "'''\n",
    "\n",
    "age = int(input('enter your age: '))\n",
    "if age<=12:\n",
    "    print('child')\n",
    "elif age>=13 and age<=19:\n",
    "    print('teenage')\n",
    "elif age>=20 and age<=60:\n",
    "    print('adult')\n",
    "else:\n",
    "    print('senior')"
   ]
  },
  {
   "cell_type": "markdown",
   "metadata": {},
   "source": [
    " ## nested if else"
   ]
  },
  {
   "cell_type": "code",
   "execution_count": 12,
   "metadata": {},
   "outputs": [
    {
     "name": "stdout",
     "output_type": "stream",
     "text": [
      "x is positive but y is not! \n"
     ]
    }
   ],
   "source": [
    "# example 1:\n",
    "x = float(input('enter a number: '))   #5.5\n",
    "y = float(input('enter a number: '))   # -7.0\n",
    "if x>0:\n",
    "    if y>0:\n",
    "        print('both x and y are positive!')\n",
    "    else:\n",
    "        print('x is positive but y is not! ')\n",
    "else:\n",
    "    print(' x is not positive')\n"
   ]
  },
  {
   "cell_type": "markdown",
   "metadata": {},
   "source": [
    "## conditional statements"
   ]
  },
  {
   "cell_type": "code",
   "execution_count": 15,
   "metadata": {},
   "outputs": [
    {
     "name": "stdout",
     "output_type": "stream",
     "text": [
      "True\n",
      "False\n"
     ]
    }
   ],
   "source": [
    "# example 1:\n",
    "age = 40\n",
    "is_adult = True if age>=18 else False\n",
    "print(is_adult)\n",
    "\n",
    "age = int(input('enter your age: '))   # age = 12\n",
    "is_adult = True if age>=18 else False\n",
    "print(is_adult)"
   ]
  },
  {
   "cell_type": "code",
   "execution_count": 18,
   "metadata": {},
   "outputs": [
    {
     "name": "stdout",
     "output_type": "stream",
     "text": [
      "False\n"
     ]
    }
   ],
   "source": [
    "# example 2:\n",
    "marks = 45\n",
    "is_pass = True if marks>=50  else False\n",
    "print(is_pass)"
   ]
  },
  {
   "cell_type": "markdown",
   "metadata": {},
   "source": [
    "## logical operators"
   ]
  },
  {
   "cell_type": "code",
   "execution_count": 22,
   "metadata": {},
   "outputs": [
    {
     "name": "stdout",
     "output_type": "stream",
     "text": [
      "one of the two is positive\n",
      "x is not less than zero\n"
     ]
    }
   ],
   "source": [
    "# and , or , not\n",
    "\n",
    "# example 1:\n",
    "x = 5\n",
    "y = -8\n",
    "if x>0 and y>0:\n",
    "    print('both are positive')\n",
    "\n",
    "if x>0 or y>0:\n",
    "    print('one of the two is positive')\n",
    "\n",
    "if not(x<0):\n",
    "    print('x is not less than zero')\n",
    "if not(y<0):\n",
    "    print('y is not less than zero')"
   ]
  },
  {
   "cell_type": "code",
   "execution_count": 24,
   "metadata": {},
   "outputs": [
    {
     "name": "stdout",
     "output_type": "stream",
     "text": [
      "2) both conditions are not true.\n",
      "1) any one of the two is true\n"
     ]
    }
   ],
   "source": [
    "# example 2:\n",
    "if (5>3) and (6<5):\n",
    "    print('1) both conditions are true.')\n",
    "else:\n",
    "    print('2) both conditions are not true.')\n",
    "\n",
    "if (5>3) or (6<5):\n",
    "    print('1) any one of the two is true')\n",
    "else:\n",
    "    print('2) both are true')"
   ]
  },
  {
   "cell_type": "markdown",
   "metadata": {},
   "source": [
    "## and operator"
   ]
  },
  {
   "cell_type": "code",
   "execution_count": 28,
   "metadata": {},
   "outputs": [
    {
     "name": "stdout",
     "output_type": "stream",
     "text": [
      "9.0 is larger than 5.0 and 7.7\n"
     ]
    }
   ],
   "source": [
    "# example 3:\n",
    "# input 3 numbers by the user and check which one is the largest\n",
    "num1 = float(input('enter number 1:'))\n",
    "num2 = float(input('enter number 2:'))\n",
    "num3 = float(input('enter number 3:'))\n",
    "if (num1>num2) and (num1>num3):\n",
    "    print(f'{num1} is larger than {num2} and {num3}')\n",
    "elif (num2>num1) and (num2>num3):\n",
    "    print(f'{num2} is larger than {num1} and {num3}')\n",
    "#elif(num3>num1) and (num3>num2):\n",
    "   # print(f'{num3} is larger than {num1} and {num2}')\n",
    "else:\n",
    "     print(f'{num3} is larger than {num1} and {num2}')"
   ]
  },
  {
   "cell_type": "code",
   "execution_count": 3,
   "metadata": {},
   "outputs": [
    {
     "name": "stdout",
     "output_type": "stream",
     "text": [
      "number entered by the user are\n",
      " num1= 5.0\n",
      " num2= 5.1\n",
      " num3= 6.6\n",
      " num4= 8.0\n",
      " num5= 9.0\n",
      " \n",
      "9.0 is the largest number\n"
     ]
    }
   ],
   "source": [
    "# todo task 1:\n",
    "# input 5 numbers by the user and check which one is the largest\n",
    "num1 = float(input('enter number 1:'))\n",
    "num2 = float(input('enter number 2:'))\n",
    "num3 = float(input('enter number 3:'))\n",
    "num4 = float(input('enter number 4:'))\n",
    "num5 = float(input('enter number 5:'))\n",
    "print(f'number entered by the user are\\n num1= {num1}\\n num2= {num2}\\n num3= {num3}\\n num4= {num4}\\n num5= {num5}\\n ')\n",
    "if (num1>num2) and (num1>num3) and (num1>num4) and (num1>num5):\n",
    "    print(f'{num1} is the largest number')\n",
    "elif (num2>num1) and (num2>num3) and (num2>num4) and (num2>num5):\n",
    "    print(f'{num2} is the  largest number')\n",
    "elif(num3>num1) and (num3>num2) and(num3>num4) and (num3>num5):\n",
    "    print(f'{num3} is the largest number ')\n",
    "elif(num4>num1) and (num4>num2) and(num4>num3) and (num4>num5):\n",
    "    print(f'{num4} is the largest number ')\n",
    "else:\n",
    "     print(f'{num5} is the largest number')"
   ]
  },
  {
   "cell_type": "markdown",
   "metadata": {},
   "source": [
    "## or operator"
   ]
  },
  {
   "cell_type": "code",
   "execution_count": 19,
   "metadata": {},
   "outputs": [
    {
     "name": "stdout",
     "output_type": "stream",
     "text": [
      "consonant\n",
      "vowel\n"
     ]
    }
   ],
   "source": [
    "# example 1:\n",
    "# checking vowels or consonants\n",
    "\n",
    "\n",
    "# bug in this code if capital letter is added in will always considered as consonant\n",
    "letter = str(input('enter a letter: '))             #->A\n",
    "if letter== 'a' or letter=='e' or letter=='i' or letter=='o' or letter=='u':\n",
    "    print('vowel')\n",
    "else:\n",
    "    print('consonant')\n",
    "\n",
    "\n",
    "\n",
    "# modified form \n",
    "let = str(input('enter a letter: '))      # ->A\n",
    "letter=let.lower()\n",
    "if letter== 'a' or letter=='e' or letter=='i' or letter=='o' or letter=='u':\n",
    "    print('vowel')\n",
    "else:\n",
    "    print('consonant')"
   ]
  },
  {
   "cell_type": "code",
   "execution_count": 4,
   "metadata": {},
   "outputs": [
    {
     "name": "stdout",
     "output_type": "stream",
     "text": [
      "lengths of triangle entered by the user are\n",
      " 4.0\n",
      " 4.0\n",
      " 4.0\n",
      "equilateral triangle\n"
     ]
    }
   ],
   "source": [
    "# your turn task 1:\n",
    "'''\n",
    "step 1\n",
    "write a program that take 3 lengths of the 3 sides of a triangle and tell whether the triangle is equilateral  , isosceles or scalene\n",
    "step 2:\n",
    "and , or operators within if else statements\n",
    "step 3\n",
    "input: 3 lengths of a triangle\n",
    "processing : checking  the conditions\n",
    "output : the type of triangle in the form of string\n",
    "step 4:\n",
    "declare 3 variables o float datatype: len1,len2,len3\n",
    "prompt the user to enter the 3 lengths\n",
    "read the input and check the conditions\n",
    "if len1==len2 and len1==len3:\n",
    "   print(equilateral)\n",
    "elif len1==len2 or len1==len3 or len2==len3 :\n",
    "   print(isosceles)\n",
    "elif len1!=len2 or len2!=len3 or len3!=len1:\n",
    "   print (scalene)\n",
    "#else:\n",
    "# print(scalene)\n",
    "end\n",
    "\n",
    "step 6: select most suitable programming language, IDE, and machine to write down high quality code\n",
    "programming language: Python\n",
    "IDE: Pycharm\n",
    "machine : windows icore-9\n",
    "step 7: write down system and developer information\n",
    "developer name: Marriyam Andeel\n",
    "Developer's Company: ayz company\n",
    "Phone number:\n",
    "version:\n",
    "operation system:\n",
    "program name:\n",
    "start date: \n",
    "end date:\n",
    "'''\n",
    "\n",
    "length1 = float(input('enter length 1: '))\n",
    "length2 = float(input('enter length 2: '))\n",
    "length3 = float(input('enter length 3: '))\n",
    "\n",
    "print(f'lengths of triangle entered by the user are\\n {length1}\\n {length2}\\n {length3}')\n",
    "if length1==length2 and length1==length3:\n",
    "    print('equilateral triangle')\n",
    "elif length1 == length2 or length2 == length3 or length3 == length1:\n",
    "    print('isosceles triangle')\n",
    "else:\n",
    "    print('scalene triangle')"
   ]
  },
  {
   "cell_type": "markdown",
   "metadata": {},
   "source": [
    "## not operator"
   ]
  },
  {
   "cell_type": "code",
   "execution_count": 7,
   "metadata": {},
   "outputs": [
    {
     "name": "stdout",
     "output_type": "stream",
     "text": [
      "let's go for a walk\n"
     ]
    }
   ],
   "source": [
    "# example 1\n",
    "is_raining =False\n",
    "if not(is_raining):\n",
    "    print('let\\'s go for a walk') \n",
    "else:\n",
    "    print('stay  indoor it\\'s raining')"
   ]
  },
  {
   "cell_type": "code",
   "execution_count": 8,
   "metadata": {},
   "outputs": [
    {
     "name": "stdout",
     "output_type": "stream",
     "text": [
      "x is positive and y is not less than or equal to 2\n"
     ]
    }
   ],
   "source": [
    "# example 2\n",
    "x=3\n",
    "y=5\n",
    "if (x>=0) and (not(y<=2)):\n",
    "    print('x is positive and y is not less than or equal to 2')\n",
    "else:\n",
    "    print('one or both conditions are not true')\n"
   ]
  },
  {
   "cell_type": "code",
   "execution_count": 10,
   "metadata": {},
   "outputs": [
    {
     "name": "stdout",
     "output_type": "stream",
     "text": [
      "1992 is a leap year\n"
     ]
    }
   ],
   "source": [
    "# to do task 1\n",
    "'''\n",
    "step 1\n",
    "check the given input by the user of the year s leap or not\n",
    "step 2\n",
    "and, or operators if else statements\n",
    "step 3\n",
    "input: year\n",
    "processing: if else statement\n",
    "output: string to check the condition is true leap year or not\n",
    "step 4:\n",
    "declare a variable of int datatype: year\n",
    "prompt the user to input the year \n",
    "read the input by the user and check the user\n",
    "if year%4==0 and year%100!=0:\n",
    "       print(leap year)\n",
    "elif year%400==0:\n",
    "      print(leap year)\n",
    "else:\n",
    "    print(not a leap year)\n",
    "END\n",
    "step 6: select most suitable programming language, IDE, and machine to write down high quality code\n",
    "programming language: Python\n",
    "IDE: Pycharm\n",
    "machine : windows icore-9\n",
    "step 7: write down system and developer information\n",
    "developer name: Marriyam Andeel\n",
    "Developer's Company: ayz company\n",
    "Phone number:\n",
    "version:\n",
    "operation system:\n",
    "program name:\n",
    "start date: \n",
    "end date:\n",
    "'''\n",
    "\n",
    "year = int(input('enter the year'))\n",
    "if (year%4==0) and (year%100!=0):\n",
    "    print(f'{year} is a leap year')\n",
    "elif (year%400==0):\n",
    "    print(f'{year} is a leap year')\n",
    "else:\n",
    "    print(f'{year} is a leap year')"
   ]
  },
  {
   "cell_type": "markdown",
   "metadata": {},
   "source": [
    "## lecture 7\n",
    "## while loop"
   ]
  },
  {
   "cell_type": "code",
   "execution_count": 18,
   "metadata": {},
   "outputs": [
    {
     "name": "stdout",
     "output_type": "stream",
     "text": [
      "1\n",
      "2\n",
      "3\n",
      "4\n",
      "5\n"
     ]
    }
   ],
   "source": [
    "# example 1\n",
    "counter = 1\n",
    "while counter<=5:\n",
    "    print(counter)\n",
    "    counter=counter+1\n",
    "    #counter+=1 ->or"
   ]
  },
  {
   "cell_type": "code",
   "execution_count": 20,
   "metadata": {},
   "outputs": [
    {
     "name": "stdout",
     "output_type": "stream",
     "text": [
      "1\n",
      "3\n",
      "5\n",
      "7\n",
      "9\n"
     ]
    }
   ],
   "source": [
    "#example 2\n",
    "counter=1\n",
    "while counter<=9:\n",
    "    print(counter)\n",
    "    counter+=2"
   ]
  },
  {
   "cell_type": "code",
   "execution_count": 22,
   "metadata": {},
   "outputs": [
    {
     "name": "stdout",
     "output_type": "stream",
     "text": [
      "1  Allah\n",
      "2  Allah\n",
      "3  Allah\n",
      "4  Allah\n",
      "5  Allah\n"
     ]
    }
   ],
   "source": [
    "#example 3\n",
    "counter =1\n",
    "while counter<=5:\n",
    "    print(counter,\" Allah\")\n",
    "    counter+=1"
   ]
  },
  {
   "cell_type": "code",
   "execution_count": 23,
   "metadata": {},
   "outputs": [
    {
     "name": "stdout",
     "output_type": "stream",
     "text": [
      "1  Allah\n",
      "3  Allah\n",
      "5  Allah\n"
     ]
    }
   ],
   "source": [
    "#example 4\n",
    "counter =1\n",
    "while counter<=5:\n",
    "    print(counter,\" Allah\")\n",
    "    counter+=2"
   ]
  },
  {
   "cell_type": "code",
   "execution_count": 24,
   "metadata": {},
   "outputs": [
    {
     "name": "stdout",
     "output_type": "stream",
     "text": [
      "1  Allah\n",
      "4  Allah\n"
     ]
    }
   ],
   "source": [
    "#example 5\n",
    "counter =1\n",
    "while counter<=5:\n",
    "    print(counter,\" Allah\")\n",
    "    counter+=3"
   ]
  },
  {
   "cell_type": "code",
   "execution_count": 25,
   "metadata": {},
   "outputs": [
    {
     "name": "stdout",
     "output_type": "stream",
     "text": [
      "0\n",
      "5\n",
      "10\n",
      "15\n",
      "20\n",
      "25\n"
     ]
    }
   ],
   "source": [
    "# example 6\n",
    "counter =0\n",
    "while counter<=25:\n",
    "    print(counter)\n",
    "    counter+=5"
   ]
  },
  {
   "cell_type": "code",
   "execution_count": 26,
   "metadata": {},
   "outputs": [
    {
     "name": "stdout",
     "output_type": "stream",
     "text": [
      "0\n",
      "10\n",
      "20\n",
      "30\n",
      "40\n",
      "50\n"
     ]
    }
   ],
   "source": [
    "#example 7\n",
    "counter =0\n",
    "while counter<=50:\n",
    "    print(counter)\n",
    "    counter+=10"
   ]
  },
  {
   "cell_type": "code",
   "execution_count": 31,
   "metadata": {},
   "outputs": [
    {
     "name": "stdout",
     "output_type": "stream",
     "text": [
      "500\n",
      "400\n",
      "300\n",
      "200\n",
      "100\n"
     ]
    }
   ],
   "source": [
    "#example 8\n",
    "counter =500\n",
    "while counter>=100:\n",
    "    print(counter)\n",
    "    counter-=100"
   ]
  },
  {
   "cell_type": "code",
   "execution_count": 35,
   "metadata": {},
   "outputs": [
    {
     "name": "stdout",
     "output_type": "stream",
     "text": [
      "2 * 1 =  2\n",
      "2 * 2 =  4\n",
      "2 * 3 =  6\n",
      "2 * 4 =  8\n",
      "2 * 5 =  10\n",
      "2 * 6 =  12\n",
      "2 * 7 =  14\n",
      "2 * 8 =  16\n",
      "2 * 9 =  18\n",
      "2 * 10 =  20\n"
     ]
    }
   ],
   "source": [
    "#example 9\n",
    "# table of two\n",
    "num = 2\n",
    "counter =1\n",
    "while counter<=10:\n",
    "    print(f'{num} * {counter} = ',num*counter)\n",
    "    counter+=1"
   ]
  },
  {
   "cell_type": "code",
   "execution_count": 36,
   "metadata": {},
   "outputs": [
    {
     "name": "stdout",
     "output_type": "stream",
     "text": [
      "6 * 1 =  6\n",
      "6 * 2 =  12\n",
      "6 * 3 =  18\n",
      "6 * 4 =  24\n",
      "6 * 5 =  30\n",
      "6 * 6 =  36\n",
      "6 * 7 =  42\n",
      "6 * 8 =  48\n",
      "6 * 9 =  54\n",
      "6 * 10 =  60\n"
     ]
    }
   ],
   "source": [
    "#example 10\n",
    "# table of any number input by user\n",
    "num = int(input('enter a number'))\n",
    "counter =1\n",
    "while counter<=10:\n",
    "    print(f'{num} * {counter} = ',num*counter)\n",
    "    counter+=1"
   ]
  },
  {
   "cell_type": "code",
   "execution_count": 38,
   "metadata": {},
   "outputs": [
    {
     "name": "stdout",
     "output_type": "stream",
     "text": [
      "square of 9 is 81\n"
     ]
    }
   ],
   "source": [
    "# example 11\n",
    "# calculate the square of a number\n",
    "num = int(input('enter a number: '))\n",
    "square = num**2\n",
    "print(f'square of {num} is {square}')"
   ]
  },
  {
   "cell_type": "code",
   "execution_count": 48,
   "metadata": {},
   "outputs": [
    {
     "name": "stdout",
     "output_type": "stream",
     "text": [
      "square of 6 is 36\n",
      "square of 8 is 64\n",
      "square of 10 is 100\n"
     ]
    }
   ],
   "source": [
    "# to make  a program user friendly\n",
    "choice = 'yes'\n",
    "while choice =='yes':\n",
    "    number = int(input('enter a number: '))\n",
    "    Square = number**2\n",
    "    print(f'square of {number} is {Square}')\n",
    "    choice = input('enter your choice(yes/no):').strip().lower()\n",
    "\n",
    "\n"
   ]
  },
  {
   "cell_type": "code",
   "execution_count": 50,
   "metadata": {},
   "outputs": [
    {
     "name": "stdout",
     "output_type": "stream",
     "text": [
      "0\n",
      "2\n",
      "4\n",
      "6\n",
      "8\n",
      "10\n",
      "12\n",
      "14\n",
      "16\n",
      "18\n",
      "20\n",
      "22\n",
      "24\n",
      "26\n",
      "28\n",
      "30\n",
      "32\n",
      "34\n",
      "36\n",
      "38\n",
      "40\n",
      "42\n",
      "44\n",
      "46\n",
      "48\n",
      "50\n"
     ]
    }
   ],
   "source": [
    "# to do task 1:\n",
    "'''\n",
    "step 1\n",
    "print the first 50 even numbers \n",
    "step 2\n",
    "while loop\n",
    "step 3:\n",
    "input: counter\n",
    "processing while loop\n",
    "output : first 50 even numbers\n",
    "step 4\n",
    "start\n",
    "declare a variable counter and initialize it as 0\n",
    "while loop where within it will be a if statement as\n",
    "while counter<=50:\n",
    "  if counter%2==0:\n",
    "   print(counter)\n",
    "   counter+=1\n",
    "END\n",
    "step 6: select most suitable programming language, IDE, and machine to write down high quality code\n",
    "programming language: Python\n",
    "IDE: Pycharm\n",
    "machine : windows icore-9\n",
    "step 7: write down system and developer information\n",
    "developer name: Marriyam Andeel\n",
    "Developer's Company: ayz company\n",
    "Phone number:\n",
    "version:\n",
    "operation system:\n",
    "program name:\n",
    "start date: \n",
    "end date:\n",
    "'''\n",
    "counter = 0\n",
    "while counter<=50:\n",
    "    print(counter)\n",
    "    counter+=2\n"
   ]
  },
  {
   "cell_type": "code",
   "execution_count": 51,
   "metadata": {},
   "outputs": [
    {
     "name": "stdout",
     "output_type": "stream",
     "text": [
      "0\n",
      "2\n",
      "4\n",
      "6\n",
      "8\n",
      "10\n",
      "12\n",
      "14\n",
      "16\n",
      "18\n",
      "20\n",
      "22\n",
      "24\n",
      "26\n",
      "28\n",
      "30\n",
      "32\n",
      "34\n",
      "36\n",
      "38\n",
      "40\n",
      "42\n",
      "44\n",
      "46\n",
      "48\n",
      "50\n"
     ]
    }
   ],
   "source": [
    "# another way   1\n",
    "counter = 0\n",
    "while counter <= 50:\n",
    "    if counter % 2 == 0:\n",
    "        print(counter)\n",
    "    counter += 1\n"
   ]
  },
  {
   "cell_type": "code",
   "execution_count": 52,
   "metadata": {},
   "outputs": [
    {
     "name": "stdout",
     "output_type": "stream",
     "text": [
      "5 * 1 = 5\n",
      "5 * 2 = 10\n",
      "5 * 3 = 15\n",
      "5 * 4 = 20\n",
      "5 * 5 = 25\n",
      "5 * 6 = 30\n",
      "5 * 7 = 35\n",
      "5 * 8 = 40\n",
      "5 * 9 = 45\n",
      "5 * 10 = 50\n"
     ]
    }
   ],
   "source": [
    "# to do task 2:\n",
    "'''\n",
    "step 1\n",
    "table of desired number entered by the user\n",
    "step 2\n",
    "while loop\n",
    "step 3\n",
    "input counter = 1, num \n",
    "processing while loop\n",
    "output table of the desired number entered by the user \n",
    "step 4\n",
    "START\n",
    "declare a variable num and counter =1\n",
    "prompt the user to enter the value of number\n",
    "while counter<=10:\n",
    "    print(f'{num}*{counter}=' ,counter*num)\n",
    "    counter+=1\n",
    "END\n",
    "step 6: select most suitable programming language, IDE, and machine to write down high quality code\n",
    "programming language: Python\n",
    "IDE: Pycharm\n",
    "machine : windows icore-9\n",
    "step 7: write down system and developer information\n",
    "developer name: Marriyam Andeel\n",
    "Developer's Company: ayz company\n",
    "Phone number:\n",
    "version:\n",
    "operation system:\n",
    "program name:\n",
    "start date: \n",
    "end date:\n",
    "'''\n",
    "\n",
    "num = int(input('enter a number: '))\n",
    "counter =1\n",
    "while counter<=10:\n",
    "    print(f'{num} * {counter} =' , num*counter)\n",
    "    counter+=1"
   ]
  },
  {
   "cell_type": "code",
   "execution_count": 54,
   "metadata": {},
   "outputs": [
    {
     "name": "stdout",
     "output_type": "stream",
     "text": [
      "the table of 5 with lower bound 5 and upper bound 8 is printed below: \n",
      "5 * 5 =  25\n",
      "5 * 6 =  30\n",
      "5 * 7 =  35\n",
      "5 * 8 =  40\n"
     ]
    }
   ],
   "source": [
    "# task 3\n",
    "'''\n",
    "step 1\n",
    "ask the user to also enter upper and lower bounds as well as the value of the desired table\n",
    "step 2\n",
    "while loop\n",
    "step 3\n",
    "input counter = 1, num \n",
    "processing while loop\n",
    "output table of the desired number entered by the user \n",
    "step 4\n",
    "START\n",
    "declare a variable num and counter =1 also ask for upper and lower bound\n",
    "prompt the user to enter the value of number\n",
    "while counter<=upper bound:\n",
    "    print(f'{num}*{counter}=' ,counter*num)\n",
    "    counter+=1\n",
    "END\n",
    "step 6: select most suitable programming language, IDE, and machine to write down high quality code\n",
    "programming language: Python\n",
    "IDE: Pycharm\n",
    "machine : windows icore-9\n",
    "step 7: write down system and developer information\n",
    "developer name: Marriyam Andeel\n",
    "Developer's Company: ayz company\n",
    "Phone number:\n",
    "version:\n",
    "operation system:\n",
    "program name:\n",
    "start date: \n",
    "end date:\n",
    "'''\n",
    "num  = int(input('enter a number: '))\n",
    "lower_bound = int(input('enter the lower bound: ')) \n",
    "upper_bound = int(input('enter the upper  bound: '))\n",
    "print(f'the table of {num} with lower bound {lower_bound} and upper bound {upper_bound} is printed below: ')\n",
    "\n",
    "while lower_bound<=upper_bound:\n",
    "    print(f'{num} * {lower_bound} = ', num*lower_bound)\n",
    "    lower_bound+=1"
   ]
  },
  {
   "cell_type": "code",
   "execution_count": 6,
   "metadata": {},
   "outputs": [
    {
     "name": "stdout",
     "output_type": "stream",
     "text": [
      "5 * 1 =  5\n",
      "5 * 2 =  10\n",
      "5 * 3 =  15\n",
      "5 * 4 =  20\n",
      "5 * 5 =  25\n",
      "5 * 6 =  30\n",
      "5 * 7 =  35\n",
      "5 * 8 =  40\n",
      "5 * 9 =  45\n",
      "5 * 10 =  50\n",
      "\n",
      "7 * 1 =  7\n",
      "7 * 2 =  14\n",
      "7 * 3 =  21\n",
      "7 * 4 =  28\n",
      "7 * 5 =  35\n",
      "7 * 6 =  42\n",
      "7 * 7 =  49\n",
      "7 * 8 =  56\n",
      "7 * 9 =  63\n",
      "7 * 10 =  70\n",
      "\n",
      "9 * 1 =  9\n",
      "9 * 2 =  18\n",
      "9 * 3 =  27\n",
      "9 * 4 =  36\n",
      "9 * 5 =  45\n",
      "9 * 6 =  54\n",
      "9 * 7 =  63\n",
      "9 * 8 =  72\n",
      "9 * 9 =  81\n",
      "9 * 10 =  90\n",
      "\n"
     ]
    }
   ],
   "source": [
    "# task 4 :\n",
    "# make a program user driven\n",
    "'''\n",
    "step 1\n",
    "ask the user to also enter upper and lower bounds as well as the value of the desired table\n",
    "step 2\n",
    "while loop\n",
    "step 3\n",
    "input counter = 1, num \n",
    "processing while loop\n",
    "output table of the desired number entered by the user \n",
    "step 4\n",
    "START\n",
    "declare a variable num and counter =1 also ask for upper and lower bound\n",
    "prompt the user to enter the value of number\n",
    "while counter<=upper bound:\n",
    "    print(f'{num}*{counter}=' ,counter*num)\n",
    "    counter+=1\n",
    "END\n",
    "step 6: select most suitable programming language, IDE, and machine to write down high quality code\n",
    "programming language: Python\n",
    "IDE: Pycharm\n",
    "machine : windows icore-9\n",
    "step 7: write down system and developer information\n",
    "developer name: Marriyam Andeel\n",
    "Developer's Company: ayz company\n",
    "Phone number:\n",
    "version:\n",
    "operation system:\n",
    "program name:\n",
    "start date: \n",
    "end date:\n",
    "'''\n",
    "\n",
    "choice = 'yes'\n",
    "while choice=='yes':\n",
    "    num = int(input('enter a number: '))\n",
    "    counter = 1\n",
    "    while counter<=10:\n",
    "        print(f'{num} * {counter} = ', num*counter)\n",
    "        counter+=1\n",
    "    print()\n",
    "    choice=input('enter your choice, do you want to continue (yes/no):').strip().lower()"
   ]
  },
  {
   "cell_type": "code",
   "execution_count": 8,
   "metadata": {},
   "outputs": [
    {
     "name": "stdout",
     "output_type": "stream",
     "text": [
      "3 * 5 =  15\n",
      "3 * 6 =  18\n",
      "3 * 7 =  21\n",
      "3 * 8 =  24\n",
      "\n",
      "5 * 5 =  25\n",
      "5 * 6 =  30\n",
      "5 * 7 =  35\n",
      "5 * 8 =  40\n",
      "\n",
      "11 * 9 =  99\n",
      "11 * 10 =  110\n",
      "11 * 11 =  121\n",
      "\n"
     ]
    }
   ],
   "source": [
    "# same code as above with upper and lower bounds asked by the user\n",
    "\n",
    "choice = 'yes'\n",
    "while choice=='yes':\n",
    "    num = int(input('enter a number: '))\n",
    "    lower_bound = int(input('enter lower bound: '))\n",
    "    upper_bound = int(input('enter upper bound: '))\n",
    "\n",
    "    while lower_bound<=upper_bound:\n",
    "        print(f'{num} * {lower_bound} = ', num*lower_bound)\n",
    "        lower_bound+=1\n",
    "    print()\n",
    "    choice=input('enter your choice, do you want to continue (yes/no):').strip().lower()"
   ]
  },
  {
   "cell_type": "markdown",
   "metadata": {},
   "source": [
    "## lecture 8\n",
    "## for loops"
   ]
  },
  {
   "cell_type": "code",
   "execution_count": 5,
   "metadata": {},
   "outputs": [
    {
     "name": "stdout",
     "output_type": "stream",
     "text": [
      "1\n",
      "2\n",
      "3\n",
      "4\n",
      "5\n"
     ]
    }
   ],
   "source": [
    "# example 1\n",
    "# iterate through a sequence of numbers\n",
    "numbers = [1,2,3,4,5]\n",
    "# for num in range numbers -> wrong\n",
    "for num in numbers:\n",
    "           print(num)\n"
   ]
  },
  {
   "cell_type": "code",
   "execution_count": 12,
   "metadata": {},
   "outputs": [
    {
     "name": "stdout",
     "output_type": "stream",
     "text": [
      "0\n",
      "1\n",
      "2\n",
      "3\n",
      "4\n"
     ]
    }
   ],
   "source": [
    "# example 1\n",
    "# iterate through a sequence of numbers\n",
    "numbers = [1,2,3,4,5]\n",
    "# for num in range numbers -> wrong\n",
    "for num in range (len(numbers)):\n",
    "           print(num)"
   ]
  },
  {
   "cell_type": "code",
   "execution_count": 7,
   "metadata": {},
   "outputs": [
    {
     "name": "stdout",
     "output_type": "stream",
     "text": [
      "80.5\n",
      "35\n",
      "90.5\n",
      "77.3\n"
     ]
    }
   ],
   "source": [
    "# example 2\n",
    "# iterate through a sequence of floats\n",
    "numbers = [80.5,35,90.5,77.3]\n",
    "# for num in range numbers -> wrong\n",
    "for num in numbers:\n",
    "           print(num)"
   ]
  },
  {
   "cell_type": "code",
   "execution_count": 10,
   "metadata": {},
   "outputs": [
    {
     "name": "stdout",
     "output_type": "stream",
     "text": [
      "apple\n",
      "banana\n",
      "cherry\n",
      "mango\n"
     ]
    }
   ],
   "source": [
    "# example 3\n",
    "# iterate through a sequence of strings\n",
    "strings = [\"apple\",\"banana\",\"cherry\",\"mango\"]\n",
    "# for num in range numbers -> wrong\n",
    "for fruits in strings:\n",
    "           print(fruits)"
   ]
  },
  {
   "cell_type": "code",
   "execution_count": 13,
   "metadata": {},
   "outputs": [
    {
     "name": "stdout",
     "output_type": "stream",
     "text": [
      "0\n",
      "1\n",
      "2\n"
     ]
    }
   ],
   "source": [
    "# example 4\n",
    "# print the following output\n",
    "'''0\n",
    "   1\n",
    "   2'''\n",
    "for i  in range (3):\n",
    "    print(i)"
   ]
  },
  {
   "cell_type": "code",
   "execution_count": 16,
   "metadata": {},
   "outputs": [
    {
     "name": "stdout",
     "output_type": "stream",
     "text": [
      "1\n",
      "2\n",
      "3\n"
     ]
    }
   ],
   "source": [
    "# example 5\n",
    "# print the following output\n",
    "'''1\n",
    "   2\n",
    "   3'''\n",
    "for i  in range (1,4):\n",
    "    print(i)"
   ]
  },
  {
   "cell_type": "code",
   "execution_count": 17,
   "metadata": {},
   "outputs": [
    {
     "name": "stdout",
     "output_type": "stream",
     "text": [
      "1\n",
      "3\n",
      "5\n"
     ]
    }
   ],
   "source": [
    "# example 6\n",
    "# print the following output\n",
    "'''1\n",
    "   3\n",
    "   5'''\n",
    "for i  in range (1,6,2):\n",
    "    print(i)"
   ]
  },
  {
   "cell_type": "code",
   "execution_count": 20,
   "metadata": {},
   "outputs": [
    {
     "name": "stdout",
     "output_type": "stream",
     "text": [
      "0 Allah\n",
      "1 Allah\n",
      "2 Allah\n",
      "3 Allah\n",
      "4 Allah\n"
     ]
    }
   ],
   "source": [
    "# example 7\n",
    "for i in range (5):\n",
    "    print(i,\"Allah\")"
   ]
  },
  {
   "cell_type": "code",
   "execution_count": 21,
   "metadata": {},
   "outputs": [
    {
     "name": "stdout",
     "output_type": "stream",
     "text": [
      "1 Allah\n",
      "2 Allah\n",
      "3 Allah\n",
      "4 Allah\n",
      "5 Allah\n"
     ]
    }
   ],
   "source": [
    "# example 8\n",
    "for i in range (5):\n",
    "    print(i+1,\"Allah\")"
   ]
  },
  {
   "cell_type": "code",
   "execution_count": 23,
   "metadata": {},
   "outputs": [
    {
     "name": "stdout",
     "output_type": "stream",
     "text": [
      "Allah\n",
      "Allah\n"
     ]
    }
   ],
   "source": [
    "# example 9\n",
    "for i in range (1,5,2):\n",
    "    print(\"Allah\")"
   ]
  },
  {
   "cell_type": "code",
   "execution_count": 24,
   "metadata": {},
   "outputs": [
    {
     "name": "stdout",
     "output_type": "stream",
     "text": [
      "1\n",
      "6\n",
      "11\n",
      "16\n",
      "21\n",
      "26\n"
     ]
    }
   ],
   "source": [
    "# example 10\n",
    "for i in range(1,30,5):\n",
    "    print(i)"
   ]
  },
  {
   "cell_type": "code",
   "execution_count": 25,
   "metadata": {},
   "outputs": [
    {
     "name": "stdout",
     "output_type": "stream",
     "text": [
      "0\n",
      "10\n",
      "20\n"
     ]
    }
   ],
   "source": [
    "# example 11\n",
    "for i in range(0,30,10):\n",
    "    print(i)"
   ]
  },
  {
   "cell_type": "code",
   "execution_count": 14,
   "metadata": {},
   "outputs": [
    {
     "name": "stdout",
     "output_type": "stream",
     "text": [
      "5\n",
      "7\n",
      "9\n"
     ]
    }
   ],
   "source": [
    "# example 12\n",
    "# for i in range(start,stop,step)\n",
    "for i in range (5,10,2):\n",
    "    print(i)"
   ]
  },
  {
   "cell_type": "code",
   "execution_count": 26,
   "metadata": {},
   "outputs": [
    {
     "name": "stdout",
     "output_type": "stream",
     "text": [
      "2 * 1 =  2\n",
      "2 * 2 =  4\n",
      "2 * 3 =  6\n",
      "2 * 4 =  8\n",
      "2 * 5 =  10\n",
      "2 * 6 =  12\n",
      "2 * 7 =  14\n",
      "2 * 8 =  16\n",
      "2 * 9 =  18\n",
      "2 * 10 =  20\n"
     ]
    }
   ],
   "source": [
    "# example 13\n",
    "# table of 2\n",
    "for i in range (1,11,1):\n",
    "    print(f'2 * {i} = ',2*i)"
   ]
  },
  {
   "cell_type": "code",
   "execution_count": 17,
   "metadata": {},
   "outputs": [
    {
     "name": "stdout",
     "output_type": "stream",
     "text": [
      "7 * 1 =  7\n",
      "7 * 2 =  14\n",
      "7 * 3 =  21\n",
      "7 * 4 =  28\n",
      "7 * 5 =  35\n",
      "7 * 6 =  42\n",
      "7 * 7 =  49\n",
      "7 * 8 =  56\n",
      "7 * 9 =  63\n",
      "7 * 10 =  70\n"
     ]
    }
   ],
   "source": [
    "# example 14\n",
    "# table of any number input by user\n",
    "num = int(input('enter a number: '))\n",
    "\n",
    "for i in range(1,11):\n",
    "    print(f'{num} * {i} = ', num*i)"
   ]
  },
  {
   "cell_type": "code",
   "execution_count": 27,
   "metadata": {},
   "outputs": [
    {
     "name": "stdout",
     "output_type": "stream",
     "text": [
      "5 * 5 =  25\n",
      "5 * 6 =  30\n",
      "5 * 7 =  35\n",
      "5 * 8 =  40\n",
      "5 * 9 =  45\n"
     ]
    }
   ],
   "source": [
    "# example 15\n",
    "# table of any number input by user\n",
    "num = int(input('enter a number: '))\n",
    "\n",
    "for i in range(5,10):\n",
    "    print(f'{num} * {i} = ', num*i)"
   ]
  },
  {
   "cell_type": "code",
   "execution_count": 30,
   "metadata": {},
   "outputs": [
    {
     "name": "stdout",
     "output_type": "stream",
     "text": [
      "5 * 5 =  25\n",
      "5 * 7 =  35\n"
     ]
    }
   ],
   "source": [
    "# example 16\n",
    "for i in range(5,9,2):\n",
    "    print(f'5 * {i} = ', 5*i)"
   ]
  },
  {
   "cell_type": "code",
   "execution_count": 31,
   "metadata": {},
   "outputs": [
    {
     "name": "stdout",
     "output_type": "stream",
     "text": [
      "10\n",
      "9\n",
      "8\n",
      "7\n",
      "6\n",
      "5\n",
      "4\n",
      "3\n",
      "2\n",
      "1\n"
     ]
    }
   ],
   "source": [
    "# example 17\n",
    "for counter in range(10,0,-1):\n",
    "    print(counter)"
   ]
  },
  {
   "cell_type": "code",
   "execution_count": 32,
   "metadata": {},
   "outputs": [
    {
     "name": "stdout",
     "output_type": "stream",
     "text": [
      "10\n",
      "7\n",
      "4\n"
     ]
    }
   ],
   "source": [
    "# example 18\n",
    "for counter in range(10,2,-3):\n",
    "    print(counter)"
   ]
  },
  {
   "cell_type": "code",
   "execution_count": 33,
   "metadata": {},
   "outputs": [
    {
     "name": "stdout",
     "output_type": "stream",
     "text": [
      "5 * 1 =  5\n",
      "5 * 2 =  10\n",
      "5 * 3 =  15\n",
      "5 * 4 =  20\n",
      "5 * 5 =  25\n",
      "5 * 6 =  30\n",
      "5 * 7 =  35\n",
      "5 * 8 =  40\n",
      "5 * 9 =  45\n",
      "5 * 10 =  50\n"
     ]
    }
   ],
   "source": [
    "# to do task 1\n",
    "# table of any number input by user\n",
    "num = int(input('enter a number: '))\n",
    "\n",
    "for i in range(1,11):\n",
    "    print(f'{num} * {i} = ', num*i)"
   ]
  },
  {
   "cell_type": "code",
   "execution_count": 38,
   "metadata": {},
   "outputs": [
    {
     "name": "stdout",
     "output_type": "stream",
     "text": [
      "2 * 1 = 2\n",
      "2 * 2 = 4\n",
      "2 * 3 = 6\n",
      "2 * 4 = 8\n",
      "2 * 5 = 10\n",
      "2 * 6 = 12\n",
      "2 * 7 = 14\n",
      "2 * 8 = 16\n",
      "2 * 9 = 18\n",
      "2 * 10 = 20\n",
      "\n",
      "7 * 1 = 7\n",
      "7 * 2 = 14\n",
      "7 * 3 = 21\n",
      "7 * 4 = 28\n",
      "7 * 5 = 35\n",
      "7 * 6 = 42\n",
      "7 * 7 = 49\n",
      "7 * 8 = 56\n",
      "7 * 9 = 63\n",
      "7 * 10 = 70\n",
      "\n"
     ]
    }
   ],
   "source": [
    "# above code will execute only once\n",
    "choice = 'yes'\n",
    "while choice == 'yes':\n",
    "    num = int(input('Enter a number: '))\n",
    "\n",
    "    for i in range(1, 11):\n",
    "        print(f'{num} * {i} = {num * i}')\n",
    "    \n",
    "    print()  # This ensures a blank line after each table\n",
    "    \n",
    "    choice = input('Do you want to continue (yes/no): ').strip().lower()\n"
   ]
  },
  {
   "cell_type": "markdown",
   "metadata": {},
   "source": [
    "to do tasks:"
   ]
  },
  {
   "cell_type": "code",
   "execution_count": 39,
   "metadata": {},
   "outputs": [
    {
     "name": "stdout",
     "output_type": "stream",
     "text": [
      "0\n",
      "2\n",
      "4\n",
      "6\n",
      "8\n",
      "10\n",
      "12\n",
      "14\n",
      "16\n",
      "18\n",
      "20\n",
      "22\n",
      "24\n",
      "26\n",
      "28\n",
      "30\n",
      "32\n",
      "34\n",
      "36\n",
      "38\n",
      "40\n",
      "42\n",
      "44\n",
      "46\n",
      "48\n",
      "50\n"
     ]
    }
   ],
   "source": [
    "# task 1\n",
    "'''step 1\n",
    "print the first 50 even numbers \n",
    "step 2\n",
    "for loop\n",
    "step 3:\n",
    "input: counter\n",
    "processing while loop\n",
    "output : first 50 even numbers\n",
    "step 4\n",
    "start\n",
    "declare a variable counter and initialize it as 0\n",
    "for loop where within it will be a if statement as\n",
    "for i in range(0,50,2):\n",
    "   print(i)\n",
    "END\n",
    "step 6: select most suitable programming language, IDE, and machine to write down high quality code\n",
    "programming language: Python\n",
    "IDE: Pycharm\n",
    "machine : windows icore-9\n",
    "step 7: write down system and developer information\n",
    "developer name: Marriyam Andeel\n",
    "Developer's Company: ayz company\n",
    "Phone number:\n",
    "version:\n",
    "operation system:\n",
    "program name:\n",
    "start date: \n",
    "end date:\n",
    "'''\n",
    "for i in range(0,51,2):\n",
    "    print(i)"
   ]
  },
  {
   "cell_type": "code",
   "execution_count": 40,
   "metadata": {},
   "outputs": [
    {
     "name": "stdout",
     "output_type": "stream",
     "text": [
      "7 * 1 =  7\n",
      "7 * 2 =  14\n",
      "7 * 3 =  21\n",
      "7 * 4 =  28\n",
      "7 * 5 =  35\n",
      "7 * 6 =  42\n",
      "7 * 7 =  49\n",
      "7 * 8 =  56\n",
      "7 * 9 =  63\n",
      "7 * 10 =  70\n"
     ]
    }
   ],
   "source": [
    "# task 2\n",
    "'''step 1\n",
    "print the table of any number input by user\n",
    "step 2\n",
    "for loop\n",
    "step 3:\n",
    "input: counter\n",
    "processing for loop\n",
    "output : table of a number\n",
    "step 4\n",
    "start\n",
    "declare a variable num and initialize it as 0\n",
    "for loop as\n",
    "num = int(input(enter a number: ))\n",
    "for i in range(0,11):\n",
    "   print(f'{num} * {i} = ',num*i)\n",
    "END\n",
    "step 6: select most suitable programming language, IDE, and machine to write down high quality code\n",
    "programming language: Python\n",
    "IDE: Pycharm\n",
    "machine : windows icore-9\n",
    "step 7: write down system and developer information\n",
    "developer name: Marriyam Andeel\n",
    "Developer's Company: ayz company\n",
    "Phone number:\n",
    "version:\n",
    "operation system:\n",
    "program name:\n",
    "start date: \n",
    "end date:\n",
    "'''\n",
    "num = int(input('enter a number: '))\n",
    "for i in range(1,11):\n",
    "   print(f'{num} * {i} = ',num*i)"
   ]
  },
  {
   "cell_type": "code",
   "execution_count": 42,
   "metadata": {},
   "outputs": [
    {
     "name": "stdout",
     "output_type": "stream",
     "text": [
      "5 * 5 =  25\n",
      "5 * 6 =  30\n",
      "5 * 7 =  35\n",
      "5 * 8 =  40\n"
     ]
    }
   ],
   "source": [
    "# task 2\n",
    "'''step 1\n",
    "print the table of any number input by user with upper and lower bound\n",
    "step 2\n",
    "for loop\n",
    "step 3:\n",
    "input: counter\n",
    "processing for loop\n",
    "output : table of a number\n",
    "step 4\n",
    "start\n",
    "declare a variable num , lower_bound, upper_bound\n",
    "for loop as\n",
    "num = int(input(enter a number: ))\n",
    "upper_bound = int(input(enter a number: ))\n",
    "lower_bound = int(input(enter a number: ))\n",
    "for i in range(lower_bound,upper_bound):\n",
    "   print(f'{num} * {i} = ',num*i)\n",
    "END\n",
    "step 6: select most suitable programming language, IDE, and machine to write down high quality code\n",
    "programming language: Python\n",
    "IDE: Pycharm\n",
    "machine : windows icore-9\n",
    "step 7: write down system and developer information\n",
    "developer name: Marriyam Andeel\n",
    "Developer's Company: ayz company\n",
    "Phone number:\n",
    "version:\n",
    "operation system:\n",
    "program name:\n",
    "start date: \n",
    "end date:\n",
    "'''\n",
    "# num = 5\n",
    "num = int(input('enter a number: ')) \n",
    "# lower_bound = 5  \n",
    "lower_bound = int(input('enter a number for lower bound: '))\n",
    "# upper_bound = 9\n",
    "upper_bound = int(input('enter a number for upper bound: '))\n",
    "\n",
    "for i in range(lower_bound,upper_bound):\n",
    "    print(f'{num} * {i} = ',num*i)"
   ]
  },
  {
   "cell_type": "code",
   "execution_count": 43,
   "metadata": {},
   "outputs": [
    {
     "name": "stdout",
     "output_type": "stream",
     "text": [
      "* \n",
      "* * \n",
      "* * * \n",
      "* * * * \n",
      "* * * * * \n",
      "\n",
      "* \n",
      "* * \n",
      "* * * \n",
      "\n"
     ]
    }
   ],
   "source": [
    "# task 3\n",
    "'''step 1\n",
    "print a triangle pattern\n",
    "step 2\n",
    "for loop\n",
    "step 3:\n",
    "input: counter\n",
    "processing for loop\n",
    "output : table of a number\n",
    "step 4\n",
    "start\n",
    "for i in range(1, rows + 1):\n",
    "        for j in range(1, i + 1):\n",
    "            print('*', end=' ')\n",
    "        print()  # Move to the next line after each row\n",
    "    \n",
    "    print() \n",
    "END\n",
    "step 6: select most suitable programming language, IDE, and machine to write down high quality code\n",
    "programming language: Python\n",
    "IDE: Pycharm\n",
    "machine : windows icore-9\n",
    "step 7: write down system and developer information\n",
    "developer name: Marriyam Andeel\n",
    "Developer's Company: ayz company\n",
    "Phone number:\n",
    "version:\n",
    "operation system:\n",
    "program name:\n",
    "start date: \n",
    "end date:\n",
    "'''\n",
    "choice = 'yes'\n",
    "while choice == 'yes':\n",
    "    rows = int(input('Enter the number of rows: '))\n",
    "    \n",
    "    for i in range(1, rows + 1):\n",
    "        for j in range(1, i + 1):\n",
    "            print('*', end=' ')\n",
    "        print()  # Move to the next line after each row\n",
    "    \n",
    "    print()  # Blank line after each pattern\n",
    "    \n",
    "    choice = input('Do you want to enter another pattern? (yes/no): ').strip().lower()\n"
   ]
  },
  {
   "cell_type": "code",
   "execution_count": 45,
   "metadata": {},
   "outputs": [
    {
     "name": "stdout",
     "output_type": "stream",
     "text": [
      "Factorial of 1 = 1\n",
      "Factorial of 2 = 2\n",
      "Factorial of 3 = 6\n",
      "Factorial of 4 = 24\n",
      "\n"
     ]
    }
   ],
   "source": [
    "# task 3\n",
    "'''step 1\n",
    "print a factorial of numbers\n",
    "step 2\n",
    "for loop and while loop\n",
    "step 3:\n",
    "input: counter\n",
    "processing for loop\n",
    "output : \n",
    "step 4\n",
    " factorial = 1\n",
    "    for i in range(1, num + 1):\n",
    "        factorial *= i\n",
    "        print(f'Factorial of {i} = {factorial}')\n",
    "    \n",
    "    print()  # Blank line after each factorial calculation\n",
    "    \n",
    "    choice = input('Do you want to enter another number? (yes/no): ').strip().lower()\n",
    "\n",
    "\n",
    "\n",
    "step 6: select most suitable programming language, IDE, and machine to write down high quality code\n",
    "programming language: Python\n",
    "IDE: Pycharm\n",
    "machine : windows icore-9\n",
    "step 7: write down system and developer information\n",
    "developer name: Marriyam Andeel\n",
    "Developer's Company: ayz company\n",
    "Phone number:\n",
    "version:\n",
    "operation system:\n",
    "program name:\n",
    "start date: \n",
    "end date:\n",
    "'''\n",
    "choice = 'yes'\n",
    "while choice == 'yes':\n",
    "    num = int(input('Enter a number: '))\n",
    "    \n",
    "    factorial = 1\n",
    "    for i in range(1, num + 1):\n",
    "        factorial *= i\n",
    "        print(f'Factorial of {i} = {factorial}')\n",
    "    \n",
    "    print()  # Blank line after each factorial calculation\n",
    "    \n",
    "    choice = input('Do you want to enter another number? (yes/no): ').strip().lower()\n"
   ]
  },
  {
   "cell_type": "markdown",
   "metadata": {},
   "source": [
    "## Lecture 9\n",
    "## Nested loops"
   ]
  },
  {
   "cell_type": "code",
   "execution_count": 46,
   "metadata": {},
   "outputs": [
    {
     "name": "stdout",
     "output_type": "stream",
     "text": [
      "* \n",
      "* * \n",
      "* * * \n",
      "* * * * \n",
      "* * * * * \n"
     ]
    }
   ],
   "source": [
    "\n",
    "rows = int(input('Enter number of rows: '))\n",
    "\n",
    "for i in range(1, rows + 1):\n",
    "    for j in range(i):\n",
    "        print('*', end=' ')\n",
    "    print()\n",
    "\n",
    "    "
   ]
  },
  {
   "cell_type": "code",
   "execution_count": 53,
   "metadata": {},
   "outputs": [
    {
     "name": "stdout",
     "output_type": "stream",
     "text": [
      "* * * * * \n",
      "* * * * \n",
      "* * * \n",
      "* * \n",
      "* \n"
     ]
    }
   ],
   "source": [
    "\n",
    "rows = int(input('Enter number of rows: '))\n",
    "\n",
    "for i in range( rows ,0,-1):\n",
    "    for j in range(i):\n",
    "        print('*', end=' ')\n",
    "    print('')"
   ]
  },
  {
   "cell_type": "code",
   "execution_count": 70,
   "metadata": {},
   "outputs": [
    {
     "name": "stdout",
     "output_type": "stream",
     "text": [
      "1 \n",
      "1 2 \n",
      "1 2 3 \n",
      "1 2 3 4 \n",
      "1 2 3 4 5 \n"
     ]
    }
   ],
   "source": [
    "rows = int(input('Enter number of rows: '))\n",
    "\n",
    "for i in range(1, rows + 1):\n",
    "    for j in range(1,i+1):\n",
    "        print(j, end=' ')\n",
    "    print()\n"
   ]
  },
  {
   "cell_type": "code",
   "execution_count": 10,
   "metadata": {},
   "outputs": [
    {
     "name": "stdout",
     "output_type": "stream",
     "text": [
      "1 \n",
      "2 2 \n",
      "3 3 3 \n",
      "4 4 4 4 \n",
      "5 5 5 5 5 \n"
     ]
    }
   ],
   "source": [
    "rows = int(input('Enter number of rows: '))\n",
    "\n",
    "for i in range(1, rows + 1):\n",
    "    for j in range(1,i+1):\n",
    "        print(i, end=' ')\n",
    "    print()"
   ]
  },
  {
   "cell_type": "code",
   "execution_count": 44,
   "metadata": {},
   "outputs": [
    {
     "name": "stdout",
     "output_type": "stream",
     "text": [
      "    *\n",
      "   ***\n",
      "  *****\n",
      " *******\n",
      "*********\n"
     ]
    }
   ],
   "source": [
    "# print a triangle\n",
    "rows = 5\n",
    "for i in range(rows):\n",
    "    # Print spaces \n",
    "    print(' ' * (rows - i - 1), end='')\n",
    "    # Print stars\n",
    "    print('*' * (2 * i +1))\n",
    "\n",
    "    \n"
   ]
  },
  {
   "cell_type": "code",
   "execution_count": 53,
   "metadata": {},
   "outputs": [
    {
     "name": "stdout",
     "output_type": "stream",
     "text": [
      "    *\n",
      "   ***\n",
      "  *****\n",
      " *******\n",
      "*********\n"
     ]
    }
   ],
   "source": [
    "# Printing a triangle using nested for loops\n",
    "rows = 5\n",
    "for i in range(rows):\n",
    "    # Print leading spaces\n",
    "    for j in range(rows - i - 1):\n",
    "        print(' ', end='')\n",
    "    # Print stars\n",
    "    for k in range(2 * i + 1):\n",
    "        print('*', end='')\n",
    "    \n",
    "    # Move to the next line\n",
    "    print('')\n"
   ]
  },
  {
   "cell_type": "code",
   "execution_count": 81,
   "metadata": {},
   "outputs": [
    {
     "name": "stdout",
     "output_type": "stream",
     "text": [
      "          * \n",
      "        *   * \n",
      "      *   *   * \n",
      "    *   *   *   * \n",
      "  *   *   *   *   * \n"
     ]
    }
   ],
   "source": [
    "# better version of triangle when more spaces are added to it\n",
    "for i in range(1,6):\n",
    "    for k in range(5-i):\n",
    "        print('  ',end='')\n",
    "    \n",
    "    for j in range (i):\n",
    "         print(' ','*',end=' ')\n",
    "    print('')    \n",
    "\n",
    "    "
   ]
  },
  {
   "cell_type": "code",
   "execution_count": 82,
   "metadata": {},
   "outputs": [
    {
     "name": "stdout",
     "output_type": "stream",
     "text": [
      "          * \n",
      "        *   * \n",
      "      *   *   * \n",
      "    *   *   *   * \n",
      "  *   *   *   *   * \n",
      "    *   *   *   * \n",
      "      *   *   * \n",
      "        *   * \n",
      "          * \n",
      "          \n"
     ]
    }
   ],
   "source": [
    "# printing a diamond\n",
    "for i in range(1,6):\n",
    "    for k in range(5-i):\n",
    "        print('  ',end='')\n",
    "    \n",
    "    for j in range (i):\n",
    "         print(' ','*',end=' ')\n",
    "    print('')   \n",
    "\n",
    "for i in range(1,6):\n",
    "    for k in range(i):\n",
    "        print('  ',end='')\n",
    "    \n",
    "    for j in range (5-i):\n",
    "         print(' ','*',end=' ')\n",
    "    print('')   "
   ]
  },
  {
   "cell_type": "markdown",
   "metadata": {},
   "source": [
    "## break and continue"
   ]
  },
  {
   "cell_type": "code",
   "execution_count": 56,
   "metadata": {},
   "outputs": [
    {
     "name": "stdout",
     "output_type": "stream",
     "text": [
      "6\n"
     ]
    }
   ],
   "source": [
    "# break and continue statement mostly comes  with selection structures\n",
    "# example 1\n",
    "numbers = [1,3,6,7,9,10]\n",
    "for num in numbers:\n",
    "    if num % 2==0:\n",
    "        print(num)\n",
    "        break"
   ]
  },
  {
   "cell_type": "code",
   "execution_count": 60,
   "metadata": {},
   "outputs": [
    {
     "name": "stdout",
     "output_type": "stream",
     "text": [
      "6\n",
      "10\n"
     ]
    }
   ],
   "source": [
    "# example 2\n",
    "numbers = [1,3,6,7,9,10]\n",
    "for num in numbers:\n",
    "    if num % 2==0:\n",
    "        print(num)"
   ]
  },
  {
   "cell_type": "code",
   "execution_count": 6,
   "metadata": {},
   "outputs": [
    {
     "name": "stdout",
     "output_type": "stream",
     "text": [
      "6\n",
      "10\n"
     ]
    }
   ],
   "source": [
    "# example 3\n",
    "numbers = [1,3,6,7,9,10]\n",
    "for num in numbers:\n",
    "    if num % 2==0:\n",
    "        print(num)\n",
    "        #continue here it has no specific use "
   ]
  },
  {
   "cell_type": "code",
   "execution_count": 4,
   "metadata": {},
   "outputs": [],
   "source": [
    "# example 4\n",
    "numbers = [1,3,6,7,9,10]\n",
    "for num in numbers:\n",
    "    if num % 2==0:\n",
    "        break  # because of the break here before print there will be no output\n",
    "        print(num)"
   ]
  },
  {
   "cell_type": "code",
   "execution_count": 84,
   "metadata": {},
   "outputs": [
    {
     "name": "stdout",
     "output_type": "stream",
     "text": [
      "0\n",
      "2\n"
     ]
    }
   ],
   "source": [
    "# example 5\n",
    "for i in range(4):\n",
    "    if i%2==0:\n",
    "        print (i)\n",
    "    "
   ]
  },
  {
   "cell_type": "code",
   "execution_count": 85,
   "metadata": {},
   "outputs": [],
   "source": [
    "# example 6\n",
    "for i in range(4):\n",
    "    if i%2==0:\n",
    "        continue # because of this continue statement the print statement is unreachable so there will be no output \n",
    "        print (i)\n",
    "    "
   ]
  },
  {
   "cell_type": "code",
   "execution_count": 14,
   "metadata": {},
   "outputs": [
    {
     "name": "stdout",
     "output_type": "stream",
     "text": [
      "0\n",
      "2\n"
     ]
    }
   ],
   "source": [
    "# example 7\n",
    "for i in range(4):\n",
    "    if i%2==0:\n",
    "        print (i)\n",
    "        continue  # has no effect on the output\n",
    "    "
   ]
  },
  {
   "cell_type": "code",
   "execution_count": 18,
   "metadata": {},
   "outputs": [
    {
     "name": "stdout",
     "output_type": "stream",
     "text": [
      "0\n"
     ]
    }
   ],
   "source": [
    "# example 8\n",
    "for i in range(4):\n",
    "    if i%2==0:\n",
    "        print (i)\n",
    "        break  # after one output it will break the loop so there only '0' as output not 2 as well\n",
    "    \n"
   ]
  },
  {
   "cell_type": "code",
   "execution_count": 14,
   "metadata": {},
   "outputs": [
    {
     "name": "stdout",
     "output_type": "stream",
     "text": [
      "\n",
      "\n",
      "MENU:\n",
      "\n",
      "\n",
      "Press 1- to input numbers\n",
      "Press 2- to add two numbers\n",
      "Press 3- to subtract two numbers\n",
      "Press 4- to multiply to numbers\n",
      "Press 5- to divide two numbers\n",
      "Press 0- to exit\n",
      "\n",
      "\n",
      "\n",
      "\n",
      "\n",
      "\n",
      "MENU:\n",
      "\n",
      "\n",
      "Press 1- to input numbers\n",
      "Press 2- to add two numbers\n",
      "Press 3- to subtract two numbers\n",
      "Press 4- to multiply to numbers\n",
      "Press 5- to divide two numbers\n",
      "Press 0- to exit\n",
      "\n",
      "\n",
      "\n",
      "\n",
      "Sum of 22 and 333 = 355\n",
      "\n",
      "\n",
      "MENU:\n",
      "\n",
      "\n",
      "Press 1- to input numbers\n",
      "Press 2- to add two numbers\n",
      "Press 3- to subtract two numbers\n",
      "Press 4- to multiply to numbers\n",
      "Press 5- to divide two numbers\n",
      "Press 0- to exit\n",
      "\n",
      "\n",
      "\n",
      "\n",
      "Difference of 22 and 333 = -311\n",
      "\n",
      "\n",
      "MENU:\n",
      "\n",
      "\n",
      "Press 1- to input numbers\n",
      "Press 2- to add two numbers\n",
      "Press 3- to subtract two numbers\n",
      "Press 4- to multiply to numbers\n",
      "Press 5- to divide two numbers\n",
      "Press 0- to exit\n",
      "\n",
      "\n",
      "\n",
      "\n",
      "Exiting\n"
     ]
    }
   ],
   "source": [
    "# your turn task 1\n",
    "# using nested loops for make a menu driven program\n",
    "choice = int(1)\n",
    "a,b=0,0\n",
    "while (choice!= 0):\n",
    "    print('\\n')\n",
    "    print('MENU:')\n",
    "    print('\\n')\n",
    "    print('Press 1- to input numbers')\n",
    "    print('Press 2- to add two numbers')\n",
    "    print('Press 3- to subtract two numbers')\n",
    "    print('Press 4- to multiply to numbers')\n",
    "    print('Press 5- to divide two numbers')\n",
    "    print('Press 0- to exit')\n",
    "    print('\\n')\n",
    "    choice = int(input(f'Enter your choice: {choice} '))\n",
    "    print('\\n')\n",
    "    if choice==1:\n",
    "         a = int(input('Enter first number: '))\n",
    "         b = int(input('Enter second number: '))\n",
    "         print('Numbers added successfully')\n",
    "    elif choice==2:\n",
    "         sum = a+b\n",
    "         print(f'Sum of {a} and {b} = {sum}') \n",
    "    elif choice==3:\n",
    "         difference = a-b \n",
    "         print(f'Difference of {a} and {b} = {difference}')\n",
    "    elif choice==4:\n",
    "        product = a*b\n",
    "        print(f'Product of {a} and {b} = {product}')\n",
    "    elif choice==5:\n",
    "        if b!=0:\n",
    "             divident = a/b\n",
    "             print(f'By dividing {a} and {b} we get {divident}')\n",
    "        else:\n",
    "             print(f'ERROR! can not divide{a} by {b}')\n",
    "    else:\n",
    "        print('Exiting')\n",
    "        break\n",
    "\n",
    "              \n",
    "    "
   ]
  },
  {
   "cell_type": "code",
   "execution_count": 15,
   "metadata": {},
   "outputs": [
    {
     "name": "stdout",
     "output_type": "stream",
     "text": [
      "1 \n",
      "2 3 \n",
      "4 5 6 \n",
      "7 8 9 10 \n",
      "11 12 13 14 15 \n"
     ]
    }
   ],
   "source": [
    "# your turn task 2\n",
    "# floyd's triangle\n",
    "rows = 5\n",
    "num = 1\n",
    "for i in range(1, rows + 1):\n",
    "    for j in range(1, i + 1):\n",
    "        print(num, end=\" \")\n",
    "        num += 1\n",
    "    print()\n"
   ]
  },
  {
   "cell_type": "code",
   "execution_count": 16,
   "metadata": {},
   "outputs": [
    {
     "name": "stdout",
     "output_type": "stream",
     "text": [
      "   1    2    3    4    5    6    7    8    9   10 \n",
      "   2    4    6    8   10   12   14   16   18   20 \n",
      "   3    6    9   12   15   18   21   24   27   30 \n",
      "   4    8   12   16   20   24   28   32   36   40 \n",
      "   5   10   15   20   25   30   35   40   45   50 \n",
      "   6   12   18   24   30   36   42   48   54   60 \n",
      "   7   14   21   28   35   42   49   56   63   70 \n",
      "   8   16   24   32   40   48   56   64   72   80 \n",
      "   9   18   27   36   45   54   63   72   81   90 \n",
      "  10   20   30   40   50   60   70   80   90  100 \n"
     ]
    }
   ],
   "source": [
    "# your turn task 3\n",
    "# multiplication table\n",
    "for i in range(1, 11):\n",
    "    for j in range(1, 11):\n",
    "        print(f\"{i * j:4}\", end=\" \")\n",
    "    print()\n"
   ]
  },
  {
   "cell_type": "code",
   "execution_count": 17,
   "metadata": {},
   "outputs": [
    {
     "name": "stdout",
     "output_type": "stream",
     "text": [
      "[10, 10, 10]\n",
      "[10, 10, 10]\n",
      "[10, 10, 10]\n"
     ]
    }
   ],
   "source": [
    "# your turn task 4\n",
    "# matrix addition\n",
    "# Initialize matrices\n",
    "A = [[1, 2, 3],\n",
    "     [4, 5, 6],\n",
    "     [7, 8, 9]]\n",
    "\n",
    "B = [[9, 8, 7],\n",
    "     [6, 5, 4],\n",
    "     [3, 2, 1]]\n",
    "\n",
    "# Resultant matrix\n",
    "result = [[0, 0, 0],\n",
    "          [0, 0, 0],\n",
    "          [0, 0, 0]]\n",
    "\n",
    "# Adding matrices\n",
    "for i in range(len(A)):\n",
    "    for j in range(len(A[0])):\n",
    "        result[i][j] = A[i][j] + B[i][j]\n",
    "\n",
    "# Display the result\n",
    "for r in result:\n",
    "    print(r)\n"
   ]
  },
  {
   "cell_type": "code",
   "execution_count": 18,
   "metadata": {},
   "outputs": [
    {
     "name": "stdout",
     "output_type": "stream",
     "text": [
      "1 2 3 4 5 \n",
      "  1 2 3 4 \n",
      "    1 2 3 \n",
      "      1 2 \n",
      "        1 \n"
     ]
    }
   ],
   "source": [
    "# your turn task 5\n",
    "# inverted pyramid of numbers\n",
    "rows = 5\n",
    "for i in range(rows, 0, -1):\n",
    "    for j in range(0, rows - i):\n",
    "        print(\" \", end=\" \")\n",
    "    for k in range(1, i + 1):\n",
    "        print(k, end=\" \")\n",
    "    print()\n"
   ]
  }
 ],
 "metadata": {
  "kernelspec": {
   "display_name": "Python 3",
   "language": "python",
   "name": "python3"
  },
  "language_info": {
   "codemirror_mode": {
    "name": "ipython",
    "version": 3
   },
   "file_extension": ".py",
   "mimetype": "text/x-python",
   "name": "python",
   "nbconvert_exporter": "python",
   "pygments_lexer": "ipython3",
   "version": "3.12.4"
  }
 },
 "nbformat": 4,
 "nbformat_minor": 4
}
