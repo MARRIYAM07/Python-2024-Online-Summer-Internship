{
 "cells": [
  {
   "cell_type": "markdown",
   "metadata": {},
   "source": [
    "# Python 2024 Online Summer Internship\n",
    "# Make Your Place in Top 20% Python Programmers of the World\n",
    "## Name: Marriyam Andeel\n",
    "## Email ID: Sp24-BAI-050@cuilahore.edu.pk\n",
    "# Python Programming Language"
   ]
  },
  {
   "cell_type": "markdown",
   "metadata": {},
   "source": [
    "Example 1:\n",
    "Task: Print the following message on the Output Screen\n",
    "\n",
    "Allah is One.\n",
    "\n",
    "Input: Allah is One.\n",
    "\n",
    "Processing: print() Function\n",
    "\n",
    "Output: Allah is One.\n",
    "\n",
    "Code:\n",
    "\n"
   ]
  },
  {
   "cell_type": "code",
   "execution_count": 59,
   "metadata": {},
   "outputs": [
    {
     "name": "stdout",
     "output_type": "stream",
     "text": [
      "Allah is One\n"
     ]
    }
   ],
   "source": [
    "print(\"Allah is One\")"
   ]
  },
  {
   "cell_type": "markdown",
   "metadata": {},
   "source": [
    "Example 2:\n",
    "Task: Print the following message on the Output Screen\n",
    "\n",
    "Hazrat Muhammad (P.B.U.H.) is the last Messenger of Allah and role model for us in all walks of life.\n",
    "\n",
    "Input: Hazrat Muhammad (P.B.U.H.) is the last Messenger of Allah and role model for us in all walks of life.\n",
    "\n",
    "Processing: print() Function\n",
    "\n",
    "Output: Hazrat Muhammad (P.B.U.H.) is the last Messenger of Allah and role model for us in all walks of life.\n",
    "\n",
    "Code:"
   ]
  },
  {
   "cell_type": "code",
   "execution_count": 60,
   "metadata": {},
   "outputs": [
    {
     "name": "stdout",
     "output_type": "stream",
     "text": [
      " Hazrat Muhammad (PBUH) is the last messenger of Allah and role model for us in walks of life.\n"
     ]
    }
   ],
   "source": [
    "print(\" Hazrat Muhammad (PBUH) is the last messenger of Allah and role model for us in walks of life.\")"
   ]
  },
  {
   "cell_type": "markdown",
   "metadata": {},
   "source": [
    "Example 3:\n",
    "Task: Print the following integer and float data values on the Output Screen\n",
    "\n",
    "786\n",
    "\n",
    "3.86\n",
    "\n",
    "Input:\n",
    "\n",
    "786\n",
    "\n",
    "3.86\n",
    "\n",
    "Processing: print() Function\n",
    "\n",
    "Output:\n",
    "\n",
    "786\n",
    "\n",
    "3.86\n",
    "\n",
    "Code:"
   ]
  },
  {
   "cell_type": "code",
   "execution_count": 61,
   "metadata": {},
   "outputs": [
    {
     "name": "stdout",
     "output_type": "stream",
     "text": [
      "786\n",
      "3.86\n"
     ]
    }
   ],
   "source": [
    "print(786)\n",
    "print(3.86)"
   ]
  },
  {
   "cell_type": "markdown",
   "metadata": {},
   "source": [
    "TO DO Task 1:\n",
    "Task: Print the following message on the Output Screen\n",
    "\n",
    "Purpose of our lives is: Friendship of Allah.\n",
    "\n",
    "Input:\n",
    "    data: Purpose of our lives is: Friendship of Allah.\n",
    "    instruction: print\n",
    "Processing: print() function\n",
    "\n",
    "Output:Purpose of our lives is: Friendship of Allah.\n",
    "\n",
    "Code:\n"
   ]
  },
  {
   "cell_type": "code",
   "execution_count": 62,
   "metadata": {},
   "outputs": [
    {
     "name": "stdout",
     "output_type": "stream",
     "text": [
      "Purpose of our lives is: Friendship of Allah.\n"
     ]
    }
   ],
   "source": [
    "print(\"Purpose of our lives is: Friendship of Allah.\")"
   ]
  },
  {
   "cell_type": "markdown",
   "metadata": {},
   "source": [
    "TO DO Task 2:\n",
    "Task: Print the following message on the Output Screen\n",
    "\n",
    "Your name\n",
    "\n",
    "Your age\n",
    "\n",
    "Your marks (percentage) in FSc / A Levels\n",
    "\n",
    "Input:   data: your name \n",
    "               age     \n",
    "               marks\n",
    "         instruction: print \n",
    "Processing: print() function\n",
    "\n",
    "Output: your name\n",
    "         age\n",
    "         marks %\n",
    "\n",
    "Code:"
   ]
  },
  {
   "cell_type": "code",
   "execution_count": 63,
   "metadata": {},
   "outputs": [
    {
     "name": "stdout",
     "output_type": "stream",
     "text": [
      "name: Marriyam\n",
      "age: 18 years\n",
      "marks percentage: 85% \n"
     ]
    }
   ],
   "source": [
    "print(\"name: Marriyam\")\n",
    "print(\"age: 18 years\")\n",
    "print(\"marks percentage: 85% \")"
   ]
  },
  {
   "cell_type": "markdown",
   "metadata": {},
   "source": [
    "TODO Task 3:\n",
    "Task: Print the following information about your city\n",
    "\n",
    "Name\n",
    "\n",
    "Population\n",
    "\n",
    "Famous for\n",
    "\n",
    "Geographic area in kilometers\n",
    "\n",
    "Input:            data:Name\n",
    "                      Population\n",
    "                      Famous for\n",
    "                     Geographic area in kilometers\n",
    "                 instructions: print the information\n",
    "Processing: print() function\n",
    "\n",
    "Output:               Name\n",
    "                      Population\n",
    "                      Famous for\n",
    "                     Geographic area in kilometers\n",
    "\n",
    "Code:"
   ]
  },
  {
   "cell_type": "code",
   "execution_count": 64,
   "metadata": {},
   "outputs": [
    {
     "name": "stdout",
     "output_type": "stream",
     "text": [
      "Name: Lahore\n",
      "Population: 300 Million\n",
      "Famous for: a Historical City \n",
      "Geographic area in km: 5500 km\n"
     ]
    }
   ],
   "source": [
    "print(\"Name: Lahore\")\n",
    "print(\"Population: 300 Million\")\n",
    "print(\"Famous for: a Historical City \")\n",
    "print(\"Geographic area in km: 5500 km\")"
   ]
  },
  {
   "cell_type": "markdown",
   "metadata": {},
   "source": [
    "Your Turn Task 1\n",
    "Task: Temperature conversion (Celsius to Fahrenheit)\n",
    "\n",
    "Input: Ask the user for a temperature in Celsius.\n",
    "\n",
    "Processing: Convert the temperature to Fahrenheit.\n",
    "\n",
    "Output: Print the temperature in Fahrenheit.\n",
    "\n",
    "Code:"
   ]
  },
  {
   "cell_type": "code",
   "execution_count": 65,
   "metadata": {},
   "outputs": [
    {
     "name": "stdout",
     "output_type": "stream",
     "text": [
      "The temperature in Fahrenheit is: 111.2\n"
     ]
    }
   ],
   "source": [
    "celsius = float(input(\"Enter temperature in Celsius: \"))\n",
    "fahrenheit = (celsius * 9/5) + 32\n",
    "print(f\"The temperature in Fahrenheit is: {fahrenheit}\")"
   ]
  },
  {
   "cell_type": "markdown",
   "metadata": {},
   "source": [
    "Your Turn Task 2\n",
    "Task 3: Grade Calculator take input of marks from the user and tell the grade.\n",
    "Input: Ask the user for marks in three subjects.\n",
    "Processing: Calculate the average marks and determine the grade (A, B, C, D, F).\n",
    "\n",
    "Output: Print the average marks and the grade.\n",
    "\n",
    "Code:"
   ]
  },
  {
   "cell_type": "code",
   "execution_count": 66,
   "metadata": {},
   "outputs": [
    {
     "name": "stdout",
     "output_type": "stream",
     "text": [
      "your grade is C\n"
     ]
    }
   ],
   "source": [
    "marks=float(input(\"Enter your marks: \"))\n",
    "if(marks>=90):\n",
    "    print(\"your grade is A+\")\n",
    "elif(marks>=80):\n",
    "    print(\"your grade is A\")\n",
    "elif(marks>=70):\n",
    "    print(\"your grade is B\")\n",
    "elif(marks>=60):\n",
    "    print(\"your grade is C\")\n",
    "elif(marks>=50):\n",
    "    print(\"your grade is D\")\n",
    "else:\n",
    "    print(\"your grade is F\")\n",
    " \n"
   ]
  },
  {
   "cell_type": "markdown",
   "metadata": {},
   "source": [
    "Your Turn Task 3\n",
    "Task: GRADE Calculator which first sums up the marks of different subjects and then tells the grade. \n",
    "\n",
    "Input:  data: marks of three subjects\n",
    "        instruction: calculate the grade after summing up the marks\n",
    "\n",
    "Processing: if-else statements \n",
    "\n",
    "Output: grade of the student\n",
    "\n",
    "Code:"
   ]
  },
  {
   "cell_type": "code",
   "execution_count": 67,
   "metadata": {},
   "outputs": [
    {
     "name": "stdout",
     "output_type": "stream",
     "text": [
      "your are average is  35.333333333333336\n",
      " your Grade is F\n"
     ]
    }
   ],
   "source": [
    "marks1=float(input(\"enter marks of subject 1: \"))\n",
    "marks2=float(input(\"enter marks of subject 2: \"))\n",
    "marks3=float(input(\"enter marks of subject 3: \"))\n",
    "sum=marks1+marks2+marks3\n",
    "average=sum/3\n",
    "print(\"your are average is \",average)\n",
    "if(average>90):\n",
    "    GRADE='A'\n",
    "elif(average>=80):\n",
    "    GRADE='B'\n",
    "elif(average>=70):\n",
    "    GRADE='C'\n",
    "elif(average>=60):\n",
    "    GRADE='D'\n",
    "elif(average>=50):\n",
    "    GRADE='E'\n",
    "else:\n",
    "    GRADE='F'\n",
    "print(f\" your Grade is {GRADE}\" )"
   ]
  },
  {
   "cell_type": "markdown",
   "metadata": {},
   "source": [
    "YOUR TURN TASK 4:\n",
    "TASK: Rectangle Area and Perimeter\n",
    "\n",
    "Input:    DATA: Ask the user for the length and width of a rectangle.\n",
    "         INSTRUCTIONS: Calculate the area and perimeter.\n",
    "\n",
    "Processing: Calculate the area and perimeter USING DIFFERENT ARITHMETIC OPERATORS.\n",
    "\n",
    "Output: Print the area and perimeter"
   ]
  },
  {
   "cell_type": "code",
   "execution_count": 68,
   "metadata": {},
   "outputs": [
    {
     "name": "stdout",
     "output_type": "stream",
     "text": [
      "the area of the rectangle of length 4.0 and width 3.0 is=  12.0\n",
      "the perimeter of the rectangle of length 4.0 and width 3.0 is=  14.0\n"
     ]
    }
   ],
   "source": [
    "length=float(input(\"enter the value of the length of the rectangle: \"))\n",
    "width=float(input(\"enter the value of the width of the rectangle: \"))\n",
    "area=length*width\n",
    "perimeter=2*(length+width)\n",
    "print(f\"the area of the rectangle of length {length} and width {width} is= \", area)\n",
    "print(f\"the perimeter of the rectangle of length {length} and width {width} is= \", perimeter)"
   ]
  },
  {
   "cell_type": "markdown",
   "metadata": {},
   "source": [
    "## lecture 3\n",
    "## Comments"
   ]
  },
  {
   "cell_type": "markdown",
   "metadata": {},
   "source": [
    "TO DO Task 1:\n",
    "use single-line comments as well as multi-line comments to write the following:\n",
    "Developer name:\n",
    "Developer email ID:\n",
    "python IDE:\n",
    "program name:\n",
    "program version:\n",
    "start date:\n",
    "end date:"
   ]
  },
  {
   "cell_type": "code",
   "execution_count": 69,
   "metadata": {},
   "outputs": [
    {
     "name": "stdout",
     "output_type": "stream",
     "text": [
      "Allah is  One.\n"
     ]
    }
   ],
   "source": [
    "# single line  comments\n",
    "#Developer name: marriyam andeel\n",
    "#Developer Email ID: sp24-bai-050@cuilahore.edu.pk\n",
    "#python IDE: python or Pycharm\n",
    "#program name: output a string\n",
    "#program version: 2024\n",
    "#start date: 6-july-2024\n",
    "#end date: 8-july-2024\n",
    "\n",
    "print(\"Allah is  One.\")\n"
   ]
  },
  {
   "cell_type": "code",
   "execution_count": 70,
   "metadata": {},
   "outputs": [
    {
     "name": "stdout",
     "output_type": "stream",
     "text": [
      "Allah is  One.\n"
     ]
    }
   ],
   "source": [
    "# multi line  comments\n",
    "\"\"\" Developer name: \"marriyam andeel\"\n",
    "Developer Email ID: sp24-bai-050@cuilahore.edu.pk\n",
    "python IDE: python or Pycharm\n",
    "program name: output a string\n",
    "program version: 2024\n",
    "start date: 6-july-2024\n",
    "end date: 8-july-2024 \"\"\"\n",
    "\n",
    "print(\"Allah is  One.\")\n"
   ]
  },
  {
   "cell_type": "code",
   "execution_count": 71,
   "metadata": {},
   "outputs": [
    {
     "name": "stdout",
     "output_type": "stream",
     "text": [
      "Cody=  I am learning to code with Cody!\n"
     ]
    }
   ],
   "source": [
    "# A string output\n",
    "\"\"\"Store the string I am learning to code with Coddy!\n",
    "in a variable named coddy.\"\"\"\n",
    "coddy = \"I am learning to code with Cody!\"\n",
    "print(\"Cody= \",coddy)"
   ]
  },
  {
   "cell_type": "markdown",
   "metadata": {},
   "source": [
    "your turn task 2:"
   ]
  },
  {
   "cell_type": "code",
   "execution_count": 72,
   "metadata": {},
   "outputs": [
    {
     "name": "stdout",
     "output_type": "stream",
     "text": [
      "hello world!\n"
     ]
    }
   ],
   "source": [
    "#Use the code view to write a program that outputs Hello World!\n",
    "print(\"hello world!\")"
   ]
  },
  {
   "cell_type": "code",
   "execution_count": 73,
   "metadata": {},
   "outputs": [
    {
     "name": "stdout",
     "output_type": "stream",
     "text": [
      "boolean=  True\n"
     ]
    }
   ],
   "source": [
    "#Declare a variable named boolean and assign it the value True.\n",
    "bool = True\n",
    "print(\"boolean= \",bool)"
   ]
  },
  {
   "cell_type": "markdown",
   "metadata": {},
   "source": [
    "your turn task 3:"
   ]
  },
  {
   "cell_type": "code",
   "execution_count": 74,
   "metadata": {},
   "outputs": [
    {
     "name": "stdout",
     "output_type": "stream",
     "text": [
      "k = 88  PI = 3.14  name = bob\n",
      " k = 88 \n",
      " PI = 3.14\n",
      " name = bob\n"
     ]
    }
   ],
   "source": [
    "#  Write code that initializes the following variables:\n",
    "\n",
    "\"\"\"k with the value 88\n",
    "PI with the value of 3.14\n",
    "name with the value 'bob' \"\"\"\n",
    "k = 88\n",
    "PI = 3.14\n",
    "name = \"bob\"\n",
    "print(f\"k = {k}  PI = {PI}  name = {name}\")\n",
    "\"\"\" in the code above the output will be in the same line if we want it to be in \n",
    "different line we will write the code as:\n",
    "print(f\"k = {k} \\n, PI = {PI}\\n , name = {name}\") \"\"\"\n",
    "print(f\" k = {k} \\n PI = {PI}\\n name = {name}\")"
   ]
  },
  {
   "cell_type": "markdown",
   "metadata": {},
   "source": [
    "## Variables"
   ]
  },
  {
   "cell_type": "code",
   "execution_count": 75,
   "metadata": {},
   "outputs": [
    {
     "name": "stdout",
     "output_type": "stream",
     "text": [
      "name:  Adeel\n",
      "CGPA:  3.87\n",
      "age:  35\n",
      "is_handsome:  True\n"
     ]
    }
   ],
   "source": [
    "# example 1:\n",
    "# assigning values to variables at coding time\n",
    "name = \"Adeel\"             #string\n",
    "gpa = 3.87              #float\n",
    "age = 35                 #int\n",
    "is_handsome = True       #boolean\n",
    "\n",
    "print(\"name: \",name)\n",
    "print(\"CGPA: \",gpa)\n",
    "print(\"age: \",age)\n",
    "print(\"is_handsome: \",is_handsome)"
   ]
  },
  {
   "cell_type": "code",
   "execution_count": 76,
   "metadata": {},
   "outputs": [
    {
     "name": "stdout",
     "output_type": "stream",
     "text": [
      "name:  Adeel\n",
      "CGPA:  3.9\n",
      "age:  35\n",
      "is_handsome:  True\n"
     ]
    }
   ],
   "source": [
    "# example 2\n",
    "# assigning values to variables at coding time\n",
    "name = \"Adeel\"             #string\n",
    "cgpa = 3.87              #float\n",
    "age =35                 #int\n",
    "is_handsome = True       #boolean\n",
    "cgpa = 3.9\n",
    "print(\"name: \",name)\n",
    "print(\"CGPA: \",cgpa)\n",
    "print(\"age: \",age)\n",
    "print(\"is_handsome: \",is_handsome)"
   ]
  },
  {
   "cell_type": "code",
   "execution_count": 77,
   "metadata": {},
   "outputs": [
    {
     "name": "stdout",
     "output_type": "stream",
     "text": [
      "fruit_1:  apple \n",
      "fruit_2:  banana\n",
      "fruit_3:  cherry\n"
     ]
    }
   ],
   "source": [
    "# example 3\n",
    "# declaring multiple variables in a single line\n",
    "fruit_1,fruit_2,fruit_3 = \"apple \" , \"banana\" , \"cherry\"\n",
    "print(\"fruit_1: \",fruit_1)\n",
    "print(\"fruit_2: \",fruit_2)\n",
    "print(\"fruit_3: \",fruit_3)"
   ]
  },
  {
   "cell_type": "markdown",
   "metadata": {},
   "source": [
    "to do tasks: "
   ]
  },
  {
   "cell_type": "code",
   "execution_count": 78,
   "metadata": {},
   "outputs": [
    {
     "name": "stdout",
     "output_type": "stream",
     "text": [
      "name =  marriyam andeel\n",
      "age =  18\n",
      "city =  Lahore\n",
      "province =   Punjab\n",
      "nationality =  Pakistani\n",
      "gender =  female\n",
      "hobby =  baking\n"
     ]
    }
   ],
   "source": [
    "# create variables to store your demographic information\n",
    "name = \"marriyam andeel\"\n",
    "age = 18 \n",
    "city = \"Lahore\"\n",
    "province = \" Punjab\"\n",
    "nationality = 'Pakistani'\n",
    "gender = 'female'\n",
    "hobby = 'baking'\n",
    "\n",
    "print(\"name = \",name)\n",
    "print(\"age = \",age)\n",
    "print(\"city = \",city)\n",
    "print(\"province = \", province)\n",
    "print(\"nationality = \",nationality)\n",
    "print(\"gender = \",gender)\n",
    "print(\"hobby = \", hobby)"
   ]
  },
  {
   "cell_type": "markdown",
   "metadata": {},
   "source": [
    "your turn task 1:"
   ]
  },
  {
   "cell_type": "code",
   "execution_count": 79,
   "metadata": {},
   "outputs": [
    {
     "name": "stdout",
     "output_type": "stream",
     "text": [
      "var = 5\n"
     ]
    }
   ],
   "source": [
    "var=5\n",
    "print(\"var =\",var)"
   ]
  },
  {
   "cell_type": "markdown",
   "metadata": {},
   "source": [
    "your turn task 2:"
   ]
  },
  {
   "cell_type": "code",
   "execution_count": 80,
   "metadata": {},
   "outputs": [
    {
     "name": "stdout",
     "output_type": "stream",
     "text": [
      "sum of a and b is  66.0\n"
     ]
    }
   ],
   "source": [
    "a=float(input(\"enter value of a= \"))\n",
    "b=float(input(\"enter value of b= \"))\n",
    "sum=(a)+(b)\n",
    "print(\"sum of a and b is \",sum)\n"
   ]
  },
  {
   "cell_type": "markdown",
   "metadata": {},
   "source": [
    "your turn task 3:"
   ]
  },
  {
   "cell_type": "code",
   "execution_count": 81,
   "metadata": {},
   "outputs": [
    {
     "name": "stdout",
     "output_type": "stream",
     "text": [
      "a=  5.2\n",
      "b=  2.6\n",
      "c=  2.0\n"
     ]
    }
   ],
   "source": [
    "a = 5.2\n",
    "b = 2.6\n",
    "c = a/b\n",
    "print(\"a= \", a)\n",
    "print(\"b= \", b)\n",
    "print(\"c= \", c)\n"
   ]
  },
  {
   "cell_type": "markdown",
   "metadata": {},
   "source": [
    "your turn task 4:"
   ]
  },
  {
   "cell_type": "code",
   "execution_count": 82,
   "metadata": {},
   "outputs": [
    {
     "name": "stdout",
     "output_type": "stream",
     "text": [
      " count =  7\n",
      " count =  10\n"
     ]
    }
   ],
   "source": [
    "count = 0\n",
    "count = count+7\n",
    "print(\" count = \", count)\n",
    "# or the short instead of writing count=count+7 will be count+=7\n",
    "# shortcuts for different operators --> +=  /=  *=  -/\n",
    "count += 3\n",
    "print(\" count = \", count)"
   ]
  },
  {
   "cell_type": "markdown",
   "metadata": {},
   "source": [
    "## data types"
   ]
  },
  {
   "cell_type": "code",
   "execution_count": 83,
   "metadata": {},
   "outputs": [
    {
     "name": "stdout",
     "output_type": "stream",
     "text": [
      "<class 'int'>\n",
      "<class 'float'>\n",
      "<class 'complex'>\n"
     ]
    }
   ],
   "source": [
    "#example 1\n",
    "number_1 = 5\n",
    "number_2 = 3.3\n",
    "number_3 = 1j\n",
    "\n",
    "print(type(number_1))\n",
    "print(type(number_2))\n",
    "print(type(number_3))"
   ]
  },
  {
   "cell_type": "code",
   "execution_count": 84,
   "metadata": {},
   "outputs": [
    {
     "name": "stdout",
     "output_type": "stream",
     "text": [
      "<class 'int'>\n",
      "<class 'int'>\n",
      "<class 'float'>\n",
      "<class 'float'>\n",
      "<class 'float'>\n",
      "<class 'complex'>\n",
      "<class 'complex'>\n"
     ]
    }
   ],
   "source": [
    "# example 2\n",
    "# integer, float, complex data type\n",
    "number_1 = 1\n",
    "number_2 = -1\n",
    "number_3 = 1.111\n",
    "number_4 = -1.11\n",
    "number_5 = 23e5  # e = 10 raise to power\n",
    "number_6 = 1j     # j is the imaginary part \n",
    "number_7 = 5+4j\n",
    "\n",
    "print(type(number_1))\n",
    "print(type(number_2))\n",
    "print(type(number_3))\n",
    "print(type(number_4))\n",
    "print(type(number_5))\n",
    "print(type(number_6))\n",
    "print(type(number_7))"
   ]
  },
  {
   "cell_type": "code",
   "execution_count": 85,
   "metadata": {},
   "outputs": [
    {
     "name": "stdout",
     "output_type": "stream",
     "text": [
      "3.0\n",
      "(3+0j)\n",
      "3\n",
      "(3.3+0j)\n"
     ]
    }
   ],
   "source": [
    "# example 3\n",
    "# Conversion of data types\n",
    "# we can not convert complex data type into any other data type\n",
    "x = 3\n",
    "y = 3.3\n",
    "z = 1j\n",
    "\n",
    "a = float(x)\n",
    "b = complex(x)\n",
    "\n",
    "c = int(y)\n",
    "d = complex(y)\n",
    "\n",
    "\n",
    "print(a)\n",
    "print(b)\n",
    "print(c)\n",
    "print(d)\n"
   ]
  },
  {
   "cell_type": "code",
   "execution_count": 86,
   "metadata": {},
   "outputs": [
    {
     "name": "stdout",
     "output_type": "stream",
     "text": [
      "3\n"
     ]
    }
   ],
   "source": [
    "# example 4\n",
    "import random\n",
    "print(random.randrange(1,6))"
   ]
  },
  {
   "cell_type": "code",
   "execution_count": 87,
   "metadata": {},
   "outputs": [
    {
     "name": "stdout",
     "output_type": "stream",
     "text": [
      "Allah\n",
      "Allah\n"
     ]
    }
   ],
   "source": [
    "# example 5\n",
    "print(\"Allah\")\n",
    "print('Allah')"
   ]
  },
  {
   "cell_type": "code",
   "execution_count": 88,
   "metadata": {},
   "outputs": [
    {
     "name": "stdout",
     "output_type": "stream",
     "text": [
      "It's alright\n",
      "He is called the 'Tarzan'. \n",
      "He is called the \"Tarzan\"\n"
     ]
    }
   ],
   "source": [
    "# example 6\n",
    "print(\"It's alright\")\n",
    "print(\"He is called the 'Tarzan'. \")\n",
    "print('He is called the \"Tarzan\"')"
   ]
  },
  {
   "cell_type": "code",
   "execution_count": 89,
   "metadata": {},
   "outputs": [
    {
     "name": "stdout",
     "output_type": "stream",
     "text": [
      "Allah is one.\n",
      "He created us.\n",
      "The purpose of life is: the friendship of Allah. \n"
     ]
    }
   ],
   "source": [
    "# example 7\n",
    "# multi-line string\n",
    "# using double quotes\n",
    "string_1 = \"\"\"Allah is one.\n",
    "He created us.\n",
    "The purpose of life is: the friendship of Allah. \"\"\" \n",
    "print(string_1)\n"
   ]
  },
  {
   "cell_type": "code",
   "execution_count": 90,
   "metadata": {},
   "outputs": [
    {
     "name": "stdout",
     "output_type": "stream",
     "text": [
      "Allah is one.\n",
      "He created us.\n",
      "The purpose of life is: the friendship of Allah. \n"
     ]
    }
   ],
   "source": [
    "# multi-line string\n",
    "# using single quotes\n",
    "string_2 = '''Allah is one.\n",
    "He created us.\n",
    "The purpose of life is: the friendship of Allah. ''' \n",
    "print(string_2)"
   ]
  },
  {
   "cell_type": "markdown",
   "metadata": {},
   "source": [
    "## lecture 4 "
   ]
  },
  {
   "cell_type": "code",
   "execution_count": 91,
   "metadata": {},
   "outputs": [
    {
     "name": "stdout",
     "output_type": "stream",
     "text": [
      "the number entered is:  8\n"
     ]
    },
    {
     "data": {
      "text/plain": [
       "' dry run:  \\nnumber_1 = \"55\" \\nnum_1 = 55   '"
      ]
     },
     "execution_count": 91,
     "metadata": {},
     "output_type": "execute_result"
    }
   ],
   "source": [
    "# example 1\n",
    "# take a number by user as a string\n",
    "number_1 =  (input(\"enter a number: \") )\n",
    "# to convert the code into float \n",
    "num_1= float(number_1)\n",
    "print(\"the number entered is: \",number_1)\n",
    "\n",
    "\"\"\" dry run:  \n",
    "number_1 = \"55\" \n",
    "num_1 = 55   \"\"\""
   ]
  },
  {
   "cell_type": "markdown",
   "metadata": {},
   "source": [
    " ## arithmetic operators"
   ]
  },
  {
   "cell_type": "code",
   "execution_count": 92,
   "metadata": {},
   "outputs": [
    {
     "name": "stdout",
     "output_type": "stream",
     "text": [
      "result=  20\n"
     ]
    }
   ],
   "source": [
    "#example 1\n",
    "result = (2+3)*4\n",
    "# dry run (5)*4=20\n",
    "print(\"result= \",result)"
   ]
  },
  {
   "cell_type": "code",
   "execution_count": 93,
   "metadata": {},
   "outputs": [
    {
     "name": "stdout",
     "output_type": "stream",
     "text": [
      "result=  14\n"
     ]
    }
   ],
   "source": [
    "#example 2 \n",
    "result = 2+3*4\n",
    "# dry run = 2+12 = 14\n",
    "print(\"result= \",result)"
   ]
  },
  {
   "cell_type": "code",
   "execution_count": 94,
   "metadata": {},
   "outputs": [
    {
     "name": "stdout",
     "output_type": "stream",
     "text": [
      "result=  1\n"
     ]
    }
   ],
   "source": [
    "# example 3\n",
    "result = 2+3-4\n",
    "# dry run = 5-4 = 1\n",
    "print(\"result= \",result)\n"
   ]
  },
  {
   "cell_type": "code",
   "execution_count": 95,
   "metadata": {},
   "outputs": [
    {
     "name": "stdout",
     "output_type": "stream",
     "text": [
      "result:  0\n"
     ]
    }
   ],
   "source": [
    "# example 4\n",
    "result = 2//3*4 # // -> floor division or integer division\n",
    "# dry run = 2//3 == 0 -> 0*4 = =0\n",
    "print(\"result: \",result)\n"
   ]
  },
  {
   "cell_type": "markdown",
   "metadata": {},
   "source": [
    "to do tasks: "
   ]
  },
  {
   "cell_type": "code",
   "execution_count": 96,
   "metadata": {},
   "outputs": [
    {
     "name": "stdout",
     "output_type": "stream",
     "text": [
      "result:  -4\n"
     ]
    }
   ],
   "source": [
    "#  task no.1 :\n",
    "result = 15//3 % 2+ 5-2*5\n",
    "# dry run -> 15//3 -> 5%2 +5-2*5 -> 1+5-10 -> 6-10 = -4\n",
    "print(\"result: \",result)"
   ]
  },
  {
   "cell_type": "code",
   "execution_count": 97,
   "metadata": {},
   "outputs": [
    {
     "name": "stdout",
     "output_type": "stream",
     "text": [
      "result:  30\n"
     ]
    }
   ],
   "source": [
    "# task no. 2:\n",
    "result = 15// (3%2)+(5-2)*5\n",
    "# dry run -> 15//1+3*5 -> 15+3*5 -> 15+15 -> 30\n",
    "print(\"result: \",result)"
   ]
  },
  {
   "cell_type": "code",
   "execution_count": 98,
   "metadata": {},
   "outputs": [
    {
     "name": "stdout",
     "output_type": "stream",
     "text": [
      "result:  -2\n"
     ]
    }
   ],
   "source": [
    "# task no. 3\n",
    "result =  15//3 % 2+ 5-2**3\n",
    "# dry run -> 5//3%2+5-8 -> 1%2+5-8 -> 1+5-8 -> 6-8 -> -2\n",
    "print(\"result: \",result)"
   ]
  },
  {
   "cell_type": "markdown",
   "metadata": {},
   "source": [
    "Your turn tasks:"
   ]
  },
  {
   "cell_type": "code",
   "execution_count": 99,
   "metadata": {},
   "outputs": [
    {
     "name": "stdout",
     "output_type": "stream",
     "text": [
      "result:  18\n"
     ]
    }
   ],
   "source": [
    "# your turn task 1:\n",
    "result = 18//(4-2)+9\n",
    "# dry run -> 18// 2+9 -> 9+9 -> 18\n",
    "print(\"result: \",result)"
   ]
  },
  {
   "cell_type": "code",
   "execution_count": 100,
   "metadata": {},
   "outputs": [
    {
     "name": "stdout",
     "output_type": "stream",
     "text": [
      "result:  12\n"
     ]
    }
   ],
   "source": [
    "# your turn task 2:\n",
    "result = 15%4+6//2*3\n",
    "# dry run -> 3+6//2*3 -> 3+3*3 -> 3+9 -> 12\n",
    "print(\"result: \",result)"
   ]
  },
  {
   "cell_type": "code",
   "execution_count": 101,
   "metadata": {},
   "outputs": [
    {
     "name": "stdout",
     "output_type": "stream",
     "text": [
      "result:  10\n"
     ]
    }
   ],
   "source": [
    "# your turn task 3:\n",
    "result = (12+8)//4*(5-3)\n",
    "# dry run -> 20//4*2 -> 5*2 ->10\n",
    "print(\"result: \",result)"
   ]
  },
  {
   "cell_type": "code",
   "execution_count": 102,
   "metadata": {},
   "outputs": [
    {
     "name": "stdout",
     "output_type": "stream",
     "text": [
      "result:  10\n"
     ]
    }
   ],
   "source": [
    "# your turn task 4:\n",
    "result = 20-3*4 +8 %3\n",
    "#dry run -> 20-12+8%3 -> 20-12+2 -> 8+2 -> 10\n",
    "print(\"result: \",result)"
   ]
  },
  {
   "cell_type": "code",
   "execution_count": 103,
   "metadata": {},
   "outputs": [
    {
     "name": "stdout",
     "output_type": "stream",
     "text": [
      "result:  18\n"
     ]
    }
   ],
   "source": [
    "# your turn task 5:\n",
    "result = 14%5+(10-3)*2\n",
    "# dry run -> 14%5+7*2 -> 4+14 -> 18\n",
    "print(\"result: \",result)"
   ]
  },
  {
   "cell_type": "code",
   "execution_count": 104,
   "metadata": {},
   "outputs": [
    {
     "name": "stdout",
     "output_type": "stream",
     "text": [
      "result:  20\n"
     ]
    }
   ],
   "source": [
    "# your turn task 6:\n",
    "result = 25//5*(7-3)+6%2\n",
    "# dry run -> 25//5 *4+6%2 -> 5*4+0 -> 20\n",
    "print(\"result: \",result)"
   ]
  },
  {
   "cell_type": "markdown",
   "metadata": {},
   "source": [
    "## pseudo-code"
   ]
  },
  {
   "cell_type": "code",
   "execution_count": 105,
   "metadata": {},
   "outputs": [
    {
     "name": "stdout",
     "output_type": "stream",
     "text": [
      "44.0\n",
      "75.0\n",
      "the sum is:  119.0\n"
     ]
    }
   ],
   "source": [
    "''' Example 1\n",
    "# Adding two numbers\n",
    "start\n",
    "declare: two float variables: number_1,number_2\n",
    "prompt: \"the user to enter the value of first variable: \"\n",
    "read: the user's input and stores in number_1\n",
    "prompt: \"the user to enter the value of second variable: \"\n",
    "read: the user's input and stores in number_2\n",
    "calculate: calculate the sum: sum= number_1+number_2\n",
    "print: the sum \"the sum is: \" +sum\n",
    "end\n",
    "'''\n",
    "number_1 = float(input(\"enter value of first variable: \"))\n",
    "print(number_1)\n",
    "number_2 = float(input(\"enter value of second variable: \"))\n",
    "print(number_2)\n",
    "sum = number_1 + number_2\n",
    "print(\"the sum is: \",sum)"
   ]
  },
  {
   "cell_type": "markdown",
   "metadata": {},
   "source": [
    "to do tasks"
   ]
  },
  {
   "cell_type": "code",
   "execution_count": 106,
   "metadata": {},
   "outputs": [
    {
     "name": "stdout",
     "output_type": "stream",
     "text": [
      "39.0\n",
      "75.0\n",
      "99.0\n",
      "the product is:  289575.0\n"
     ]
    }
   ],
   "source": [
    "# task 1:\n",
    "# multiply three numbers\n",
    "''' \n",
    "start\n",
    "declare: three float variables : num_1,num_2,num_3\n",
    "prompt: \" enter the value of number 1:\"\n",
    "read: the user's input and store it\n",
    "prompt: \" enter the value of number 2:\"\n",
    "read: the user's input and store it\n",
    "prompt: \" enter the value of number 3:\"\n",
    "read: the user's input and store it\n",
    "calculate: multiply the 3 entered values as product = num_1*num_2*num_3\n",
    "print: the product \" the product is:\",product\n",
    "end \n",
    "'''\n",
    "num_1 = float(input(\"enter value of number 1:\" ))\n",
    "num_2 = float(input(\"enter value of number 2: \"))\n",
    "num_3 = float(input(\"enter value of number 3: \"))\n",
    "print(num_1)\n",
    "print(num_2)\n",
    "print(num_3)\n",
    "product = num_1*num_2*num_3\n",
    "print(\"the product is: \",product)\n"
   ]
  },
  {
   "cell_type": "code",
   "execution_count": 107,
   "metadata": {},
   "outputs": [
    {
     "name": "stdout",
     "output_type": "stream",
     "text": [
      "7\n",
      "the square is:  49\n"
     ]
    }
   ],
   "source": [
    "# task 2:\n",
    "# find square of a number:\n",
    "'''\n",
    "start\n",
    "declare: one int variable: number\n",
    "prompt: \"the user to enter the value of the variable: \"\n",
    "read: the user's input and stores in number\n",
    "calculate: calculate the square: square = number*number\n",
    "print: the sum \"the square is: \" +square\n",
    "end\n",
    "'''\n",
    "number = int(input(\"enter the number: \"))\n",
    "print(number)\n",
    "square = number*number\n",
    "print(\"the square is: \",square)\n"
   ]
  },
  {
   "cell_type": "code",
   "execution_count": 108,
   "metadata": {},
   "outputs": [
    {
     "name": "stdout",
     "output_type": "stream",
     "text": [
      "the area of a circle is:  78.5\n"
     ]
    }
   ],
   "source": [
    "# task 3:\n",
    "# calculate the area of a circle\n",
    "''' \n",
    "start\n",
    "declare: two float variables: radius , and  PI=3.14\n",
    "prompt: \"the user to enter the value of radius: \"\n",
    "read: the user's input and stores in radius\n",
    "calculate: calculate the area: area= PI*(radius*radius)\n",
    "print: the area \"the area is: \" ,area\n",
    "end\n",
    "'''\n",
    "PI = 3.14\n",
    "radius = float (input(\"enter value of radius: \"))\n",
    "area = PI *(radius**2)\n",
    "print(\"the area of a circle is: \",area)"
   ]
  },
  {
   "cell_type": "markdown",
   "metadata": {},
   "source": [
    "your turn tasks:"
   ]
  },
  {
   "cell_type": "code",
   "execution_count": 109,
   "metadata": {},
   "outputs": [
    {
     "name": "stdout",
     "output_type": "stream",
     "text": [
      "the area of the square is:  2025.0\n"
     ]
    }
   ],
   "source": [
    "# task 1:\n",
    "# calculate the area of a square\n",
    "''' \n",
    "start\n",
    "declare: float variable : length\n",
    "prompt: \"the user to enter the value of length: \"\n",
    "read: the user's input and stores in radius\n",
    "calculate: calculate the area: area=length*length\n",
    "print: the area \"the area is: \" ,area\n",
    "end\n",
    "'''\n",
    "length = float(input(\"enter the length of the square: \"))\n",
    "area = length * length \n",
    "print(\"the area of the square is: \", area)"
   ]
  },
  {
   "cell_type": "code",
   "execution_count": 110,
   "metadata": {},
   "outputs": [
    {
     "name": "stdout",
     "output_type": "stream",
     "text": [
      "5.0\n",
      "44.0\n",
      "86.0\n",
      "sum=  135.0\n",
      "the average is:  45.0\n"
     ]
    }
   ],
   "source": [
    "# task 2:\n",
    "# take input of three numbers and calculate its average\n",
    "''' \n",
    "start\n",
    "declare: three float variables : num_1,num_2,num_3\n",
    "prompt: \" enter the value of number 1:\"\n",
    "read: the user's input and store it\n",
    "prompt: \" enter the value of number 2:\"\n",
    "read: the user's input and store it\n",
    "prompt: \" enter the value of number 3:\"\n",
    "read: the user's input and store it\n",
    "calculate: multiply the 3 entered values as product = num_1*num_2*num_3\n",
    "print: the sum \" the sum is:\",sum\n",
    "calculate: average of the 3 numbers: average = sum/3\n",
    "print: the average : \"the average is: \",average\n",
    "end \n",
    "'''\n",
    "num_1 = float(input(\"enter 1st number: \"))\n",
    "print(num_1)\n",
    "num_2 = float(input(\"enter 2nd number: \"))\n",
    "print(num_2)\n",
    "num_3 = float(input(\"enter 3rd number: \"))\n",
    "print(num_3)\n",
    "sum = num_1+num_2+num_3\n",
    "print(\"sum= \",sum)\n",
    "average = sum/3\n",
    "print(\"the average is: \", average)"
   ]
  },
  {
   "cell_type": "code",
   "execution_count": 111,
   "metadata": {},
   "outputs": [
    {
     "name": "stdout",
     "output_type": "stream",
     "text": [
      "5.0\n",
      "3.0\n",
      "the difference is:  2.0\n"
     ]
    }
   ],
   "source": [
    "# task 3:\n",
    "# subtract two numbers\n",
    "'''\n",
    "start\n",
    "declare: two float variables: number_1,number_2\n",
    "prompt: \"the user to enter the value of first variable: \"\n",
    "read: the user's input and stores in number_1\n",
    "prompt: \"the user to enter the value of second variable: \"\n",
    "read: the user's input and stores in number_2\n",
    "calculate: calculate the difference: difference= number_1-number_2\n",
    "print: the sum \"the difference is: \" , difference\n",
    "end\n",
    "'''\n",
    "number_1 = float(input(\"enter value of first variable: \"))\n",
    "print(number_1)\n",
    "number_2 = float(input(\"enter value of second variable: \"))\n",
    "print(number_2)\n",
    "difference = number_1 - number_2\n",
    "print(\"the difference is: \",difference)"
   ]
  },
  {
   "cell_type": "markdown",
   "metadata": {},
   "source": [
    "## template based approach to write a python program\n",
    "## 10 step process of writing a code"
   ]
  },
  {
   "cell_type": "code",
   "execution_count": 112,
   "metadata": {},
   "outputs": [
    {
     "name": "stdout",
     "output_type": "stream",
     "text": [
      "the sum of 2.0and 2.0 = 4.0\n"
     ]
    },
    {
     "data": {
      "text/plain": [
       "'\\nsoftware deployed to ilm o irfan school\\n'"
      ]
     },
     "execution_count": 112,
     "metadata": {},
     "output_type": "execute_result"
    }
   ],
   "source": [
    "'''\n",
    "step1: completely and correctly understand the real world scenario \n",
    "step 2: extract client requirements\n",
    "step 3: extract input processing and output\n",
    "step 4: write pseudo-code\n",
    "step 5: draw flow chart if needed\n",
    "step 6: select most suitable programming language, IDE, and machine to write down high quality code\n",
    "step 7: write down system and developer information\n",
    "step 8: transform pseudo-code and flowchart into code with proper comments\n",
    "step 9: test your code\n",
    "step 10: deploy your code for client usage \n",
    "'''\n",
    "# example 1\n",
    "'''\n",
    "# step 1: completely and correctly understand the real world scenario\n",
    " mr. Irfan wants a software on which his students of class two can practice maths questions.\n",
    "# step 2:  extract client requirements\n",
    "a simple calculator which can perform basic addition\n",
    "# step 3: extract input processing and output\n",
    "input: 2 variables of float datatype\n",
    "processing: addition + \n",
    "output: answer of the given values of the variables of and the given operations\n",
    "# step 4: pseudo-code:\n",
    "START\n",
    "DECLARE: two variables of float datatype = number_1 and number_2\n",
    "PROMPT: the user to enter the value of the 1st variable:\"enter value of number_1: \"\n",
    "READ: the user's input and display on screen\n",
    "PROMPT: the user to enter the value of the 2nd variable:\"enter value of number_2: \"\n",
    "READ: the user's input and display on screen\n",
    "CALCULATE: the sum: sum=num_1+num_2\n",
    "PRINT: \"the sum is\",sum\n",
    "END\n",
    "#step 6: select most suitable programming language, IDE, and machine to write down high quality code\n",
    "programming language: Python\n",
    "IDE: Pycharm\n",
    "machine : windows icore-9\n",
    "step 7: write down system and developer information\n",
    "developer name: Marriyam Andeel\n",
    "Developer's Company: ayz company\n",
    "Phone number:\n",
    "version:\n",
    "operation system:\n",
    "program name:\n",
    "'''\n",
    "# step 8 transform the pseudo-code into code\n",
    "# input the values\n",
    "number_1 = input(\"enter the value of number_1: \")\n",
    "number_2 = input(\"enter the value of number_2: \")\n",
    "# convert string type values into float type\n",
    "num_1 = float(number_1)\n",
    "num_2 = float(number_2)\n",
    "# declare sum\n",
    "sum = num_1 + num_2\n",
    "# print sum\n",
    "print(f\"the sum of {num_1}and {num_2} = {sum}\")\n",
    "\n",
    "# step 9: test run your code\n",
    "'''DRY RUN-> \n",
    "number_1 = input(\"enter the value of number_1: \") = \"55\"\n",
    "number_2 = input(\"enter the value of number_2: \") = \"44\"\n",
    "num_1 = float(\"55\") = 55\n",
    "num_2 = float(\"44\") = 44\n",
    "sum =55+44 = 99.0\n",
    "print(f\"the sum of {num_1}and {num_2} = {sum}\") -> the sum of 55.0 and 44.0 = 99.0\n",
    "'''\n",
    "# step 10 : deploy your code for client usage \n",
    "'''\n",
    "software deployed to ilm o irfan school\n",
    "'''"
   ]
  },
  {
   "cell_type": "markdown",
   "metadata": {},
   "source": [
    "to do tasks: "
   ]
  },
  {
   "cell_type": "code",
   "execution_count": 113,
   "metadata": {},
   "outputs": [
    {
     "name": "stdout",
     "output_type": "stream",
     "text": [
      "the product of 5.0 , 4.0and 3.0 = 60.0\n"
     ]
    }
   ],
   "source": [
    "#task  1:\n",
    "'''\n",
    "# step 1: completely and correctly understand the real world scenario\n",
    " multiplication of three numbers\n",
    "# step 2:  extract client requirements\n",
    "a simple calculator which can perform basic multiplication\n",
    "# step 3: extract input processing and output\n",
    "input: 2 variables of float datatype\n",
    "processing:  multiplication(*) \n",
    "output: answer of the given values of the variables of and the given operation\n",
    "# step 4: pseudo-code:\n",
    "START\n",
    "DECLARE: three variables of float datatype = number_1 , number_2 ,number_3\n",
    "PROMPT: the user to enter the value of the 1st variable:\"enter value of number_1: \"\n",
    "READ: the user's input and display on screen\n",
    "PROMPT: the user to enter the value of the 2nd variable:\"enter value of number_2: \"\n",
    "READ: the user's input and display on screen\n",
    "PROMPT: the user to enter the value of the 3rd variable:\"enter value of number_3: \"\n",
    "READ: the user's input and display on screen\n",
    "CALCULATE: the product: product=num_1*num_2*num*3\n",
    "PRINT: \"the product is\",product\n",
    "END\n",
    "#step 6: select most suitable programming language, IDE, and machine to write down high quality code\n",
    "programming language: Python\n",
    "IDE: Pycharm\n",
    "machine : windows icore-9\n",
    "step 7: write down system and developer information\n",
    "developer name: Marriyam Andeel\n",
    "Developer's Company: ayz company\n",
    "Phone number:\n",
    "version:\n",
    "operation system:\n",
    "program name:\n",
    "'''\n",
    "# step 8: transform the pseudo-code into code\n",
    "# input the values\n",
    "number_1 = input(\"enter the value of number_1: \")\n",
    "number_2 = input(\"enter the value of number_2: \")\n",
    "number_3 = input(\"enter the value of number_3: \")\n",
    "# convert string type values into float type\n",
    "num_1 = float(number_1)\n",
    "num_2 = float(number_2)\n",
    "num_3 = float(number_3)\n",
    "# declare product variable\n",
    "product = num_1 * num_2 * num_3\n",
    "# print product\n",
    "print(f\"the product of {num_1} , {num_2}and {num_3} = {product}\")\n",
    "\n",
    "# step 9: test run your code\n",
    "#DRY RUN-> \n",
    "# number_1 = input(\"enter the value of number_1: \") = \"55\"\n",
    "# number_2 = input(\"enter the value of number_2: \") = \"44\"\n",
    "# number_3 = input(\"enter the value of number_3: \") = \"4.4\"\n",
    "# num_1 = float(\"55\") = 55\n",
    "# num_2 = float(\"44\") = 44\n",
    "# num_3 = float(\"4.4\") = 4.4\n",
    "# product =55*44*4.4 =  10648.0\n",
    "# print(f\"the product of {num_1} , {num_2}and {num_3} = {product}\") -> the product of 55.0 , 44.0 and 4.4 = 10648.0\n",
    "\n",
    "# step 10 : deploy your code for client usage \n",
    "# '''software deployed to ilm o irfan school'''"
   ]
  },
  {
   "cell_type": "code",
   "execution_count": 114,
   "metadata": {},
   "outputs": [
    {
     "name": "stdout",
     "output_type": "stream",
     "text": [
      "the square of 5 = 25\n"
     ]
    }
   ],
   "source": [
    "# task 2:\n",
    "'''\n",
    "# step 1: completely and correctly understand the real world scenario\n",
    "find the square of a number entered by the user\n",
    "# step 2:  extract client requirements\n",
    "a simple calculator which can calculate the square of integers\n",
    "# step 3: extract input processing and output\n",
    "input: 2 variable of int datatype\n",
    "processing: * i.e.  num_1*num*1\n",
    "output: answer of the given values of the variables of and the given operation\n",
    "# step 4: pseudo-code:\n",
    "START\n",
    "DECLARE: a variable of int datatype = number\n",
    "PROMPT: the user to enter the value of the 1st variable:\"enter value of number: \"\n",
    "READ: the user's input and display on screen\n",
    "CALCULATE: the square: square=num*num\n",
    "PRINT: \"the square  is\",square\n",
    "END\n",
    "#step 6: select most suitable programming language, IDE, and machine to write down high quality code\n",
    "programming language: Python\n",
    "IDE: Pycharm\n",
    "machine : windows icore-9\n",
    "step 7: write down system and developer information\n",
    "developer name: Marriyam Andeel\n",
    "Developer's Company: ayz company\n",
    "Phone number:\n",
    "version:\n",
    "operation system:\n",
    "program name:\n",
    "'''\n",
    "# step 8: transform the pseudo-code into code\n",
    "# input the values\n",
    "number = input(\"enter the value of number: \")\n",
    "\n",
    "# convert string type values into int type\n",
    "num = int(number)\n",
    "# declare square variable\n",
    "square = num * num \n",
    "# print square\n",
    "print(f\"the square of {num} = {square}\")\n",
    "\n",
    "# step 9: test run your code\n",
    "# DRY RUN-> \n",
    "# number_1 = input(\"enter the value of number_1: \") = \"5\"\n",
    "\n",
    "#num_1 = int(\"5\") = 5\n",
    "\n",
    "#square =5*5 = 25\n",
    "#print(f\"the square of {num} = {square}\") -> the square of 5  = 25\n",
    "\n",
    "# step 10 : deploy your code for client usage\n",
    "#  software deployed to ilm o irfan school\n"
   ]
  },
  {
   "cell_type": "code",
   "execution_count": 115,
   "metadata": {},
   "outputs": [
    {
     "name": "stdout",
     "output_type": "stream",
     "text": [
      "the area of circle of the  radius( 34.0 )= 3629.84\n"
     ]
    }
   ],
   "source": [
    "# task 3:\n",
    "'''\n",
    "# step 1: completely and correctly understand the real world scenario\n",
    "find the area of the circle\n",
    "# step 2:  extract client requirements\n",
    "a simple calculator which can calculate the area of circle\n",
    "# step 3: extract input processing and output\n",
    "input: 2 variable of int datatype\n",
    "processing: * i.e. aplying formule pi*(radiud*radius)\n",
    "output: answer of the given values of the variables of and the given operation\n",
    "# step 4: pseudo-code:\n",
    "START\n",
    "DECLARE: a variable of float datatype = radius and PI=3.14\n",
    "PROMPT: the user to enter the value of the 1st variable:\"enter value of radius: \"\n",
    "READ: the user's input and display on screen\n",
    "CALCULATE: the area: area=PI(radius*radius)\n",
    "PRINT: \"the area  is\",area\n",
    "END\n",
    "#step 6: select most suitable programming language, IDE, and machine to write down high quality code\n",
    "programming language: Python\n",
    "IDE: Pycharm\n",
    "machine : windows icore-9\n",
    "step 7: write down system and developer information\n",
    "developer name: Marriyam Andeel\n",
    "Developer's Company: ayz company\n",
    "Phone number:\n",
    "version:\n",
    "operation system:\n",
    "program name:\n",
    "'''\n",
    "# step 8: transform the pseudo-code into code\n",
    "# input the values\n",
    "radius= input(\"enter the value of radius: \")\n",
    "# declare variable PI\n",
    "PI = 3.14\n",
    "\n",
    "# convert string type values into int type\n",
    "r = float (radius)\n",
    "# declare square variable\n",
    "area = PI*(r**2) \n",
    "# print square\n",
    "print(f\"the area of circle of the  radius( {r} )= {area}\")\n",
    "\n",
    "# step 9: test run your code\n",
    "# DRY RUN-> \n",
    "# radius = input(\"enter the value of radius: \") = \"5\"\n",
    "# r = float(\"5\") = 5\n",
    "# area=PI*(r*r) = 3.14*(5**2)\n",
    "#print(f\"the area of radius{r} = {area}\") -> the area of radius () = 78.5\n",
    "# step 10 : deploy your code for client usage\n",
    "#  software deployed to ilm o irfan school"
   ]
  },
  {
   "cell_type": "code",
   "execution_count": 116,
   "metadata": {},
   "outputs": [
    {
     "name": "stdout",
     "output_type": "stream",
     "text": [
      "the reverse of the two digit number( 43 ) is = 34\n"
     ]
    }
   ],
   "source": [
    "# task 4:\n",
    "'''\n",
    "# step 1: completely and correctly understand the real world scenario\n",
    "print a two digit number in reverse order\n",
    "# step 2:  extract client requirements\n",
    "logic to use // and % operators to reverse the number\n",
    "# step 3: extract input processing and output\n",
    "input: 2 variable of int datatype\n",
    "processing: using // and % operators\n",
    "output: answer of the given values of the variables of and the given operation\n",
    "# step 4: pseudo-code:\n",
    "START\n",
    "DECLARE: a variable of int datatype = number\n",
    "PROMPT: the user to enter the value of the 1st variable:\"enter value of 2 digit number: \"\n",
    "READ: the user's input and display on screen\n",
    "CALCULATE: the reverse of the two digits as num_1 = number//10 and num_2 = number%10\n",
    "PRINT: \"the reverse  is\",num_2 and num_1\n",
    "END\n",
    "#step 6: select most suitable programming language, IDE, and machine to write down high quality code\n",
    "programming language: Python\n",
    "IDE: Pycharm\n",
    "machine : windows icore-9\n",
    "step 7: write down system and developer information\n",
    "developer name: Marriyam Andeel\n",
    "Developer's Company: ayz company\n",
    "Phone number:\n",
    "version:\n",
    "operation system:\n",
    "program name:\n",
    "'''\n",
    "# step 8: transform the pseudo-code into code\n",
    "# input the values\n",
    "number= int(input(\"enter the 2 digit number: \"))\n",
    "num_1 = number//10\n",
    "num_2 = number % 10\n",
    "\n",
    "# print reverse\n",
    "print(f\"the reverse of the two digit number( {number} ) is = {num_2}{num_1}\")\n",
    "\n",
    "# step 9: test run your code\n",
    "# DRY RUN-> \n",
    "# number = int(input(\"enter the 2 digit  number: \")) = 68\n",
    "#num_1 = 68//10 = 6 \n",
    "# num_2 = 68%10 = 8\n",
    "#print(f\"the reverse of the two digit number( {number} ) is = {num_2}{num_1}\")\n",
    "#the reverse of the two digit number(68 ) is = 86\n",
    "\n",
    "# step 10 : deploy your code for client usage\n",
    "#  software deployed to ilm o irfan school"
   ]
  },
  {
   "cell_type": "code",
   "execution_count": 117,
   "metadata": {},
   "outputs": [
    {
     "name": "stdout",
     "output_type": "stream",
     "text": [
      "The reverse of the three-digit number (345) is = 543\n"
     ]
    }
   ],
   "source": [
    "# task 5: \n",
    "'''\n",
    "# step 1: completely and correctly understand the real world scenario\n",
    "print a two digit number in reverse order\n",
    "\n",
    "# step 2:  extract client requirements\n",
    "logic to use // and % operators to reverse the number\n",
    "# step 3: extract input processing and output\n",
    "input: 2 variable of int datatype\n",
    "processing: using // and % operators\n",
    "output: answer of the given values of the variables of and the given operation\n",
    "# step 4: pseudo-code:\n",
    "START\n",
    "DECLARE: a variable of int datatype = number\n",
    "PROMPT: the user to enter the value of the 1st variable:\"enter value of 3 digit number: \"\n",
    "READ: the user's input and display on screen\n",
    "CALCULATE: the reverse of the two digits as num_1 = number//10 and num_2 = (number%100)//10 and num_3 = number%10\n",
    "PRINT: \"the reverse  is\",num_3 num_2 and num_1\n",
    "END\n",
    "#step 6: select most suitable programming language, IDE, and machine to write down high quality code\n",
    "programming language: Python\n",
    "IDE: Pycharm\n",
    "machine : windows icore-9\n",
    "step 7: write down system and developer information\n",
    "developer name: Marriyam Andeel\n",
    "Developer's Company: ayz company\n",
    "Phone number:\n",
    "version:\n",
    "operation system:\n",
    "program name:\n",
    "'''\n",
    "# step 8: transform the pseudo-code into code\n",
    "# input the values\n",
    "number = int(input(\"Enter the 3-digit number: \"))\n",
    "num_1 = number // 100             # Hundreds place\n",
    "num_2 = (number % 100) // 10      # Tens place\n",
    "num_3 = number % 10               # Units place\n",
    "# Print reverse\n",
    "print(f\"The reverse of the three-digit number ({number}) is = {num_3}{num_2}{num_1}\")\n",
    "\n",
    "# step 9: test run your code\n",
    "# DRY RUN-> \n",
    "# number = int(input(\"Enter the 3-digit number: \")) =345\n",
    "# num_1 = number // 100            345//100 == 3\n",
    "# num_2 = (number % 100) // 10      (345%100)//10 == 45//10 == 4\n",
    "# num_3 = number % 10                345%10 == 5\n",
    "# Print reverse\n",
    "# print(f\"The reverse of the three-digit number (345) is = 543\")\n",
    "\n",
    "# step 10 : deploy your code for client usage\n",
    "#  software deployed to ilm o irfan school"
   ]
  },
  {
   "cell_type": "markdown",
   "metadata": {},
   "source": [
    "## lecture 5\n",
    "## selection structures"
   ]
  },
  {
   "cell_type": "code",
   "execution_count": 118,
   "metadata": {},
   "outputs": [
    {
     "name": "stdout",
     "output_type": "stream",
     "text": [
      "start\n",
      "end!\n"
     ]
    },
    {
     "data": {
      "text/plain": [
       "'dry run -> when condition is false. num1<num2\\nnum1 = 10 , num2 = 15 , output -> start\\n                                  end!      '"
      ]
     },
     "execution_count": 118,
     "metadata": {},
     "output_type": "execute_result"
    }
   ],
   "source": [
    "#if statement\n",
    "# Example 1\n",
    "num1 = 10\n",
    "num2 = 15\n",
    "print(\"start\")\n",
    "if(num1 > num2):\n",
    "    print(\"condition is true\")\n",
    "    print(\"number 1 is greater than number 2\")\n",
    "print(\"end!\")\n",
    "\n",
    "'''dry run -> when condition is false. num1<num2\n",
    "num1 = 10 , num2 = 15 , output -> start\n",
    "                                  end!      '''    \n",
    "\n"
   ]
  },
  {
   "cell_type": "code",
   "execution_count": 119,
   "metadata": {},
   "outputs": [
    {
     "name": "stdout",
     "output_type": "stream",
     "text": [
      "start\n",
      "condition is true\n",
      "number 1 is greater than number 2\n",
      "end!\n"
     ]
    },
    {
     "data": {
      "text/plain": [
       "'dry run -> when condition is true. num1 > num2\\nnum1 = 15 , num2 = 10 , output -> start\\n                                condition is true\\n                                number 1 is greater than number 2\\n                                  end!      '"
      ]
     },
     "execution_count": 119,
     "metadata": {},
     "output_type": "execute_result"
    }
   ],
   "source": [
    "# Example 2\n",
    "num1 = 15\n",
    "num2 = 10\n",
    "print(\"start\")\n",
    "if(num1 > num2):\n",
    "    print(\"condition is true\")\n",
    "    print(\"number 1 is greater than number 2\")\n",
    "print(\"end!\")\n",
    "\n",
    "'''dry run -> when condition is true. num1 > num2\n",
    "num1 = 15 , num2 = 10 , output -> start\n",
    "                                condition is true\n",
    "                                number 1 is greater than number 2\n",
    "                                  end!      '''"
   ]
  },
  {
   "cell_type": "code",
   "execution_count": 120,
   "metadata": {},
   "outputs": [
    {
     "data": {
      "text/plain": [
       "'\\ndry run -> number = 4    4%2==0  output -> 4 is an even number.\\n        -> number = 5    5%2==1   output ->                   '"
      ]
     },
     "execution_count": 120,
     "metadata": {},
     "output_type": "execute_result"
    }
   ],
   "source": [
    "# Example 3\n",
    "# Take an integer from user and check whether it is an even number or not\n",
    "number = int(input(\"enter a number: \"))\n",
    "if (number%2== 0):\n",
    "    print(f\"{number} is an even number.\")\n",
    "'''\n",
    "dry run -> number = 4    4%2==0  output -> 4 is an even number.\n",
    "        -> number = 5    5%2==1   output ->                   '''\n"
   ]
  },
  {
   "cell_type": "code",
   "execution_count": 121,
   "metadata": {},
   "outputs": [
    {
     "name": "stdout",
     "output_type": "stream",
     "text": [
      "87 is an odd number.\n"
     ]
    }
   ],
   "source": [
    "# Example 4\n",
    "# Take an integer from user and check whether it is an even number or odd number\n",
    "number = int(input(\"enter a number: \"))\n",
    "if (number%2== 0):\n",
    "    print(f\"{number} is an even number.\")\n",
    "if (number%2!= 0):\n",
    "    print(f\"{number} is an odd number.\")\n",
    "\n",
    "# dry run -> number = 4    4%2==0  output -> 4 is an even number.\n",
    "#       -> number = 5    5%2==1   output -> 5 is an odd number.                 \n"
   ]
  },
  {
   "cell_type": "markdown",
   "metadata": {},
   "source": [
    "## template based approach to write a program"
   ]
  },
  {
   "cell_type": "code",
   "execution_count": 122,
   "metadata": {},
   "outputs": [
    {
     "name": "stdout",
     "output_type": "stream",
     "text": [
      "56 is an even number.\n"
     ]
    }
   ],
   "source": [
    "# example 1: \n",
    "'''\n",
    "# step 1: completely and correctly understand the real world scenario\n",
    "Mr. Irfan teaches maths to grade 2 at Ilm O Irfan School. He wants a software for his \n",
    "students to practice the concepts of even and odd numbers\n",
    "\n",
    "# step 2:  extract client requirements\n",
    "a simple calculator to practice even or odd numbers\n",
    "note: you need to be very specific \n",
    "# step 3: extract input processing and output\n",
    "input: 1 variable of int datatype\n",
    "processing: using % operator and if statements , input() function , print() function\n",
    "output: number of outputs  = 1\n",
    "       most suitable datatype = string\n",
    "# step 4: pseudo-code:\n",
    "START\n",
    "DECLARE: a variable of int datatype = number\n",
    "PROMPT: the user to enter the value of the 1st variable:\"enter a number: \"\n",
    "READ: the user's input and display on screen\n",
    "if number % 2 == 0:\n",
    "    print(number is even)\n",
    "End If\n",
    "if number % 2 != 0:\n",
    "    print(number is odd)\n",
    "End If\n",
    "END\n",
    "#step 6: select most suitable programming language, IDE, and machine to write down high quality code\n",
    "programming language: Python\n",
    "IDE: Pycharm\n",
    "machine : windows icore-9\n",
    "step 7: write down system and developer information\n",
    "developer name: Marriyam Andeel\n",
    "Developer's Company: ayz company\n",
    "Phone number:\n",
    "version:\n",
    "operation system:\n",
    "program name:\n",
    "start date: \n",
    "end date: \n",
    "'''\n",
    "# step 8: transform the pseudo-code into code\n",
    "# input the value\n",
    "number = int(input(\"Enter a number: \"))\n",
    "if (number %2 ==0):\n",
    "    print(f\"{number} is an even number.\")\n",
    "if (number %2 !=0):\n",
    "    print(f\"{number} is an odd number.\")\n",
    "\n",
    "# step 9: test run your code\n",
    "# DRY RUN-> \n",
    "# number = int(input(\"Enter a number: \")) =3\n",
    "# if (3%2 ==0) 1==0  condition is false -> no output\n",
    "# if (3%2 !=0)  1!= 0  condition is true -> 3 is an odd number.\n",
    "# step 10 : deploy your code for client usage\n",
    "#  software deployed to ilm o irfan school so the students can practice their maths questions by using their school email ids"
   ]
  },
  {
   "cell_type": "markdown",
   "metadata": {},
   "source": [
    " to do tasks:"
   ]
  },
  {
   "cell_type": "code",
   "execution_count": 123,
   "metadata": {},
   "outputs": [
    {
     "name": "stdout",
     "output_type": "stream",
     "text": [
      "75 is a positive number.\n"
     ]
    }
   ],
   "source": [
    "# to do task 1:\n",
    "'''\n",
    "# step 1: completely and correctly understand the real world scenario\n",
    "Mr. Irfan teaches maths to grade 2 at Ilm O Irfan School. He wants a software for his \n",
    "students to practice the concepts of positive and negative numbers.\n",
    "\n",
    "# step 2:  extract client requirements\n",
    "a simple calculator to practice negative and positive numbers\n",
    "note: you need to be very specific \n",
    "# step 3: extract input processing and output\n",
    "input: 1 variable of int datatype\n",
    "processing: using if statements , input() function , print() function\n",
    "output: number of outputs  = 1\n",
    "       most suitable datatype = string\n",
    "# step 4: pseudo-code:\n",
    "START\n",
    "DECLARE: a variable of int datatype = number\n",
    "PROMPT: the user to enter the value of the 1st variable:\"enter a number: \"\n",
    "READ: the user's input and display on screen\n",
    "if number > 0:\n",
    "    print(number is positive)\n",
    "End If\n",
    "if number < 0:\n",
    "    print(number is negative)\n",
    "End If\n",
    "if number == 0:\n",
    "    print(number is zero)\n",
    "End If\n",
    "END\n",
    "#step 6: select most suitable programming language, IDE, and machine to write down high quality code\n",
    "programming language: Python\n",
    "IDE: Pycharm\n",
    "machine : windows icore-9\n",
    "step 7: write down system and developer information\n",
    "developer name: Marriyam Andeel\n",
    "Developer's Company: ayz company\n",
    "Phone number:\n",
    "version:\n",
    "operation system:\n",
    "program name:\n",
    "start date: \n",
    "end date: \n",
    "'''\n",
    "# step 8: transform the pseudo-code into code\n",
    "# input the value\n",
    "number = int(input(\"Enter a number: \"))\n",
    "if (number ==0):\n",
    "    print(f\"{number} is  zero.\")\n",
    "if (number > 0):\n",
    "    print(f\"{number} is a positive number.\")\n",
    "if (number < 0):\n",
    "    print(f\"{number} is a negative number.\")\n",
    "\n",
    "# step 9: test run your code\n",
    "# dry run-> number =3    3>0 -> number is positive\n",
    "# dry run-> number =-3   -3<0 -> number is negative\n",
    "#dry run-> number =0      0==0 -> number is zero\n",
    "# step 10 : deploy your code for client usage\n",
    "#  software deployed to ilm o irfan school so the students can practice their maths questions by using their school email ids"
   ]
  },
  {
   "cell_type": "markdown",
   "metadata": {},
   "source": [
    "your turn tasks:"
   ]
  },
  {
   "cell_type": "code",
   "execution_count": 124,
   "metadata": {},
   "outputs": [
    {
     "name": "stdout",
     "output_type": "stream",
     "text": [
      "you are an adult.\n",
      "you are unmarried.\n",
      "you are not insured.\n"
     ]
    }
   ],
   "source": [
    "# task 1:\n",
    "# step 1:\n",
    "'''A program in which the user is asked to enter his / her age , marital status to check whether they are insured or not'''\n",
    "# step 2:  extract client requirements\n",
    "'''a simple calculator to practice negative and positive numbers\n",
    "note: you need to be very specific \n",
    "# step 3: extract input processing and output\n",
    "input: 1 variable of int datatype\n",
    "processing: using if statements , input() function , print() function\n",
    "output: number of outputs  = 1\n",
    "       most suitable datatype = string\n",
    "# step 4: pseudo-code:\n",
    "START\n",
    "DECLARE: 2 variable of int datatype = age , marital_status\n",
    "PROMPT: the user to enter the value of the 1st variable:\"enter your age: \"\n",
    "READ: the user's input and display on screen\n",
    "if age>18:\n",
    "    print(you are an adult)\n",
    "End If\n",
    "if age<18:\n",
    "    print(you are a minor)\n",
    "End If\n",
    "PROMPT: the user to enter the value of the 2nd variable:\"enter your marital status: \"\n",
    "READ: the user's input and display on screen\n",
    "if marital_status== 0:\n",
    "    print(you are unmarried)\n",
    "End If\n",
    "if marital_status!= 1:\n",
    "    print(you are married)\n",
    "End If\n",
    "if marital_status!=  0 or 1:\n",
    "    print(invalid option)\n",
    "End If\n",
    "if (age>18 and marital_status==1):\n",
    "   print(you are insured)\n",
    "End If\n",
    "if (age>18 and marital_status!=1):\n",
    "   print(you are not insured)\n",
    "End If\n",
    "if (age<18 and marital_status==1):\n",
    "   print(you are not insured)\n",
    "End If\n",
    "END \n",
    "#step 6: select most suitable programming language, IDE, and machine to write down high quality code\n",
    "programming language: Python\n",
    "IDE: Pycharm\n",
    "machine : windows icore-9\n",
    "step 7: write down system and developer information\n",
    "developer name: Marriyam Andeel\n",
    "Developer's Company: ayz company\n",
    "Phone number:\n",
    "version:\n",
    "operation system:\n",
    "program name:\n",
    "start date: \n",
    "end date: \n",
    "'''\n",
    "# step 8: transform the pseudo-code into code\n",
    "# input the value\n",
    "age = int(input(\"Enter age: \"))\n",
    "if (age >=18):\n",
    "    print(\"you are an adult.\")\n",
    "if (age<18):\n",
    "    print(\"you are a minor.\")\n",
    "marital_status = int (input(\"enter your marital status(0 for unmarried and 1 for married): \"))\n",
    "if (marital_status==0):\n",
    "    print(\"you are unmarried.\")\n",
    "if (marital_status==1):\n",
    "    print(\"you are married.\")\n",
    "if (marital_status!= 1 and marital_status != 0):\n",
    "    print(\"invalid option!\")\n",
    "if (age >=18 and marital_status==1):\n",
    "    print(\"you are insured.\")  \n",
    "if (age >=18 and marital_status!=1):\n",
    "    print(\"you are not insured.\")\n",
    "if (age <18 and marital_status==1):\n",
    "    print(\"you are  not insured.\")\n",
    "if (age <18 and marital_status!=1):\n",
    "    print(\"you are not insured.\")"
   ]
  },
  {
   "cell_type": "code",
   "execution_count": 125,
   "metadata": {},
   "outputs": [
    {
     "name": "stdout",
     "output_type": "stream",
     "text": [
      "you are an adult.\n",
      "you are unmarried.\n",
      "you are female.\n"
     ]
    }
   ],
   "source": [
    "# task 2:\n",
    "# step 1:\n",
    "'''A program in which the user is asked to enter his / her age , marital status to check whether they are insured or not\n",
    "upgradation of same program is done by adding another feature of gender '''\n",
    "# step 2:  extract client requirements\n",
    "'''a program using selection structures to check whether the user is insured or not\n",
    "note: you need to be very specific \n",
    "# step 3: extract input processing and output\n",
    "input: 1 variable of int datatype\n",
    "processing: using if statements , input() function , print() function\n",
    "output: number of outputs  = 1\n",
    "       most suitable datatype = string\n",
    "# step 4: pseudo-code:\n",
    "START\n",
    "DECLARE: 3 variable of int datatype = age , marital_status ,  gender\n",
    "PROMPT: the user to enter the value of the 1st variable:\"enter your age: \"\n",
    "READ: the user's input and display on screen\n",
    "if age>18:\n",
    "    print(you are an adult)\n",
    "End If\n",
    "if age<18:\n",
    "    print(you are a minor)\n",
    "End If\n",
    "PROMPT: the user to enter the value of the 2nd variable:\"enter your marital status: \"\n",
    "READ: the user's input and display on screen\n",
    "if marital_status== 0:\n",
    "    print(you are unmarried)\n",
    "End If\n",
    "if marital_status!= 1:\n",
    "    print(you are married)\n",
    "End If\n",
    "if marital_status!=  0 and 1:\n",
    "    print(invalid option)\n",
    "End If\n",
    "PROMPT: the user to enter the value of the 3rd variable:\"enter your gender(1 =female, 0 = male): \"\n",
    "READ: the user's input and display on screen\n",
    "if gender== 0:\n",
    "    print(you are male)\n",
    "End If\n",
    "if gender== 1:\n",
    "    print(you are female)\n",
    "if gender!= 1 amd gender != 0:\n",
    "    print(invalid option)\n",
    "End If\n",
    "if (gender ==1 and age>18 and marital_status==1 ):\n",
    "   print(you are insured)\n",
    "End If\n",
    "if (gender ==1 and age>18 and marital_status==0 ):\n",
    "   print(you are not insured)\n",
    "End If\n",
    "if (gender ==1 and age>=30 and marital_status==0 ):\n",
    "   print(you are insured)\n",
    "End If\n",
    "if (gender ==0 and age>18 and marital_status==1 ):\n",
    "   print(you are insured)\n",
    "End If\n",
    "if (gender ==0 and age>18 and marital_status==0 ):\n",
    "   print(you are not insured)\n",
    "End If\n",
    "if (gender ==0 and age>35 and marital_status==0 ):\n",
    "   print(you are insured)\n",
    "End If\n",
    "\n",
    "END \n",
    "#step 6: select most suitable programming language, IDE, and machine to write down high quality code\n",
    "programming language: Python\n",
    "IDE: Pycharm\n",
    "machine : windows icore-9\n",
    "step 7: write down system and developer information\n",
    "developer name: Marriyam Andeel\n",
    "Developer's Company: ayz company\n",
    "Phone number:\n",
    "version:\n",
    "operation system:\n",
    "program name:\n",
    "start date: \n",
    "end date: \n",
    "'''\n",
    "# step 8: transform the pseudo-code into code\n",
    "# input the value\n",
    "age = int(input(\"Enter age: \"))\n",
    "if (age >=18):\n",
    "    print(\"you are an adult.\")\n",
    "if (age<18):\n",
    "    print(\"you are a minor.\")\n",
    "marital_status = int (input(\"enter your marital status(0 for unmarried and 1 for married): \"))\n",
    "if (marital_status==0):\n",
    "    print(\"you are unmarried.\")\n",
    "if (marital_status==1):\n",
    "    print(\"you are married.\")\n",
    "if (marital_status!= 1 and marital_status != 0):\n",
    "    print(\"invalid option!\")\n",
    "gender =int (input(\"enter your gender (1=female , 0=male): \"))\n",
    "if (gender==0):\n",
    "    print(\"you are male.\")\n",
    "if (gender==1):\n",
    "    print(\"you are female.\")\n",
    "if (gender!= 1 and gender != 0):\n",
    "    print(\"invalid option!\")\n",
    "\n",
    "if (age >=18 and marital_status==1):\n",
    "    print(\"you are insured.\")  \n",
    "if (age <18 and marital_status==1):\n",
    "    print(\"you are  not insured.\")\n",
    "if (age <18 and marital_status!=1):\n",
    "    print(\"you are not insured.\")\n",
    "if(gender == 1 and age>=30 and marital_status==0):\n",
    "    print(\"you are insured.\")\n",
    "if(gender == 0 and age >=35 and marital_status==0):\n",
    "    print(\"you are insured.\")"
   ]
  },
  {
   "cell_type": "code",
   "execution_count": 126,
   "metadata": {},
   "outputs": [
    {
     "data": {
      "text/plain": [
       "'\\nstep 9: dry run:\\n\\nn = int(input(\"enter a number: \")) -> 5\\nif(n%2!=0):       5%2!=0 ->True   -> output-> Wierd\\n    print(\"Weird\")\\nif(n%2==0 and n in range (2,5)):\\n    print(\"Not Weird\")\\nif(n%2==0 and n in range(6,21)):\\n    print(\"Weird\")\\nif(n%2==0 and n>20):\\n    print(\"Not Weird\")\\n '"
      ]
     },
     "execution_count": 126,
     "metadata": {},
     "output_type": "execute_result"
    }
   ],
   "source": [
    "# task 3:\n",
    "'''A program in which the user is asked to enter his / her age , marital status to check whether they are insured or not\n",
    "upgradation of same program is done by adding another feature of gender '''\n",
    "# step 2:  extract client requirements\n",
    "'''a program using selection structures to check whether the user is insured or not\n",
    "note: you need to be very specific \n",
    "# step 3: extract input processing and output\n",
    "input: 1 variable of int datatype\n",
    "processing: using if statements , input() function , print() function\n",
    "output: number of outputs  = 1\n",
    "       most suitable datatype = string\n",
    "# step 4: pseudo-code:\n",
    "START\n",
    "DECLARE: a variable of int datatype = number\n",
    "PROMPT: the user to enter the value of the 1st variable:\"enter your age: \"\n",
    "READ: the user's input and display on screen\n",
    "n = int(input(\"enter a number: \"))\n",
    "if(n%2!=0):\n",
    "    print(\"Weird\")\n",
    "if(n%2==0 and n in range (2,5)):\n",
    "    print(\"Not Weird\")\n",
    "if(n%2==0 and n in range(6,21)):\n",
    "    print(\"Weird\")\n",
    "if(n%2==0 and n>20):\n",
    "    print(\"Not Weird\")\n",
    "END\n",
    "#step 6: select most suitable programming language, IDE, and machine to write down high quality code\n",
    "programming language: Python\n",
    "IDE: Pycharm\n",
    "machine : windows icore-9\n",
    "step 7: write down system and developer information\n",
    "developer name: Marriyam Andeel\n",
    "Developer's Company: ayz company\n",
    "Phone number:\n",
    "version:\n",
    "operation system:\n",
    "program name:\n",
    "start date: \n",
    "end date: \n",
    "\n",
    "'''\n",
    "\n",
    "\n",
    "n = int(input(\"enter a number: \"))\n",
    "if(n%2!=0):\n",
    "    print(\"Weird\")\n",
    "if(n%2==0 and n in range (2,5)):\n",
    "    print(\"Not Weird\")\n",
    "if(n%2==0 and n in range(6,21)):\n",
    "    print(\"Weird\")\n",
    "if(n%2==0 and n>20):\n",
    "    print(\"Not Weird\")\n",
    "'''\n",
    "step 9: dry run:\n",
    "\n",
    "n = int(input(\"enter a number: \")) -> 5\n",
    "if(n%2!=0):       5%2!=0 ->True   -> output-> Wierd\n",
    "    print(\"Weird\")\n",
    "if(n%2==0 and n in range (2,5)):\n",
    "    print(\"Not Weird\")\n",
    "if(n%2==0 and n in range(6,21)):\n",
    "    print(\"Weird\")\n",
    "if(n%2==0 and n>20):\n",
    "    print(\"Not Weird\")\n",
    " '''\n"
   ]
  },
  {
   "cell_type": "markdown",
   "metadata": {},
   "source": [
    "## lecture 6\n",
    "## if-else statements"
   ]
  },
  {
   "cell_type": "code",
   "execution_count": 127,
   "metadata": {},
   "outputs": [
    {
     "name": "stdout",
     "output_type": "stream",
     "text": [
      "55 is an odd number.\n"
     ]
    },
    {
     "data": {
      "text/plain": [
       "'\\ndry run->\\nnumber = int(input(\\'enter a number:\\')) -> 5\\nif(number%2==0):                          5%2==0 -> False\\n    print(f\"{number} is an even number.\")\\nelse:\\n    print(f\"{number} is an odd number.\") output-> 5 is an odd number\\n    '"
      ]
     },
     "execution_count": 127,
     "metadata": {},
     "output_type": "execute_result"
    }
   ],
   "source": [
    "# example 1:\n",
    "number = int(input('enter a number:'))\n",
    "if(number%2==0):\n",
    "    print(f\"{number} is an even number.\")\n",
    "else:\n",
    "    print(f\"{number} is an odd number.\")\n",
    "'''\n",
    "dry run->\n",
    "number = int(input('enter a number:')) -> 5\n",
    "if(number%2==0):                          5%2==0 -> False\n",
    "    print(f\"{number} is an even number.\")\n",
    "else:\n",
    "    print(f\"{number} is an odd number.\") output-> 5 is an odd number\n",
    "    '''\n"
   ]
  },
  {
   "cell_type": "code",
   "execution_count": 128,
   "metadata": {},
   "outputs": [
    {
     "name": "stdout",
     "output_type": "stream",
     "text": [
      "75.0 is greater than 35.0.\n"
     ]
    },
    {
     "data": {
      "text/plain": [
       "'\\ndry run ->\\nnum1 =  4.0\\nnum2 = 5.2\\nif(4.0>5.2):                ->False\\n      print(4 is greater than 5.2) \\nelse:\\n     print(5.2 is greater than 4.0)  # output\\n'"
      ]
     },
     "execution_count": 128,
     "metadata": {},
     "output_type": "execute_result"
    }
   ],
   "source": [
    "# example 2:\n",
    "# given two numbers determine which one is greater\n",
    "num1 = float(input('enter number 1: '))\n",
    "num2 = float(input('enter number 2: '))\n",
    "if(num1>num2):\n",
    "    print(f'{num1} is greater than {num2}')\n",
    "else:\n",
    "    print(f'{num2} is greater than {num1}.')\n",
    "'''\n",
    "dry run ->\n",
    "num1 =  4.0\n",
    "num2 = 5.2\n",
    "if(4.0>5.2):                ->False\n",
    "      print(4 is greater than 5.2) \n",
    "else:\n",
    "     print(5.2 is greater than 4.0)  # output\n",
    "'''"
   ]
  },
  {
   "cell_type": "markdown",
   "metadata": {},
   "source": [
    " to do tasks:"
   ]
  },
  {
   "cell_type": "code",
   "execution_count": 129,
   "metadata": {},
   "outputs": [
    {
     "name": "stdout",
     "output_type": "stream",
     "text": [
      "you are elligible to vote!\n"
     ]
    }
   ],
   "source": [
    "# task 1:\n",
    "'''\n",
    "step 1:\n",
    "write a program to ask the user to input their age to tell whether they are elligible to vote or not.\n",
    "step 2:\n",
    "using if-else statements along with input() function\n",
    "step 3:\n",
    "input: age\n",
    "processing: checking if-else statements\n",
    "output: true condition of the if-else statements will be shown as an ouput\n",
    "step 4:\n",
    "DECLARE a variable of int datatype : age\n",
    "PROMPT the user to input the age \n",
    "READ the input and store it check the conditions\n",
    "if age>=18:\n",
    " print (eligible)\n",
    "else:\n",
    "    (not eligible)\n",
    "END\n",
    "#step 6: select most suitable programming language, IDE, and machine to write down high quality code\n",
    "programming language: Python\n",
    "IDE: Pycharm\n",
    "machine : windows icore-9\n",
    "step 7: write down system and developer information\n",
    "developer name: Marriyam Andeel\n",
    "Developer's Company: ayz company\n",
    "Phone number:\n",
    "version:\n",
    "operation system:\n",
    "program name:\n",
    "start date: \n",
    "end date: \n",
    "'''\n",
    "age = int(input('enter your age: '))\n",
    "if age>=18:\n",
    "    print('you are elligible to vote!')\n",
    "else:\n",
    "    print('you are not elligible to vote!')"
   ]
  },
  {
   "cell_type": "code",
   "execution_count": 130,
   "metadata": {},
   "outputs": [
    {
     "name": "stdout",
     "output_type": "stream",
     "text": [
      "you are a female.\n"
     ]
    }
   ],
   "source": [
    "# task 2:\n",
    "'''\n",
    "step 1:\n",
    "write a program to ask the user to input their hair length to determine their gender\n",
    "step 2:\n",
    "using if-else statements with input()function\n",
    "step 3:\n",
    "input: hair_length\n",
    "processing : if-else statements\n",
    "output: gender of the user in form of a string\n",
    "step 4:\n",
    "START\n",
    "declare a variable of float datatype: hair_length\n",
    "prompt the user to input the hair length to check the conditions\n",
    "if hair_length <=6:\n",
    "     print(male)\n",
    "else:\n",
    "     print(female)\n",
    "end\n",
    "#step 6: select most suitable programming language, IDE, and machine to write down high quality code\n",
    "programming language: Python\n",
    "IDE: Pycharm\n",
    "machine : windows icore-9\n",
    "step 7: write down system and developer information\n",
    "developer name: Marriyam Andeel\n",
    "Developer's Company: ayz company\n",
    "Phone number:\n",
    "version:\n",
    "operation system:\n",
    "program name:\n",
    "start date: \n",
    "end date: \n",
    "'''\n",
    "hair_length = float(input('enter your hair length in inches:'))\n",
    "if hair_length<=6.0:\n",
    "    print('you are a male.')\n",
    "else:\n",
    "    print('you are a female.')"
   ]
  },
  {
   "cell_type": "markdown",
   "metadata": {},
   "source": [
    "## if-elif statements"
   ]
  },
  {
   "cell_type": "code",
   "execution_count": 131,
   "metadata": {},
   "outputs": [
    {
     "name": "stdout",
     "output_type": "stream",
     "text": [
      "you are under weight\n"
     ]
    }
   ],
   "source": [
    "# example 1:\n",
    "'''\n",
    "step1:\n",
    "write a program to ask the user to input the BMI index of the user categorize into obese , overweight, normal and weak.\n",
    "step 2:\n",
    "using if-elif statements with input() function\n",
    "step 3:\n",
    "input: height and weight\n",
    "processing: if-elif statements\n",
    "output: the BMI of the user\n",
    "step 4:\n",
    "declare two variables of float datatype : height and weight also bmi \n",
    "prompt the user to  input the values of the variables\n",
    "read the input check the conditions of the if elif statements\n",
    "BMI= weight/(height**2)\n",
    "if  bmi< 18.5:\n",
    "    print(underweight)\n",
    "elif bmi<24.9:\n",
    "    print(normal)\n",
    "elif bmi<29.9:\n",
    "    print(over weight)\n",
    "else:\n",
    "    print(obese)\n",
    "end\n",
    "step 6: select most suitable programming language, IDE, and machine to write down high quality code\n",
    "programming language: Python\n",
    "IDE: Pycharm\n",
    "machine : windows icore-9\n",
    "step 7: write down system and developer information\n",
    "developer name: Marriyam Andeel\n",
    "Developer's Company: ayz company\n",
    "Phone number:\n",
    "version:\n",
    "operation system:\n",
    "program name:\n",
    "start date: \n",
    "end date:\n",
    "'''\n",
    "weight = float(input('enter your weight: '))\n",
    "height = float(input('enter your height: '))\n",
    "bmi = weight/(height**2)\n",
    "if bmi<18.5:\n",
    "    print('you are under weight')\n",
    "elif bmi<24.9:\n",
    "    print('you are normal weight')\n",
    "elif bmi<29.9:\n",
    "    print('you are over weight')\n",
    "else:\n",
    "    print('you are obese')\n",
    "\n"
   ]
  },
  {
   "cell_type": "code",
   "execution_count": 132,
   "metadata": {},
   "outputs": [
    {
     "name": "stdout",
     "output_type": "stream",
     "text": [
      "very good\n"
     ]
    }
   ],
   "source": [
    "# example 2:\n",
    "'''\n",
    "step 1:\n",
    "write a program to ask user to input his/her marks while the program will return the grade of the student\n",
    "step 2:\n",
    "if elif statements\n",
    "step 3:\n",
    "input: marks\n",
    "processing: if elif statemnts\n",
    "output: grade \n",
    "step 4:\n",
    "Declare  a variable of float datatype : marks\n",
    "prompt the user to input the number\n",
    "read the input and check the conditions\n",
    "if marks>=90:\n",
    "        print('excelent')\n",
    "elif makrs>=85:\n",
    "    print('very good')\n",
    "elif marks>=75:\n",
    "    print('good')\n",
    "else:\n",
    "    print('keep working!')\n",
    "endstep 6: select most suitable programming language, IDE, and machine to write down high quality code\n",
    "programming language: Python\n",
    "IDE: Pycharm\n",
    "machine : windows icore-9\n",
    "step 7: write down system and developer information\n",
    "developer name: Marriyam Andeel\n",
    "Developer's Company: ayz company\n",
    "Phone number:\n",
    "version:\n",
    "operation system:\n",
    "program name:\n",
    "start date: \n",
    "end date:\n",
    "'''\n",
    "marks = float(input('enter your marks: '))\n",
    "if marks>=90:\n",
    "    print('excellent')\n",
    "elif marks>=85:\n",
    "    print('very good')\n",
    "elif marks>=75:\n",
    "    print('good')\n",
    "else:\n",
    "    print('needs improvement')"
   ]
  },
  {
   "cell_type": "markdown",
   "metadata": {},
   "source": [
    "to do tasks:"
   ]
  },
  {
   "cell_type": "code",
   "execution_count": 133,
   "metadata": {},
   "outputs": [
    {
     "name": "stdout",
     "output_type": "stream",
     "text": [
      "number is positive\n"
     ]
    }
   ],
   "source": [
    "# taks 1:\n",
    "'''\n",
    "step 1:\n",
    "ask a user to input a number and check whether it is positive,negative or zero \n",
    "step2:\n",
    "if-elif statements and input()function\n",
    "step 3:\n",
    "input: a number\n",
    "processing: if-elif statement\n",
    "output: true condition -> +ive,-ive,zero\n",
    "step 4:\n",
    "start\n",
    "declare a variale of float datatype: number\n",
    "prompt the user to input the nummber\n",
    "read the number and check the conditions\n",
    "if number===0:\n",
    "    print(zero)\n",
    "elif number<0:\n",
    "    print(negative)\n",
    "else:\n",
    "    print(positive)\n",
    "end\n",
    "step 6: select most suitable programming language, IDE, and machine to write down high quality code\n",
    "programming language: Python\n",
    "IDE: Pycharm\n",
    "machine : windows icore-9\n",
    "step 7: write down system and developer information\n",
    "developer name: Marriyam Andeel\n",
    "Developer's Company: ayz company\n",
    "Phone number:\n",
    "version:\n",
    "operation system:\n",
    "program name:\n",
    "start date: \n",
    "end date:\n",
    "'''\n",
    "\n",
    "number = float(input('enter a number: '))\n",
    "if number==0:\n",
    "    print('number is zero')\n",
    "elif number<0:\n",
    "    print('number is negative')\n",
    "else:\n",
    "    print('number is positive')"
   ]
  },
  {
   "cell_type": "code",
   "execution_count": 134,
   "metadata": {},
   "outputs": [
    {
     "name": "stdout",
     "output_type": "stream",
     "text": [
      "senior\n"
     ]
    }
   ],
   "source": [
    "# task 2:\n",
    "'''\n",
    "step 1:\n",
    "ask the user to input their age to check whether they are child,teenage , adult or senior\n",
    "step 2:\n",
    "if elif statements\n",
    "step 3:\n",
    "input: age of the user\n",
    "processing: if elif statements\n",
    "output: child,teenage , adult, senior\n",
    "step 4:\n",
    "start\n",
    "declare a variable of int datatype : age\n",
    "prompt the user to input their age \n",
    "read the input to check the conditions\n",
    "if age>=12:\n",
    "    print(child)\n",
    "elif age>12 and age<=19:\n",
    "    print('teenage')\n",
    "elif age>=20 and age<=60:\n",
    "    print('adult')\n",
    "else:\n",
    "    print('senior')\n",
    "end\n",
    "step 6: select most suitable programming language, IDE, and machine to write down high quality code\n",
    "programming language: Python\n",
    "IDE: Pycharm\n",
    "machine : windows icore-9\n",
    "step 7: write down system and developer information\n",
    "developer name: Marriyam Andeel\n",
    "Developer's Company: ayz company\n",
    "Phone number:\n",
    "version:\n",
    "operation system:\n",
    "program name:\n",
    "start date: \n",
    "end date:\n",
    "'''\n",
    "\n",
    "age = int(input('enter your age: '))\n",
    "if age<=12:\n",
    "    print('child')\n",
    "elif age>=13 and age<=19:\n",
    "    print('teenage')\n",
    "elif age>=20 and age<=60:\n",
    "    print('adult')\n",
    "else:\n",
    "    print('senior')"
   ]
  },
  {
   "cell_type": "code",
   "execution_count": 135,
   "metadata": {},
   "outputs": [
    {
     "name": "stdout",
     "output_type": "stream",
     "text": [
      "Payment Successful!\n"
     ]
    }
   ],
   "source": [
    "# task 3\n",
    "'''\n",
    "step 1:\n",
    "ask the user to input the amoount of their purchase to check whether they are able to purchase it without pin or not\n",
    "step 2:\n",
    "if else statements\n",
    "step 3:\n",
    "input: amount of purchase\n",
    "processing: if else statements\n",
    "output: purchase approved or not\n",
    "step 4:\n",
    "start\n",
    "declare a variable of float datatype : = amount\n",
    "prompt the user to input the amount \n",
    "read the input to check the conditions\n",
    "if amount>=50:\n",
    "    print(approved)\n",
    "else:\n",
    "    print(not approved please enter a pin to verify)\n",
    "end\n",
    "step 6: select most suitable programming language, IDE, and machine to write down high quality code\n",
    "programming language: Python\n",
    "IDE: Pycharm\n",
    "machine : windows icore-9\n",
    "step 7: write down system and developer information\n",
    "developer name: Marriyam Andeel\n",
    "Developer's Company: ayz company\n",
    "Phone number:\n",
    "version:\n",
    "operation system:\n",
    "program name:\n",
    "start date: \n",
    "end date:\n",
    "'''\n",
    "\n",
    "amount = float(input('Please enter the amount of purchase: '))\n",
    "if amount <= 50:\n",
    "    print(\"Payment Successful!\")\n",
    "else:\n",
    "    print('Sorry! Payment not approved. \\nPlease enter the pin to verify its you.')\n",
    "\n",
    "    '''\n",
    "    dry run\n",
    "    amount = 50.1\n",
    "if 50.1 <= 50:  --> False\n",
    "    print(\"Payment Successful!\")\n",
    "else:             --> True\n",
    "    print('Sorry! Payment not approved. \\nPlease enter the pin to verify its you.')\n",
    "\n",
    "    OUTPUT --> Sorry! Payment not approved. \n",
    "               Please enter the pin to verify its you\n",
    "    '''"
   ]
  },
  {
   "cell_type": "code",
   "execution_count": 6,
   "metadata": {},
   "outputs": [
    {
     "name": "stdout",
     "output_type": "stream",
     "text": [
      "Press 1- to add numbers\n",
      "Press 2- to subtract numbers\n",
      "Press 3- to multiply numbers\n",
      "Press 4- to divide numbers\n",
      "Press 5- to convert temp in celsius to temp in fahrenheit\n",
      "Press 0- to exit\n",
      "The sum of 22.0 and 44.0 is = 66.0\n",
      "The product of 55.0 and 8.0 is = 440.0\n",
      "Exiting the calculator. Goodbye!\n"
     ]
    }
   ],
   "source": [
    "# task 4\n",
    "# Create a calculator which handles +,-,*,/ and outputs answer based on the mode/ operator used\n",
    "# Hint: use 3 separate inputs \n",
    "# Bonus: Extend functionality with extra mode so it also does celsius to fahrenheit conversion\n",
    "# formula is: temp in C*9/5 + 32 = temp in f\n",
    "\n",
    "print('Press 1- to add numbers')\n",
    "print('Press 2- to subtract numbers')\n",
    "print('Press 3- to multiply numbers')\n",
    "print('Press 4- to divide numbers')\n",
    "print('Press 5- to convert temp in celsius to temp in fahrenheit')\n",
    "print('Press 0- to exit')\n",
    "\n",
    "while True:\n",
    "    choice = int(input('Enter your choice: '))\n",
    "    \n",
    "    if choice == 1:\n",
    "        num1 = float(input('Enter 1st number: ')) \n",
    "        num2 = float(input('Enter 2nd number: '))\n",
    "        sum = num1 + num2\n",
    "        print(f'The sum of {num1} and {num2} is = {sum}')\n",
    "        \n",
    "    elif choice == 2:\n",
    "        num1 = float(input('Enter 1st number: '))\n",
    "        num2 = float(input('Enter 2nd number: '))\n",
    "        diff = num1 - num2\n",
    "        print(f'The difference between {num1} and {num2} is = {diff}')\n",
    "        \n",
    "    elif choice == 3:\n",
    "        num1 = float(input('Enter 1st number: '))\n",
    "        num2 = float(input('Enter 2nd number: '))\n",
    "        product = num1 * num2\n",
    "        print(f'The product of {num1} and {num2} is = {product}')\n",
    "        \n",
    "    elif choice == 4:\n",
    "        num1 = float(input('Enter 1st number: '))\n",
    "        num2 = float(input('Enter 2nd number: '))\n",
    "        if num2 != 0:\n",
    "            div = num1 / num2\n",
    "            print(f'Dividing {num1} by {num2} gives = {div}')\n",
    "        else:\n",
    "            print(f'Error! {num1} cannot be divided by 0')\n",
    "            \n",
    "    elif choice == 5:\n",
    "        tempInC = float(input('Enter the temperature in Celsius: '))\n",
    "        tempInF = tempInC * 9/5 + 32\n",
    "        print(f'{tempInC}°C converted to Fahrenheit is = {tempInF}°F')\n",
    "        \n",
    "    elif choice == 0:\n",
    "        print('Exiting the calculator. Goodbye!')\n",
    "        break\n",
    "        \n",
    "    else: \n",
    "        print('Wrong choice, please try again')\n"
   ]
  },
  {
   "cell_type": "code",
   "execution_count": 9,
   "metadata": {},
   "outputs": [
    {
     "name": "stdout",
     "output_type": "stream",
     "text": [
      "44.0 Celsius is equivalent to 111.2 fahrenheit\n"
     ]
    }
   ],
   "source": [
    "# another version\n",
    "\n",
    "mode = input('Enter math operation(+,-,*,/) or f for Celsius to Fahrenheit conversion: ')\n",
    "num1 = float(input('Enter first number: '))\n",
    "if mode.lower() == 'f':\n",
    "    print(f'{num1} Celsius is equivalent to {(num1*9/5)+32 } fahrenheit')\n",
    "else:\n",
    "    num2 = float(input('Enter second number: '))\n",
    "\n",
    "    if mode == '+':\n",
    "        print(f'Answer is: {num1 + num2}')\n",
    "    elif mode == '-':\n",
    "        print(f'Answer is: {num1 - num2}')\n",
    "    elif mode == '*':\n",
    "        print(f'Answer is: {num1 * num2}')\n",
    "    elif mode == '/':\n",
    "        print(f'Answer is: {num1 / num2}')\n",
    "    else:\n",
    "        print('Input error!')"
   ]
  },
  {
   "cell_type": "markdown",
   "metadata": {},
   "source": [
    " ## nested if else"
   ]
  },
  {
   "cell_type": "code",
   "execution_count": 136,
   "metadata": {},
   "outputs": [
    {
     "name": "stdout",
     "output_type": "stream",
     "text": [
      "both x and y are positive!\n"
     ]
    }
   ],
   "source": [
    "# example 1:\n",
    "x = float(input('enter a number: '))   #5.5\n",
    "y = float(input('enter a number: '))   # -7.0\n",
    "if x>0:\n",
    "    if y>0:\n",
    "        print('both x and y are positive!')\n",
    "    else:\n",
    "        print('x is positive but y is not! ')\n",
    "else:\n",
    "    print(' x is not positive')\n"
   ]
  },
  {
   "cell_type": "markdown",
   "metadata": {},
   "source": [
    "## conditional statements"
   ]
  },
  {
   "cell_type": "code",
   "execution_count": 137,
   "metadata": {},
   "outputs": [
    {
     "name": "stdout",
     "output_type": "stream",
     "text": [
      "True\n",
      "True\n"
     ]
    }
   ],
   "source": [
    "# example 1:\n",
    "age = 40\n",
    "is_adult = True if age>=18 else False\n",
    "print(is_adult)\n",
    "\n",
    "age = int(input('enter your age: '))   # age = 12\n",
    "is_adult = True if age>=18 else False\n",
    "print(is_adult)"
   ]
  },
  {
   "cell_type": "code",
   "execution_count": 138,
   "metadata": {},
   "outputs": [
    {
     "name": "stdout",
     "output_type": "stream",
     "text": [
      "False\n"
     ]
    }
   ],
   "source": [
    "# example 2:\n",
    "marks = 45\n",
    "is_pass = True if marks>=50  else False\n",
    "print(is_pass)"
   ]
  },
  {
   "cell_type": "markdown",
   "metadata": {},
   "source": [
    "## logical operators"
   ]
  },
  {
   "cell_type": "code",
   "execution_count": 139,
   "metadata": {},
   "outputs": [
    {
     "name": "stdout",
     "output_type": "stream",
     "text": [
      "one of the two is positive\n",
      "x is not less than zero\n"
     ]
    }
   ],
   "source": [
    "# and , or , not\n",
    "\n",
    "# example 1:\n",
    "x = 5\n",
    "y = -8\n",
    "if x>0 and y>0:\n",
    "    print('both are positive')\n",
    "\n",
    "if x>0 or y>0:\n",
    "    print('one of the two is positive')\n",
    "\n",
    "if not(x<0):\n",
    "    print('x is not less than zero')\n",
    "if not(y<0):\n",
    "    print('y is not less than zero')"
   ]
  },
  {
   "cell_type": "code",
   "execution_count": 140,
   "metadata": {},
   "outputs": [
    {
     "name": "stdout",
     "output_type": "stream",
     "text": [
      "2) both conditions are not true.\n",
      "1) any one of the two is true\n"
     ]
    }
   ],
   "source": [
    "# example 2:\n",
    "if (5>3) and (6<5):\n",
    "    print('1) both conditions are true.')\n",
    "else:\n",
    "    print('2) both conditions are not true.')\n",
    "\n",
    "if (5>3) or (6<5):\n",
    "    print('1) any one of the two is true')\n",
    "else:\n",
    "    print('2) both are true')"
   ]
  },
  {
   "cell_type": "markdown",
   "metadata": {},
   "source": [
    "## and operator"
   ]
  },
  {
   "cell_type": "code",
   "execution_count": 141,
   "metadata": {},
   "outputs": [
    {
     "name": "stdout",
     "output_type": "stream",
     "text": [
      "86.0 is larger than 43.0 and 64.0\n"
     ]
    }
   ],
   "source": [
    "# example 3:\n",
    "# input 3 numbers by the user and check which one is the largest\n",
    "num1 = float(input('enter number 1:'))\n",
    "num2 = float(input('enter number 2:'))\n",
    "num3 = float(input('enter number 3:'))\n",
    "if (num1>num2) and (num1>num3):\n",
    "    print(f'{num1} is larger than {num2} and {num3}')\n",
    "elif (num2>num1) and (num2>num3):\n",
    "    print(f'{num2} is larger than {num1} and {num3}')\n",
    "#elif(num3>num1) and (num3>num2):\n",
    "   # print(f'{num3} is larger than {num1} and {num2}')\n",
    "else:\n",
    "     print(f'{num3} is larger than {num1} and {num2}')"
   ]
  },
  {
   "cell_type": "code",
   "execution_count": 142,
   "metadata": {},
   "outputs": [
    {
     "name": "stdout",
     "output_type": "stream",
     "text": [
      "number entered by the user are\n",
      " num1= 85.0\n",
      " num2= 75.0\n",
      " num3= 75.0\n",
      " num4= 57.0\n",
      " num5= 46.0\n",
      " \n",
      "85.0 is the largest number\n"
     ]
    }
   ],
   "source": [
    "# todo task 1:\n",
    "# input 5 numbers by the user and check which one is the largest\n",
    "num1 = float(input('enter number 1:'))\n",
    "num2 = float(input('enter number 2:'))\n",
    "num3 = float(input('enter number 3:'))\n",
    "num4 = float(input('enter number 4:'))\n",
    "num5 = float(input('enter number 5:'))\n",
    "print(f'number entered by the user are\\n num1= {num1}\\n num2= {num2}\\n num3= {num3}\\n num4= {num4}\\n num5= {num5}\\n ')\n",
    "if (num1>num2) and (num1>num3) and (num1>num4) and (num1>num5):\n",
    "    print(f'{num1} is the largest number')\n",
    "elif (num2>num1) and (num2>num3) and (num2>num4) and (num2>num5):\n",
    "    print(f'{num2} is the  largest number')\n",
    "elif(num3>num1) and (num3>num2) and(num3>num4) and (num3>num5):\n",
    "    print(f'{num3} is the largest number ')\n",
    "elif(num4>num1) and (num4>num2) and(num4>num3) and (num4>num5):\n",
    "    print(f'{num4} is the largest number ')\n",
    "else:\n",
    "     print(f'{num5} is the largest number')"
   ]
  },
  {
   "cell_type": "markdown",
   "metadata": {},
   "source": [
    "## or operator"
   ]
  },
  {
   "cell_type": "code",
   "execution_count": 143,
   "metadata": {},
   "outputs": [
    {
     "name": "stdout",
     "output_type": "stream",
     "text": [
      "consonant\n",
      "vowel\n"
     ]
    }
   ],
   "source": [
    "# example 1:\n",
    "# checking vowels or consonants\n",
    "\n",
    "\n",
    "# bug in this code if capital letter is added in will always considered as consonant\n",
    "letter = str(input('enter a letter: '))             #->A\n",
    "if letter== 'a' or letter=='e' or letter=='i' or letter=='o' or letter=='u':\n",
    "    print('vowel')\n",
    "else:\n",
    "    print('consonant')\n",
    "\n",
    "\n",
    "\n",
    "# modified form \n",
    "let = str(input('enter a letter: '))      # ->A\n",
    "letter=let.lower()\n",
    "if letter== 'a' or letter=='e' or letter=='i' or letter=='o' or letter=='u':\n",
    "    print('vowel')\n",
    "else:\n",
    "    print('consonant')"
   ]
  },
  {
   "cell_type": "code",
   "execution_count": 144,
   "metadata": {},
   "outputs": [
    {
     "name": "stdout",
     "output_type": "stream",
     "text": [
      "lengths of triangle entered by the user are\n",
      " 55.0\n",
      " 35.0\n",
      " 64.0\n",
      "scalene triangle\n"
     ]
    }
   ],
   "source": [
    "# your turn task 1:\n",
    "'''\n",
    "step 1\n",
    "write a program that take 3 lengths of the 3 sides of a triangle and tell whether the triangle is equilateral  , isosceles or scalene\n",
    "step 2:\n",
    "and , or operators within if else statements\n",
    "step 3\n",
    "input: 3 lengths of a triangle\n",
    "processing : checking  the conditions\n",
    "output : the type of triangle in the form of string\n",
    "step 4:\n",
    "declare 3 variables o float datatype: len1,len2,len3\n",
    "prompt the user to enter the 3 lengths\n",
    "read the input and check the conditions\n",
    "if len1==len2 and len1==len3:\n",
    "   print(equilateral)\n",
    "elif len1==len2 or len1==len3 or len2==len3 :\n",
    "   print(isosceles)\n",
    "elif len1!=len2 or len2!=len3 or len3!=len1:\n",
    "   print (scalene)\n",
    "#else:\n",
    "# print(scalene)\n",
    "end\n",
    "\n",
    "step 6: select most suitable programming language, IDE, and machine to write down high quality code\n",
    "programming language: Python\n",
    "IDE: Pycharm\n",
    "machine : windows icore-9\n",
    "step 7: write down system and developer information\n",
    "developer name: Marriyam Andeel\n",
    "Developer's Company: ayz company\n",
    "Phone number:\n",
    "version:\n",
    "operation system:\n",
    "program name:\n",
    "start date: \n",
    "end date:\n",
    "'''\n",
    "\n",
    "length1 = float(input('enter length 1: '))\n",
    "length2 = float(input('enter length 2: '))\n",
    "length3 = float(input('enter length 3: '))\n",
    "\n",
    "print(f'lengths of triangle entered by the user are\\n {length1}\\n {length2}\\n {length3}')\n",
    "if length1==length2 and length1==length3:\n",
    "    print('equilateral triangle')\n",
    "elif length1 == length2 or length2 == length3 or length3 == length1:\n",
    "    print('isosceles triangle')\n",
    "else:\n",
    "    print('scalene triangle')"
   ]
  },
  {
   "cell_type": "markdown",
   "metadata": {},
   "source": [
    "## not operator"
   ]
  },
  {
   "cell_type": "code",
   "execution_count": 145,
   "metadata": {},
   "outputs": [
    {
     "name": "stdout",
     "output_type": "stream",
     "text": [
      "let's go for a walk\n"
     ]
    }
   ],
   "source": [
    "# example 1\n",
    "is_raining =False\n",
    "if not(is_raining):\n",
    "    print('let\\'s go for a walk') \n",
    "else:\n",
    "    print('stay  indoor it\\'s raining')"
   ]
  },
  {
   "cell_type": "code",
   "execution_count": 146,
   "metadata": {},
   "outputs": [
    {
     "name": "stdout",
     "output_type": "stream",
     "text": [
      "x is positive and y is not less than or equal to 2\n"
     ]
    }
   ],
   "source": [
    "# example 2\n",
    "x=3\n",
    "y=5\n",
    "if (x>=0) and (not(y<=2)):\n",
    "    print('x is positive and y is not less than or equal to 2')\n",
    "else:\n",
    "    print('one or both conditions are not true')\n"
   ]
  },
  {
   "cell_type": "code",
   "execution_count": 147,
   "metadata": {},
   "outputs": [
    {
     "name": "stdout",
     "output_type": "stream",
     "text": [
      "2024 is a leap year\n"
     ]
    }
   ],
   "source": [
    "# to do task 1\n",
    "'''\n",
    "step 1\n",
    "check the given input by the user of the year s leap or not\n",
    "step 2\n",
    "and, or operators if else statements\n",
    "step 3\n",
    "input: year\n",
    "processing: if else statement\n",
    "output: string to check the condition is true leap year or not\n",
    "step 4:\n",
    "declare a variable of int datatype: year\n",
    "prompt the user to input the year \n",
    "read the input by the user and check the user\n",
    "if year%4==0 and year%100!=0:\n",
    "       print(leap year)\n",
    "elif year%400==0:\n",
    "      print(leap year)\n",
    "else:\n",
    "    print(not a leap year)\n",
    "END\n",
    "step 6: select most suitable programming language, IDE, and machine to write down high quality code\n",
    "programming language: Python\n",
    "IDE: Pycharm\n",
    "machine : windows icore-9\n",
    "step 7: write down system and developer information\n",
    "developer name: Marriyam Andeel\n",
    "Developer's Company: ayz company\n",
    "Phone number:\n",
    "version:\n",
    "operation system:\n",
    "program name:\n",
    "start date: \n",
    "end date:\n",
    "'''\n",
    "\n",
    "year = int(input('enter the year'))\n",
    "if (year%4==0) and (year%100!=0):\n",
    "    print(f'{year} is a leap year')\n",
    "elif (year%400==0):\n",
    "    print(f'{year} is a leap year')\n",
    "else:\n",
    "    print(f'{year} is a leap year')"
   ]
  },
  {
   "cell_type": "markdown",
   "metadata": {},
   "source": [
    "## lecture 7\n",
    "## while loop"
   ]
  },
  {
   "cell_type": "code",
   "execution_count": 148,
   "metadata": {},
   "outputs": [
    {
     "name": "stdout",
     "output_type": "stream",
     "text": [
      "1\n",
      "2\n",
      "3\n",
      "4\n",
      "5\n"
     ]
    }
   ],
   "source": [
    "# example 1\n",
    "counter = 1\n",
    "while counter<=5:\n",
    "    print(counter)\n",
    "    counter=counter+1\n",
    "    #counter+=1 ->or"
   ]
  },
  {
   "cell_type": "code",
   "execution_count": 149,
   "metadata": {},
   "outputs": [
    {
     "name": "stdout",
     "output_type": "stream",
     "text": [
      "1\n",
      "3\n",
      "5\n",
      "7\n",
      "9\n"
     ]
    }
   ],
   "source": [
    "#example 2\n",
    "counter=1\n",
    "while counter<=9:\n",
    "    print(counter)\n",
    "    counter+=2"
   ]
  },
  {
   "cell_type": "code",
   "execution_count": 150,
   "metadata": {},
   "outputs": [
    {
     "name": "stdout",
     "output_type": "stream",
     "text": [
      "1  Allah\n",
      "2  Allah\n",
      "3  Allah\n",
      "4  Allah\n",
      "5  Allah\n"
     ]
    }
   ],
   "source": [
    "#example 3\n",
    "counter =1\n",
    "while counter<=5:\n",
    "    print(counter,\" Allah\")\n",
    "    counter+=1"
   ]
  },
  {
   "cell_type": "code",
   "execution_count": 151,
   "metadata": {},
   "outputs": [
    {
     "name": "stdout",
     "output_type": "stream",
     "text": [
      "1  Allah\n",
      "3  Allah\n",
      "5  Allah\n"
     ]
    }
   ],
   "source": [
    "#example 4\n",
    "counter =1\n",
    "while counter<=5:\n",
    "    print(counter,\" Allah\")\n",
    "    counter+=2"
   ]
  },
  {
   "cell_type": "code",
   "execution_count": 152,
   "metadata": {},
   "outputs": [
    {
     "name": "stdout",
     "output_type": "stream",
     "text": [
      "1  Allah\n",
      "4  Allah\n"
     ]
    }
   ],
   "source": [
    "#example 5\n",
    "counter =1\n",
    "while counter<=5:\n",
    "    print(counter,\" Allah\")\n",
    "    counter+=3"
   ]
  },
  {
   "cell_type": "code",
   "execution_count": 153,
   "metadata": {},
   "outputs": [
    {
     "name": "stdout",
     "output_type": "stream",
     "text": [
      "0\n",
      "5\n",
      "10\n",
      "15\n",
      "20\n",
      "25\n"
     ]
    }
   ],
   "source": [
    "# example 6\n",
    "counter =0\n",
    "while counter<=25:\n",
    "    print(counter)\n",
    "    counter+=5"
   ]
  },
  {
   "cell_type": "code",
   "execution_count": 154,
   "metadata": {},
   "outputs": [
    {
     "name": "stdout",
     "output_type": "stream",
     "text": [
      "0\n",
      "10\n",
      "20\n",
      "30\n",
      "40\n",
      "50\n"
     ]
    }
   ],
   "source": [
    "#example 7\n",
    "counter =0\n",
    "while counter<=50:\n",
    "    print(counter)\n",
    "    counter+=10"
   ]
  },
  {
   "cell_type": "code",
   "execution_count": 155,
   "metadata": {},
   "outputs": [
    {
     "name": "stdout",
     "output_type": "stream",
     "text": [
      "500\n",
      "400\n",
      "300\n",
      "200\n",
      "100\n"
     ]
    }
   ],
   "source": [
    "#example 8\n",
    "counter =500\n",
    "while counter>=100:\n",
    "    print(counter)\n",
    "    counter-=100"
   ]
  },
  {
   "cell_type": "code",
   "execution_count": 156,
   "metadata": {},
   "outputs": [
    {
     "name": "stdout",
     "output_type": "stream",
     "text": [
      "2 * 1 =  2\n",
      "2 * 2 =  4\n",
      "2 * 3 =  6\n",
      "2 * 4 =  8\n",
      "2 * 5 =  10\n",
      "2 * 6 =  12\n",
      "2 * 7 =  14\n",
      "2 * 8 =  16\n",
      "2 * 9 =  18\n",
      "2 * 10 =  20\n"
     ]
    }
   ],
   "source": [
    "#example 9\n",
    "# table of two\n",
    "num = 2\n",
    "counter =1\n",
    "while counter<=10:\n",
    "    print(f'{num} * {counter} = ',num*counter)\n",
    "    counter+=1"
   ]
  },
  {
   "cell_type": "code",
   "execution_count": 157,
   "metadata": {},
   "outputs": [
    {
     "name": "stdout",
     "output_type": "stream",
     "text": [
      "2 * 1 =  2\n",
      "2 * 2 =  4\n",
      "2 * 3 =  6\n",
      "2 * 4 =  8\n",
      "2 * 5 =  10\n",
      "2 * 6 =  12\n",
      "2 * 7 =  14\n",
      "2 * 8 =  16\n",
      "2 * 9 =  18\n",
      "2 * 10 =  20\n"
     ]
    }
   ],
   "source": [
    "#example 10\n",
    "# table of any number input by user\n",
    "num = int(input('enter a number'))\n",
    "counter =1\n",
    "while counter<=10:\n",
    "    print(f'{num} * {counter} = ',num*counter)\n",
    "    counter+=1"
   ]
  },
  {
   "cell_type": "code",
   "execution_count": 158,
   "metadata": {},
   "outputs": [
    {
     "name": "stdout",
     "output_type": "stream",
     "text": [
      "square of 5 is 25\n"
     ]
    }
   ],
   "source": [
    "# example 11\n",
    "# calculate the square of a number\n",
    "num = int(input('enter a number: '))\n",
    "square = num**2\n",
    "print(f'square of {num} is {square}')"
   ]
  },
  {
   "cell_type": "code",
   "execution_count": 159,
   "metadata": {},
   "outputs": [
    {
     "name": "stdout",
     "output_type": "stream",
     "text": [
      "square of 3 is 9\n"
     ]
    }
   ],
   "source": [
    "# to make  a program user friendly\n",
    "choice = 'yes'\n",
    "while choice =='yes':\n",
    "    number = int(input('enter a number: '))\n",
    "    Square = number**2\n",
    "    print(f'square of {number} is {Square}')\n",
    "    choice = input('enter your choice(yes/no):').strip().lower()\n",
    "\n",
    "\n"
   ]
  },
  {
   "cell_type": "code",
   "execution_count": 160,
   "metadata": {},
   "outputs": [
    {
     "name": "stdout",
     "output_type": "stream",
     "text": [
      "0\n",
      "2\n",
      "4\n",
      "6\n",
      "8\n",
      "10\n",
      "12\n",
      "14\n",
      "16\n",
      "18\n",
      "20\n",
      "22\n",
      "24\n",
      "26\n",
      "28\n",
      "30\n",
      "32\n",
      "34\n",
      "36\n",
      "38\n",
      "40\n",
      "42\n",
      "44\n",
      "46\n",
      "48\n",
      "50\n"
     ]
    }
   ],
   "source": [
    "# to do task 1:\n",
    "'''\n",
    "step 1\n",
    "print the first 50 even numbers \n",
    "step 2\n",
    "while loop\n",
    "step 3:\n",
    "input: counter\n",
    "processing while loop\n",
    "output : first 50 even numbers\n",
    "step 4\n",
    "start\n",
    "declare a variable counter and initialize it as 0\n",
    "while loop where within it will be a if statement as\n",
    "while counter<=50:\n",
    "  if counter%2==0:\n",
    "   print(counter)\n",
    "   counter+=1\n",
    "END\n",
    "step 6: select most suitable programming language, IDE, and machine to write down high quality code\n",
    "programming language: Python\n",
    "IDE: Pycharm\n",
    "machine : windows icore-9\n",
    "step 7: write down system and developer information\n",
    "developer name: Marriyam Andeel\n",
    "Developer's Company: ayz company\n",
    "Phone number:\n",
    "version:\n",
    "operation system:\n",
    "program name:\n",
    "start date: \n",
    "end date:\n",
    "'''\n",
    "counter = 0\n",
    "while counter<=50:\n",
    "    print(counter)\n",
    "    counter+=2\n"
   ]
  },
  {
   "cell_type": "code",
   "execution_count": 161,
   "metadata": {},
   "outputs": [
    {
     "name": "stdout",
     "output_type": "stream",
     "text": [
      "0\n",
      "2\n",
      "4\n",
      "6\n",
      "8\n",
      "10\n",
      "12\n",
      "14\n",
      "16\n",
      "18\n",
      "20\n",
      "22\n",
      "24\n",
      "26\n",
      "28\n",
      "30\n",
      "32\n",
      "34\n",
      "36\n",
      "38\n",
      "40\n",
      "42\n",
      "44\n",
      "46\n",
      "48\n",
      "50\n"
     ]
    }
   ],
   "source": [
    "# another way   1\n",
    "counter = 0\n",
    "while counter <= 50:\n",
    "    if counter % 2 == 0:\n",
    "        print(counter)\n",
    "    counter += 1\n"
   ]
  },
  {
   "cell_type": "code",
   "execution_count": 162,
   "metadata": {},
   "outputs": [
    {
     "name": "stdout",
     "output_type": "stream",
     "text": [
      "1 * 1 = 1\n",
      "1 * 2 = 2\n",
      "1 * 3 = 3\n",
      "1 * 4 = 4\n",
      "1 * 5 = 5\n",
      "1 * 6 = 6\n",
      "1 * 7 = 7\n",
      "1 * 8 = 8\n",
      "1 * 9 = 9\n",
      "1 * 10 = 10\n"
     ]
    }
   ],
   "source": [
    "# to do task 2:\n",
    "'''\n",
    "step 1\n",
    "table of desired number entered by the user\n",
    "step 2\n",
    "while loop\n",
    "step 3\n",
    "input counter = 1, num \n",
    "processing while loop\n",
    "output table of the desired number entered by the user \n",
    "step 4\n",
    "START\n",
    "declare a variable num and counter =1\n",
    "prompt the user to enter the value of number\n",
    "while counter<=10:\n",
    "    print(f'{num}*{counter}=' ,counter*num)\n",
    "    counter+=1\n",
    "END\n",
    "step 6: select most suitable programming language, IDE, and machine to write down high quality code\n",
    "programming language: Python\n",
    "IDE: Pycharm\n",
    "machine : windows icore-9\n",
    "step 7: write down system and developer information\n",
    "developer name: Marriyam Andeel\n",
    "Developer's Company: ayz company\n",
    "Phone number:\n",
    "version:\n",
    "operation system:\n",
    "program name:\n",
    "start date: \n",
    "end date:\n",
    "'''\n",
    "\n",
    "num = int(input('enter a number: '))\n",
    "counter =1\n",
    "while counter<=10:\n",
    "    print(f'{num} * {counter} =' , num*counter)\n",
    "    counter+=1"
   ]
  },
  {
   "cell_type": "code",
   "execution_count": 163,
   "metadata": {},
   "outputs": [
    {
     "name": "stdout",
     "output_type": "stream",
     "text": [
      "the table of 4 with lower bound 2 and upper bound 2 is printed below: \n",
      "4 * 2 =  8\n"
     ]
    }
   ],
   "source": [
    "# task 3\n",
    "'''\n",
    "step 1\n",
    "ask the user to also enter upper and lower bounds as well as the value of the desired table\n",
    "step 2\n",
    "while loop\n",
    "step 3\n",
    "input counter = 1, num \n",
    "processing while loop\n",
    "output table of the desired number entered by the user \n",
    "step 4\n",
    "START\n",
    "declare a variable num and counter =1 also ask for upper and lower bound\n",
    "prompt the user to enter the value of number\n",
    "while counter<=upper bound:\n",
    "    print(f'{num}*{counter}=' ,counter*num)\n",
    "    counter+=1\n",
    "END\n",
    "step 6: select most suitable programming language, IDE, and machine to write down high quality code\n",
    "programming language: Python\n",
    "IDE: Pycharm\n",
    "machine : windows icore-9\n",
    "step 7: write down system and developer information\n",
    "developer name: Marriyam Andeel\n",
    "Developer's Company: ayz company\n",
    "Phone number:\n",
    "version:\n",
    "operation system:\n",
    "program name:\n",
    "start date: \n",
    "end date:\n",
    "'''\n",
    "num  = int(input('enter a number: '))\n",
    "lower_bound = int(input('enter the lower bound: ')) \n",
    "upper_bound = int(input('enter the upper  bound: '))\n",
    "print(f'the table of {num} with lower bound {lower_bound} and upper bound {upper_bound} is printed below: ')\n",
    "\n",
    "while lower_bound<=upper_bound:\n",
    "    print(f'{num} * {lower_bound} = ', num*lower_bound)\n",
    "    lower_bound+=1"
   ]
  },
  {
   "cell_type": "code",
   "execution_count": 164,
   "metadata": {},
   "outputs": [
    {
     "name": "stdout",
     "output_type": "stream",
     "text": [
      "2 * 1 =  2\n",
      "2 * 2 =  4\n",
      "2 * 3 =  6\n",
      "2 * 4 =  8\n",
      "2 * 5 =  10\n",
      "2 * 6 =  12\n",
      "2 * 7 =  14\n",
      "2 * 8 =  16\n",
      "2 * 9 =  18\n",
      "2 * 10 =  20\n",
      "\n",
      "2 * 1 =  2\n",
      "2 * 2 =  4\n",
      "2 * 3 =  6\n",
      "2 * 4 =  8\n",
      "2 * 5 =  10\n",
      "2 * 6 =  12\n",
      "2 * 7 =  14\n",
      "2 * 8 =  16\n",
      "2 * 9 =  18\n",
      "2 * 10 =  20\n",
      "\n"
     ]
    }
   ],
   "source": [
    "# task 4 :\n",
    "# make a program user driven\n",
    "'''\n",
    "step 1\n",
    "ask the user to also enter upper and lower bounds as well as the value of the desired table\n",
    "step 2\n",
    "while loop\n",
    "step 3\n",
    "input counter = 1, num \n",
    "processing while loop\n",
    "output table of the desired number entered by the user \n",
    "step 4\n",
    "START\n",
    "declare a variable num and counter =1 also ask for upper and lower bound\n",
    "prompt the user to enter the value of number\n",
    "while counter<=upper bound:\n",
    "    print(f'{num}*{counter}=' ,counter*num)\n",
    "    counter+=1\n",
    "END\n",
    "step 6: select most suitable programming language, IDE, and machine to write down high quality code\n",
    "programming language: Python\n",
    "IDE: Pycharm\n",
    "machine : windows icore-9\n",
    "step 7: write down system and developer information\n",
    "developer name: Marriyam Andeel\n",
    "Developer's Company: ayz company\n",
    "Phone number:\n",
    "version:\n",
    "operation system:\n",
    "program name:\n",
    "start date: \n",
    "end date:\n",
    "'''\n",
    "\n",
    "choice = 'yes'\n",
    "while choice=='yes':\n",
    "    num = int(input('enter a number: '))\n",
    "    counter = 1\n",
    "    while counter<=10:\n",
    "        print(f'{num} * {counter} = ', num*counter)\n",
    "        counter+=1\n",
    "    print()\n",
    "    choice=input('enter your choice, do you want to continue (yes/no):').strip().lower()"
   ]
  },
  {
   "cell_type": "code",
   "execution_count": 165,
   "metadata": {},
   "outputs": [
    {
     "name": "stdout",
     "output_type": "stream",
     "text": [
      "2 * 2 =  4\n",
      "2 * 3 =  6\n",
      "2 * 4 =  8\n",
      "2 * 5 =  10\n",
      "2 * 6 =  12\n",
      "\n"
     ]
    }
   ],
   "source": [
    "# same code as above with upper and lower bounds asked by the user\n",
    "\n",
    "choice = 'yes'\n",
    "while choice=='yes':\n",
    "    num = int(input('enter a number: '))\n",
    "    lower_bound = int(input('enter lower bound: '))\n",
    "    upper_bound = int(input('enter upper bound: '))\n",
    "\n",
    "    while lower_bound<=upper_bound:\n",
    "        print(f'{num} * {lower_bound} = ', num*lower_bound)\n",
    "        lower_bound+=1\n",
    "    print()\n",
    "    choice=input('enter your choice, do you want to continue (yes/no):').strip().lower()"
   ]
  },
  {
   "cell_type": "code",
   "execution_count": 23,
   "metadata": {},
   "outputs": [
    {
     "name": "stdout",
     "output_type": "stream",
     "text": [
      "Loops are awesome\n",
      "Loops are awesome\n",
      "Loops are awesome\n",
      "Loops are awesome\n",
      "Loops are awesome\n"
     ]
    }
   ],
   "source": [
    "#while condition:\n",
    " #   code\n",
    " #  iterator\n",
    "\n",
    "# Three Loop Questions:\n",
    "#1. What do I want to repeat?\n",
    "#  -> message\n",
    "#2. What do I want to change each time?\n",
    "#  -> stars\n",
    "#3. How long should we repeat?\n",
    "#  -> 5 times\n",
    "i=0\n",
    "while i < 5:\n",
    "    print(\"Loops are awesome\")\n",
    "    i=i+1\n"
   ]
  },
  {
   "cell_type": "markdown",
   "metadata": {},
   "source": [
    "## lecture 8\n",
    "## for loops"
   ]
  },
  {
   "cell_type": "code",
   "execution_count": 166,
   "metadata": {},
   "outputs": [
    {
     "name": "stdout",
     "output_type": "stream",
     "text": [
      "1\n",
      "2\n",
      "3\n",
      "4\n",
      "5\n"
     ]
    }
   ],
   "source": [
    "# example 1\n",
    "# iterate through a sequence of numbers\n",
    "numbers = [1,2,3,4,5]\n",
    "# for num in range numbers -> wrong\n",
    "for num in numbers:\n",
    "           print(num)\n"
   ]
  },
  {
   "cell_type": "code",
   "execution_count": 167,
   "metadata": {},
   "outputs": [
    {
     "name": "stdout",
     "output_type": "stream",
     "text": [
      "0\n",
      "1\n",
      "2\n",
      "3\n",
      "4\n"
     ]
    }
   ],
   "source": [
    "# example 1\n",
    "# iterate through a sequence of numbers\n",
    "numbers = [1,2,3,4,5]\n",
    "# for num in range numbers -> wrong\n",
    "for num in range (len(numbers)):\n",
    "           print(num)"
   ]
  },
  {
   "cell_type": "code",
   "execution_count": 168,
   "metadata": {},
   "outputs": [
    {
     "name": "stdout",
     "output_type": "stream",
     "text": [
      "80.5\n",
      "35\n",
      "90.5\n",
      "77.3\n"
     ]
    }
   ],
   "source": [
    "# example 2\n",
    "# iterate through a sequence of floats\n",
    "numbers = [80.5,35,90.5,77.3]\n",
    "# for num in range numbers -> wrong\n",
    "for num in numbers:\n",
    "           print(num)"
   ]
  },
  {
   "cell_type": "code",
   "execution_count": 169,
   "metadata": {},
   "outputs": [
    {
     "name": "stdout",
     "output_type": "stream",
     "text": [
      "apple\n",
      "banana\n",
      "cherry\n",
      "mango\n"
     ]
    }
   ],
   "source": [
    "# example 3\n",
    "# iterate through a sequence of strings\n",
    "strings = [\"apple\",\"banana\",\"cherry\",\"mango\"]\n",
    "# for num in range numbers -> wrong\n",
    "for fruits in strings:\n",
    "           print(fruits)"
   ]
  },
  {
   "cell_type": "code",
   "execution_count": 170,
   "metadata": {},
   "outputs": [
    {
     "name": "stdout",
     "output_type": "stream",
     "text": [
      "0\n",
      "1\n",
      "2\n"
     ]
    }
   ],
   "source": [
    "# example 4\n",
    "# print the following output\n",
    "'''0\n",
    "   1\n",
    "   2'''\n",
    "for i  in range (3):\n",
    "    print(i)"
   ]
  },
  {
   "cell_type": "code",
   "execution_count": 171,
   "metadata": {},
   "outputs": [
    {
     "name": "stdout",
     "output_type": "stream",
     "text": [
      "1\n",
      "2\n",
      "3\n"
     ]
    }
   ],
   "source": [
    "# example 5\n",
    "# print the following output\n",
    "'''1\n",
    "   2\n",
    "   3'''\n",
    "for i  in range (1,4):\n",
    "    print(i)"
   ]
  },
  {
   "cell_type": "code",
   "execution_count": 172,
   "metadata": {},
   "outputs": [
    {
     "name": "stdout",
     "output_type": "stream",
     "text": [
      "1\n",
      "3\n",
      "5\n"
     ]
    }
   ],
   "source": [
    "# example 6\n",
    "# print the following output\n",
    "'''1\n",
    "   3\n",
    "   5'''\n",
    "for i  in range (1,6,2):\n",
    "    print(i)"
   ]
  },
  {
   "cell_type": "code",
   "execution_count": 173,
   "metadata": {},
   "outputs": [
    {
     "name": "stdout",
     "output_type": "stream",
     "text": [
      "0 Allah\n",
      "1 Allah\n",
      "2 Allah\n",
      "3 Allah\n",
      "4 Allah\n"
     ]
    }
   ],
   "source": [
    "# example 7\n",
    "for i in range (5):\n",
    "    print(i,\"Allah\")"
   ]
  },
  {
   "cell_type": "code",
   "execution_count": 174,
   "metadata": {},
   "outputs": [
    {
     "name": "stdout",
     "output_type": "stream",
     "text": [
      "1 Allah\n",
      "2 Allah\n",
      "3 Allah\n",
      "4 Allah\n",
      "5 Allah\n"
     ]
    }
   ],
   "source": [
    "# example 8\n",
    "for i in range (5):\n",
    "    print(i+1,\"Allah\")"
   ]
  },
  {
   "cell_type": "code",
   "execution_count": 175,
   "metadata": {},
   "outputs": [
    {
     "name": "stdout",
     "output_type": "stream",
     "text": [
      "Allah\n",
      "Allah\n"
     ]
    }
   ],
   "source": [
    "# example 9\n",
    "for i in range (1,5,2):\n",
    "    print(\"Allah\")"
   ]
  },
  {
   "cell_type": "code",
   "execution_count": 176,
   "metadata": {},
   "outputs": [
    {
     "name": "stdout",
     "output_type": "stream",
     "text": [
      "1\n",
      "6\n",
      "11\n",
      "16\n",
      "21\n",
      "26\n"
     ]
    }
   ],
   "source": [
    "# example 10\n",
    "for i in range(1,30,5):\n",
    "    print(i)"
   ]
  },
  {
   "cell_type": "code",
   "execution_count": 177,
   "metadata": {},
   "outputs": [
    {
     "name": "stdout",
     "output_type": "stream",
     "text": [
      "0\n",
      "10\n",
      "20\n"
     ]
    }
   ],
   "source": [
    "# example 11\n",
    "for i in range(0,30,10):\n",
    "    print(i)"
   ]
  },
  {
   "cell_type": "code",
   "execution_count": 178,
   "metadata": {},
   "outputs": [
    {
     "name": "stdout",
     "output_type": "stream",
     "text": [
      "5\n",
      "7\n",
      "9\n"
     ]
    }
   ],
   "source": [
    "# example 12\n",
    "# for i in range(start,stop,step)\n",
    "for i in range (5,10,2):\n",
    "    print(i)"
   ]
  },
  {
   "cell_type": "code",
   "execution_count": 179,
   "metadata": {},
   "outputs": [
    {
     "name": "stdout",
     "output_type": "stream",
     "text": [
      "2 * 1 =  2\n",
      "2 * 2 =  4\n",
      "2 * 3 =  6\n",
      "2 * 4 =  8\n",
      "2 * 5 =  10\n",
      "2 * 6 =  12\n",
      "2 * 7 =  14\n",
      "2 * 8 =  16\n",
      "2 * 9 =  18\n",
      "2 * 10 =  20\n"
     ]
    }
   ],
   "source": [
    "# example 13\n",
    "# table of 2\n",
    "for i in range (1,11,1):\n",
    "    print(f'2 * {i} = ',2*i)"
   ]
  },
  {
   "cell_type": "code",
   "execution_count": 180,
   "metadata": {},
   "outputs": [
    {
     "name": "stdout",
     "output_type": "stream",
     "text": [
      "8 * 1 =  8\n",
      "8 * 2 =  16\n",
      "8 * 3 =  24\n",
      "8 * 4 =  32\n",
      "8 * 5 =  40\n",
      "8 * 6 =  48\n",
      "8 * 7 =  56\n",
      "8 * 8 =  64\n",
      "8 * 9 =  72\n",
      "8 * 10 =  80\n"
     ]
    }
   ],
   "source": [
    "# example 14\n",
    "# table of any number input by user\n",
    "num = int(input('enter a number: '))\n",
    "\n",
    "for i in range(1,11):\n",
    "    print(f'{num} * {i} = ', num*i)"
   ]
  },
  {
   "cell_type": "code",
   "execution_count": 181,
   "metadata": {},
   "outputs": [
    {
     "name": "stdout",
     "output_type": "stream",
     "text": [
      "9 * 5 =  45\n",
      "9 * 6 =  54\n",
      "9 * 7 =  63\n",
      "9 * 8 =  72\n",
      "9 * 9 =  81\n"
     ]
    }
   ],
   "source": [
    "# example 15\n",
    "# table of any number input by user\n",
    "num = int(input('enter a number: '))\n",
    "\n",
    "for i in range(5,10):\n",
    "    print(f'{num} * {i} = ', num*i)"
   ]
  },
  {
   "cell_type": "code",
   "execution_count": 182,
   "metadata": {},
   "outputs": [
    {
     "name": "stdout",
     "output_type": "stream",
     "text": [
      "5 * 5 =  25\n",
      "5 * 7 =  35\n"
     ]
    }
   ],
   "source": [
    "# example 16\n",
    "for i in range(5,9,2):\n",
    "    print(f'5 * {i} = ', 5*i)"
   ]
  },
  {
   "cell_type": "code",
   "execution_count": 183,
   "metadata": {},
   "outputs": [
    {
     "name": "stdout",
     "output_type": "stream",
     "text": [
      "10\n",
      "9\n",
      "8\n",
      "7\n",
      "6\n",
      "5\n",
      "4\n",
      "3\n",
      "2\n",
      "1\n"
     ]
    }
   ],
   "source": [
    "# example 17\n",
    "for counter in range(10,0,-1):\n",
    "    print(counter)"
   ]
  },
  {
   "cell_type": "code",
   "execution_count": 184,
   "metadata": {},
   "outputs": [
    {
     "name": "stdout",
     "output_type": "stream",
     "text": [
      "10\n",
      "7\n",
      "4\n"
     ]
    }
   ],
   "source": [
    "# example 18\n",
    "for counter in range(10,2,-3):\n",
    "    print(counter)"
   ]
  },
  {
   "cell_type": "code",
   "execution_count": 185,
   "metadata": {},
   "outputs": [
    {
     "name": "stdout",
     "output_type": "stream",
     "text": [
      "6 * 1 =  6\n",
      "6 * 2 =  12\n",
      "6 * 3 =  18\n",
      "6 * 4 =  24\n",
      "6 * 5 =  30\n",
      "6 * 6 =  36\n",
      "6 * 7 =  42\n",
      "6 * 8 =  48\n",
      "6 * 9 =  54\n",
      "6 * 10 =  60\n"
     ]
    }
   ],
   "source": [
    "# to do task 1\n",
    "# table of any number input by user\n",
    "num = int(input('enter a number: '))\n",
    "\n",
    "for i in range(1,11):\n",
    "    print(f'{num} * {i} = ', num*i)"
   ]
  },
  {
   "cell_type": "code",
   "execution_count": 186,
   "metadata": {},
   "outputs": [
    {
     "name": "stdout",
     "output_type": "stream",
     "text": [
      "4 * 1 = 4\n",
      "4 * 2 = 8\n",
      "4 * 3 = 12\n",
      "4 * 4 = 16\n",
      "4 * 5 = 20\n",
      "4 * 6 = 24\n",
      "4 * 7 = 28\n",
      "4 * 8 = 32\n",
      "4 * 9 = 36\n",
      "4 * 10 = 40\n",
      "\n"
     ]
    }
   ],
   "source": [
    "# above code will execute only once\n",
    "choice = 'yes'\n",
    "while choice == 'yes':\n",
    "    num = int(input('Enter a number: '))\n",
    "\n",
    "    for i in range(1, 11):\n",
    "        print(f'{num} * {i} = {num * i}')\n",
    "    \n",
    "    print()  # This ensures a blank line after each table\n",
    "    \n",
    "    choice = input('Do you want to continue (yes/no): ').strip().lower()\n"
   ]
  },
  {
   "cell_type": "markdown",
   "metadata": {},
   "source": [
    "to do tasks:"
   ]
  },
  {
   "cell_type": "code",
   "execution_count": 187,
   "metadata": {},
   "outputs": [
    {
     "name": "stdout",
     "output_type": "stream",
     "text": [
      "0\n",
      "2\n",
      "4\n",
      "6\n",
      "8\n",
      "10\n",
      "12\n",
      "14\n",
      "16\n",
      "18\n",
      "20\n",
      "22\n",
      "24\n",
      "26\n",
      "28\n",
      "30\n",
      "32\n",
      "34\n",
      "36\n",
      "38\n",
      "40\n",
      "42\n",
      "44\n",
      "46\n",
      "48\n",
      "50\n"
     ]
    }
   ],
   "source": [
    "# task 1\n",
    "'''step 1\n",
    "print the first 50 even numbers \n",
    "step 2\n",
    "for loop\n",
    "step 3:\n",
    "input: counter\n",
    "processing while loop\n",
    "output : first 50 even numbers\n",
    "step 4\n",
    "start\n",
    "declare a variable counter and initialize it as 0\n",
    "for loop where within it will be a if statement as\n",
    "for i in range(0,50,2):\n",
    "   print(i)\n",
    "END\n",
    "step 6: select most suitable programming language, IDE, and machine to write down high quality code\n",
    "programming language: Python\n",
    "IDE: Pycharm\n",
    "machine : windows icore-9\n",
    "step 7: write down system and developer information\n",
    "developer name: Marriyam Andeel\n",
    "Developer's Company: ayz company\n",
    "Phone number:\n",
    "version:\n",
    "operation system:\n",
    "program name:\n",
    "start date: \n",
    "end date:\n",
    "'''\n",
    "for i in range(0,51,2):\n",
    "    print(i)"
   ]
  },
  {
   "cell_type": "code",
   "execution_count": 188,
   "metadata": {},
   "outputs": [
    {
     "name": "stdout",
     "output_type": "stream",
     "text": [
      "4 * 1 =  4\n",
      "4 * 2 =  8\n",
      "4 * 3 =  12\n",
      "4 * 4 =  16\n",
      "4 * 5 =  20\n",
      "4 * 6 =  24\n",
      "4 * 7 =  28\n",
      "4 * 8 =  32\n",
      "4 * 9 =  36\n",
      "4 * 10 =  40\n"
     ]
    }
   ],
   "source": [
    "# task 2\n",
    "'''step 1\n",
    "print the table of any number input by user\n",
    "step 2\n",
    "for loop\n",
    "step 3:\n",
    "input: counter\n",
    "processing for loop\n",
    "output : table of a number\n",
    "step 4\n",
    "start\n",
    "declare a variable num and initialize it as 0\n",
    "for loop as\n",
    "num = int(input(enter a number: ))\n",
    "for i in range(0,11):\n",
    "   print(f'{num} * {i} = ',num*i)\n",
    "END\n",
    "step 6: select most suitable programming language, IDE, and machine to write down high quality code\n",
    "programming language: Python\n",
    "IDE: Pycharm\n",
    "machine : windows icore-9\n",
    "step 7: write down system and developer information\n",
    "developer name: Marriyam Andeel\n",
    "Developer's Company: ayz company\n",
    "Phone number:\n",
    "version:\n",
    "operation system:\n",
    "program name:\n",
    "start date: \n",
    "end date:\n",
    "'''\n",
    "num = int(input('enter a number: '))\n",
    "for i in range(1,11):\n",
    "   print(f'{num} * {i} = ',num*i)"
   ]
  },
  {
   "cell_type": "code",
   "execution_count": 189,
   "metadata": {},
   "outputs": [
    {
     "name": "stdout",
     "output_type": "stream",
     "text": [
      "6 * 3 =  18\n",
      "6 * 4 =  24\n",
      "6 * 5 =  30\n",
      "6 * 6 =  36\n"
     ]
    }
   ],
   "source": [
    "# task 2\n",
    "'''step 1\n",
    "print the table of any number input by user with upper and lower bound\n",
    "step 2\n",
    "for loop\n",
    "step 3:\n",
    "input: counter\n",
    "processing for loop\n",
    "output : table of a number\n",
    "step 4\n",
    "start\n",
    "declare a variable num , lower_bound, upper_bound\n",
    "for loop as\n",
    "num = int(input(enter a number: ))\n",
    "upper_bound = int(input(enter a number: ))\n",
    "lower_bound = int(input(enter a number: ))\n",
    "for i in range(lower_bound,upper_bound):\n",
    "   print(f'{num} * {i} = ',num*i)\n",
    "END\n",
    "step 6: select most suitable programming language, IDE, and machine to write down high quality code\n",
    "programming language: Python\n",
    "IDE: Pycharm\n",
    "machine : windows icore-9\n",
    "step 7: write down system and developer information\n",
    "developer name: Marriyam Andeel\n",
    "Developer's Company: ayz company\n",
    "Phone number:\n",
    "version:\n",
    "operation system:\n",
    "program name:\n",
    "start date: \n",
    "end date:\n",
    "'''\n",
    "# num = 5\n",
    "num = int(input('enter a number: ')) \n",
    "# lower_bound = 5  \n",
    "lower_bound = int(input('enter a number for lower bound: '))\n",
    "# upper_bound = 9\n",
    "upper_bound = int(input('enter a number for upper bound: '))\n",
    "\n",
    "for i in range(lower_bound,upper_bound):\n",
    "    print(f'{num} * {i} = ',num*i)"
   ]
  },
  {
   "cell_type": "code",
   "execution_count": 190,
   "metadata": {},
   "outputs": [
    {
     "name": "stdout",
     "output_type": "stream",
     "text": [
      "* \n",
      "* * \n",
      "* * * \n",
      "* * * * \n",
      "\n"
     ]
    }
   ],
   "source": [
    "# task 3\n",
    "'''step 1\n",
    "print a triangle pattern\n",
    "step 2\n",
    "for loop\n",
    "step 3:\n",
    "input: counter\n",
    "processing for loop\n",
    "output : table of a number\n",
    "step 4\n",
    "start\n",
    "for i in range(1, rows + 1):\n",
    "        for j in range(1, i + 1):\n",
    "            print('*', end=' ')\n",
    "        print()  # Move to the next line after each row\n",
    "    \n",
    "    print() \n",
    "END\n",
    "step 6: select most suitable programming language, IDE, and machine to write down high quality code\n",
    "programming language: Python\n",
    "IDE: Pycharm\n",
    "machine : windows icore-9\n",
    "step 7: write down system and developer information\n",
    "developer name: Marriyam Andeel\n",
    "Developer's Company: ayz company\n",
    "Phone number:\n",
    "version:\n",
    "operation system:\n",
    "program name:\n",
    "start date: \n",
    "end date:\n",
    "'''\n",
    "choice = 'yes'\n",
    "while choice == 'yes':\n",
    "    rows = int(input('Enter the number of rows: '))\n",
    "    \n",
    "    for i in range(1, rows + 1):\n",
    "        for j in range(1, i + 1):\n",
    "            print('*', end=' ')\n",
    "        print()  # Move to the next line after each row\n",
    "    \n",
    "    print()  # Blank line after each pattern\n",
    "    \n",
    "    choice = input('Do you want to enter another pattern? (yes/no): ').strip().lower()\n"
   ]
  },
  {
   "cell_type": "code",
   "execution_count": 191,
   "metadata": {},
   "outputs": [
    {
     "name": "stdout",
     "output_type": "stream",
     "text": [
      "Factorial of 1 = 1\n",
      "Factorial of 2 = 2\n",
      "Factorial of 3 = 6\n",
      "\n"
     ]
    }
   ],
   "source": [
    "# task 3\n",
    "'''step 1\n",
    "print a factorial of numbers\n",
    "step 2\n",
    "for loop and while loop\n",
    "step 3:\n",
    "input: counter\n",
    "processing for loop\n",
    "output : \n",
    "step 4\n",
    " factorial = 1\n",
    "    for i in range(1, num + 1):\n",
    "        factorial *= i\n",
    "        print(f'Factorial of {i} = {factorial}')\n",
    "    \n",
    "    print()  # Blank line after each factorial calculation\n",
    "    \n",
    "    choice = input('Do you want to enter another number? (yes/no): ').strip().lower()\n",
    "\n",
    "\n",
    "\n",
    "step 6: select most suitable programming language, IDE, and machine to write down high quality code\n",
    "programming language: Python\n",
    "IDE: Pycharm\n",
    "machine : windows icore-9\n",
    "step 7: write down system and developer information\n",
    "developer name: Marriyam Andeel\n",
    "Developer's Company: ayz company\n",
    "Phone number:\n",
    "version:\n",
    "operation system:\n",
    "program name:\n",
    "start date: \n",
    "end date:\n",
    "'''\n",
    "choice = 'yes'\n",
    "while choice == 'yes':\n",
    "    num = int(input('Enter a number: '))\n",
    "    \n",
    "    factorial = 1\n",
    "    for i in range(1, num + 1):\n",
    "        factorial *= i\n",
    "        print(f'Factorial of {i} = {factorial}')\n",
    "    \n",
    "    print()  # Blank line after each factorial calculation\n",
    "    \n",
    "    choice = input('Do you want to enter another number? (yes/no): ').strip().lower()\n"
   ]
  },
  {
   "cell_type": "markdown",
   "metadata": {},
   "source": [
    "## Lecture 9\n",
    "## Nested loops"
   ]
  },
  {
   "cell_type": "code",
   "execution_count": 192,
   "metadata": {},
   "outputs": [
    {
     "name": "stdout",
     "output_type": "stream",
     "text": [
      "* \n",
      "* * \n",
      "* * * \n"
     ]
    }
   ],
   "source": [
    "\n",
    "rows = int(input('Enter number of rows: '))\n",
    "\n",
    "for i in range(1, rows + 1):\n",
    "    for j in range(i):\n",
    "        print('*', end=' ')\n",
    "    print()\n",
    "\n",
    "    "
   ]
  },
  {
   "cell_type": "code",
   "execution_count": 193,
   "metadata": {},
   "outputs": [
    {
     "name": "stdout",
     "output_type": "stream",
     "text": [
      "* * * * \n",
      "* * * \n",
      "* * \n",
      "* \n"
     ]
    }
   ],
   "source": [
    "\n",
    "rows = int(input('Enter number of rows: '))\n",
    "\n",
    "for i in range( rows ,0,-1):\n",
    "    for j in range(i):\n",
    "        print('*', end=' ')\n",
    "    print('')"
   ]
  },
  {
   "cell_type": "code",
   "execution_count": 194,
   "metadata": {},
   "outputs": [
    {
     "name": "stdout",
     "output_type": "stream",
     "text": [
      "1 \n",
      "1 2 \n",
      "1 2 3 \n",
      "1 2 3 4 \n"
     ]
    }
   ],
   "source": [
    "rows = int(input('Enter number of rows: '))\n",
    "\n",
    "for i in range(1, rows + 1):\n",
    "    for j in range(1,i+1):\n",
    "        print(j, end=' ')\n",
    "    print()\n"
   ]
  },
  {
   "cell_type": "code",
   "execution_count": 195,
   "metadata": {},
   "outputs": [
    {
     "name": "stdout",
     "output_type": "stream",
     "text": [
      "1 \n",
      "2 2 \n",
      "3 3 3 \n",
      "4 4 4 4 \n",
      "5 5 5 5 5 \n"
     ]
    }
   ],
   "source": [
    "rows = int(input('Enter number of rows: '))\n",
    "\n",
    "for i in range(1, rows + 1):\n",
    "    for j in range(1,i+1):\n",
    "        print(i, end=' ')\n",
    "    print()"
   ]
  },
  {
   "cell_type": "code",
   "execution_count": 196,
   "metadata": {},
   "outputs": [
    {
     "name": "stdout",
     "output_type": "stream",
     "text": [
      "    *\n",
      "   ***\n",
      "  *****\n",
      " *******\n",
      "*********\n"
     ]
    }
   ],
   "source": [
    "# print a triangle\n",
    "rows = 5\n",
    "for i in range(rows):\n",
    "    # Print spaces \n",
    "    print(' ' * (rows - i - 1), end='')\n",
    "    # Print stars\n",
    "    print('*' * (2 * i +1))\n",
    "\n",
    "    \n"
   ]
  },
  {
   "cell_type": "code",
   "execution_count": 197,
   "metadata": {},
   "outputs": [
    {
     "name": "stdout",
     "output_type": "stream",
     "text": [
      "    *\n",
      "   ***\n",
      "  *****\n",
      " *******\n",
      "*********\n"
     ]
    }
   ],
   "source": [
    "# Printing a triangle using nested for loops\n",
    "rows = 5\n",
    "for i in range(rows):\n",
    "    # Print leading spaces\n",
    "    for j in range(rows - i - 1):\n",
    "        print(' ', end='')\n",
    "    # Print stars\n",
    "    for k in range(2 * i + 1):\n",
    "        print('*', end='')\n",
    "    \n",
    "    # Move to the next line\n",
    "    print('')\n"
   ]
  },
  {
   "cell_type": "code",
   "execution_count": 198,
   "metadata": {},
   "outputs": [
    {
     "name": "stdout",
     "output_type": "stream",
     "text": [
      "          * \n",
      "        *   * \n",
      "      *   *   * \n",
      "    *   *   *   * \n",
      "  *   *   *   *   * \n"
     ]
    }
   ],
   "source": [
    "# better version of triangle when more spaces are added to it\n",
    "for i in range(1,6):\n",
    "    for k in range(5-i):\n",
    "        print('  ',end='')\n",
    "    \n",
    "    for j in range (i):\n",
    "         print(' ','*',end=' ')\n",
    "    print('')    \n",
    "\n",
    "    "
   ]
  },
  {
   "cell_type": "code",
   "execution_count": 199,
   "metadata": {},
   "outputs": [
    {
     "name": "stdout",
     "output_type": "stream",
     "text": [
      "          * \n",
      "        *   * \n",
      "      *   *   * \n",
      "    *   *   *   * \n",
      "  *   *   *   *   * \n",
      "    *   *   *   * \n",
      "      *   *   * \n",
      "        *   * \n",
      "          * \n",
      "          \n"
     ]
    }
   ],
   "source": [
    "# printing a diamond\n",
    "for i in range(1,6):\n",
    "    for k in range(5-i):\n",
    "        print('  ',end='')\n",
    "    \n",
    "    for j in range (i):\n",
    "         print(' ','*',end=' ')\n",
    "    print('')   \n",
    "\n",
    "for i in range(1,6):\n",
    "    for k in range(i):\n",
    "        print('  ',end='')\n",
    "    \n",
    "    for j in range (5-i):\n",
    "         print(' ','*',end=' ')\n",
    "    print('')   "
   ]
  },
  {
   "cell_type": "markdown",
   "metadata": {},
   "source": [
    "## break and continue"
   ]
  },
  {
   "cell_type": "code",
   "execution_count": 200,
   "metadata": {},
   "outputs": [
    {
     "name": "stdout",
     "output_type": "stream",
     "text": [
      "6\n"
     ]
    }
   ],
   "source": [
    "# break and continue statement mostly comes  with selection structures\n",
    "# example 1\n",
    "numbers = [1,3,6,7,9,10]\n",
    "for num in numbers:\n",
    "    if num % 2==0:\n",
    "        print(num)\n",
    "        break"
   ]
  },
  {
   "cell_type": "code",
   "execution_count": 201,
   "metadata": {},
   "outputs": [
    {
     "name": "stdout",
     "output_type": "stream",
     "text": [
      "6\n",
      "10\n"
     ]
    }
   ],
   "source": [
    "# example 2\n",
    "numbers = [1,3,6,7,9,10]\n",
    "for num in numbers:\n",
    "    if num % 2==0:\n",
    "        print(num)"
   ]
  },
  {
   "cell_type": "code",
   "execution_count": 202,
   "metadata": {},
   "outputs": [
    {
     "name": "stdout",
     "output_type": "stream",
     "text": [
      "6\n",
      "10\n"
     ]
    }
   ],
   "source": [
    "# example 3\n",
    "numbers = [1,3,6,7,9,10]\n",
    "for num in numbers:\n",
    "    if num % 2==0:\n",
    "        print(num)\n",
    "        #continue here it has no specific use "
   ]
  },
  {
   "cell_type": "code",
   "execution_count": 203,
   "metadata": {},
   "outputs": [],
   "source": [
    "# example 4\n",
    "numbers = [1,3,6,7,9,10]\n",
    "for num in numbers:\n",
    "    if num % 2==0:\n",
    "        break  # because of the break here before print there will be no output\n",
    "        print(num)"
   ]
  },
  {
   "cell_type": "code",
   "execution_count": 204,
   "metadata": {},
   "outputs": [
    {
     "name": "stdout",
     "output_type": "stream",
     "text": [
      "0\n",
      "2\n"
     ]
    }
   ],
   "source": [
    "# example 5\n",
    "for i in range(4):\n",
    "    if i%2==0:\n",
    "        print (i)\n",
    "    "
   ]
  },
  {
   "cell_type": "code",
   "execution_count": 205,
   "metadata": {},
   "outputs": [],
   "source": [
    "# example 6\n",
    "for i in range(4):\n",
    "    if i%2==0:\n",
    "        continue # because of this continue statement the print statement is unreachable so there will be no output \n",
    "        print (i)\n",
    "    "
   ]
  },
  {
   "cell_type": "code",
   "execution_count": 206,
   "metadata": {},
   "outputs": [
    {
     "name": "stdout",
     "output_type": "stream",
     "text": [
      "0\n",
      "2\n"
     ]
    }
   ],
   "source": [
    "# example 7\n",
    "for i in range(4):\n",
    "    if i%2==0:\n",
    "        print (i)\n",
    "        continue  # has no effect on the output\n",
    "    "
   ]
  },
  {
   "cell_type": "code",
   "execution_count": 207,
   "metadata": {},
   "outputs": [
    {
     "name": "stdout",
     "output_type": "stream",
     "text": [
      "0\n"
     ]
    }
   ],
   "source": [
    "# example 8\n",
    "for i in range(4):\n",
    "    if i%2==0:\n",
    "        print (i)\n",
    "        break  # after one output it will break the loop so there only '0' as output not 2 as well\n",
    "    \n"
   ]
  },
  {
   "cell_type": "code",
   "execution_count": 208,
   "metadata": {},
   "outputs": [
    {
     "name": "stdout",
     "output_type": "stream",
     "text": [
      "\n",
      "\n",
      "MENU:\n",
      "\n",
      "\n",
      "Press 1- to input numbers\n",
      "Press 2- to add two numbers\n",
      "Press 3- to subtract two numbers\n",
      "Press 4- to multiply to numbers\n",
      "Press 5- to divide two numbers\n",
      "Press 0- to exit\n",
      "\n",
      "\n",
      "\n",
      "\n",
      "Numbers added successfully\n",
      "\n",
      "\n",
      "MENU:\n",
      "\n",
      "\n",
      "Press 1- to input numbers\n",
      "Press 2- to add two numbers\n",
      "Press 3- to subtract two numbers\n",
      "Press 4- to multiply to numbers\n",
      "Press 5- to divide two numbers\n",
      "Press 0- to exit\n",
      "\n",
      "\n",
      "\n",
      "\n",
      "Exiting\n"
     ]
    }
   ],
   "source": [
    "# your turn task 1\n",
    "# using nested loops for make a menu driven program\n",
    "choice = int(1)\n",
    "a,b=0,0\n",
    "while (choice!= 0):\n",
    "    print('\\n')\n",
    "    print('MENU:')\n",
    "    print('\\n')\n",
    "    print('Press 1- to input numbers')\n",
    "    print('Press 2- to add two numbers')\n",
    "    print('Press 3- to subtract two numbers')\n",
    "    print('Press 4- to multiply to numbers')\n",
    "    print('Press 5- to divide two numbers')\n",
    "    print('Press 0- to exit')\n",
    "    print('\\n')\n",
    "    choice = int(input(f'Enter your choice: {choice} '))\n",
    "    print('\\n')\n",
    "    if choice==1:\n",
    "         a = int(input('Enter first number: '))\n",
    "         b = int(input('Enter second number: '))\n",
    "         print('Numbers added successfully')\n",
    "    elif choice==2:\n",
    "         sum = a+b\n",
    "         print(f'Sum of {a} and {b} = {sum}') \n",
    "    elif choice==3:\n",
    "         difference = a-b \n",
    "         print(f'Difference of {a} and {b} = {difference}')\n",
    "    elif choice==4:\n",
    "        product = a*b\n",
    "        print(f'Product of {a} and {b} = {product}')\n",
    "    elif choice==5:\n",
    "        if b!=0:\n",
    "             divident = a/b\n",
    "             print(f'By dividing {a} and {b} we get {divident}')\n",
    "        else:\n",
    "             print(f'ERROR! can not divide{a} by {b}')\n",
    "    else:\n",
    "        print('Exiting')\n",
    "        break\n",
    "\n",
    "              \n",
    "    "
   ]
  },
  {
   "cell_type": "code",
   "execution_count": 209,
   "metadata": {},
   "outputs": [
    {
     "name": "stdout",
     "output_type": "stream",
     "text": [
      "1 \n",
      "2 3 \n",
      "4 5 6 \n",
      "7 8 9 10 \n",
      "11 12 13 14 15 \n"
     ]
    }
   ],
   "source": [
    "# your turn task 2\n",
    "# floyd's triangle\n",
    "rows = 5\n",
    "num = 1\n",
    "for i in range(1, rows + 1):\n",
    "    for j in range(1, i + 1):\n",
    "        print(num, end=\" \")\n",
    "        num += 1\n",
    "    print()\n"
   ]
  },
  {
   "cell_type": "code",
   "execution_count": 210,
   "metadata": {},
   "outputs": [
    {
     "name": "stdout",
     "output_type": "stream",
     "text": [
      "   1    2    3    4    5    6    7    8    9   10 \n",
      "   2    4    6    8   10   12   14   16   18   20 \n",
      "   3    6    9   12   15   18   21   24   27   30 \n",
      "   4    8   12   16   20   24   28   32   36   40 \n",
      "   5   10   15   20   25   30   35   40   45   50 \n",
      "   6   12   18   24   30   36   42   48   54   60 \n",
      "   7   14   21   28   35   42   49   56   63   70 \n",
      "   8   16   24   32   40   48   56   64   72   80 \n",
      "   9   18   27   36   45   54   63   72   81   90 \n",
      "  10   20   30   40   50   60   70   80   90  100 \n"
     ]
    }
   ],
   "source": [
    "# your turn task 3\n",
    "# multiplication table\n",
    "for i in range(1, 11):\n",
    "    for j in range(1, 11):\n",
    "        print(f\"{i * j:4}\", end=\" \")\n",
    "    print()\n"
   ]
  },
  {
   "cell_type": "code",
   "execution_count": 211,
   "metadata": {},
   "outputs": [
    {
     "name": "stdout",
     "output_type": "stream",
     "text": [
      "[10, 10, 10]\n",
      "[10, 10, 10]\n",
      "[10, 10, 10]\n"
     ]
    }
   ],
   "source": [
    "# your turn task 4\n",
    "# matrix addition\n",
    "# Initialize matrices\n",
    "A = [[1, 2, 3],\n",
    "     [4, 5, 6],\n",
    "     [7, 8, 9]]\n",
    "\n",
    "B = [[9, 8, 7],\n",
    "     [6, 5, 4],\n",
    "     [3, 2, 1]]\n",
    "\n",
    "# Resultant matrix\n",
    "result = [[0, 0, 0],\n",
    "          [0, 0, 0],\n",
    "          [0, 0, 0]]\n",
    "\n",
    "# Adding matrices\n",
    "for i in range(len(A)):\n",
    "    for j in range(len(A[0])):\n",
    "        result[i][j] = A[i][j] + B[i][j]\n",
    "\n",
    "# Display the result\n",
    "for r in result:\n",
    "    print(r)\n"
   ]
  },
  {
   "cell_type": "code",
   "execution_count": 212,
   "metadata": {},
   "outputs": [
    {
     "name": "stdout",
     "output_type": "stream",
     "text": [
      "1 2 3 4 5 \n",
      "  1 2 3 4 \n",
      "    1 2 3 \n",
      "      1 2 \n",
      "        1 \n"
     ]
    }
   ],
   "source": [
    "# your turn task 5\n",
    "# inverted pyramid of numbers\n",
    "rows = 5\n",
    "for i in range(rows, 0, -1):\n",
    "    for j in range(0, rows - i):\n",
    "        print(\" \", end=\" \")\n",
    "    for k in range(1, i + 1):\n",
    "        print(k, end=\" \")\n",
    "    print()\n"
   ]
  },
  {
   "cell_type": "markdown",
   "metadata": {},
   "source": [
    "## different concepts"
   ]
  },
  {
   "cell_type": "code",
   "execution_count": 213,
   "metadata": {},
   "outputs": [
    {
     "name": "stdout",
     "output_type": "stream",
     "text": [
      "2024-08-13\n",
      "Today's date is:  2024-08-13\n"
     ]
    }
   ],
   "source": [
    "# to output date\n",
    "from datetime import date\n",
    "print(date.today())\n",
    "print('Today\\'s date is: ',date.today() )"
   ]
  },
  {
   "cell_type": "code",
   "execution_count": 214,
   "metadata": {},
   "outputs": [
    {
     "name": "stdout",
     "output_type": "stream",
     "text": [
      "7\n",
      "34\n"
     ]
    }
   ],
   "source": [
    "print(3+4) # integer addition\n",
    "print('3'+ '4') # string addition -> concatenation\n",
    "# print('3'+ 4) ->error"
   ]
  },
  {
   "cell_type": "code",
   "execution_count": 215,
   "metadata": {},
   "outputs": [
    {
     "name": "stdout",
     "output_type": "stream",
     "text": [
      "5 parsecs is 16.3078 lightyears\n"
     ]
    }
   ],
   "source": [
    "parsecs_input = input(\"Input number of parsecs:\")\n",
    "parsecs = int(parsecs_input)\n",
    "lightyears = 3.26156 * parsecs\n",
    "\n",
    "print(parsecs_input + \" parsecs is \" + str(lightyears) + \" lightyears\")"
   ]
  },
  {
   "cell_type": "markdown",
   "metadata": {},
   "source": [
    "## Lecture 12\n",
    "## Functions Part 1"
   ]
  },
  {
   "cell_type": "code",
   "execution_count": 216,
   "metadata": {},
   "outputs": [
    {
     "name": "stdout",
     "output_type": "stream",
     "text": [
      "I am in main()\n",
      "I am in Saudi_Arabia()\n",
      "I am in India()\n",
      "I am in Pakistan()\n",
      "Back in main()\n"
     ]
    },
    {
     "data": {
      "text/plain": [
       "'\\nin the following code the first statement to be executed will be the 1st statement of the main function -> \\nI am in main()\\nthen the function call in function india() where the function saudi arabia()->\\nI am in saudi Arabia()\\nafter which the function saudi arabia() is called in the method pakistan() ->\\nI am in India()\\nthen in main function the method pakistan() is called ->\\nI am in Pakistan()\\nafter which the last statement will be executed i.e. ->\\nBack in main\\nfrom the main function\\n'"
      ]
     },
     "execution_count": 216,
     "metadata": {},
     "output_type": "execute_result"
    }
   ],
   "source": [
    "# to do tasks 1:\n",
    "def India():\n",
    "    Saudi_Arabia()\n",
    "    print('I am in India()')\n",
    "def Saudi_Arabia():\n",
    "    print('I am in Saudi_Arabia()')\n",
    "def Pakistan():\n",
    "    India()\n",
    "    print('I am in Pakistan()')\n",
    "\n",
    "if __name__ ==\"__main__\":\n",
    "    print('I am in main()')\n",
    "    Pakistan()\n",
    "    print('Back in main()')\n",
    "\n",
    "\"\"\"\n",
    "in the following code the first statement to be executed will be the 1st statement of the main function -> \n",
    "I am in main()\n",
    "then the function call in function india() where the function saudi arabia()->\n",
    "I am in saudi Arabia()\n",
    "after which the function saudi arabia() is called in the method pakistan() ->\n",
    "I am in India()\n",
    "then in main function the method pakistan() is called ->\n",
    "I am in Pakistan()\n",
    "after which the last statement will be executed i.e. ->\n",
    "Back in main\n",
    "from the main function\n",
    "\"\"\""
   ]
  },
  {
   "cell_type": "code",
   "execution_count": 217,
   "metadata": {},
   "outputs": [
    {
     "name": "stdout",
     "output_type": "stream",
     "text": [
      "I am in main()\n",
      "I am in Pakistan()\n",
      "I am in Saudi_Arabia()\n",
      "I am in India()\n",
      "I am in Saudi_Arabia()\n",
      "Back in main()\n"
     ]
    },
    {
     "data": {
      "text/plain": [
       "'\\nin the following code the first statement to be executed will be the 1st statement of the main function -> \\nI am in main()\\nthen in main function the method pakistan() is called ->\\nI am in Pakistan()\\nthen the function call in function india() where the function saudi arabia()->\\nI am in saudi Arabia()\\nafter which the function saudi arabia() and india() are called in the method pakistan()  ->\\nI am in India()\\nI am Saudi Arabia()\\nafter which the last statement will be executed i.e. ->\\nBack in main\\nfrom the main function\\n'"
      ]
     },
     "execution_count": 217,
     "metadata": {},
     "output_type": "execute_result"
    }
   ],
   "source": [
    "# to do task 2\n",
    "def India():\n",
    "    Saudi_Arabia()\n",
    "    print('I am in India()')\n",
    "def Saudi_Arabia():\n",
    "    print('I am in Saudi_Arabia()')\n",
    "def Pakistan():\n",
    "    print('I am in Pakistan()')\n",
    "    India()\n",
    "    Saudi_Arabia()\n",
    "\n",
    "if __name__ ==\"__main__\":\n",
    "    print('I am in main()')\n",
    "    Pakistan()\n",
    "    print('Back in main()')\n",
    "\n",
    "\n",
    "'''\n",
    "in the following code the first statement to be executed will be the 1st statement of the main function -> \n",
    "I am in main()\n",
    "then in main function the method pakistan() is called ->\n",
    "I am in Pakistan()\n",
    "then the function call in function india() where the function saudi arabia()->\n",
    "I am in saudi Arabia()\n",
    "after which the function saudi arabia() and india() are called in the method pakistan()  ->\n",
    "I am in India()\n",
    "I am Saudi Arabia()\n",
    "after which the last statement will be executed i.e. ->\n",
    "Back in main\n",
    "from the main function\n",
    "'''\n"
   ]
  },
  {
   "cell_type": "code",
   "execution_count": 218,
   "metadata": {},
   "outputs": [
    {
     "name": "stdout",
     "output_type": "stream",
     "text": [
      "I am in main()\n",
      "I am in Madina()\n",
      "I am in Pakistan()\n",
      "I am in India()\n",
      "I am in Saudi Arabia()\n",
      "Back in main()\n"
     ]
    }
   ],
   "source": [
    "# to do task 3\n",
    "def India():\n",
    "    print('I am in India()')\n",
    "    Saudi_arabia()\n",
    "def Saudi_arabia():\n",
    "    print('I am in Saudi Arabia()')\n",
    "def Pakistan():\n",
    "    print('I am in Pakistan()')\n",
    "def Madina():\n",
    "    print('I am in Madina()')\n",
    "    Pakistan()\n",
    "    India()\n",
    "if __name__ == \"__main__\":\n",
    "    print('I am in main()')\n",
    "    Madina()\n",
    "    print('Back in main()')"
   ]
  },
  {
   "cell_type": "code",
   "execution_count": 219,
   "metadata": {},
   "outputs": [
    {
     "name": "stdout",
     "output_type": "stream",
     "text": [
      "Hello Friend!\n",
      "Hello Brian!\n"
     ]
    }
   ],
   "source": [
    "# to do task 1\n",
    "def greeting():\n",
    "    print(\"Hello Friend!\")\n",
    "    \n",
    "greeting()\n",
    "\n",
    "# using arguments\n",
    "def greeting(name):\n",
    "    print(\"Hello \" + name + \"!\")\n",
    "    \n",
    "greeting(\"Brian\")"
   ]
  },
  {
   "cell_type": "code",
   "execution_count": 220,
   "metadata": {},
   "outputs": [
    {
     "name": "stdout",
     "output_type": "stream",
     "text": [
      "Hello Friend!\n"
     ]
    }
   ],
   "source": [
    "# another way using main function\n",
    "def greeting():\n",
    "    print(\"Hello Friend!\")\n",
    "\n",
    "if __name__  == \"__main__\":\n",
    "    greeting()\n"
   ]
  },
  {
   "cell_type": "code",
   "execution_count": 221,
   "metadata": {},
   "outputs": [
    {
     "name": "stdout",
     "output_type": "stream",
     "text": [
      "Hello Brian,you are 22!\n",
      "Hello Brian, you are 22!\n"
     ]
    }
   ],
   "source": [
    "# to do task 2 \n",
    "#  function with arguments\n",
    "def greeting(name,age):\n",
    "    print(\"Hello \" + name + \",you are \" + age + \"!\")\n",
    "    print(f\"Hello {name}, you are {age}!\")\n",
    "if __name__ == \"__main__\":\n",
    "    greeting(\"Brian\",\"22\")"
   ]
  },
  {
   "cell_type": "code",
   "execution_count": 222,
   "metadata": {},
   "outputs": [
    {
     "name": "stdout",
     "output_type": "stream",
     "text": [
      "Hello 22,you are Brian!\n"
     ]
    }
   ],
   "source": [
    "# to do task 2 \n",
    "def greeting(name,age):\n",
    "    print(\"Hello \" + name + \",you are \" + age + \"!\")\n",
    "if __name__ == \"__main__\":\n",
    "    greeting(\"22\",\"Brian\") \n",
    "# output is messed up just because the arguments passed by the method from main body are not written in correct order"
   ]
  },
  {
   "cell_type": "code",
   "execution_count": 223,
   "metadata": {},
   "outputs": [
    {
     "name": "stdout",
     "output_type": "stream",
     "text": [
      "Hello Brian, you are 22!\n",
      "Hello Judith, you are 18!\n",
      "Hello User, you are 18!\n"
     ]
    }
   ],
   "source": [
    "# to do task 3 \n",
    "def greeting(name=\"User\",age=\"18\"): # 18 will be the default age if the user's age is not provided it will automatically consider the age as 18 while default name is user\n",
    "    print(f\"Hello {name}, you are {age}!\")\n",
    "if __name__ == \"__main__\":\n",
    "    greeting(\"Brian\",\"22\")    # both name and age are provided\n",
    "    greeting(\"Judith\")        # only name is provided\n",
    "    greeting()                # nothing provided default name and age will be used\n",
    "    # we can not do anything to provide age but not name in this function\n",
    "    # greeting(\"name\",\"12\")  in this way name is printed in name's place\n",
    "    # greeting(name,\"12\")   in this way there's an error"
   ]
  },
  {
   "cell_type": "code",
   "execution_count": 224,
   "metadata": {},
   "outputs": [
    {
     "name": "stdout",
     "output_type": "stream",
     "text": [
      "Hello mary, you are 32!\n"
     ]
    }
   ],
   "source": [
    "# to do task 4\n",
    "# function where arguments are been input by the user\n",
    "def greeting(name,age=\"28\"):\n",
    "    print(f\"Hello {name}, you are {age}!\")\n",
    "if __name__ ==\"__main__\":\n",
    "    name = input(\"Enter your name: \")    \n",
    "    greeting(name,\"32\")"
   ]
  },
  {
   "cell_type": "code",
   "execution_count": 225,
   "metadata": {},
   "outputs": [
    {
     "name": "stdout",
     "output_type": "stream",
     "text": [
      "Hello mash, you are 44!\n"
     ]
    }
   ],
   "source": [
    "# to do task 4\n",
    "# function where arguments are been input by the user\n",
    "def greeting(name,age):\n",
    "    print(f\"Hello {name}, you are {age}!\")\n",
    "if __name__ ==\"__main__\":\n",
    "    name = input(\"Enter your name: \") \n",
    "    age = input('Enter your age: ')   \n",
    "    greeting(name,age)"
   ]
  },
  {
   "cell_type": "code",
   "execution_count": 226,
   "metadata": {},
   "outputs": [
    {
     "name": "stdout",
     "output_type": "stream",
     "text": [
      "Hello ali, you are 32!\n",
      "Hello Mary, you are 28!\n"
     ]
    }
   ],
   "source": [
    "def greeting(name,Age=28):\n",
    "    print(f\"Hello {name}, you are {Age}!\")\n",
    "if __name__ ==\"__main__\":\n",
    "    name = input(\"Enter your name: \")    \n",
    "    greeting(name,32)\n",
    "    greeting(\"Mary\")"
   ]
  },
  {
   "cell_type": "code",
   "execution_count": 227,
   "metadata": {},
   "outputs": [
    {
     "name": "stdout",
     "output_type": "stream",
     "text": [
      "Hello ali, you are 32 !\n",
      "Hello Judith, you are 28 !\n"
     ]
    }
   ],
   "source": [
    "def greeting(name,age=28):\n",
    "    # print(\"Hello \" + name + \", you are \" + str(age) + \"!\") # converting int to str \n",
    "    # another way\n",
    "    print(\"Hello \" + name + \", you are\" ,(age) , \"!\")\n",
    "    # print(f\"Hello {name}, you are {age}!\") -->runs anyway with str or int \n",
    "\n",
    "name = input(\"Enter your name: \")    \n",
    "greeting(name,32)\n",
    "greeting(\"Judith\")"
   ]
  },
  {
   "cell_type": "code",
   "execution_count": 228,
   "metadata": {},
   "outputs": [
    {
     "name": "stdout",
     "output_type": "stream",
     "text": [
      "Hello , you will be 99 years  old next year and your favorite color is pink!\n",
      "Hello , you will be 99 next birthday!\n"
     ]
    }
   ],
   "source": [
    "# to do task 5\n",
    "\n",
    "def greeting(name, age=28,color=\"red\"):\n",
    "    #Greets user with 'name' from 'input box' and 'age', if available, default age is used\n",
    "    \n",
    "    print(f'Hello {name.title()}, you will be {age+1} years  old next year and your favorite color is {color.lower()}!')\n",
    "# another way for same task\n",
    "    print('Hello '  +  name.capitalize() + ', you will be ' + str(age+1) +' next birthday!')\n",
    "    \n",
    "    \n",
    "if __name__ ==\"__main__\":\n",
    "    name = input('Enter your name: ')\n",
    "    age = input('Enter your age: ')\n",
    "    color = input('Enter your favorite color: ')\n",
    "    greeting(name,int(age),color) \n",
    "    \n",
    "# 1. Add new print statement - on a new line\n",
    "#    which says 'We hear you like the color xxx! xxx is a string with color \n",
    "# 2. extend the function with another  input parameter 'color', that defaults to 'red'\n",
    "# 3. Capture the color via an input box as variable:color \n",
    "# 4. Change the 'You are xx!' text to say 'you will be xx+1 years old next birthday \n",
    "#  adding 1 to the age\n",
    "# 5. Capitalize first letter of the 'name', and rest are small caps \n",
    "# 6. Favorite color should be in lowercase \n",
    "\n"
   ]
  },
  {
   "cell_type": "code",
   "execution_count": 229,
   "metadata": {},
   "outputs": [
    {
     "name": "stdout",
     "output_type": "stream",
     "text": [
      "Hello Brian, you will be 28 next birthday!\n",
      "We hear you like the color blue!\n",
      "Hello User, you will be 29 next birthday!\n",
      "We hear you like the color red!\n"
     ]
    }
   ],
   "source": [
    "# to do task\n",
    "def greeting(name=\"user\", age=28, color=\"red\"):\n",
    " #Greets user with “name” from “input box” and “age”, if unavailable, default age is used   \n",
    "   \n",
    "   print(f\"Hello {name.capitalize()}, you will be {age+1} next birthday!\")\n",
    "   print(f\"We hear you like the color {color.lower()}!\")\n",
    "\n",
    "if __name__  ==\"__main__\":\n",
    "   greeting(\"brian\", 27,\"Blue\")\n",
    "   greeting()\n"
   ]
  },
  {
   "cell_type": "code",
   "execution_count": 230,
   "metadata": {},
   "outputs": [
    {
     "name": "stdout",
     "output_type": "stream",
     "text": [
      "Hello Brian, you will be 28 next birthday!\n",
      "We hear you like the color blue!\n"
     ]
    }
   ],
   "source": [
    "def greeting(name, age=28, color=\"red\"):\n",
    " #Greets user with “name” from “input box” and “age”, if unavailable, default age is used   \n",
    "   \n",
    "   print(f\"Hello {name.capitalize()}, you will be {age+1} next birthday!\")\n",
    "   print(f\"We hear you like the color {color.lower()}!\")\n",
    "\n",
    "if __name__  ==\"__main__\":\n",
    "   # greeting(27,\"brian\",\"Blue\") --> error due to .capitalize() function \n",
    "   # named notations\n",
    "   greeting(age = 27,name=\"BRIAN\",color=\"Blue\")\n",
    "   "
   ]
  },
  {
   "cell_type": "markdown",
   "metadata": {},
   "source": [
    "example of importance of named notation in functions\n",
    "\n",
    "Profile(1995,83.5,192,\"blue\")-->  here no one understand what the respective values are representing in the method call\n",
    "\n",
    "Profile(yob=1995,weight=83.5,height=192,eye_color=\"blue\") --> while here it can be easily understood as each of the value is with its respective name of the variable"
   ]
  },
  {
   "cell_type": "code",
   "execution_count": 231,
   "metadata": {},
   "outputs": [
    {
     "name": "stdout",
     "output_type": "stream",
     "text": [
      "None\n"
     ]
    }
   ],
   "source": [
    "# functions with return statement \n",
    "def value_added_tax(amount):\n",
    "    tax = amount * 0.25\n",
    "if __name__ == \"__main__\":\n",
    "    print(value_added_tax(100))   # due to no return value the output is none"
   ]
  },
  {
   "cell_type": "code",
   "execution_count": 232,
   "metadata": {},
   "outputs": [
    {
     "name": "stdout",
     "output_type": "stream",
     "text": [
      "33.75\n"
     ]
    }
   ],
   "source": [
    "def value_added_tax(amount):\n",
    "    tax = amount * 0.25\n",
    "    return tax\n",
    "if __name__ == \"__main__\":\n",
    "    amount = int(input('Enter the amount you have spend: '))  # type casting here is important\n",
    "    print(value_added_tax(amount))   # will get the output cuz of the value is returned"
   ]
  },
  {
   "cell_type": "code",
   "execution_count": 233,
   "metadata": {},
   "outputs": [
    {
     "name": "stdout",
     "output_type": "stream",
     "text": [
      "25.0 <class 'float'>\n"
     ]
    }
   ],
   "source": [
    "# example 1\n",
    "def value_added_tax(amount):\n",
    "    tax = amount * 0.25\n",
    "    total_amount = amount * 1.25\n",
    "    return  tax\n",
    "    \n",
    "price = value_added_tax(100)    \n",
    "print(price, type(price))"
   ]
  },
  {
   "cell_type": "code",
   "execution_count": 234,
   "metadata": {},
   "outputs": [
    {
     "name": "stdout",
     "output_type": "stream",
     "text": [
      "(100, 25.0, 125.0) <class 'tuple'>\n"
     ]
    }
   ],
   "source": [
    "# example 2\n",
    "def value_added_tax(amount):\n",
    "    tax = amount * 0.25\n",
    "    total_amount = amount * 1.25\n",
    "    return amount, tax, total_amount\n",
    "    \n",
    "price = value_added_tax(100)    \n",
    "print(price, type(price))"
   ]
  },
  {
   "cell_type": "code",
   "execution_count": 235,
   "metadata": {},
   "outputs": [
    {
     "name": "stdout",
     "output_type": "stream",
     "text": [
      "[100, 25.0, 125.0] <class 'list'>\n"
     ]
    }
   ],
   "source": [
    "# example 3\n",
    "def value_added_tax(amount):\n",
    "    tax = amount * 0.25\n",
    "    total_amount = amount * 1.25\n",
    "    return [amount, tax, total_amount]\n",
    "    \n",
    "price = value_added_tax(100)    \n",
    "print(price, type(price))"
   ]
  },
  {
   "cell_type": "code",
   "execution_count": 236,
   "metadata": {},
   "outputs": [
    {
     "name": "stdout",
     "output_type": "stream",
     "text": [
      "{25.0, 100, 125.0} <class 'set'>\n"
     ]
    }
   ],
   "source": [
    "# example 4\n",
    "def value_added_tax(amount):\n",
    "    tax = amount * 0.25\n",
    "    total_amount = amount * 1.25\n",
    "    return {amount, tax, total_amount}\n",
    "    \n",
    "price = value_added_tax(100)    \n",
    "print(price, type(price))"
   ]
  },
  {
   "cell_type": "code",
   "execution_count": 237,
   "metadata": {},
   "outputs": [
    {
     "name": "stdout",
     "output_type": "stream",
     "text": [
      "100, 25.0, 125.0 <class 'str'>\n"
     ]
    }
   ],
   "source": [
    "# example 5\n",
    "def value_added_tax(amount):\n",
    "    tax = amount * 0.25\n",
    "    total_amount = amount * 1.25\n",
    "    return f\"{amount}, {tax}, {total_amount}\"\n",
    "    \n",
    "price = value_added_tax(100)    \n",
    "print(price, type(price))"
   ]
  },
  {
   "cell_type": "code",
   "execution_count": 238,
   "metadata": {},
   "outputs": [
    {
     "name": "stdout",
     "output_type": "stream",
     "text": [
      "25.0 <class 'tuple'>\n"
     ]
    }
   ],
   "source": [
    "# example 6\n",
    "def value_added_tax(amount):\n",
    "    tax = amount * 0.25\n",
    "    total_amount = amount * 1.25\n",
    "    return (amount, tax, total_amount)\n",
    "    \n",
    "price = value_added_tax(100)    \n",
    "print(price[1], type(price)) # this can't be done for sets{} as it can't be scripted  while for lists[] and tuples it works "
   ]
  },
  {
   "cell_type": "markdown",
   "metadata": {},
   "source": [
    "## Comparisons and booleans"
   ]
  },
  {
   "cell_type": "code",
   "execution_count": 239,
   "metadata": {},
   "outputs": [
    {
     "name": "stdout",
     "output_type": "stream",
     "text": [
      "a == b is False\n",
      "a != b is True\n",
      "a > b is True\n",
      "a < b is False\n",
      "a >= b is True\n",
      "a <= b is False\n",
      "o in John is  True\n",
      "o in John is not False\n"
     ]
    }
   ],
   "source": [
    "# Example 1\n",
    "a=7\n",
    "b=3\n",
    "print('a == b is', a == b)\n",
    "print('a != b is', a != b)\n",
    "print('a > b is', a > b)\n",
    "print('a < b is', a < b)\n",
    "print('a >= b is', a >= b)\n",
    "print('a <= b is', a <= b)\n",
    "print('o in John is ','o' in 'John') #membership\n",
    "print('o in John is not','o' not in 'John') #non membership\n",
    "#print('John is John ','John' is 'John') #identity\n",
    "#print('John is not John is ','John' is not 'John') # negative identity\n",
    "\n",
    "# in --> membership\n",
    "# is --> identity"
   ]
  },
  {
   "cell_type": "code",
   "execution_count": 240,
   "metadata": {},
   "outputs": [
    {
     "name": "stdout",
     "output_type": "stream",
     "text": [
      "True\n",
      "False\n",
      "\n",
      "False\n",
      "False\n",
      "True\n",
      "True\n"
     ]
    }
   ],
   "source": [
    "# Example 2\n",
    "print('o' in 'John')\n",
    "print('o' not in 'John')\n",
    "print()\n",
    "print('b' in 'apple')\n",
    "print(\"A\" in 'apple')\n",
    "print(\"A\".lower() in 'apple'.lower()) # using .lower() method to be on the safer side\n",
    "print(\"A\".lower() in 'Apple'.lower())"
   ]
  },
  {
   "cell_type": "code",
   "execution_count": 241,
   "metadata": {},
   "outputs": [
    {
     "name": "stdout",
     "output_type": "stream",
     "text": [
      "True\n",
      "True\n",
      "False\n",
      "\n",
      "True\n",
      "False\n",
      "True\n",
      "\n",
      "1431133237504 1431133237504 1431136672128\n"
     ]
    }
   ],
   "source": [
    "# to check if the 2 values are identical\n",
    "a = [3,7,42]\n",
    "B = [3,7,42]\n",
    "b = a\n",
    "print(a == b)\n",
    "print(a is b) \n",
    "print(a is not b)\n",
    "print()\n",
    "print(a == B)\n",
    "print(a is B) \n",
    "print(a is not B)\n",
    "print()\n",
    "print(id(a),id(b),id(B)) # here id of a and b are same but id of B is different"
   ]
  },
  {
   "cell_type": "code",
   "execution_count": 246,
   "metadata": {},
   "outputs": [
    {
     "name": "stdout",
     "output_type": "stream",
     "text": [
      "1\n",
      "0\n"
     ]
    }
   ],
   "source": [
    "print(int(True))\n",
    "print(int(False))\n",
    "#print(bool(15))  # --> any non zero negative or positive number is 'True'\n",
    "#print(bool(0))\n",
    "#print(bool(' '))  # --> str type bool check --> empty string with a space --> True\n",
    "# print(bool('Parrot')) # str type bool check --> True\n",
    "\n",
    "# any kind of data that is empty or 0 it will be returned False everything else will return True\n",
    "\n",
    "# print(bool([0])) # list type bool check though the list contain '0' in it but as long as its not empty it will return True "
   ]
  },
  {
   "cell_type": "code",
   "execution_count": 247,
   "metadata": {},
   "outputs": [
    {
     "name": "stdout",
     "output_type": "stream",
     "text": [
      "43\n",
      "42\n"
     ]
    }
   ],
   "source": [
    "print(42+True)           # True = 1 --> 42+1 = 43\n",
    "print(42+False)          # False = 0 --> 42+0 = 42"
   ]
  },
  {
   "cell_type": "markdown",
   "metadata": {},
   "source": [
    "## Lecture 14\n",
    "## Functions Part 2"
   ]
  },
  {
   "cell_type": "markdown",
   "metadata": {},
   "source": [
    "## Exception handling"
   ]
  },
  {
   "cell_type": "code",
   "execution_count": 248,
   "metadata": {},
   "outputs": [
    {
     "name": "stdout",
     "output_type": "stream",
     "text": [
      "result=  2.0\n",
      "This will always execute.\n"
     ]
    }
   ],
   "source": [
    "# # try except finally\n",
    "#  Example 1\n",
    "try:\n",
    "    x = 10\n",
    "    y = 5\n",
    "    result = x/y\n",
    "    print('result= ',result)\n",
    "except ZeroDivisionError:\n",
    "    print('Error!Division by zero')\n",
    "finally:\n",
    "    print('This will always execute.')\n",
    "    "
   ]
  },
  {
   "cell_type": "code",
   "execution_count": 251,
   "metadata": {},
   "outputs": [
    {
     "name": "stdout",
     "output_type": "stream",
     "text": [
      "result=  1.3333333333333333\n",
      "This will always execute.\n"
     ]
    }
   ],
   "source": [
    "# to do task 1\n",
    "try:\n",
    "    x = int(input('Enter the value of x:'))\n",
    "    y = int(input('Enter the value of y: '))\n",
    "    result = x/y\n",
    "    print('result= ',result)\n",
    "except ZeroDivisionError:\n",
    "    print('Error!Division by zero')\n",
    "finally:\n",
    "    print('This will always execute.')\n",
    "\n",
    "'''\n",
    "output 1 --> \n",
    "x = 0   y = 4\n",
    "result  = 0/4 = 0 \n",
    "result  = 0\n",
    "This will always execute.\n",
    "output 2 --> \n",
    "x = 4   y = 0\n",
    "result  = 4/0 = 0 \n",
    "result  = 0\n",
    "Error!Division by zero\n",
    "'''\n"
   ]
  },
  {
   "cell_type": "code",
   "execution_count": 260,
   "metadata": {},
   "outputs": [
    {
     "name": "stdout",
     "output_type": "stream",
     "text": [
      "Result=  2.0\n",
      "Else block executed successfully!\n",
      "Else block will execute when Except block is not executed \n",
      "This will always execute.\n"
     ]
    }
   ],
   "source": [
    "# try except else finally\n",
    "# example 2\n",
    "try:\n",
    "    x = 10\n",
    "    y = 5\n",
    "    result = x/y\n",
    "    print('Result= ',result)\n",
    "except ZeroDivisionError:\n",
    "    print('Error! Division by zero.')\n",
    "else:\n",
    "    print(\"Else block executed successfully!\\nElse block will execute when Except block is not executed \")\n",
    "finally:\n",
    "    print('This will always execute.')\n",
    "\n",
    "\n"
   ]
  },
  {
   "cell_type": "code",
   "execution_count": 261,
   "metadata": {},
   "outputs": [
    {
     "name": "stdout",
     "output_type": "stream",
     "text": [
      "Your marks are:  66.0\n",
      "Your Grade is:  C\n"
     ]
    }
   ],
   "source": [
    "# Functions with return type\n",
    "# task 1\n",
    "# write a program using functions which calculates the grade of a student in a subject \n",
    "\n",
    "def gradeCalculator():\n",
    "    marks  = float(input('Enter your marks:'))\n",
    "    print('Your marks are: ',marks)\n",
    "    if marks>=80 and marks<=100:\n",
    "       Grade  = 'A'\n",
    "    elif marks>=70 and marks<80:\n",
    "        Grade = 'B'\n",
    "    elif marks>=60 and marks<70:\n",
    "        Grade = 'C'\n",
    "    elif marks>=50 and marks<60:\n",
    "        Grade = 'D'\n",
    "    elif marks>=0 and marks<50:\n",
    "        Grade = 'F'\n",
    "    else:\n",
    "        Grade = 'Invalid'\n",
    "    return Grade\n",
    "if __name__ == \"__main__\":\n",
    "    print('Your Grade is: ',gradeCalculator())\n",
    "    "
   ]
  },
  {
   "cell_type": "code",
   "execution_count": 262,
   "metadata": {},
   "outputs": [
    {
     "name": "stdout",
     "output_type": "stream",
     "text": [
      "Your grade is:  A\n"
     ]
    }
   ],
   "source": [
    "# no return type , arguments / parameters\n",
    "# task 2\n",
    "def gradeCalculator1(marks):\n",
    "    if marks >= 80 and marks <= 100:\n",
    "        Grade = 'A'\n",
    "    elif marks >= 70 and marks < 80:\n",
    "        Grade = 'B'\n",
    "    elif marks >= 60 and marks < 70:\n",
    "        Grade = 'C'\n",
    "    elif marks >= 50 and marks < 60:\n",
    "        Grade = 'D'\n",
    "    elif marks >= 0 and marks < 50:\n",
    "        Grade = 'F'\n",
    "    else:\n",
    "        Grade = 'Invalid'\n",
    "    return Grade\n",
    "\n",
    "if __name__ == \"__main__\":\n",
    "    marks = float(input('Enter your marks: '))\n",
    "    grade = gradeCalculator1(marks)\n",
    "    print('Your grade is: ', grade)\n",
    "\n"
   ]
  },
  {
   "cell_type": "code",
   "execution_count": 263,
   "metadata": {},
   "outputs": [
    {
     "name": "stdout",
     "output_type": "stream",
     "text": [
      "Your marks are: 84.0\n",
      "Your grade is:  A\n"
     ]
    }
   ],
   "source": [
    "# modified way ->2\n",
    "def gradeCalculator1(marks):\n",
    "    if marks >= 80 and marks <= 100:\n",
    "        Grade = 'A'\n",
    "    elif marks >= 70 and marks < 80:\n",
    "        Grade = 'B'\n",
    "    elif marks >= 60 and marks < 70:\n",
    "        Grade = 'C'\n",
    "    elif marks >= 50 and marks < 60:\n",
    "        Grade = 'D'\n",
    "    elif marks >= 0 and marks < 50:\n",
    "        Grade = 'F'\n",
    "    else:\n",
    "        Grade = 'Invalid'\n",
    "    \n",
    "    print(f'Your marks are: {marks}')\n",
    "    return Grade\n",
    "\n",
    "if __name__ == \"__main__\":\n",
    "    try:\n",
    "        marks = float(input('Enter your marks: '))\n",
    "        grade = gradeCalculator1(marks)\n",
    "        print('Your grade is: ', grade)\n",
    "    except: \n",
    "        print('Error! ENter an integer or float value.')\n"
   ]
  },
  {
   "cell_type": "code",
   "execution_count": 264,
   "metadata": {},
   "outputs": [
    {
     "name": "stdout",
     "output_type": "stream",
     "text": [
      "Name:  Ayesha\n",
      "Age:  23\n",
      "Gender:  Female\n"
     ]
    }
   ],
   "source": [
    "# task 3\n",
    "\n",
    "def display(name, age, gender):\n",
    "    print('Name: ', name)\n",
    "    print('Age: ', age)\n",
    "    print('Gender: ', gender)\n",
    "\n",
    "def main():\n",
    "    name = 'Ayesha'\n",
    "    age = 23\n",
    "    gender = 'Female'\n",
    "    display(name, age, gender)\n",
    "\n",
    "if __name__ == \"__main__\":\n",
    "    main()"
   ]
  },
  {
   "cell_type": "code",
   "execution_count": 265,
   "metadata": {},
   "outputs": [
    {
     "name": "stdout",
     "output_type": "stream",
     "text": [
      "The number you've entered is: 7\n",
      "The square of the number is: 49\n"
     ]
    }
   ],
   "source": [
    "# to do task 1\n",
    "# function to find the square of a number\n",
    "def findSquare():\n",
    "    num = int(input('Enter a number to find its square: '))\n",
    "    print(f\"The number you've entered is: {num}\")\n",
    "    square = num * num\n",
    "    print(f\"The square of the number is: {square}\")\n",
    "    return square\n",
    "\n",
    "if __name__ == \"__main__\":\n",
    "    findSquare()"
   ]
  },
  {
   "cell_type": "code",
   "execution_count": 266,
   "metadata": {},
   "outputs": [
    {
     "name": "stdout",
     "output_type": "stream",
     "text": [
      "The number you've entered is: 9\n",
      "The square of the number is: 81\n"
     ]
    }
   ],
   "source": [
    "#  same example with arguments\n",
    "def findSquare(num):\n",
    "    print(f\"The number you've entered is: {num}\")\n",
    "    square = num * num\n",
    "    print(f\"The square of the number is: {square}\")\n",
    "    return square\n",
    "\n",
    "if __name__ == \"__main__\":\n",
    "    num = int(input('Enter a number to find its square: '))\n",
    "    findSquare(num)\n",
    "\n"
   ]
  },
  {
   "cell_type": "code",
   "execution_count": 267,
   "metadata": {},
   "outputs": [
    {
     "name": "stdout",
     "output_type": "stream",
     "text": [
      "The sum of two floating numbers is=  7.9\n"
     ]
    }
   ],
   "source": [
    "# to do task 2\n",
    "#  a function to add two float numbers\n",
    "\n",
    "def addition():\n",
    "    num1 = float(input('Enter first number: '))\n",
    "    num2 = float(input('Enter second number: '))\n",
    "    sum = num1 + num2\n",
    "    print('The sum of two floating numbers is= ',sum)\n",
    "if __name__ ==\"__main__\":\n",
    "    addition()\n",
    "\n",
    "    "
   ]
  },
  {
   "cell_type": "code",
   "execution_count": 268,
   "metadata": {},
   "outputs": [
    {
     "name": "stdout",
     "output_type": "stream",
     "text": [
      "The sum of two floating numbers is=  30.2\n"
     ]
    }
   ],
   "source": [
    "# same code with arguments\n",
    "\n",
    "def addition(num1,num2):\n",
    "\n",
    "    sum = num1 + num2\n",
    "    print('The sum of two floating numbers is= ',sum)\n",
    "if __name__ ==\"__main__\":\n",
    "    num1 = float(input('Enter first number: '))\n",
    "    num2 = float(input('Enter second number: '))\n",
    "    addition(num1,num2)"
   ]
  },
  {
   "cell_type": "code",
   "execution_count": 269,
   "metadata": {},
   "outputs": [
    {
     "name": "stdout",
     "output_type": "stream",
     "text": [
      "4 is an even number\n"
     ]
    }
   ],
   "source": [
    "# to do task 3\n",
    "#  a program to check whether a number is even or odd\n",
    "\n",
    "def numCheck():\n",
    "    num = int(input('Enter a number: '))\n",
    "    if num%2 ==0:\n",
    "        print(f'{num} is an even number')\n",
    "    else:\n",
    "        print(f'{num} is an odd number')\n",
    "if __name__ ==\"__main__\":\n",
    "    numCheck()\n",
    "        "
   ]
  },
  {
   "cell_type": "code",
   "execution_count": 272,
   "metadata": {},
   "outputs": [
    {
     "name": "stdout",
     "output_type": "stream",
     "text": [
      "5 is an odd number\n"
     ]
    }
   ],
   "source": [
    "# same function with arguments \n",
    "\n",
    "def numCheck(num):\n",
    "    \n",
    "    if num%2 ==0:\n",
    "        print(f'{num} is an even number')\n",
    "    else:\n",
    "        print(f'{num} is an odd number')\n",
    "if __name__ ==\"__main__\":\n",
    "     num = int(input('Enter a number: '))\n",
    "     numCheck(num)\n",
    "        "
   ]
  },
  {
   "cell_type": "markdown",
   "metadata": {},
   "source": [
    "## lecture 15\n",
    "## Functions part 3"
   ]
  },
  {
   "cell_type": "code",
   "execution_count": 281,
   "metadata": {},
   "outputs": [
    {
     "name": "stdout",
     "output_type": "stream",
     "text": [
      "Your grade according to your marks is:  A\n"
     ]
    }
   ],
   "source": [
    "# example 1\n",
    "# grade calculation function with return type\n",
    "\n",
    "def gradeCalculator2():\n",
    "    try:\n",
    "        marks = float(input('Enter your marks: '))\n",
    "        if marks>=80 and marks<=100:\n",
    "            Grade = 'A'\n",
    "        elif marks>=70 and marks<80:\n",
    "            Grade = 'B'\n",
    "        elif marks>=60 and marks<70:\n",
    "            Grade = 'C'\n",
    "        elif marks>=50 and marks<60:\n",
    "            Grade = 'D'\n",
    "        elif marks>=0 and marks<50:\n",
    "            Grade = 'F'\n",
    "    except:\n",
    "        print('Invalid choice! Enter a float or integer  number.')\n",
    "    finally:\n",
    "        return Grade \n",
    "\n",
    "if __name__ == \"__main__\":\n",
    "    grade=gradeCalculator2()\n",
    "    print('Your grade according to your marks is: ',grade)\n",
    "    "
   ]
  },
  {
   "cell_type": "code",
   "execution_count": 285,
   "metadata": {},
   "outputs": [
    {
     "name": "stdout",
     "output_type": "stream",
     "text": [
      "your marks =  88.0\n",
      "your grade will be:  A\n",
      "Your grade according to your marks is:  A\n"
     ]
    }
   ],
   "source": [
    "# same program with minimal changes\n",
    "def gradeCalculator2():\n",
    "    try:\n",
    "        marks = float(input('Enter your marks: '))\n",
    "        if marks>=80 and marks<=100:\n",
    "            Grade = 'A'\n",
    "        elif marks>=70 and marks<80:\n",
    "            Grade = 'B'\n",
    "        elif marks>=60 and marks<70:\n",
    "            Grade = 'C'\n",
    "        elif marks>=50 and marks<60:\n",
    "            Grade = 'D'\n",
    "        elif marks>=0 and marks<50:\n",
    "            Grade = 'F'\n",
    "        print('your marks = ',marks)\n",
    "        print('your grade will be: ',grade)\n",
    "    except ValueError:\n",
    "        print('Invalid choice! Enter a float or integer  number.')\n",
    "    finally:\n",
    "        return Grade \n",
    "\n",
    "if __name__ == \"__main__\":\n",
    "    result=gradeCalculator2()\n",
    "    print('Your grade according to your marks is: ',result)"
   ]
  },
  {
   "cell_type": "code",
   "execution_count": 286,
   "metadata": {},
   "outputs": [
    {
     "name": "stdout",
     "output_type": "stream",
     "text": [
      "Name:  Ali\n",
      "Age:  23\n",
      "Gender:  male\n"
     ]
    }
   ],
   "source": [
    "# Example 2\n",
    "# returning multiple values\n",
    "\n",
    "def display():\n",
    "    name = 'Ali'\n",
    "    age = 23\n",
    "    gender = 'male'\n",
    "    return name,age,gender\n",
    "def main():\n",
    "    name,age,gender = display()\n",
    "    print('Name: ',name)\n",
    "    print('Age: ',age)\n",
    "    print('Gender: ',gender)\n",
    "\n",
    "if __name__ ==\"__main__\":\n",
    "    main()\n"
   ]
  },
  {
   "cell_type": "code",
   "execution_count": 22,
   "metadata": {},
   "outputs": [
    {
     "name": "stdout",
     "output_type": "stream",
     "text": [
      "December has 31 days.\n"
     ]
    }
   ],
   "source": [
    "# how to optimize functions\n",
    "# try to reduce number of conditions\n",
    "\n",
    "def num_days(month):\n",
    "    month = month.lower()\n",
    "    if month=='january' or month =='march' or month =='may' or month =='july' or month =='august' or month == 'october' or month =='december':\n",
    "        print(f'{month.capitalize()} has 31 days.')\n",
    "    elif month =='april' or month =='june' or month=='september' or month =='november':\n",
    "        print(f'{month.capitalize()} has 30 days.')\n",
    "    elif month =='february':\n",
    "        print(f'{month}.capitalize() has 28 or 29 days.')\n",
    "    else:\n",
    "        print('Please enter a correct month!!')\n",
    "if __name__ ==\"__main__\":\n",
    "    month = str(input('Enter the name of a month: '))\n",
    "    num_days(month)\n"
   ]
  },
  {
   "cell_type": "markdown",
   "metadata": {},
   "source": [
    "## lecture 16\n",
    "## Data Structures "
   ]
  },
  {
   "cell_type": "code",
   "execution_count": null,
   "metadata": {},
   "outputs": [],
   "source": [
    "# Array or lists -> []\n",
    "# Tuples -> ()\n",
    "# Set ->{}\n"
   ]
  },
  {
   "cell_type": "code",
   "execution_count": 293,
   "metadata": {},
   "outputs": [
    {
     "name": "stdout",
     "output_type": "stream",
     "text": [
      "Array: [10, 20, 30, 40]\n",
      "First element: 10\n",
      "After appending 50: [10, 20, 30, 40, 50]\n",
      "After removing 20: [10, 30, 40, 50]\n",
      "(10, 'hello', 3.14, True)\n",
      "hello\n",
      "4\n"
     ]
    }
   ],
   "source": [
    "# to do task 1\n",
    "# write at  least 2 linear data structures\n",
    "# number 1 --> Arrays or Lists \n",
    "# Example of an array (list) in Python\n",
    "arr = [10, 20, 30, 40]\n",
    "print(\"Array:\", arr)\n",
    "\n",
    "# Accessing elements\n",
    "print(\"First element:\", arr[0])\n",
    "\n",
    "# Adding elements\n",
    "arr.append(50)\n",
    "print(\"After appending 50:\", arr)\n",
    "\n",
    "# Removing elements\n",
    "arr.remove(20)\n",
    "print(\"After removing 20:\", arr)\n",
    "\n",
    "# number 2\n",
    "#Tuple\n",
    "# A simple tuple containing different data types\n",
    "my_tuple = (10, \"hello\", 3.14, True)\n",
    "print(my_tuple)  # Output: (10, 'hello', 3.14, True)\n",
    "\n",
    "# Accessing elements by index\n",
    "print(my_tuple[1])  # Output: 'hello'\n",
    "\n",
    "# Length of the tuple\n",
    "print(len(my_tuple))  # Output: 4\n",
    "\n"
   ]
  },
  {
   "cell_type": "code",
   "execution_count": 288,
   "metadata": {},
   "outputs": [
    {
     "name": "stdout",
     "output_type": "stream",
     "text": [
      "10\n",
      "[10, 20, 35, 40, 50]\n",
      "[10, 20, 35, 40, 50, 60]\n",
      "[10, 20, 40, 50, 60]\n"
     ]
    }
   ],
   "source": [
    "# lists\n",
    "# Creating a list\n",
    "my_list = [10, 20, 30, 40, 50]\n",
    "\n",
    "# Accessing elements\n",
    "print(my_list[0])  # Output: 10\n",
    "\n",
    "# Modifying elements\n",
    "my_list[2] = 35\n",
    "print(my_list)  # Output: [10, 20, 35, 40, 50]\n",
    "\n",
    "# Adding elements\n",
    "my_list.append(60)\n",
    "print(my_list)  # Output: [10, 20, 35, 40, 50, 60]\n",
    "\n",
    "# Removing elements\n",
    "my_list.remove(35)\n",
    "print(my_list)  # Output: [10, 20, 40,50,60]\n"
   ]
  },
  {
   "cell_type": "code",
   "execution_count": 291,
   "metadata": {},
   "outputs": [
    {
     "name": "stdout",
     "output_type": "stream",
     "text": [
      "{50, 20, 40, 10, 60, 30}\n",
      "{50, 20, 40, 10, 60}\n",
      "True\n",
      "{70, 40, 10, 50, 20, 60, 30}\n"
     ]
    }
   ],
   "source": [
    "# Sets\n",
    "# Creating a set\n",
    "my_set = {10, 20, 30, 40, 50}\n",
    "\n",
    "# Adding elements\n",
    "my_set.add(60)\n",
    "print(my_set)  # Output: {40, 10, 50, 20, 60, 30} (order may vary)\n",
    "\n",
    "# Removing elements\n",
    "my_set.remove(30)\n",
    "print(my_set)  # Output: {40, 10, 50, 20, 60} (order may vary)\n",
    "\n",
    "# Checking membership\n",
    "print(20 in my_set)  # Output: True\n",
    "\n",
    "# Sets are useful for set operations like union, intersection, etc.\n",
    "another_set = {30, 40, 50, 70}\n",
    "union_set = my_set.union(another_set)\n",
    "print(union_set)  # Output: {70, 40, 10, 50, 20, 60, 30} (order may vary)\n",
    "\n"
   ]
  },
  {
   "cell_type": "code",
   "execution_count": 292,
   "metadata": {},
   "outputs": [
    {
     "name": "stdout",
     "output_type": "stream",
     "text": [
      "(10, 'hello', 3.14, True)\n",
      "hello\n",
      "4\n"
     ]
    }
   ],
   "source": [
    "# tuples\n",
    "# A simple tuple containing different data types\n",
    "my_tuple = (10, \"hello\", 3.14, True)\n",
    "print(my_tuple)  # Output: (10, 'hello', 3.14, True)\n",
    "\n",
    "# Accessing elements by index\n",
    "print(my_tuple[1])  # Output: 'hello'\n",
    "\n",
    "# Length of the tuple\n",
    "print(len(my_tuple))  # Output: 4\n"
   ]
  },
  {
   "cell_type": "code",
   "execution_count": 27,
   "metadata": {},
   "outputs": [
    {
     "name": "stdout",
     "output_type": "stream",
     "text": [
      "Alice\n",
      "{'name': 'Alice', 'age': 26, 'city': 'New York'}\n",
      "{'name': 'Alice', 'age': 26, 'city': 'New York', 'email': 'alice@example.com'}\n",
      "{'name': 'Alice', 'age': 26, 'email': 'alice@example.com'}\n",
      "True\n",
      "False\n"
     ]
    }
   ],
   "source": [
    "# dictionary\n",
    "# Creating a dictionary\n",
    "my_dict = {\n",
    "    \"name\": \"Alice\",\n",
    "    \"age\": 25,\n",
    "    \"city\": \"New York\"\n",
    "}\n",
    "\n",
    "# Accessing elements\n",
    "print(my_dict[\"name\"])  # Output: Alice\n",
    "\n",
    "# Modifying elements\n",
    "my_dict[\"age\"] = 26\n",
    "print(my_dict)  # Output: {'name': 'Alice', 'age': 26, 'city': 'New York'}\n",
    "\n",
    "# Adding elements\n",
    "my_dict[\"email\"] = \"alice@example.com\"\n",
    "print(my_dict)  # Output: {'name': 'Alice', 'age': 26, 'city': 'New York', 'email': 'alice@example.com'}\n",
    "\n",
    "# Removing elements\n",
    "del my_dict[\"city\"]\n",
    "print(my_dict)  # Output: {'name': 'Alice', 'age': 26, 'email': 'alice@example.com'}\n",
    "\n",
    "# Checking membership (only checks keys)\n",
    "print(\"name\" in my_dict)  # Output: True\n",
    "print(\"name\" not in my_dict)  # output : False"
   ]
  },
  {
   "cell_type": "markdown",
   "metadata": {},
   "source": [
    "## lecture 17\n",
    "## strings"
   ]
  },
  {
   "cell_type": "code",
   "execution_count": 1,
   "metadata": {},
   "outputs": [
    {
     "name": "stdout",
     "output_type": "stream",
     "text": [
      "message with single quotes\n",
      "Allah is One\n",
      "message with double quotes\n",
      "Allah is One.He is the creator  of heaven and earth\n",
      "message with triple quotes\n",
      "Allah is One.\n",
      "          He is the creator of heaven and earth.\n",
      "          HE controls everything\n",
      "length of the string with single quotes: \n",
      "the  length of string allah is one:  13\n",
      "length of string in double quotes: \n",
      "the length of the string in double quotes:  51\n",
      "length of the string in triple quotes: \n",
      "length of the string in triple quotes:  74\n"
     ]
    }
   ],
   "source": [
    "# example 1\n",
    "try:\n",
    "    print('message with single quotes')\n",
    "    print('Allah is One')\n",
    "    print(\"message with double quotes\")\n",
    "    print(\"Allah is One.He is the creator  of heaven and earth\")\n",
    "    print(\"\"\"message with triple quotes\"\"\")\n",
    "    print(\"\"\"Allah is One.\n",
    "          He is the creator of heaven and earth.\n",
    "          HE controls everything\"\"\")\n",
    "    print(\"length of the string with single quotes: \")\n",
    "    print(\"the  length of string allah is one: \",len('Allah is one.'))\n",
    "    print('length of string in double quotes: ')\n",
    "    print('the length of the string in double quotes: ',len(\"Allah is one. He is the creator of heaven and earth\"))\n",
    "    print('length of the string in triple quotes: ')\n",
    "    print('length of the string in triple quotes: ',len(\"\"\"ALlah is one.He is the creator of heaven and earth.he controls everything.\"\"\"))\n",
    "except:\n",
    "    print(\"Error ocurred!\")"
   ]
  },
  {
   "cell_type": "code",
   "execution_count": 2,
   "metadata": {},
   "outputs": [
    {
     "name": "stdout",
     "output_type": "stream",
     "text": [
      "message with single quotes\n",
      "MUhammad P.B.U.H. is the last messenger of Allah\n",
      "message with double quotes\n",
      "MUhammad P.B.U.H. is the last messenger of Allah.He is the role model for us in all fields of life\n",
      "message with triple quotes\n",
      "MUhammad P.B.U.H. is the last messenger of Allah.\n",
      "          He is the role model for us in all fields of life.\n",
      "          One who doesn't accept him as the last messenger is non muslim.\n",
      "length of the string with single quotes: \n",
      "the  length of string allah is one:  49\n",
      "length of string in double quotes: \n",
      "the length of the string in double quotes:  100\n",
      "length of the string in triple quotes: \n",
      "length of the string in triple quotes:  163\n"
     ]
    }
   ],
   "source": [
    "# to do task 1:\n",
    "try:\n",
    "    print('message with single quotes')\n",
    "    print('MUhammad P.B.U.H. is the last messenger of Allah')\n",
    "    print(\"message with double quotes\")\n",
    "    print(\"MUhammad P.B.U.H. is the last messenger of Allah.He is the role model for us in all fields of life\")\n",
    "    print(\"\"\"message with triple quotes\"\"\")\n",
    "    print(\"\"\"MUhammad P.B.U.H. is the last messenger of Allah.\n",
    "          He is the role model for us in all fields of life.\n",
    "          One who doesn't accept him as the last messenger is non muslim.\"\"\")\n",
    "    print(\"length of the string with single quotes: \")\n",
    "    print(\"the  length of string allah is one: \",len('MUhammad P.B.U.H. is the last messenger of Allah.'))\n",
    "    print('length of string in double quotes: ')\n",
    "    print('the length of the string in double quotes: ',len(\"MUhammad P.B.U.H. is the last messenger of Allah. .He is the role model for us in all fields of life\"))\n",
    "    print('length of the string in triple quotes: ')\n",
    "    print('length of the string in triple quotes: ',len(\"\"\"MUhammad P.B.U.H. is the last messenger of Allah..He is the role model for us in all fields of lifeOne who doesn't accept him as the last messenger is non muslim..\"\"\"))\n",
    "except:\n",
    "    print(\"Error ocurred!\")"
   ]
  },
  {
   "cell_type": "code",
   "execution_count": 11,
   "metadata": {},
   "outputs": [
    {
     "name": "stdout",
     "output_type": "stream",
     "text": [
      "hello this is mary\n",
      "HelloWorld-HelloWorld-HelloWorld\n"
     ]
    }
   ],
   "source": [
    "# Your Turn task\n",
    "# concatenation and replication\n",
    "string1 = \"hello this is \"\n",
    "name = input(\"Enter your name: \")   # name entered = mary\n",
    "string2 = string1 + name\n",
    "print(string2)\n",
    "\n",
    "original_string = \"HelloWorld\"\n",
    "replicated_string = (original_string + '-') * 2 + original_string\n",
    "print(replicated_string)\n"
   ]
  },
  {
   "cell_type": "code",
   "execution_count": 10,
   "metadata": {},
   "outputs": [
    {
     "name": "stdout",
     "output_type": "stream",
     "text": [
      "Muhammad\n",
      "ALlah\n"
     ]
    }
   ],
   "source": [
    "# Slicing:\n",
    "\n",
    "# Extract and print the first eight characters and the last five characters of the string \"MUhammad P.B.U.H. is the last messenger of Allah.\".\n",
    "\n",
    "string = \"Muhammad P.B.U.H. is the last messenger of ALlah.\"\n",
    "print(string[0:8])\n",
    "print(string[-6:-1])"
   ]
  },
  {
   "cell_type": "code",
   "execution_count": 19,
   "metadata": {},
   "outputs": [
    {
     "name": "stdout",
     "output_type": "stream",
     "text": [
      "MUHAMMAD P.B.U.H. IS THE LAST MESSENGER OF ALLAH.\n",
      "25\n",
      "-1\n"
     ]
    }
   ],
   "source": [
    "# String Methods:\n",
    "# Convert the string \"MUhammad P.B.U.H. is the last messenger of Allah.\" to all uppercase letters and print it.\n",
    "# Check if the string \"last messenger\" is present in the above string, and print the result.\n",
    "\n",
    "string = \"Muhammad P.B.U.H. is the last messenger of Allah.\"\n",
    "print(string.upper())\n",
    "print(string.find('last messenger'))\n",
    "\n",
    "print(string.find('late')) # any word that's not present will have output = -1"
   ]
  },
  {
   "cell_type": "code",
   "execution_count": 20,
   "metadata": {},
   "outputs": [
    {
     "name": "stdout",
     "output_type": "stream",
     "text": [
      "Hello! Mary you have 5 new messages!\n"
     ]
    }
   ],
   "source": [
    "# String Formatting:\n",
    "# Use the format() method to insert your name and a number (e.g., 5) into the string \"Hello, {}! You have {} new messages.\".\n",
    "\n",
    "name  = 'Mary'\n",
    "msg = 5\n",
    "\n",
    "print(f'Hello! {name} you have {msg} new messages!')"
   ]
  },
  {
   "cell_type": "code",
   "execution_count": 30,
   "metadata": {},
   "outputs": [
    {
     "name": "stdout",
     "output_type": "stream",
     "text": [
      "Hello This Is A String! \n",
      "Hello this is a string! \n",
      "hello this is a string! \n",
      "HELLO THIS IS A STRING! \n",
      "***Hello this is a string! ***\n"
     ]
    }
   ],
   "source": [
    "# example 2\n",
    "string = \"Hello this is a string! \"\n",
    "print(string.title())\n",
    "print(string.capitalize())\n",
    "print(string.lower())\n",
    "print(string.upper())\n",
    "print(string.center(30,'*'))"
   ]
  },
  {
   "cell_type": "code",
   "execution_count": 31,
   "metadata": {},
   "outputs": [
    {
     "name": "stdout",
     "output_type": "stream",
     "text": [
      "Allah Is One! \n",
      "Allah is one! \n",
      "allah is one! \n",
      "ALLAH IS ONE! \n",
      "********Allah is one! ********\n"
     ]
    }
   ],
   "source": [
    "# your turn task\n",
    "string = \"Allah is one! \"\n",
    "print(string.title())\n",
    "print(string.capitalize())\n",
    "print(string.lower())\n",
    "print(string.upper())\n",
    "print(string.center(30,'*'))"
   ]
  },
  {
   "cell_type": "code",
   "execution_count": 38,
   "metadata": {},
   "outputs": [
    {
     "name": "stdout",
     "output_type": "stream",
     "text": [
      "['Allah', 'is', 'one.He', 'is', 'the', 'creator', 'of', 'this', 'universe.']\n",
      "['Allah is one.He is the creator of this universe.']\n"
     ]
    }
   ],
   "source": [
    "# split method\n",
    "string = \"Allah is one.He is the creator of this universe.\"\n",
    "print(string.split())\n",
    "print(string.split('-'))\n"
   ]
  },
  {
   "cell_type": "code",
   "execution_count": 41,
   "metadata": {},
   "outputs": [
    {
     "name": "stdout",
     "output_type": "stream",
     "text": [
      "Allah is one. He is the creator of the universe.\n",
      "              Allah is one. He is the creator of the universe.\n",
      "Allah is one. He is the creator of the universe.             \n"
     ]
    }
   ],
   "source": [
    "string = '              Allah is one. He is the creator of the universe.             '\n",
    "print(string.strip())\n",
    "print(string.rstrip())\n",
    "print(string.lstrip())\n"
   ]
  },
  {
   "cell_type": "code",
   "execution_count": 45,
   "metadata": {},
   "outputs": [
    {
     "name": "stdout",
     "output_type": "stream",
     "text": [
      "<class 'int'>\n",
      "<class 'str'>\n"
     ]
    }
   ],
   "source": [
    "num1 = 43\n",
    "num2 = \"43\"\n",
    "print(type(num1))\n",
    "print(type(num2))"
   ]
  },
  {
   "cell_type": "code",
   "execution_count": 48,
   "metadata": {},
   "outputs": [
    {
     "name": "stdout",
     "output_type": "stream",
     "text": [
      "0\n",
      "-1\n"
     ]
    }
   ],
   "source": [
    "# find method\n",
    "string = \"12345678987654321\"\n",
    "print(string.find('1')) # telling the index number of he first occurence\n",
    "print(string.find('11'))\n"
   ]
  },
  {
   "cell_type": "code",
   "execution_count": 55,
   "metadata": {},
   "outputs": [
    {
     "name": "stdout",
     "output_type": "stream",
     "text": [
      "Allah is one.Hazrat Muhammad P.B.U.H. is the role model in all fields of life.\n",
      "HAllah is one.aAllah is one.zAllah is one.rAllah is one.aAllah is one.tAllah is one. Allah is one.MAllah is one.uAllah is one.hAllah is one.aAllah is one.mAllah is one.mAllah is one.aAllah is one.dAllah is one. Allah is one.PAllah is one..Allah is one.BAllah is one..Allah is one.UAllah is one..Allah is one.HAllah is one..Allah is one. Allah is one.iAllah is one.sAllah is one. Allah is one.tAllah is one.hAllah is one.eAllah is one. Allah is one.rAllah is one.oAllah is one.lAllah is one.eAllah is one. Allah is one.mAllah is one.oAllah is one.dAllah is one.eAllah is one.lAllah is one. Allah is one.iAllah is one.nAllah is one. Allah is one.aAllah is one.lAllah is one.lAllah is one. Allah is one.fAllah is one.iAllah is one.eAllah is one.lAllah is one.dAllah is one.sAllah is one. Allah is one.oAllah is one.fAllah is one. Allah is one.lAllah is one.iAllah is one.fAllah is one.eAllah is one..\n",
      "Allah is one.\n"
     ]
    }
   ],
   "source": [
    "# to do task\n",
    "string = \"Hazrat Muhammad P.B.U.H. is the role model in all fields of life.\"\n",
    "string1 = \"Allah is one.\"\n",
    "# concatenation\n",
    "print(string1 + string)\n",
    "\n",
    "# join method\n",
    "print(string1.join(string))\n",
    "\n"
   ]
  },
  {
   "cell_type": "code",
   "execution_count": 56,
   "metadata": {},
   "outputs": [
    {
     "name": "stdout",
     "output_type": "stream",
     "text": [
      "hello this is Alice in the wonderland\n"
     ]
    }
   ],
   "source": [
    "# format method\n",
    "\n",
    "string = \"hello this is {} in the {}\"\n",
    "\n",
    "print(string.format('Alice','wonderland'))"
   ]
  },
  {
   "cell_type": "code",
   "execution_count": 58,
   "metadata": {},
   "outputs": [
    {
     "name": "stdout",
     "output_type": "stream",
     "text": [
      "16\n",
      "2\n"
     ]
    }
   ],
   "source": [
    "# to do task\n",
    "string  = \"Hazrat Muhammad P.B.U.H. is role model in every aspect of our lives\"\n",
    "print(string.find('P.B.U.H.'))\n",
    "print(string.find('z'))\n"
   ]
  },
  {
   "cell_type": "code",
   "execution_count": 60,
   "metadata": {},
   "outputs": [
    {
     "name": "stdout",
     "output_type": "stream",
     "text": [
      "Original list: [5, 2, 9, 1, 5, 6]\n",
      "Sorted list: [1, 2, 5, 5, 6, 9]\n"
     ]
    }
   ],
   "source": [
    "# Sorting a list of numbers\n",
    "numbers = [5, 2, 9, 1, 5, 6]\n",
    "sorted_numbers = sorted(numbers)\n",
    "\n",
    "print(\"Original list:\", numbers)\n",
    "print(\"Sorted list:\", sorted_numbers)\n"
   ]
  },
  {
   "cell_type": "code",
   "execution_count": 61,
   "metadata": {},
   "outputs": [
    {
     "name": "stdout",
     "output_type": "stream",
     "text": [
      "Original string: python\n",
      "Sorted string: ['h', 'n', 'o', 'p', 't', 'y']\n"
     ]
    }
   ],
   "source": [
    "# Sorting a string alphabetically\n",
    "string = \"python\"\n",
    "sorted_string = sorted(string)\n",
    "\n",
    "print(\"Original string:\", string)\n",
    "print(\"Sorted string:\", sorted_string)\n"
   ]
  },
  {
   "cell_type": "code",
   "execution_count": 62,
   "metadata": {},
   "outputs": [
    {
     "name": "stdout",
     "output_type": "stream",
     "text": [
      "hellothis is python!\n",
      "hello this is python!\n"
     ]
    }
   ],
   "source": [
    "# merge 2 string\n",
    "string1 = 'hello'\n",
    "string2 = \"this is python!\"\n",
    "print(string1 + string2)\n",
    "print(string1 +\" \"+ string2)"
   ]
  },
  {
   "cell_type": "code",
   "execution_count": 64,
   "metadata": {},
   "outputs": [
    {
     "name": "stdout",
     "output_type": "stream",
     "text": [
      "My name is mary and I am 13 years old. mary is learning Python.\n"
     ]
    }
   ],
   "source": [
    "# Using positional arguments\n",
    "name = 'mary'\n",
    "age = 13\n",
    "formatted_string = \"My name is {0} and I am {1} years old. {0} is learning Python.\".format(name, age)\n",
    "\n",
    "print(formatted_string)\n"
   ]
  },
  {
   "cell_type": "code",
   "execution_count": 65,
   "metadata": {},
   "outputs": [
    {
     "name": "stdout",
     "output_type": "stream",
     "text": [
      "My name is Alice and I am 30 years old.\n"
     ]
    }
   ],
   "source": [
    "# Simple formatting example\n",
    "name = \"Alice\"\n",
    "age = 30\n",
    "\n",
    "formatted_string = \"My name is {} and I am {} years old.\".format(name, age)\n",
    "\n",
    "print(formatted_string)\n"
   ]
  },
  {
   "cell_type": "code",
   "execution_count": 66,
   "metadata": {},
   "outputs": [
    {
     "name": "stdout",
     "output_type": "stream",
     "text": [
      "Alice is 30 years old and learning Python.\n"
     ]
    }
   ],
   "source": [
    "# Mixing positional and keyword arguments\n",
    "formatted_string = \"{0} is {age} years old and learning {1}.\".format(\"Alice\", \"Python\", age=30)\n",
    "\n",
    "print(formatted_string)\n"
   ]
  },
  {
   "cell_type": "code",
   "execution_count": 67,
   "metadata": {},
   "outputs": [
    {
     "name": "stdout",
     "output_type": "stream",
     "text": [
      "Alice      is left-aligned.\n",
      "     Alice is right-aligned.\n",
      "  Alice    is centered.\n"
     ]
    }
   ],
   "source": [
    "# Aligning and padding strings\n",
    "formatted_string = \"{:<10} is left-aligned.\".format(\"Alice\")\n",
    "print(formatted_string)\n",
    "\n",
    "formatted_string = \"{:>10} is right-aligned.\".format(\"Alice\")\n",
    "print(formatted_string)\n",
    "\n",
    "formatted_string = \"{:^10} is centered.\".format(\"Alice\")\n",
    "print(formatted_string)\n"
   ]
  },
  {
   "cell_type": "code",
   "execution_count": 68,
   "metadata": {},
   "outputs": [
    {
     "name": "stdout",
     "output_type": "stream",
     "text": [
      "Hello, !\n"
     ]
    }
   ],
   "source": [
    "# Removing a substring using replace()\n",
    "text = \"Hello, World!\"\n",
    "new_text = text.replace(\"World\", \"\")\n",
    "\n",
    "print(new_text)\n"
   ]
  },
  {
   "cell_type": "code",
   "execution_count": 70,
   "metadata": {},
   "outputs": [
    {
     "name": "stdout",
     "output_type": "stream",
     "text": [
      "she is Mary, she live in Lahore, and her id number is 35202-32015955-8\n"
     ]
    }
   ],
   "source": [
    "# to do task\n",
    "cnic = '35202-32015955-8'\n",
    "name = 'Mary'\n",
    "city = 'Lahore'\n",
    "print(f'she is {name}, she live in {city}, and her id number is {cnic}')"
   ]
  },
  {
   "cell_type": "code",
   "execution_count": 72,
   "metadata": {},
   "outputs": [
    {
     "name": "stdout",
     "output_type": "stream",
     "text": [
      "hello! my name is Mary, i am from LAhore and i study at CUI. \n"
     ]
    }
   ],
   "source": [
    "# your turn task\n",
    "\n",
    "name = input('enter your name: ')\n",
    "city = input('enter your city name: ')\n",
    "inst = input('enter your institution name: ')\n",
    "\n",
    "print(f'hello! my name is {name}, i am from {city} and i study at {inst}. ')\n",
    "\n"
   ]
  },
  {
   "cell_type": "markdown",
   "metadata": {},
   "source": [
    "## lecture 18\n",
    "## Lists"
   ]
  },
  {
   "cell_type": "code",
   "execution_count": 1,
   "metadata": {},
   "outputs": [
    {
     "name": "stdout",
     "output_type": "stream",
     "text": [
      "Declare an empty list Method 1- use []\n",
      "Data in the list caliphs of Islam:  []\n",
      "Data type of data stored in the list caliphs of Islam:  <class 'list'>\n",
      "Length of list caliphs of Islam:  0\n"
     ]
    }
   ],
   "source": [
    "# Example 1\n",
    "try:\n",
    "    print('Declare an empty list Method 1- use []')\n",
    "    caliphs_of_Islam = []\n",
    "    print('Data in the list caliphs of Islam: ',caliphs_of_Islam)\n",
    "    print('Data type of data stored in the list caliphs of Islam: ',type(caliphs_of_Islam))\n",
    "    print('Length of list caliphs of Islam: ',len(caliphs_of_Islam))\n",
    "except: \n",
    "    print('Error Occurred!')\n",
    "    \n",
    "\n"
   ]
  },
  {
   "cell_type": "code",
   "execution_count": 2,
   "metadata": {},
   "outputs": [
    {
     "name": "stdout",
     "output_type": "stream",
     "text": [
      "Declare an empty list Method 2- use list() function\n",
      "Data in the list caliphs of Islam:  []\n",
      "Data type of data stored in the list caliphs of Islam:  <class 'list'>\n",
      "Length of list caliphs of Islam:  0\n"
     ]
    }
   ],
   "source": [
    "try:\n",
    "    print('Declare an empty list Method 2- use list() function')\n",
    "    caliphs_of_Islam = list()\n",
    "    print('Data in the list caliphs of Islam: ',caliphs_of_Islam)\n",
    "    print('Data type of data stored in the list caliphs of Islam: ',type(caliphs_of_Islam))\n",
    "    print('Length of list caliphs of Islam: ',len(caliphs_of_Islam))\n",
    "except: \n",
    "    print('Error Occurred!')\n",
    "    \n"
   ]
  },
  {
   "cell_type": "code",
   "execution_count": 13,
   "metadata": {},
   "outputs": [
    {
     "name": "stdout",
     "output_type": "stream",
     "text": [
      "Declare an empty list Method 1- use []\n",
      "Data in the list caliphs of Islam:  ['Hazrat Abu-Bakr', 'Hazrat Usman', 'Hazrart Umar', 'Hazrat Ali']\n",
      "Data type of data stored in the list caliphs of Islam:  <class 'list'>\n",
      "Length of list caliphs of Islam:  4\n",
      "---------------------------------------------------------------------------------------------\n",
      "Declare an empty list Method 2- use list() method\n",
      "Data in the list caliphs of Islam:  ['Hazrat Abu-Bakr', 'Hazrat Usman', 'Hazrart Umar', 'Hazrat Ali']\n",
      "Data type of data stored in the list caliphs of Islam:  <class 'list'>\n",
      "Length of list caliphs of Islam:  4\n"
     ]
    }
   ],
   "source": [
    "# example 2\n",
    "try:\n",
    "    print('Declare an empty list Method 1- use []')\n",
    "    caliphs_of_Islam = ['Hazrat Abu-Bakr', 'Hazrat Usman', 'Hazrart Umar','Hazrat Ali']\n",
    "    print('Data in the list caliphs of Islam: ',caliphs_of_Islam)\n",
    "    print('Data type of data stored in the list caliphs of Islam: ',type(caliphs_of_Islam))\n",
    "    print('Length of list caliphs of Islam: ',len(caliphs_of_Islam))\n",
    "except: \n",
    "    print('Error Occurred!')\n",
    "\n",
    "print('---------------------------------------------------------------------------------------------')\n",
    "try:\n",
    "    print('Declare an empty list Method 2- use list() method')\n",
    "    caliphs_of_Islam = list(('Hazrat Abu-Bakr', 'Hazrat Usman', 'Hazrart Umar','Hazrat Ali'))\n",
    "    print('Data in the list caliphs of Islam: ',caliphs_of_Islam)\n",
    "    print('Data type of data stored in the list caliphs of Islam: ',type(caliphs_of_Islam))\n",
    "    print('Length of list caliphs of Islam: ',len(caliphs_of_Islam))\n",
    "except: \n",
    "    print('Error Occurred!')"
   ]
  },
  {
   "cell_type": "code",
   "execution_count": 14,
   "metadata": {},
   "outputs": [
    {
     "name": "stdout",
     "output_type": "stream",
     "text": [
      "Method 1- using []\n",
      "the type of the list ghazwa in islam:  <class 'list'>\n",
      "The length of the list ghazwa in islam:  10\n",
      "---------------------------------------------------------------------------------------------\n",
      "Method 2- using list() method\n",
      "the type of the list ghazwa in islam:  <class 'list'>\n",
      "The length of the list ghazwa in islam:  10\n"
     ]
    }
   ],
   "source": [
    "# to do turn task\n",
    "try:\n",
    "    print('Method 1- using []')\n",
    "    ghazwa_in_islam = ['Badr','Uhad','Tabook','Khandaq','Banu-qurayza','Banu-mustlaiq','Khayber','Hanain','conquest of mecca','al-taif']\n",
    "    print('the type of the list ghazwa in islam: ',type(ghazwa_in_islam))\n",
    "    print('The length of the list ghazwa in islam: ',len(ghazwa_in_islam))\n",
    "except:\n",
    "    print('Error Occurred!')\n",
    "print('---------------------------------------------------------------------------------------------')\n",
    "\n",
    "try:\n",
    "    print('Method 2- using list() method')\n",
    "    ghazwa_in_islam = list(('Badr','Uhad','Tabook','Khandaq','Banu-qurayza','Banu-mustlaiq','Khayber','Hanain','conquest of mecca','al-taif'))\n",
    "    print('the type of the list ghazwa in islam: ',type(ghazwa_in_islam))\n",
    "    print('The length of the list ghazwa in islam: ',len(ghazwa_in_islam))\n",
    "except:\n",
    "    print('Error Occurred!')\n",
    "\n",
    "\n",
    "\n"
   ]
  },
  {
   "cell_type": "code",
   "execution_count": 17,
   "metadata": {},
   "outputs": [
    {
     "name": "stdout",
     "output_type": "stream",
     "text": [
      "Using method 1-[]\n",
      "the names stored in the list are:  ['Alice', 'mary', 'sophie', 'stark', 'mona']\n",
      "the number of names stored in the list are:  5\n",
      "---------------------------------------------------------------------------------------------\n",
      "Using method 2-list() method\n",
      "the names stored in the list are:  ['Alice', 'mary', 'sophie', 'stark', 'mona']\n",
      "the number of names stored in the list are:  5\n"
     ]
    }
   ],
   "source": [
    "# your turn task:\n",
    "try:\n",
    "    names = []\n",
    "    names = ['Alice','mary','sophie','stark','mona']\n",
    "    print('Using method 1-[]')\n",
    "    print('the names stored in the list are: ',names)\n",
    "    print('the number of names stored in the list are: ',len(names))\n",
    "except:\n",
    "    print('Error Occurred!')\n",
    "print('---------------------------------------------------------------------------------------------')\n",
    "try:\n",
    "    names = list()\n",
    "    names = list(('Alice','mary','sophie','stark','mona'))\n",
    "    print('Using method 2-list() method')\n",
    "    print('the names stored in the list are: ',names)\n",
    "    print('the number of names stored in the list are: ',len(names))\n",
    "except:\n",
    "    print('Error Occurred!')"
   ]
  },
  {
   "cell_type": "code",
   "execution_count": 22,
   "metadata": {},
   "outputs": [
    {
     "name": "stdout",
     "output_type": "stream",
     "text": [
      "the total number of students appeared in the exam are: 8\n",
      "the marks obtained by roll no. 1 are:  99\n",
      "the marks obtained by roll no. 2 are:  57\n",
      "the marks obtained by roll no. 3 are:  85\n",
      "the marks obtained by roll no. 8 are:  65\n",
      "Error Occurred\n"
     ]
    }
   ],
   "source": [
    "# accessing to the index number of a list\n",
    "try:\n",
    "    marks = [99,57,85,36,87,58,76,65]\n",
    "    print('the total number of students appeared in the exam are:',len(marks))\n",
    "    print('the marks obtained by roll no. 1 are: ',marks[0])\n",
    "    print('the marks obtained by roll no. 2 are: ',marks[1])\n",
    "    print('the marks obtained by roll no. 3 are: ',marks[2])\n",
    "    print('the marks obtained by roll no. 8 are: ',marks[-1])\n",
    "    print('the marks obtained by roll no. 11 are: ',marks[10])\n",
    "except: \n",
    "    print('Error Occurred')\n"
   ]
  },
  {
   "cell_type": "code",
   "execution_count": 25,
   "metadata": {},
   "outputs": [
    {
     "name": "stdout",
     "output_type": "stream",
     "text": [
      "the total number of students appeared in the exam are: 8\n",
      "the marks obtained by first 5 students are:  [99, 57, 85, 36, 87]\n",
      "the list of marks obtained by all students are:  [99, 57, 85, 36, 87, 58, 76, 65]\n"
     ]
    }
   ],
   "source": [
    "# slicing\n",
    "try:\n",
    "    marks = [99,57,85,36,87,58,76,65]\n",
    "    print('the total number of students appeared in the exam are:',len(marks))\n",
    "    print('the marks obtained by first 5 students are: ',marks[0:5])\n",
    "    print('the list of marks obtained by all students are: ',marks[0:])\n",
    "    \n",
    "    \n",
    "except: \n",
    "    print('Error Occurred')"
   ]
  },
  {
   "cell_type": "code",
   "execution_count": 33,
   "metadata": {},
   "outputs": [
    {
     "name": "stdout",
     "output_type": "stream",
     "text": [
      "the prophet at 1st index is:  Hazrat Muhammad(P.B.U.H.) while the age at 1 index is:  25\n",
      "the prophet at 2nd index is:  Hazrat Adam while the age at 2 index is:  30\n",
      "the prophet at 3rd index is:  Hazrat Musa while the age at 3 index is:  45\n",
      "the prophet at 4th index is:  Hazrat Issa while the age at 4 index is:  50\n",
      "the prophet at 5th index is:  Hazrat Ibrahim while the age at 5 index is:  55\n"
     ]
    }
   ],
   "source": [
    "# to do task1\n",
    "# indexing\n",
    "prophets = ['Hazrat Muhammad(P.B.U.H.)','Hazrat Adam','Hazrat Musa','Hazrat Issa','Hazrat Ibrahim']\n",
    "age = ['25','30','45','50','55']\n",
    "\n",
    "print('the prophet at 1st index is: ',prophets[0],'while the age at 1 index is: ',age[0])\n",
    "print('the prophet at 2nd index is: ',prophets[1],'while the age at 2 index is: ',age[1])\n",
    "print('the prophet at 3rd index is: ',prophets[2],'while the age at 3 index is: ',age[2])\n",
    "print('the prophet at 4th index is: ',prophets[3],'while the age at 4 index is: ',age[3])\n",
    "print('the prophet at 5th index is: ',prophets[4],'while the age at 5 index is: ',age[4])\n"
   ]
  },
  {
   "cell_type": "code",
   "execution_count": 36,
   "metadata": {},
   "outputs": [
    {
     "name": "stdout",
     "output_type": "stream",
     "text": [
      "the prophet at 2nd index is:  Hazrat Ibrahim while the age at 2 index is:  55\n",
      "the prophet at 3rd index is:  Hazrat Issa while the age at 3 index is:  50\n",
      "the prophet at 4th index is:  Hazrat Musa while the age at 4 index is:  45\n",
      "the prophet at 5th index is:  Hazrat Adam while the age at 5 index is:  30\n",
      "the prophet at 1st index is:  Hazrat Muhammad(P.B.U.H.) while the age at 1 index is:  25\n"
     ]
    }
   ],
   "source": [
    "# negative indexing\n",
    "prophets = ['Hazrat Muhammad(P.B.U.H.)','Hazrat Adam','Hazrat Musa','Hazrat Issa','Hazrat Ibrahim']\n",
    "age = ['25','30','45','50','55']\n",
    "\n",
    "print('the prophet at 2nd index is: ',prophets[-1],'while the age at 2 index is: ',age[-1])\n",
    "print('the prophet at 3rd index is: ',prophets[-2],'while the age at 3 index is: ',age[-2])\n",
    "print('the prophet at 4th index is: ',prophets[-3],'while the age at 4 index is: ',age[-3])\n",
    "print('the prophet at 5th index is: ',prophets[-4],'while the age at 5 index is: ',age[-4])\n",
    "print('the prophet at 1st index is: ',prophets[-5],'while the age at 1 index is: ',age[-5])\n"
   ]
  },
  {
   "cell_type": "code",
   "execution_count": 39,
   "metadata": {},
   "outputs": [
    {
     "name": "stdout",
     "output_type": "stream",
     "text": [
      "the prophet at 1st three indexes are:  ['Hazrat Muhammad(P.B.U.H.)', 'Hazrat Adam', 'Hazrat Musa'] \n",
      " while the age at 1st three  index is:  ['25', '30', '45']\n"
     ]
    }
   ],
   "source": [
    "# slicing\n",
    "prophets = ['Hazrat Muhammad(P.B.U.H.)','Hazrat Adam','Hazrat Musa','Hazrat Issa','Hazrat Ibrahim']\n",
    "age = ['25','30','45','50','55']\n",
    "\n",
    "\n",
    "print('the prophet at 1st three indexes are: ',prophets[0:3],'\\n while the age at 1st three  index is: ',age[-5:-2])"
   ]
  },
  {
   "cell_type": "code",
   "execution_count": 47,
   "metadata": {},
   "outputs": [
    {
     "name": "stdout",
     "output_type": "stream",
     "text": [
      "[1, 2, 3, 4, 5, [6, 7]]\n"
     ]
    }
   ],
   "source": [
    "# list insertion\n",
    "list1 = [1,2,3,4,5]\n",
    "list2 = [6,7]\n",
    "\n",
    "list1.append(list2)\n",
    "print(list1)"
   ]
  },
  {
   "cell_type": "code",
   "execution_count": 49,
   "metadata": {},
   "outputs": [
    {
     "name": "stdout",
     "output_type": "stream",
     "text": [
      "['9', '8', '7', '5', '88']\n"
     ]
    }
   ],
   "source": [
    "list1=['9','8','7','5']\n",
    "list1.append('88')\n",
    "print (list1) \n"
   ]
  },
  {
   "cell_type": "code",
   "execution_count": 52,
   "metadata": {},
   "outputs": [
    {
     "name": "stdout",
     "output_type": "stream",
     "text": [
      "[1, 2, 3, 4, 5]\n",
      "-----------------------------------------------------------------\n",
      "[1, 2, 4, 5, 2]\n"
     ]
    }
   ],
   "source": [
    "numbers = [1, 2, 4, 5]\n",
    "numbers.insert(2, 3)\n",
    "\n",
    "print(numbers)\n",
    "print('-----------------------------------------------------------------')\n",
    "numbers = [1, 2, 4, 5]\n",
    "numbers.append(2) # can not add two objects \n",
    "\n",
    "print(numbers)\n"
   ]
  },
  {
   "cell_type": "code",
   "execution_count": 55,
   "metadata": {},
   "outputs": [
    {
     "name": "stdout",
     "output_type": "stream",
     "text": [
      "apple\n",
      "banana\n",
      "cherry\n",
      "orange\n"
     ]
    }
   ],
   "source": [
    "# traversing a list\n",
    "fruits = ['apple', 'banana', 'cherry', 'orange']\n",
    "\n",
    "for fruit in fruits:\n",
    "    print(fruit)\n"
   ]
  },
  {
   "cell_type": "code",
   "execution_count": 62,
   "metadata": {},
   "outputs": [
    {
     "name": "stdout",
     "output_type": "stream",
     "text": [
      "0: apple\n",
      "1: banana\n",
      "2: cherry\n",
      "3: orange\n",
      "--------------------------------------------------\n",
      "Index 0: apple\n",
      "Index 1: banana\n",
      "Index 2: cherry\n",
      "Index 3: orange\n",
      "--------------------------------------------------\n",
      "Index 1: apple\n",
      "Index 2: banana\n",
      "Index 3: cherry\n",
      "Index 4: orange\n"
     ]
    }
   ],
   "source": [
    "fruits = ['apple', 'banana', 'cherry', 'orange']\n",
    "\n",
    "for i in range(len(fruits)):\n",
    "    print(f\"{i}: {fruits[i]}\")\n",
    "print('--------------------------------------------------')\n",
    "fruits = ['apple', 'banana', 'cherry', 'orange']\n",
    "\n",
    "for i in range(len(fruits)):\n",
    "    print(f\"Index {i}: {fruits[i]}\")\n",
    "\n",
    "print('--------------------------------------------------')\n",
    "fruits = ['apple', 'banana', 'cherry', 'orange']\n",
    "\n",
    "for i in range(len(fruits)):\n",
    "    print(f\"Index {i+1}: {fruits[i]}\")\n"
   ]
  },
  {
   "cell_type": "code",
   "execution_count": 74,
   "metadata": {},
   "outputs": [
    {
     "name": "stdout",
     "output_type": "stream",
     "text": [
      "[1, 2, 3, 6, 42, 47, 74]\n"
     ]
    }
   ],
   "source": [
    "marks =[1,6,42,47,3,74,2]\n",
    "try:\n",
    "    marks.sort()\n",
    "    print(marks)\n",
    "except:\n",
    "    print('Error occurred ')"
   ]
  },
  {
   "cell_type": "code",
   "execution_count": 73,
   "metadata": {},
   "outputs": [
    {
     "name": "stdout",
     "output_type": "stream",
     "text": [
      "[74, 47, 42, 6, 3, 2, 1]\n"
     ]
    }
   ],
   "source": [
    "marks = [1, 6, 42, 47, 3, 74, 2]\n",
    "try:\n",
    "    marks.sort(reverse=True)  # Sort the list in place\n",
    "    print(marks)  # Print the sorted list\n",
    "except:\n",
    "    print('Error occurred:')\n"
   ]
  },
  {
   "cell_type": "code",
   "execution_count": 77,
   "metadata": {},
   "outputs": [
    {
     "name": "stdout",
     "output_type": "stream",
     "text": [
      "Prophets list without any changing:  ['Hazrat Muhammad(P.B.U.H.)', 'Hazrat Adam', 'Hazrat Musa', 'Hazrat Issa', 'Hazrat Ibrahim']\n",
      "list of prophets arranged:  ['Hazrat Adam', 'Hazrat Ibrahim', 'Hazrat Issa', 'Hazrat Muhammad(P.B.U.H.)', 'Hazrat Musa']\n",
      "list of prophets in descending order:  ['Hazrat Musa', 'Hazrat Muhammad(P.B.U.H.)', 'Hazrat Issa', 'Hazrat Ibrahim', 'Hazrat Adam']\n",
      "----------------------------------------------------------------------\n",
      "Age list without any changing:  ['25', '30', '45', '50', '55']\n",
      "list of prophets arranged:  ['25', '30', '45', '50', '55']\n",
      "list of prophets in descending order:  ['55', '50', '45', '30', '25']\n"
     ]
    }
   ],
   "source": [
    "# to do tasks\n",
    "prophets = ['Hazrat Muhammad(P.B.U.H.)','Hazrat Adam','Hazrat Musa','Hazrat Issa','Hazrat Ibrahim']\n",
    "age = ['25','30','45','50','55']\n",
    "\n",
    "\n",
    "try:\n",
    "    print('Prophets list without any changing: ',prophets)\n",
    "    prophets.sort()\n",
    "    print('list of prophets arranged: ',prophets)\n",
    "    prophets.sort(reverse=True)\n",
    "    print('list of prophets in descending order: ',prophets)\n",
    "\n",
    "except:\n",
    "    print('Error Occurred')\n",
    "print('----------------------------------------------------------------------')\n",
    "try:\n",
    "    print('Age list without any changing: ',age)\n",
    "    age.sort()\n",
    "    print('list of prophets arranged: ',age)\n",
    "    age.sort(reverse=True)\n",
    "    print('list of prophets in descending order: ',age)\n",
    "\n",
    "except:\n",
    "    print('Error Occurred')\n",
    "\n"
   ]
  },
  {
   "cell_type": "code",
   "execution_count": 78,
   "metadata": {},
   "outputs": [
    {
     "name": "stdout",
     "output_type": "stream",
     "text": [
      "[1, 2, 3, 4, 5, 6]\n"
     ]
    }
   ],
   "source": [
    "# extend()\n",
    "list1 = [1, 2, 3]\n",
    "list2 = [4, 5, 6]\n",
    "\n",
    "list1.extend(list2)\n",
    "\n",
    "print(list1)\n"
   ]
  },
  {
   "cell_type": "code",
   "execution_count": 79,
   "metadata": {},
   "outputs": [
    {
     "name": "stdout",
     "output_type": "stream",
     "text": [
      "[1, 2, 3, '4', '5']\n"
     ]
    }
   ],
   "source": [
    "numbers = [1, 2, 3]\n",
    "numbers.extend(\"45\")  # extending a int type list with string type\n",
    "\n",
    "print(numbers)\n"
   ]
  },
  {
   "cell_type": "code",
   "execution_count": 80,
   "metadata": {},
   "outputs": [
    {
     "name": "stdout",
     "output_type": "stream",
     "text": [
      "[1, 2, 3, 4, 5]\n"
     ]
    }
   ],
   "source": [
    "numbers = [1, 2, 3] # list\n",
    "numbers.extend((4, 5)) # tuple been added\n",
    "\n",
    "print(numbers)\n"
   ]
  },
  {
   "cell_type": "markdown",
   "metadata": {},
   "source": [
    "## lecture 19\n",
    "## Dictionaries"
   ]
  },
  {
   "cell_type": "code",
   "execution_count": 3,
   "metadata": {},
   "outputs": [
    {
     "name": "stdout",
     "output_type": "stream",
     "text": [
      "declaring an empty dictionary using method 1-{}\n",
      "the dictionary tomb of sahaba contains:  {}\n",
      "type of tomb_of_sahaba:  <class 'dict'>\n",
      "length of tomb of sahaba: 0\n",
      "---------------------------------------------------------------------------\n",
      "declaring an empty dictionary using method 2-dict()method\n",
      "the dictionary tomb of sahaba contains:  {}\n",
      "type of tomb_of_sahaba:  <class 'dict'>\n",
      "length of tomb of sahaba: 0\n"
     ]
    }
   ],
   "source": [
    "# example 1\n",
    "try:\n",
    "    print('declaring an empty dictionary using method 1-{}')\n",
    "    tomb_of_sahaba = {}\n",
    "    print('the dictionary tomb of sahaba contains: ', tomb_of_sahaba)\n",
    "    print('type of tomb_of_sahaba: ',type(tomb_of_sahaba))\n",
    "    print('length of tomb of sahaba:',len(tomb_of_sahaba))\n",
    "except: \n",
    "    print('Error!')\n",
    "print('---------------------------------------------------------------------------')\n",
    "try:\n",
    "    print('declaring an empty dictionary using method 2-dict()method')\n",
    "    tomb_of_sahaba = dict()\n",
    "    print('the dictionary tomb of sahaba contains: ', tomb_of_sahaba)\n",
    "    print('type of tomb_of_sahaba: ',type(tomb_of_sahaba))\n",
    "    print('length of tomb of sahaba:',len(tomb_of_sahaba))\n",
    "except: \n",
    "    print('Error!')"
   ]
  },
  {
   "cell_type": "code",
   "execution_count": 8,
   "metadata": {},
   "outputs": [
    {
     "name": "stdout",
     "output_type": "stream",
     "text": [
      "declaring an empty dictionary using method 1-{}\n",
      "the dictionary tomb of sahaba contains:  {'Abu Ayub Ansari': 'Turkey', 'Bilal(R.A.)': 'Damuscus', 'Prophet Zulkuf': 'Syria', 'Jabir bin Abdullah': 'Istanbul', 'Saad ibn Abi Waqas': 'China', 'Ubadah as Sammit': 'Jarusallam'}\n",
      "type of tomb_of_sahaba:  <class 'dict'>\n",
      "length of tomb of sahaba: 6\n",
      "---------------------------------------------------------------------------\n",
      "declaring an empty dictionary using method 2-dict()method\n",
      "the dictionary tomb of sahaba contains:  {'Abu Ayub Ansari': 'Turkey', 'Bilal(R.A.)': 'Damuscus', 'Prophet Zulkuf': 'Syria', 'Jabir bin Abdullah': 'Istanbul', 'Saad ibn Abi Waqas': 'China', 'Ubadah as Sammit': 'Jarusallam'}\n",
      "type of tomb_of_sahaba:  <class 'dict'>\n",
      "length of tomb of sahaba: 6\n"
     ]
    }
   ],
   "source": [
    "# example 1\n",
    "try:\n",
    "    print('declaring an empty dictionary using method 1-{}')\n",
    "    tomb_of_sahaba = {'Abu Ayub Ansari':'Turkey',\n",
    "                      'Bilal(R.A.)': 'Damuscus',\n",
    "                      'Prophet Zulkuf':'Syria',\n",
    "                      'Jabir bin Abdullah': 'Istanbul',\n",
    "                      'Saad ibn Abi Waqas':'China',\n",
    "                      'Ubadah as Sammit':'Jarusallam'}\n",
    "    print('the dictionary tomb of sahaba contains: ', tomb_of_sahaba)\n",
    "    print('type of tomb_of_sahaba: ',type(tomb_of_sahaba))\n",
    "    print('length of tomb of sahaba:',len(tomb_of_sahaba))\n",
    "except: \n",
    "    print('Error!')\n",
    "print('---------------------------------------------------------------------------')\n",
    "try:\n",
    "    print('declaring an empty dictionary using method 2-dict()method')\n",
    "    tomb_of_sahaba = dict({'Abu Ayub Ansari':'Turkey',\n",
    "                      'Bilal(R.A.)': 'Damuscus',\n",
    "                      'Prophet Zulkuf':'Syria',\n",
    "                      'Jabir bin Abdullah': 'Istanbul',\n",
    "                      'Saad ibn Abi Waqas':'China',\n",
    "                      'Ubadah as Sammit':'Jarusallam'})\n",
    "    print('the dictionary tomb of sahaba contains: ', tomb_of_sahaba)\n",
    "    print('type of tomb_of_sahaba: ',type(tomb_of_sahaba))\n",
    "    print('length of tomb of sahaba:',len(tomb_of_sahaba))\n",
    "except: \n",
    "    print('Error!')"
   ]
  },
  {
   "cell_type": "code",
   "execution_count": 10,
   "metadata": {},
   "outputs": [
    {
     "name": "stdout",
     "output_type": "stream",
     "text": [
      "before inserting any data into the dictionary:  {}\n",
      "After adding elements to the dictionary:  {'Abu Ayub Ansari': ('Turkey',), 'Bilal(R.A.)': 'Damuscus', 'Prophet Zulkuf': 'Syria', 'Jabir bin Abdullah': ('Istanbul',), 'Saad ibn Abi Waqas': 'China', 'Ubadah as Sammit': 'Jarusallam'}\n"
     ]
    }
   ],
   "source": [
    "# Adding elements to a dictionary\n",
    "tombs_of_sahaba = {}\n",
    "print('before inserting any data into the dictionary: ',tombs_of_sahaba)\n",
    "tombs_of_sahaba['Abu Ayub Ansari']='Turkey'\n",
    "tombs_of_sahaba['Bilal(R.A.)']='Damuscus'\n",
    "tombs_of_sahaba['Prophet Zulkuf']='Syria'\n",
    "tombs_of_sahaba['Jabir bin Abdullah']='Istanbul',\n",
    "tombs_of_sahaba['Saad ibn Abi Waqas']='China'\n",
    "tombs_of_sahaba['Ubadah as Sammit']='Jarusallam'\n",
    "\n",
    "print('After adding elements to the dictionary: ',tombs_of_sahaba)\n"
   ]
  },
  {
   "cell_type": "code",
   "execution_count": 1,
   "metadata": {},
   "outputs": [
    {
     "name": "stdout",
     "output_type": "stream",
     "text": [
      "the name of members of the python course instructors are:  ['samavi', 'narmeen', 'awais', 'rehan', 'hassan', 'hassan']\n",
      "the number ('0334-4534764') belongs to: Adeeb\n"
     ]
    }
   ],
   "source": [
    "# to do task 1\n",
    "try:\n",
    "    phone_dict = {\n",
    "        '0334-4534764':'Adeeb',\n",
    "        '0333-8252662':'Amna',\n",
    "        '0321-4723775':'Arsal',\n",
    "        '0311-33365434':'Ali',\n",
    "        '0332-33642842':'Alice',\n",
    "        '0335-89236595':'Mary'\n",
    "    }\n",
    "    courses = {\n",
    "        'python':['samavi','narmeen','awais','rehan','hassan','hassan'],\n",
    "        'human engineering': ['samavi','narmeen','awais','rehan','hassan','hassan'],\n",
    "        'spiritual training courses': ['rehan','awais','ali','ahmed','sara','zara','mahnoor','maria']\n",
    "    }\n",
    "\n",
    "    print('the name of members of the python course instructors are: ',courses['python'])\n",
    "    print('the number (\\'0334-4534764\\') belongs to:',phone_dict['0334-4534764'])\n",
    "\n",
    "except:\n",
    "    print('Error')"
   ]
  },
  {
   "cell_type": "code",
   "execution_count": 6,
   "metadata": {},
   "outputs": [
    {
     "name": "stdout",
     "output_type": "stream",
     "text": [
      "The members of the python course instructors are: ['samavi', 'narmeen', 'awais', 'rehan', 'hassan', 'hassan']\n",
      "The number ('0334-4534764') belongs to: Adeeb\n"
     ]
    }
   ],
   "source": [
    "# using get() for the same above code snippet\n",
    "phone_dict = {\n",
    "    '0334-4534764': 'Adeeb',\n",
    "    '0333-8252662': 'Amna',\n",
    "    '0321-4723775': 'Arsal',\n",
    "    '0311-33365434': 'Ali',\n",
    "    '0332-33642842': 'Alice',\n",
    "    '0335-89236595': 'Mary'\n",
    "}\n",
    "\n",
    "courses = {\n",
    "    'python': ['samavi', 'narmeen', 'awais', 'rehan', 'hassan', 'hassan'],\n",
    "    'human engineering': ['samavi', 'narmeen', 'awais', 'rehan', 'hassan', 'hassan'],\n",
    "    'spiritual training courses': ['rehan', 'awais', 'ali', 'ahmed', 'sara', 'zara', 'mahnoor', 'maria']\n",
    "}\n",
    "\n",
    "try:\n",
    "    # Using get() method with courses dictionary\n",
    "    python_instructors = courses.get('python', 'Course not found')\n",
    "    print('The members of the python course instructors are:', python_instructors)\n",
    "\n",
    "    # Using get() method with phone_dict dictionary\n",
    "    name = phone_dict.get('0334-4534764', 'Number not found') #--> not necessary but better to write\n",
    "    print('The number (\\'0334-4534764\\') belongs to:', name)\n",
    "\n",
    "except Exception as e:\n",
    "    print('Error:', e)\n"
   ]
  },
  {
   "cell_type": "code",
   "execution_count": 8,
   "metadata": {},
   "outputs": [
    {
     "name": "stdout",
     "output_type": "stream",
     "text": [
      "bob's grade: Grade not available\n"
     ]
    }
   ],
   "source": [
    "# using get()\n",
    "\n",
    "grades = {\n",
    "    'Alice': 85,\n",
    "    'Bob': 90,\n",
    "    'Charlie': 78,\n",
    "    'David': 92\n",
    "}\n",
    "\n",
    "student_name = input(\"Enter the student's name: \")\n",
    "\n",
    "# Retrieve the grade using the get() method\n",
    "student_grade = grades.get(student_name, 'Grade not available')\n",
    "\n",
    "# Print the result\n",
    "print(f\"{student_name}'s grade: {student_grade}\")\n",
    "# has case sensitivity issues"
   ]
  },
  {
   "cell_type": "code",
   "execution_count": 9,
   "metadata": {},
   "outputs": [
    {
     "name": "stdout",
     "output_type": "stream",
     "text": [
      "Bob's grade: 90\n"
     ]
    }
   ],
   "source": [
    "# get() --> better version\n",
    "grades = {\n",
    "    'alice': 85,\n",
    "    'bob': 90,\n",
    "    'charlie': 78,\n",
    "    'david': 92\n",
    "}\n",
    "\n",
    "student_name = input(\"Enter the student's name: \")\n",
    "student_name = student_name.lower()\n",
    "\n",
    "# Retrieve the grade using the get() method\n",
    "student_grade = grades.get(student_name, 'Grade not available')\n",
    "\n",
    "print(f\"{student_name.title()}'s grade: {student_grade}\")\n"
   ]
  },
  {
   "cell_type": "code",
   "execution_count": 23,
   "metadata": {},
   "outputs": [
    {
     "name": "stdout",
     "output_type": "stream",
     "text": [
      "the prices of the following fruits are:  {'grapes': '345', 'apples': '250', 'banana': '180', 'kiwi': '450', 'mangoes': '280'}\n",
      "new list of prices:  [('grapes', '345'), ('apples', '250'), ('banana', '180'), ('kiwi', '450'), ('mangoes', '280'), ('pears', '230')]\n"
     ]
    }
   ],
   "source": [
    "# how to add a key in a dictionary\n",
    "prices ={\n",
    "    'grapes' :'345',\n",
    "    'apples':'250',\n",
    "    'banana':'180',\n",
    "    'kiwi':'450',\n",
    "    'mangoes':'280'\n",
    "}\n",
    "print('the prices of the following fruits are: ',prices)\n",
    "# converting dictionary to list\n",
    "list_product = list(prices.items())\n",
    "list_product.append(('pears','230'))\n",
    "\n",
    "print('new list of prices: ',list_product)"
   ]
  },
  {
   "cell_type": "markdown",
   "metadata": {},
   "source": [
    "## lecture 20\n",
    "## file handling"
   ]
  },
  {
   "cell_type": "code",
   "execution_count": 40,
   "metadata": {},
   "outputs": [
    {
     "name": "stdout",
     "output_type": "stream",
     "text": [
      "Error!\n"
     ]
    }
   ],
   "source": [
    "# open a file in reading mode\n",
    "try:\n",
    "    file = open('FUNCTIONS.txt',mode = 'r')\n",
    "    \n",
    "except FileNotFoundError:\n",
    "    print('Error!')"
   ]
  },
  {
   "cell_type": "code",
   "execution_count": 3,
   "metadata": {},
   "outputs": [
    {
     "name": "stdout",
     "output_type": "stream",
     "text": [
      "/*#include <iostream>\n",
      "using namespace std;\n",
      "int main()\n",
      "{\n",
      "\tint age;\n",
      "\tcout << \"enter age=\";\n",
      "\tcin >> age;\n",
      "\tif (age < 18)\n",
      "\t\tcout << \"can't drive\\n\";\n",
      "\telse\n",
      "\t\tcout << \"can drive\";*/\n",
      "\t\n",
      "\n",
      "/*#include<stdio.h>\n",
      "int  main(){\n",
      "\n",
      "int a = 1;\n",
      "\tfor (a = 2; a <= 3; a++)\n",
      "\t\tprintf(\"%d\", a++);*/\n",
      "  \n",
      "\n",
      "/*#include <stdio.h>\n",
      "int main() {\n",
      "\tint g = 100;\n",
      "\tdo {\n",
      "\t\tprintf(\"hello\\n\");\n",
      "\t\tg = g % 10;\n",
      "\t} while (g == 0);}*/\n",
      "\n",
      "\n",
      "/*#include<stdio.h>\n",
      "int main() {\n",
      "\tprintf(\"%d\", 4 + 2 % 4 * 5 - 4);\n",
      "}*/\n",
      "\n",
      "\n",
      "/*#include <iostream>\n",
      "using namespace std;\n",
      "\n",
      "int main() {\n",
      "    int height = 3; // Height of the shape\n",
      "\n",
      "    // Outer loop for rows\n",
      "    for (int i = 0; i < height; i++) {\n",
      "        // Inner loop for columns\n",
      "        for (int j = 0; j < 10; j++) {\n",
      "            if (i == 0 || i == height - 1 || j == 0 || j == 9 || (i == height / 2 && (j == 1 || j == 8))) {\n",
      "                // Print asterisks for the first and last rows, and for the first and last columns\n",
      "                // Also print asterisks at the second row's beginning and end\n",
      "                cout << \"*\";\n",
      "            }\n",
      "            else {\n",
      "                // Print spaces for the interior of the shape\n",
      "                cout << \" \";\n",
      "            }\n",
      "        }\n",
      "        cout << endl;\n",
      "    }\n",
      "\n",
      "    return 0;\n",
      "}*/\n",
      "\n",
      "\n",
      "/*#include<iostream>\n",
      "using namespace std;\n",
      "int main() {\n",
      "    int a = 4;\n",
      "    int b = 3;\n",
      "    float c = (float)a / b;\n",
      "    cout << c;\n",
      "\n",
      "}*/\n",
      "\n",
      "/* FUNCTION WITHOUT ARGUMENT AND WITHOUT RETURN TYPE\n",
      "#include<stdio.h>\n",
      "void sum();\n",
      "int main(void) {\n",
      "    sum();\n",
      "}\n",
      "void sum() {\n",
      "    int a = 5, b = 7, sum = 0;\n",
      "    sum = a + b;\n",
      "    printf(\"sum=%d\", sum);\n",
      "}*/\n",
      "\n",
      "/* FUNCTION WITH RETRUN TYPE WITHOUT ARGUMENT\n",
      "#include<stdio.h>\n",
      "int sum(void);\n",
      "int main(void) {\n",
      "    int s;\n",
      "    s = sum();\n",
      "    printf(\"sum=%d\", s);\n",
      "}\n",
      "int sum() {\n",
      "    int a = 5, b = 7, sum = 0;\n",
      "    sum = a + b;\n",
      "    return sum;\n",
      "}*/\n",
      "\n",
      "/* FUNCTION WITH ARGUMENT WITHOUT RETURN TYPE\n",
      "#include<stdio.h>\n",
      "void sum(float,float);\n",
      "int main(void) {\n",
      "    float x, y;\n",
      "    printf(\"enter values for x and y\");\n",
      "    scanf_s(\"%f%f\", &x, &y);\n",
      "    sum(x, y);\n",
      "}\n",
      "void sum(float a, float b) {\n",
      "    float s = 0;\n",
      "    s = a + b;\n",
      "    printf(\"sum=%f\", s);\n",
      "}*/\n",
      "\n",
      "/* FUNCTION WITH ARGUMENT AND RETURN TYPE\n",
      "#include<stdio.h>\n",
      "float sum(float, float);\n",
      "int main(void) {\n",
      "    float x, y, c;\n",
      "    printf(\"enter values for x and y\");\n",
      "    scanf_s(\"%f%f\", &x, &y);\n",
      "    c= sum(x, y);\n",
      "    printf(\"sum=%f\", c);\n",
      "}\n",
      "float sum(float a, float b) {\n",
      "    float s = 0;\n",
      "    s = a + b;\n",
      "    return s;}*/\n",
      "\n",
      "\n",
      "\n"
     ]
    }
   ],
   "source": [
    "#import os\n",
    "\n",
    "#print(\"Current Working Directory:\", os.getcwd()) --> not necessary\n",
    "\n",
    "try:\n",
    "    file = open(r'C:\\Users\\NTC\\Desktop\\python\\FUNCTIONS.txt', mode='r') #--> r is for raw str\n",
    "    # Optionally, read or process the file\n",
    "    content = file.read()\n",
    "    print(content)\n",
    "    file.close()\n",
    "except FileNotFoundError:\n",
    "    print('Error! File not found.')\n",
    "\n"
   ]
  },
  {
   "cell_type": "code",
   "execution_count": 4,
   "metadata": {},
   "outputs": [
    {
     "name": "stdout",
     "output_type": "stream",
     "text": [
      "/*#include <iostream>\n",
      "using namespace std;\n",
      "int main()\n",
      "{\n",
      "\tint age;\n",
      "\tcout << \"enter age=\";\n",
      "\tcin >> age;\n",
      "\tif (age < 18)\n",
      "\t\tcout << \"can't drive\\n\";\n",
      "\telse\n",
      "\t\tcout << \"can drive\";*/\n",
      "\t\n",
      "\n",
      "/*#include<stdio.h>\n",
      "int  main(){\n",
      "\n",
      "int a = 1;\n",
      "\tfor (a = 2; a <= 3; a++)\n",
      "\t\tprintf(\"%d\", a++);*/\n",
      "  \n",
      "\n",
      "/*#include <stdio.h>\n",
      "int main() {\n",
      "\tint g = 100;\n",
      "\tdo {\n",
      "\t\tprintf(\"hello\\n\");\n",
      "\t\tg = g % 10;\n",
      "\t} while (g == 0);}*/\n",
      "\n",
      "\n",
      "/*#include<stdio.h>\n",
      "int main() {\n",
      "\tprintf(\"%d\", 4 + 2 % 4 * 5 - 4);\n",
      "}*/\n",
      "\n",
      "\n",
      "/*#include <iostream>\n",
      "using namespace std;\n",
      "\n",
      "int main() {\n",
      "    int height = 3; // Height of the shape\n",
      "\n",
      "    // Outer loop for rows\n",
      "    for (int i = 0; i < height; i++) {\n",
      "        // Inner loop for columns\n",
      "        for (int j = 0; j < 10; j++) {\n",
      "            if (i == 0 || i == height - 1 || j == 0 || j == 9 || (i == height / 2 && (j == 1 || j == 8))) {\n",
      "                // Print asterisks for the first and last rows, and for the first and last columns\n",
      "                // Also print asterisks at the second row's beginning and end\n",
      "                cout << \"*\";\n",
      "            }\n",
      "            else {\n",
      "                // Print spaces for the interior of the shape\n",
      "                cout << \" \";\n",
      "            }\n",
      "        }\n",
      "        cout << endl;\n",
      "    }\n",
      "\n",
      "    return 0;\n",
      "}*/\n",
      "\n",
      "\n",
      "/*#include<iostream>\n",
      "using namespace std;\n",
      "int main() {\n",
      "    int a = 4;\n",
      "    int b = 3;\n",
      "    float c = (float)a / b;\n",
      "    cout << c;\n",
      "\n",
      "}*/\n",
      "\n",
      "/* FUNCTION WITHOUT ARGUMENT AND WITHOUT RETURN TYPE\n",
      "#include<stdio.h>\n",
      "void sum();\n",
      "int main(void) {\n",
      "    sum();\n",
      "}\n",
      "void sum() {\n",
      "    int a = 5, b = 7, sum = 0;\n",
      "    sum = a + b;\n",
      "    printf(\"sum=%d\", sum);\n",
      "}*/\n",
      "\n",
      "/* FUNCTION WITH RETRUN TYPE WITHOUT ARGUMENT\n",
      "#include<stdio.h>\n",
      "int sum(void);\n",
      "int main(void) {\n",
      "    int s;\n",
      "    s = sum();\n",
      "    printf(\"sum=%d\", s);\n",
      "}\n",
      "int sum() {\n",
      "    int a = 5, b = 7, sum = 0;\n",
      "    sum = a + b;\n",
      "    return sum;\n",
      "}*/\n",
      "\n",
      "/* FUNCTION WITH ARGUMENT WITHOUT RETURN TYPE\n",
      "#include<stdio.h>\n",
      "void sum(float,float);\n",
      "int main(void) {\n",
      "    float x, y;\n",
      "    printf(\"enter values for x and y\");\n",
      "    scanf_s(\"%f%f\", &x, &y);\n",
      "    sum(x, y);\n",
      "}\n",
      "void sum(float a, float b) {\n",
      "    float s = 0;\n",
      "    s = a + b;\n",
      "    printf(\"sum=%f\", s);\n",
      "}*/\n",
      "\n",
      "/* FUNCTION WITH ARGUMENT AND RETURN TYPE\n",
      "#include<stdio.h>\n",
      "float sum(float, float);\n",
      "int main(void) {\n",
      "    float x, y, c;\n",
      "    printf(\"enter values for x and y\");\n",
      "    scanf_s(\"%f%f\", &x, &y);\n",
      "    c= sum(x, y);\n",
      "    printf(\"sum=%f\", c);\n",
      "}\n",
      "float sum(float a, float b) {\n",
      "    float s = 0;\n",
      "    s = a + b;\n",
      "    return s;}*/\n",
      "\n",
      "\n",
      "\n"
     ]
    }
   ],
   "source": [
    "try:\n",
    "    file = open('C:/Users/NTC/Desktop/python/FUNCTIONS.txt', mode='r')  # remover 'r' and replaced all '\\' by '/'\n",
    "    # Optionally, read or process the file\n",
    "    content = file.read()\n",
    "    print(content)\n",
    "    file.close()\n",
    "except FileNotFoundError:\n",
    "    print('Error! File not found.')\n"
   ]
  },
  {
   "cell_type": "code",
   "execution_count": 20,
   "metadata": {},
   "outputs": [
    {
     "name": "stdout",
     "output_type": "stream",
     "text": [
      "Content written to the file successfully.\n"
     ]
    }
   ],
   "source": [
    "\n",
    "try:\n",
    "    file = open('C:/Users/NTC/Desktop/python/FUNCTIONS.txt', mode='w')  # Open the file in write mode\n",
    "\n",
    "    # Write content to the file\n",
    "    content = \"This is a test content to write into the file.\"\n",
    "    file.write(content)\n",
    "    \n",
    "    print(\"Content written to the file successfully.\")\n",
    "\n",
    "    file.close()  # Close the file after writing\n",
    "except FileNotFoundError:\n",
    "    print('Error! File not found.')\n",
    "except Exception as e:\n",
    "    print(f\"An error occurred: {e}\")\n"
   ]
  },
  {
   "cell_type": "code",
   "execution_count": 13,
   "metadata": {},
   "outputs": [],
   "source": [
    "# use of 'with' statement\n",
    "try:\n",
    "    with open('example.txt', 'w') as file:\n",
    "        file.write(\"Hello, World!\")\n",
    "        # Imagine an exception occurs here\n",
    "        # The file will still be closed properly\n",
    "except Exception as e:\n",
    "    print(f\"An error occurred: {e}\")\n"
   ]
  },
  {
   "cell_type": "code",
   "execution_count": 21,
   "metadata": {},
   "outputs": [
    {
     "name": "stdout",
     "output_type": "stream",
     "text": [
      "Content written to the file successfully.\n",
      "Content of the file:\n",
      "This is a test content to write into the file.\n"
     ]
    }
   ],
   "source": [
    "\n",
    "try:\n",
    "    # Write to the file\n",
    "    with open('C:/Users/NTC/Desktop/python/FUNCTIONS.txt', mode='w') as file:\n",
    "        content = \"This is a test content to write into the file.\"\n",
    "        file.write(content)\n",
    "        print(\"Content written to the file successfully.\")\n",
    "    \n",
    "    # Read the file to verify content\n",
    "    with open('C:/Users/NTC/Desktop/python/FUNCTIONS.txt', mode='r') as file:\n",
    "        content = file.read()\n",
    "        print(\"Content of the file:\")\n",
    "        print(content)\n",
    "except FileNotFoundError:\n",
    "    print('Error! File not found.')\n",
    "except Exception as e:\n",
    "    print(f\"An error occurred: {e}\")\n"
   ]
  },
  {
   "cell_type": "code",
   "execution_count": 47,
   "metadata": {},
   "outputs": [
    {
     "name": "stdout",
     "output_type": "stream",
     "text": [
      "Additional content appended to the file successfully.\n",
      "\n",
      "Complete content of the file:\n",
      "\n",
      "This is a test content to write into the file.This is additional content to add to the file.This is additional content to add to the file.This is additional content to add to the file.This is additional content to add to the file.This is additional content.This is additional content.\n",
      "This is additional content to add to the file.This is additional content to add to the file.This is additional content to add to the file.\n",
      "\n"
     ]
    }
   ],
   "source": [
    "file_path = 'C:/Users/NTC/Desktop/python/FUNCTIONS.txt'\n",
    "\n",
    "# Append content to the file\n",
    "try:\n",
    "    with open(file_path, mode='a') as file:  # Open in append mode\n",
    "        new_content = \"This is additional content to add to the file.\\n\"\n",
    "        file.write(new_content)\n",
    "        print(\"Additional content appended to the file successfully.\\n\")\n",
    "except FileNotFoundError:\n",
    "    print('Error! File not found.')\n",
    "except Exception as e:\n",
    "    print(f\"An error occurred: {e}\")\n",
    "\n",
    "# Read and display the complete content of the file\n",
    "try:\n",
    "    with open(file_path, mode='r') as file:  # Open in read mode\n",
    "        content = file.read()\n",
    "        print(\"Complete content of the file:\\n\")\n",
    "        print(content)\n",
    "except FileNotFoundError:\n",
    "    print('Error! File not found.')\n",
    "except Exception as e:\n",
    "    print(f\"An error occurred: {e}\")\n"
   ]
  },
  {
   "cell_type": "code",
   "execution_count": 48,
   "metadata": {},
   "outputs": [
    {
     "name": "stdout",
     "output_type": "stream",
     "text": [
      "Initial content of the file:\n",
      "\n",
      "This is a test content to write into the file.This is additional content to add to the file.This is additional content to add to the file.This is additional content to add to the file.This is additional content to add to the file.This is additional content.This is additional content.\n",
      "This is additional content to add to the file.This is additional content to add to the file.This is additional content to add to the file.\n",
      "\n"
     ]
    }
   ],
   "source": [
    "file_path = 'C:/Users/NTC/Desktop/python/FUNCTIONS.txt'\n",
    "\n",
    "try:\n",
    "    with open(file_path, mode='r') as file:\n",
    "        content = file.read()\n",
    "        print(\"Initial content of the file:\\n\")\n",
    "        print(content)\n",
    "except Exception as e:\n",
    "    print(f\"An error occurred: {e}\")\n"
   ]
  },
  {
   "cell_type": "code",
   "execution_count": 49,
   "metadata": {},
   "outputs": [
    {
     "name": "stdout",
     "output_type": "stream",
     "text": [
      "Additional content appended to the file successfully.\n"
     ]
    }
   ],
   "source": [
    "try:\n",
    "    with open(file_path, mode='a') as file:\n",
    "        new_content = \"\\nThis is additional content.\\n\"\n",
    "        file.write(new_content)\n",
    "        print(\"Additional content appended to the file successfully.\")\n",
    "except Exception as e:\n",
    "    print(f\"An error occurred: {e}\")\n"
   ]
  },
  {
   "cell_type": "code",
   "execution_count": 50,
   "metadata": {},
   "outputs": [
    {
     "name": "stdout",
     "output_type": "stream",
     "text": [
      "Complete content of the file after modification:\n",
      "\n",
      "This is a test content to write into the file.This is additional content to add to the file.This is additional content to add to the file.This is additional content to add to the file.This is additional content to add to the file.This is additional content.This is additional content.\n",
      "This is additional content to add to the file.This is additional content to add to the file.This is additional content to add to the file.\n",
      "\n",
      "This is additional content.\n",
      "\n"
     ]
    }
   ],
   "source": [
    "try:\n",
    "    with open(file_path, mode='r') as file:\n",
    "        content = file.read()\n",
    "        print(\"Complete content of the file after modification:\\n\")\n",
    "        print(content)\n",
    "except Exception as e:\n",
    "    print(f\"An error occurred: {e}\")\n"
   ]
  },
  {
   "cell_type": "code",
   "execution_count": 51,
   "metadata": {},
   "outputs": [
    {
     "name": "stdout",
     "output_type": "stream",
     "text": [
      "This is a test content to write into the file.This is additional content to add to the file.This is additional content to add to the file.This is additional content to add to the file.This is additional content to add to the file.This is additional content.This is additional content.\n",
      "\n"
     ]
    }
   ],
   "source": [
    "# using readline() method --> read single line of the file\n",
    "\n",
    "file = open(r'C:/Users/NTC/Desktop/python/FUNCTIONS.txt', 'r')\n",
    "print(file.readline())\n",
    "file.close()\n"
   ]
  },
  {
   "cell_type": "code",
   "execution_count": 52,
   "metadata": {},
   "outputs": [
    {
     "name": "stdout",
     "output_type": "stream",
     "text": [
      "This is a test content to write into the file.This is additional content to add to the file.This is additional content to add to the file.This is additional content to add to the file.This is additional content to add to the file.This is additional content.This is additional content.\n",
      "This is additional content to add to the file.This is additional content to add to the file.This is additional content to add to the file.\n",
      "\n",
      "This is additional content.\n"
     ]
    }
   ],
   "source": [
    "# Read all lines from the file\n",
    "file = open(r'C:/Users/NTC/Desktop/python/FUNCTIONS.txt', 'r')\n",
    "lines = file.readlines()\n",
    "for line in lines:\n",
    "    print(line, end='')  # `end=''` avoids adding extra newlines\n",
    "file.close()\n"
   ]
  },
  {
   "cell_type": "code",
   "execution_count": 70,
   "metadata": {},
   "outputs": [
    {
     "name": "stdout",
     "output_type": "stream",
     "text": [
      "Error! Permission denied. Check if the file is open or if you have sufficient permissions.\n"
     ]
    }
   ],
   "source": [
    "import os\n",
    "\n",
    "# Paths for renaming\n",
    "src = 'C:/Users/NTC/Desktop/python/FUNCTIONS.txt'\n",
    "dst = 'C:/Users/NTC/Desktop/python/file_handling1.txt'\n",
    "\n",
    "try:\n",
    "    # Attempt to rename the file\n",
    "    os.rename(src, dst)\n",
    "    print(\"File renamed successfully.\")\n",
    "except FileNotFoundError:\n",
    "    print(\"Error! The file does not exist.\")\n",
    "except PermissionError:\n",
    "    print(\"Error! Permission denied. Check if the file is open or if you have sufficient permissions.\")\n",
    "except Exception as e:\n",
    "    print(f\"An error occurred: {e}\")\n"
   ]
  },
  {
   "cell_type": "code",
   "execution_count": 65,
   "metadata": {},
   "outputs": [
    {
     "name": "stdout",
     "output_type": "stream",
     "text": [
      "Source file exists.\n"
     ]
    }
   ],
   "source": [
    "import os\n",
    "\n",
    "# Check if the source file exists\n",
    "src = 'C:/Users/NTC/Desktop/python/FUNCTIONS.txt'\n",
    "if os.path.exists(src):\n",
    "    print(\"Source file exists.\")\n",
    "else:\n",
    "    print(\"Source file does not exist.\")\n"
   ]
  },
  {
   "cell_type": "code",
   "execution_count": 73,
   "metadata": {},
   "outputs": [
    {
     "name": "stdout",
     "output_type": "stream",
     "text": [
      "Error! The file does not exist.\n"
     ]
    }
   ],
   "source": [
    "# using simplified path for the source file in case it works\n",
    "# not working..\n",
    "import os\n",
    "\n",
    "# Simplified paths\n",
    "src = 'C:/Users/NTC/Desktop/FUNCTIONS.txt'\n",
    "dst = 'C:/Users/NTC/Desktop/file_handling1.txt'\n",
    "\n",
    "try:\n",
    "    os.rename(src, dst)\n",
    "    print(\"File renamed successfully.\")\n",
    "except FileNotFoundError:\n",
    "    print(\"Error! The file does not exist.\")\n",
    "except PermissionError:\n",
    "    print(\"Error! Permission denied. Check if the file is open or if you have sufficient permissions.\")\n",
    "except Exception as e:\n",
    "    print(f\"An error occurred: {e}\")\n"
   ]
  },
  {
   "cell_type": "code",
   "execution_count": 83,
   "metadata": {},
   "outputs": [
    {
     "name": "stdout",
     "output_type": "stream",
     "text": [
      "Error! Permission denied.\n"
     ]
    }
   ],
   "source": [
    "import shutil\n",
    "import os\n",
    "\n",
    "src = 'C:/Users/NTC/Desktop/python/FUNCTIONS.txt'\n",
    "dst = 'C:/Users/NTC/Desktop/python/file_handling1.txt'\n",
    "\n",
    "try:\n",
    "    shutil.copy(src, dst)  # Copy the file\n",
    "    os.remove(src)  # Remove the original file\n",
    "    print(\"File renamed successfully using copy and delete.\")\n",
    "except FileNotFoundError:\n",
    "    print(\"Error! The file does not exist.\")\n",
    "except PermissionError:\n",
    "    print(\"Error! Permission denied.\")\n",
    "except Exception as e:\n",
    "    print(f\"An error occurred: {e}\")\n"
   ]
  },
  {
   "cell_type": "code",
   "execution_count": 82,
   "metadata": {},
   "outputs": [
    {
     "name": "stdout",
     "output_type": "stream",
     "text": [
      "Test file created and written successfully.\n",
      "Content of the test file: Testing file operations.\n",
      "Test file removed successfully.\n"
     ]
    }
   ],
   "source": [
    "# creating , and removing a test file\n",
    "import os\n",
    "\n",
    "# Test file creation and writing\n",
    "try:\n",
    "    test_file_path = 'C:/Users/NTC/Desktop/python/test_file.txt'\n",
    "    \n",
    "    # Create and write to the file\n",
    "    with open(test_file_path, 'w') as file:\n",
    "        file.write(\"Testing file operations.\")\n",
    "    \n",
    "    print(\"Test file created and written successfully.\")\n",
    "    \n",
    "    # Read from the file\n",
    "    with open(test_file_path, 'r') as file:\n",
    "        content = file.read()\n",
    "        print(\"Content of the test file:\", content)\n",
    "    \n",
    "    # Clean up\n",
    "    os.remove(test_file_path)\n",
    "    print(\"Test file removed successfully.\")\n",
    "    \n",
    "except Exception as e:\n",
    "    print(f\"An error occurred: {e}\")\n"
   ]
  },
  {
   "cell_type": "code",
   "execution_count": 78,
   "metadata": {},
   "outputs": [
    {
     "name": "stdout",
     "output_type": "stream",
     "text": [
      "You have permissions to read and write the source file.\n"
     ]
    }
   ],
   "source": [
    "# Checking Permissions Programmatically\n",
    "import os\n",
    "\n",
    "src = 'C:/Users/NTC/Desktop/python/FUNCTIONS.txt'\n",
    "dst = 'C:/Users/NTC/Desktop/python/file_handling1.txt'\n",
    "# Check if file is readable and writable\n",
    "if os.access(src, os.R_OK) and os.access(src, os.W_OK):\n",
    "    print(\"You have permissions to read and write the source file.\")\n",
    "else:\n",
    "    print(\"You do not have the necessary permissions to access the source file.\")\n"
   ]
  },
  {
   "cell_type": "code",
   "execution_count": 81,
   "metadata": {},
   "outputs": [
    {
     "name": "stdout",
     "output_type": "stream",
     "text": [
      "Test file renamed from C:/Users/NTC/Desktop/python/test\\test_file.txt to C:/Users/NTC/Desktop/python/test\\renamed_file.txt.\n"
     ]
    }
   ],
   "source": [
    "import os\n",
    "\n",
    "# Create a test file in a different directory\n",
    "test_dir = 'C:/Users/NTC/Desktop/python/test'\n",
    "os.makedirs(test_dir, exist_ok=True)\n",
    "\n",
    "src = os.path.join(test_dir, 'test_file.txt')\n",
    "dst = os.path.join(test_dir, 'renamed_file.txt')\n",
    "\n",
    "# Create and write to the test file\n",
    "with open(src, 'w') as file:\n",
    "    file.write(\"Testing file operations.\")\n",
    "\n",
    "# Attempt to rename the test file\n",
    "try:\n",
    "    os.rename(src, dst)\n",
    "    print(f\"Test file renamed from {src} to {dst}.\")\n",
    "except PermissionError:\n",
    "    print(\"Error: Permission denied.\")\n",
    "except FileNotFoundError:\n",
    "    print(\"Error: File not found.\")\n",
    "except Exception as e:\n",
    "    print(f\"An unexpected error occurred: {e}\")\n"
   ]
  },
  {
   "cell_type": "code",
   "execution_count": 90,
   "metadata": {},
   "outputs": [],
   "source": [
    "import docx\n",
    "try: \n",
    "    doc = docx.Document()\n",
    "    doc.save('docx.document')\n",
    "except:\n",
    "    print('Error Occurred')"
   ]
  },
  {
   "cell_type": "code",
   "execution_count": 91,
   "metadata": {},
   "outputs": [
    {
     "name": "stdout",
     "output_type": "stream",
     "text": [
      "Error Occurred\n"
     ]
    }
   ],
   "source": [
    "import docx\n",
    "try: \n",
    "    doc = docx.Document(\"document.docx\")\n",
    "    all_paras = doc.paragraphs\n",
    "    for para in all_paras:\n",
    "        print(para.text)\n",
    "except:\n",
    "    print('Error Occurred')"
   ]
  },
  {
   "cell_type": "code",
   "execution_count": 98,
   "metadata": {},
   "outputs": [
    {
     "name": "stdout",
     "output_type": "stream",
     "text": [
      "An unexpected error occurred: Package not found at 'C:/Users/NTC/Desktop/document.docx'\n"
     ]
    }
   ],
   "source": [
    "import docx\n",
    "\n",
    "try:\n",
    "    # Open the Word document\n",
    "    doc = docx.Document(\"C:/Users/NTC/Desktop/python/document.docx\")\n",
    "    \n",
    "    # Get all paragraphs in the document\n",
    "    all_paras = doc.paragraphs\n",
    "    \n",
    "    # Print each paragraph's text\n",
    "    for para in all_paras:\n",
    "        print(para.text)\n",
    "\n",
    "except FileNotFoundError:\n",
    "    print(\"Error: The file was not found.\")\n",
    "except PermissionError:\n",
    "    print(\"Error: Permission denied. Check if the file is open or you have permission to access it.\")\n",
    "except Exception as e:\n",
    "    print(f\"An unexpected error occurred: {e}\")\n"
   ]
  },
  {
   "cell_type": "code",
   "execution_count": 110,
   "metadata": {},
   "outputs": [
    {
     "name": "stdout",
     "output_type": "stream",
     "text": [
      "File created and content written using method 1.\n",
      "--------------------------------------------------------------------------\n",
      "Content read from the file using method 2:\n",
      "Allah is One. He created the universe.\n"
     ]
    }
   ],
   "source": [
    "# create a .txt file\n",
    "try:\n",
    "    # create a new txt file method 1\n",
    "    with open('file_handling.txt', 'w') as file1:\n",
    "        file1.write('Allah is One. He created the universe.')\n",
    "    print(\"File created and content written using method 1.\")\n",
    "except Exception as e:\n",
    "    print(f'Error occurred: {e}')\n",
    "print('--------------------------------------------------------------------------')\n",
    "\n",
    "try:\n",
    "    # Open the existing file using method 2 and read its content\n",
    "    with open('file_handling.txt', 'r') as file2:\n",
    "        content = file2.read()\n",
    "        print(\"Content read from the file using method 2:\")\n",
    "        print(content)\n",
    "except FileNotFoundError:\n",
    "    print('Error: File not found.')\n",
    "except Exception as e:\n",
    "    print(f'An error occurred: {e}')\n"
   ]
  },
  {
   "cell_type": "code",
   "execution_count": 112,
   "metadata": {},
   "outputs": [
    {
     "name": "stdout",
     "output_type": "stream",
     "text": [
      "Allah is One. He created the universe.\n",
      "--------------------------------------------------------------------------\n",
      "Allah is One. He created the universe.\n"
     ]
    }
   ],
   "source": [
    "# read a .txt file\n",
    "try:\n",
    "    # create a new txt file method 1\n",
    "    with open('file_handling.txt') as file1:\n",
    "        content = file1.read()\n",
    "        print(content)\n",
    "except:\n",
    "    print('Error Occurred')\n",
    "print('--------------------------------------------------------------------------')\n",
    "\n",
    "try:\n",
    "     # create a new txt file method 2\n",
    "    file2 = open('file_handling.txt','r')\n",
    "    content = file2.read()\n",
    "    print(content)\n",
    "except:\n",
    "    print('Error  Occurred')"
   ]
  },
  {
   "cell_type": "code",
   "execution_count": 114,
   "metadata": {},
   "outputs": [
    {
     "name": "stdout",
     "output_type": "stream",
     "text": [
      "Content written to the file successfully.\n",
      "--------------------------------------------------------------------------\n",
      "Content read from the file:\n",
      "This is a test content to ensure the file is not empty.\n"
     ]
    }
   ],
   "source": [
    "# Write some content to the file\n",
    "try:\n",
    "    with open('file_handling.txt', 'w') as file:\n",
    "        file.write(\"This is a test content to ensure the file is not empty.\")\n",
    "    print(\"Content written to the file successfully.\")\n",
    "except Exception as e:\n",
    "    print(f'An error occurred while writing to the file: {e}')\n",
    "\n",
    "print('--------------------------------------------------------------------------')\n",
    "\n",
    "# Read the content from the file\n",
    "try:\n",
    "    with open('file_handling.txt', 'r') as file:\n",
    "        content = file.read()\n",
    "        if content:\n",
    "            print(\"Content read from the file:\")\n",
    "            print(content)\n",
    "        else:\n",
    "            print(\"File is empty.\")\n",
    "except FileNotFoundError:\n",
    "    print('Error: File not found.')\n",
    "except Exception as e:\n",
    "    print(f'An unexpected error occurred: {e}')\n"
   ]
  },
  {
   "cell_type": "code",
   "execution_count": 115,
   "metadata": {},
   "outputs": [
    {
     "name": "stdout",
     "output_type": "stream",
     "text": [
      "Content from method 1:\n",
      "This is a test content to ensure the file is not empty.\n",
      "--------------------------------------------------------------------------\n",
      "Content from method 2:\n",
      "This is a test content to ensure the file is not empty.\n"
     ]
    }
   ],
   "source": [
    "try:\n",
    "    # Create a new txt file method 1\n",
    "    with open('file_handling.txt', 'r') as file1:\n",
    "        content = file1.read()\n",
    "        if content:\n",
    "            print(\"Content from method 1:\")\n",
    "            print(content)\n",
    "        else:\n",
    "            print(\"File is empty (method 1).\")\n",
    "except FileNotFoundError:\n",
    "    print('Error: File not found (method 1).')\n",
    "except Exception as e:\n",
    "    print(f'An unexpected error occurred (method 1): {e}')\n",
    "\n",
    "print('--------------------------------------------------------------------------')\n",
    "\n",
    "try:\n",
    "    # Create a new txt file method 2\n",
    "    file2 = open('file_handling.txt', 'r')\n",
    "    content = file2.read()\n",
    "    file2.close()  # Close the file to free up resources\n",
    "    if content:\n",
    "        print(\"Content from method 2:\")\n",
    "        print(content)\n",
    "    else:\n",
    "        print(\"File is empty (method 2).\")\n",
    "except FileNotFoundError:\n",
    "    print('Error: File not found (method 2).')\n",
    "except Exception as e:\n",
    "    print(f'An unexpected error occurred (method 2): {e}')\n"
   ]
  },
  {
   "cell_type": "code",
   "execution_count": 116,
   "metadata": {},
   "outputs": [],
   "source": [
    "# append in file\n",
    "# method 1\n",
    "try:\n",
    "    file = open('file_handling.txt','a+')\n",
    "    file.write('little efforts daily will make you greatest.')\n",
    "    file.write('ksi bhi fun me kamal guru kay baghair nhi mil skta')\n",
    "except:\n",
    "    print('Error!')"
   ]
  },
  {
   "cell_type": "code",
   "execution_count": 117,
   "metadata": {},
   "outputs": [],
   "source": [
    "# append in file\n",
    "# method 2\n",
    "try:\n",
    "    file_name = 'file_handling.txt'\n",
    "    with open (file_name,'a') as file:\n",
    "        file.write('little efforts daily will make you greatest.')\n",
    "        file.write('ksi bhi fun me kamal guru kay baghair nhi mil skta')\n",
    "except:\n",
    "    print('Error!')"
   ]
  },
  {
   "cell_type": "code",
   "execution_count": 118,
   "metadata": {},
   "outputs": [
    {
     "name": "stdout",
     "output_type": "stream",
     "text": [
      "This is a test content to ensure the file is not empty.little efforts daily will make you greatest.ksi bhi fun me kamal guru kay baghair nhi mil sktalittle efforts daily will make you greatest.ksi bhi fun me kamal guru kay baghair nhi mil skta\n"
     ]
    }
   ],
   "source": [
    "# close a .txt file with read function\n",
    "# approach 1\n",
    "try:\n",
    "    file = open('file_handling.txt','r')\n",
    "    print(file.read())\n",
    "    file.close()\n",
    "except:\n",
    "    print('Error!')\n"
   ]
  },
  {
   "cell_type": "code",
   "execution_count": 132,
   "metadata": {},
   "outputs": [],
   "source": [
    "# close a .txt file with write function\n",
    "# approach 2\n",
    "try:\n",
    "    file = open('file_handling.txt','w')\n",
    "    file.write('\\nBalanced life is an ideal life.')\n",
    "    file.close()\n",
    "except:\n",
    "    print('Error occurred!')\n"
   ]
  },
  {
   "cell_type": "code",
   "execution_count": 127,
   "metadata": {},
   "outputs": [
    {
     "name": "stdout",
     "output_type": "stream",
     "text": [
      "Content written to the file successfully.\n"
     ]
    }
   ],
   "source": [
    "# close a .txt file with write function  --> w will over write content its better to use a (append)\n",
    "# close a .txt file with write function\n",
    "try:\n",
    "    # Open the file in write mode\n",
    "    with open('file_handling.txt', 'w') as file:\n",
    "        # Write content to the file\n",
    "        file.write('Balanced life is an ideal life.')\n",
    "    print('Content written to the file successfully.')\n",
    "except IOError as e:\n",
    "    print(f'Error occurred: {e}')\n",
    "\n"
   ]
  },
  {
   "cell_type": "code",
   "execution_count": 134,
   "metadata": {},
   "outputs": [],
   "source": [
    "import xlsxwriter\n",
    "# creating a new xlsx file\n",
    "try:\n",
    "    workbook = xlsxwriter.Workbook('excel_worksheet.xlxs')\n",
    "    worksheet = workbook.add_worksheet()\n",
    "except:\n",
    "    print('Error!')\n",
    "\n"
   ]
  },
  {
   "cell_type": "code",
   "execution_count": 135,
   "metadata": {},
   "outputs": [
    {
     "name": "stdout",
     "output_type": "stream",
     "text": [
      "Error Occurred!\n"
     ]
    }
   ],
   "source": [
    "import openpyxl\n",
    "try:\n",
    "    path = \"excel_worksheet_xlsx\"\n",
    "    # open worksheet using .load_workbook(path)\n",
    "    load_workbook = openpyxl.load_workbook(path)\n",
    "    # get active sheet of the workbook\n",
    "    sheet = load_workbook.active\n",
    "    # use cell() to read rows and columns\n",
    "    cells = sheet.cell(row = 1,col = 1)\n",
    "    print(cells.value)\n",
    "except:\n",
    "    print('Error Occurred!')\n",
    "\n",
    "# here unable to load it in the jupyter notebook works fine in other IDEs"
   ]
  },
  {
   "cell_type": "code",
   "execution_count": 146,
   "metadata": {},
   "outputs": [
    {
     "name": "stdout",
     "output_type": "stream",
     "text": [
      "The file excel_worksheet.xlsx does not exist.\n"
     ]
    }
   ],
   "source": [
    "import os\n",
    "\n",
    "file_path = \"excel_worksheet.xlsx\"\n",
    "if os.path.isfile(file_path):\n",
    "    print(f'The file {file_path} exists.')\n",
    "else:\n",
    "    print(f'The file {file_path} does not exist.')\n"
   ]
  },
  {
   "cell_type": "code",
   "execution_count": 145,
   "metadata": {},
   "outputs": [
    {
     "name": "stdout",
     "output_type": "stream",
     "text": [
      "Current Working Directory: c:\\Users\\NTC\\Downloads\n"
     ]
    }
   ],
   "source": [
    "import os\n",
    "print(f'Current Working Directory: {os.getcwd()}')\n"
   ]
  },
  {
   "cell_type": "code",
   "execution_count": 148,
   "metadata": {},
   "outputs": [
    {
     "name": "stdout",
     "output_type": "stream",
     "text": [
      "An unexpected error occurred: File is not a zip file\n"
     ]
    }
   ],
   "source": [
    "import openpyxl\n",
    "import os\n",
    "\n",
    "# Provide the full path to the Excel file\n",
    "path = \"C:/Users/NTC/Desktop/Downloads/excel_worksheet.xlsx\"  # Adjust this path as needed\n",
    "\n",
    "# Check if the file exists\n",
    "if not os.path.isfile(path):\n",
    "    print(f'The file {path} does not exist.')\n",
    "else:\n",
    "    try:\n",
    "        # Load the workbook\n",
    "        load_workbook = openpyxl.load_workbook(path)\n",
    "        \n",
    "        # Get the active sheet of the workbook\n",
    "        sheet = load_workbook.active\n",
    "        \n",
    "        # Use cell() to read rows and columns\n",
    "        cell = sheet.cell(row=1, column=1)  # Read the cell at row 1, column 1\n",
    "        print(cell.value)  # Print the value of the cell\n",
    "\n",
    "    except FileNotFoundError:\n",
    "        print('Error: File not found.')\n",
    "    except openpyxl.utils.exceptions.InvalidFileException:\n",
    "        print('Error: The file is not a valid Excel file.')\n",
    "    except Exception as e:\n",
    "        print(f'An unexpected error occurred: {e}')\n"
   ]
  },
  {
   "cell_type": "code",
   "execution_count": 143,
   "metadata": {},
   "outputs": [
    {
     "name": "stdout",
     "output_type": "stream",
     "text": [
      "C:/Users/NTC/Desktop/python/excel_worksheet.xlsx\n"
     ]
    }
   ],
   "source": [
    "path = \"C:/Users/NTC/Desktop/python/excel_worksheet.xlsx\"\n",
    "print(path)"
   ]
  }
 ],
 "metadata": {
  "kernelspec": {
   "display_name": "Python 3",
   "language": "python",
   "name": "python3"
  },
  "language_info": {
   "codemirror_mode": {
    "name": "ipython",
    "version": 3
   },
   "file_extension": ".py",
   "mimetype": "text/x-python",
   "name": "python",
   "nbconvert_exporter": "python",
   "pygments_lexer": "ipython3",
   "version": "3.12.4"
  }
 },
 "nbformat": 4,
 "nbformat_minor": 4
}
